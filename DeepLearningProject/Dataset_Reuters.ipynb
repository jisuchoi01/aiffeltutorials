{
 "cells": [
  {
   "cell_type": "code",
   "execution_count": 1,
   "id": "d7b21ec5",
   "metadata": {},
   "outputs": [],
   "source": [
    "import numpy as np\n",
    "import matplotlib.pyplot as plt\n",
    "from sklearn.model_selection import train_test_split\n",
    "\n",
    "from tensorflow.keras import models, layers\n",
    "from tensorflow.keras import callbacks\n",
    "from tensorflow.keras import utils\n",
    "from keras.datasets import reuters"
   ]
  },
  {
   "cell_type": "code",
   "execution_count": 2,
   "id": "459bc65f",
   "metadata": {},
   "outputs": [
    {
     "name": "stdout",
     "output_type": "stream",
     "text": [
      "8982 8982 2246 2246\n",
      "6736\n",
      "2246\n",
      "2246\n",
      "46\n"
     ]
    }
   ],
   "source": [
    "# 문제 2-1: reuters 데이터셋을 로드하고, 훈련 데이터셋에서 25%를 검증 데이터셋으로 분리합니다.\n",
    "# [[YOUR CODE]]\n",
    "(train_data, train_labels), (test_data, test_labels) = reuters.load_data(num_words=10000)\n",
    "print(len(train_data), len(train_labels), len(test_data), len(test_labels))\n",
    "\n",
    "from sklearn.model_selection  import train_test_split\n",
    "\n",
    "x_train, x_val, y_train, y_val = train_test_split(train_data, train_labels,\n",
    "                                                  random_state=5, test_size=.25)\n",
    "x_test, y_test = test_data.copy(), test_labels.copy()\n",
    "# 훈련, 검증, 테스트 데이터와 레이블 종류가 몇 개인지 출력합니다.\n",
    "print(len(x_train))\n",
    "print(len(x_val))\n",
    "print(len(x_test))\n",
    "print(len(set(y_train)))"
   ]
  },
  {
   "cell_type": "code",
   "execution_count": 3,
   "id": "86b51be9",
   "metadata": {},
   "outputs": [],
   "source": [
    "# 문제 2-2: 텍스트 데이터의 전처리를 위해서 각 데이터셋마다 원-핫 인코딩을 수행합니다.\n",
    "def one_hot_encoding(data, dim=10000):\n",
    "  results = np.zeros((len(data), dim))\n",
    "  for i, d in enumerate(data):\n",
    "    results[i, d] = 1.\n",
    "  return results\n",
    "\n",
    "x_train = one_hot_encoding(x_train)\n",
    "x_val = one_hot_encoding(x_val)\n",
    "x_test = one_hot_encoding(x_test)\n",
    "\n",
    "# 레이블 데이터들은 범주형 형태로 to_categorical() 함수를 사용해 변환합니다.\n",
    "# [[YOUR CODE]]\n",
    "y_train = utils.to_categorical(y_train)\n",
    "y_test = utils.to_categorical(y_test)\n",
    "y_val = utils.to_categorical(y_val)"
   ]
  },
  {
   "cell_type": "code",
   "execution_count": 4,
   "id": "4ecdb27d",
   "metadata": {},
   "outputs": [],
   "source": [
    "# 문제 2-3: 빠른 학습과 과대적합을 방지하기 위해 BatchNormalization과 Dropout을 적용한 딥러닝 모델을 구성합니다.\n",
    "# [[YOUR CODE]]\n",
    "model = models.Sequential()\n",
    "model.add(layers.Dense(128, input_shape=(10000, ), name='input'))\n",
    "model.add(layers.BatchNormalization())\n",
    "model.add(layers.Activation('relu')) \n",
    "model.add(layers.Dropout(0.5))\n",
    "model.add(layers.Dense(128, name='hidden'))\n",
    "model.add(layers.BatchNormalization())\n",
    "model.add(layers.Activation('relu')) \n",
    "model.add(layers.Dropout(0.5))\n",
    "model.add(layers.Dense(46, activation='softmax', name='output'))\n",
    "\n",
    "model.compile(optimizer='adam',\n",
    "              loss='categorical_crossentropy',\n",
    "              metrics=['accuracy'])"
   ]
  },
  {
   "cell_type": "code",
   "execution_count": 5,
   "id": "6ad79737",
   "metadata": {},
   "outputs": [
    {
     "name": "stdout",
     "output_type": "stream",
     "text": [
      "Model: \"sequential\"\n",
      "_________________________________________________________________\n",
      "Layer (type)                 Output Shape              Param #   \n",
      "=================================================================\n",
      "input (Dense)                (None, 128)               1280128   \n",
      "_________________________________________________________________\n",
      "batch_normalization (BatchNo (None, 128)               512       \n",
      "_________________________________________________________________\n",
      "activation (Activation)      (None, 128)               0         \n",
      "_________________________________________________________________\n",
      "dropout (Dropout)            (None, 128)               0         \n",
      "_________________________________________________________________\n",
      "hidden (Dense)               (None, 128)               16512     \n",
      "_________________________________________________________________\n",
      "batch_normalization_1 (Batch (None, 128)               512       \n",
      "_________________________________________________________________\n",
      "activation_1 (Activation)    (None, 128)               0         \n",
      "_________________________________________________________________\n",
      "dropout_1 (Dropout)          (None, 128)               0         \n",
      "_________________________________________________________________\n",
      "output (Dense)               (None, 46)                5934      \n",
      "=================================================================\n",
      "Total params: 1,303,598\n",
      "Trainable params: 1,303,086\n",
      "Non-trainable params: 512\n",
      "_________________________________________________________________\n"
     ]
    }
   ],
   "source": [
    "model.summary()"
   ]
  },
  {
   "cell_type": "markdown",
   "id": "05ac52e4",
   "metadata": {},
   "source": [
    "### 모델 학습"
   ]
  },
  {
   "cell_type": "code",
   "execution_count": 6,
   "id": "1e7b3d8e",
   "metadata": {},
   "outputs": [
    {
     "name": "stdout",
     "output_type": "stream",
     "text": [
      "Epoch 1/100\n",
      "14/14 [==============================] - 2s 46ms/step - loss: 3.1283 - accuracy: 0.3039 - val_loss: 3.4690 - val_accuracy: 0.5784\n",
      "Epoch 2/100\n",
      "14/14 [==============================] - 0s 16ms/step - loss: 1.9193 - accuracy: 0.5698 - val_loss: 3.0098 - val_accuracy: 0.6411\n",
      "Epoch 3/100\n",
      "14/14 [==============================] - 0s 16ms/step - loss: 1.4873 - accuracy: 0.6624 - val_loss: 2.6758 - val_accuracy: 0.6768\n",
      "Epoch 4/100\n",
      "14/14 [==============================] - 0s 15ms/step - loss: 1.2708 - accuracy: 0.7032 - val_loss: 2.4448 - val_accuracy: 0.6999\n",
      "Epoch 5/100\n",
      "14/14 [==============================] - 0s 15ms/step - loss: 1.1245 - accuracy: 0.7362 - val_loss: 2.2407 - val_accuracy: 0.7146\n",
      "Epoch 6/100\n",
      "14/14 [==============================] - 0s 15ms/step - loss: 1.0096 - accuracy: 0.7637 - val_loss: 2.0602 - val_accuracy: 0.7240\n",
      "Epoch 7/100\n",
      "14/14 [==============================] - 0s 16ms/step - loss: 0.9167 - accuracy: 0.7841 - val_loss: 1.8898 - val_accuracy: 0.7378\n",
      "Epoch 8/100\n",
      "14/14 [==============================] - 0s 16ms/step - loss: 0.8235 - accuracy: 0.7987 - val_loss: 1.7313 - val_accuracy: 0.7391\n",
      "Epoch 9/100\n",
      "14/14 [==============================] - 0s 17ms/step - loss: 0.7477 - accuracy: 0.8161 - val_loss: 1.6074 - val_accuracy: 0.7427\n",
      "Epoch 10/100\n",
      "14/14 [==============================] - 0s 16ms/step - loss: 0.7064 - accuracy: 0.8318 - val_loss: 1.4921 - val_accuracy: 0.7600\n",
      "Epoch 11/100\n",
      "14/14 [==============================] - 0s 15ms/step - loss: 0.6429 - accuracy: 0.8394 - val_loss: 1.3950 - val_accuracy: 0.7743\n",
      "Epoch 12/100\n",
      "14/14 [==============================] - 0s 15ms/step - loss: 0.6062 - accuracy: 0.8536 - val_loss: 1.3212 - val_accuracy: 0.7827\n",
      "Epoch 13/100\n",
      "14/14 [==============================] - 0s 14ms/step - loss: 0.5728 - accuracy: 0.8618 - val_loss: 1.2199 - val_accuracy: 0.7916\n",
      "Epoch 14/100\n",
      "14/14 [==============================] - 0s 14ms/step - loss: 0.5260 - accuracy: 0.8759 - val_loss: 1.1498 - val_accuracy: 0.7956\n",
      "Epoch 15/100\n",
      "14/14 [==============================] - 0s 17ms/step - loss: 0.4821 - accuracy: 0.8808 - val_loss: 1.0828 - val_accuracy: 0.7979\n",
      "Epoch 16/100\n",
      "14/14 [==============================] - 0s 16ms/step - loss: 0.4608 - accuracy: 0.8875 - val_loss: 1.0329 - val_accuracy: 0.8050\n",
      "Epoch 17/100\n",
      "14/14 [==============================] - 0s 15ms/step - loss: 0.4451 - accuracy: 0.8912 - val_loss: 0.9993 - val_accuracy: 0.8126\n",
      "Epoch 18/100\n",
      "14/14 [==============================] - 0s 14ms/step - loss: 0.4099 - accuracy: 0.9004 - val_loss: 0.9628 - val_accuracy: 0.8139\n",
      "Epoch 19/100\n",
      "14/14 [==============================] - 0s 15ms/step - loss: 0.3904 - accuracy: 0.9028 - val_loss: 0.9314 - val_accuracy: 0.8134\n",
      "Epoch 20/100\n",
      "14/14 [==============================] - 0s 14ms/step - loss: 0.3699 - accuracy: 0.9078 - val_loss: 0.9092 - val_accuracy: 0.8157\n",
      "Epoch 21/100\n",
      "14/14 [==============================] - 0s 14ms/step - loss: 0.3530 - accuracy: 0.9146 - val_loss: 0.8903 - val_accuracy: 0.8152\n",
      "Epoch 22/100\n",
      "14/14 [==============================] - 0s 15ms/step - loss: 0.3251 - accuracy: 0.9186 - val_loss: 0.8745 - val_accuracy: 0.8197\n",
      "Epoch 23/100\n",
      "14/14 [==============================] - 0s 16ms/step - loss: 0.3149 - accuracy: 0.9238 - val_loss: 0.8675 - val_accuracy: 0.8206\n",
      "Epoch 24/100\n",
      "14/14 [==============================] - 0s 15ms/step - loss: 0.3014 - accuracy: 0.9252 - val_loss: 0.8656 - val_accuracy: 0.8197\n",
      "Epoch 25/100\n",
      "14/14 [==============================] - 0s 14ms/step - loss: 0.3040 - accuracy: 0.9258 - val_loss: 0.8663 - val_accuracy: 0.8219\n",
      "Epoch 26/100\n",
      "14/14 [==============================] - 0s 14ms/step - loss: 0.2896 - accuracy: 0.9271 - val_loss: 0.8641 - val_accuracy: 0.8224\n",
      "Epoch 27/100\n",
      "14/14 [==============================] - 0s 15ms/step - loss: 0.2888 - accuracy: 0.9322 - val_loss: 0.8656 - val_accuracy: 0.8250\n",
      "Epoch 28/100\n",
      "14/14 [==============================] - 0s 14ms/step - loss: 0.2724 - accuracy: 0.9310 - val_loss: 0.8690 - val_accuracy: 0.8237\n",
      "Epoch 29/100\n",
      "14/14 [==============================] - 0s 14ms/step - loss: 0.2608 - accuracy: 0.9325 - val_loss: 0.8739 - val_accuracy: 0.8246\n"
     ]
    }
   ],
   "source": [
    "# 문제 2-4: ModelCheckpoint와 EarlyStopping 콜백 함수를 적용하여 모델 학습을 진행합니다.\n",
    "# [[YOUR CODE]]\n",
    "\n",
    "check_point_cb = callbacks.ModelCheckpoint('reuters_model.h5', save_best_only=True)\n",
    "early_stopping_cb = callbacks.EarlyStopping(patience=3, monitor='val_loss',\n",
    "                                  restore_best_weights=True)\n",
    "history = model.fit(x_train, y_train,\n",
    "                               epochs=100,\n",
    "                               batch_size=512,\n",
    "                               validation_data=(x_val, y_val),\n",
    "                               callbacks = [check_point_cb,early_stopping_cb])"
   ]
  },
  {
   "cell_type": "code",
   "execution_count": 7,
   "id": "406fdbef",
   "metadata": {},
   "outputs": [
    {
     "data": {
      "image/png": "[encoded data removed]",
      "text/plain": [
       "<Figure size 864x360 with 2 Axes>"
      ]
     },
     "metadata": {},
     "output_type": "display_data"
    }
   ],
   "source": [
    "# 문제 3-5: 학습 히스토리의 `loss`, `val_loss`, `accuracy`, `val_accuracy`를 차트로 시각화합니다.\n",
    "# [[YOUR CODE]]\n",
    "\n",
    "plt.style.use('seaborn-white')\n",
    "\n",
    "history_dict = history.history\n",
    "loss = history_dict['loss']\n",
    "val_loss = history_dict['val_loss']\n",
    "\n",
    "epochs = range(1, len(loss) + 1)\n",
    "fig = plt.figure(figsize=(12, 5))\n",
    "\n",
    "ax1 = fig.add_subplot(1, 2, 1)\n",
    "ax1.plot(epochs, loss, 'b-', label='train_loss')\n",
    "ax1.plot(epochs, val_loss, 'r-', label='val_loss')\n",
    "ax1.set_title('Train and Validation Loss')\n",
    "ax1.set_xlabel('Epochs')\n",
    "ax1.set_ylabel('Loss')\n",
    "ax1.grid()\n",
    "ax1.legend()\n",
    "\n",
    "accuracy = history_dict['accuracy']\n",
    "val_accuracy = history_dict['val_accuracy']\n",
    "\n",
    "ax2 = fig.add_subplot(1, 2, 2)\n",
    "ax2.plot(epochs, accuracy, 'b-', label='train_accuracy')\n",
    "ax2.plot(epochs, val_accuracy, 'r-', label='val_accuracy')\n",
    "ax2.set_title('Train and Validation Accuracy')\n",
    "ax2.set_xlabel('Epochs')\n",
    "ax2.set_ylabel('Accuracy')\n",
    "ax2.grid()\n",
    "ax2.legend()\n",
    "\n",
    "plt.show()"
   ]
  },
  {
   "cell_type": "code",
   "execution_count": 8,
   "id": "13724018",
   "metadata": {},
   "outputs": [
    {
     "name": "stdout",
     "output_type": "stream",
     "text": [
      "71/71 [==============================] - 0s 3ms/step - loss: 0.9839 - accuracy: 0.8032\n",
      "TESTSET Loss : 0.9838854074478149\n",
      "TESTSET Accuracy : 0.8032057285308838\n"
     ]
    }
   ],
   "source": [
    "# 문제 2-5: 테스트 데이터셋을 이용해 모델을 평가합니다.\n",
    "# [[YOUR CODE]]\n",
    "\n",
    "loss, accuracy = model.evaluate(x_test, y_test)\n",
    "print('TESTSET Loss :',loss)\n",
    "print('TESTSET Accuracy :',accuracy)"
   ]
  },
  {
   "cell_type": "code",
   "execution_count": null,
   "id": "d93fef17",
   "metadata": {},
   "outputs": [],
   "source": []
  }
 ],
 "metadata": {
  "kernelspec": {
   "display_name": "Python 3 (ipykernel)",
   "language": "python",
   "name": "python3"
  },
  "language_info": {
   "codemirror_mode": {
    "name": "ipython",
    "version": 3
   },
   "file_extension": ".py",
   "mimetype": "text/x-python",
   "name": "python",
   "nbconvert_exporter": "python",
   "pygments_lexer": "ipython3",
   "version": "3.9.7"
  }
 },
 "nbformat": 4,
 "nbformat_minor": 5
}
