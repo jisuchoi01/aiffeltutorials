{
 "cells": [
  {
   "cell_type": "markdown",
   "id": "879b74b4",
   "metadata": {},
   "source": [
    "### Dataset\n",
    "\n",
    "Boston 주택 가격 예측 모델에서 사용되는 데이터셋은 보스턴 시의 주택 가격 데이터셋으로, 주택의 여러 요건과 가격 정보가 포함되어 있습니다\n",
    "\n",
    "### Feature에 대한 설명\n",
    "\n",
    "| feature |                              설명                             |   |   |   |\n",
    "|:-------:|:-------------------------------------------------------------:|---|---|---|\n",
    "| CRIM    | 자치시별 1인당 범죄율                                         |   |   |   |\n",
    "| ZN      | 25,000 평방피트를 초과하는 거주지역의 비율                    |   |   |   |\n",
    "| INDUS   | 비소매상업지역이 점유하고 있는 토지의 비율                    |   |   |   |\n",
    "| CHAS    | 찰스강에 대한 더미변수(강의 경계에 위치한 경우는 1, 아니면 0) |   |   |   |\n",
    "| NOX     | 10ppm 당 농축 일산화질소                                      |   |   |   |\n",
    "| RM      | 주택 1 가구당 평균 방의 개수                                  |   |   |   |\n",
    "| AGE     | 1940년 이전에 건축된 소유주택의 비율                          |   |   |   |\n",
    "| DIS     | 5개의 보스턴 직업센터까지의 접근성 지수                       |   |   |   |\n",
    "| RAD     | 방사형 도로까지의 접근성 지수                                 |   |   |   |\n",
    "| TAX     | 10,000 달러당 재산세율                                        |   |   |   |\n",
    "| PTRATIO | 자치시(town)별 학생/교사 비율                                 |   |   |   |\n",
    "| B       | $1000(Bk - 0.63)^2$, 여기서Bk는 자치시별 흑인의 비율을 말함        |   |   |   |\n",
    "| LSTAT   | 모집단의 하위계층의 비율(%)                                   |   |   |   |\n",
    "| MEDV    | 본인 소유의 주택가격(중앙값)(단위: $1,000)                    |   |   |   |"
   ]
  },
  {
   "cell_type": "markdown",
   "id": "252c719e",
   "metadata": {},
   "source": [
    "### 데이터 로드 및 전처리"
   ]
  },
  {
   "cell_type": "code",
   "execution_count": 1,
   "id": "f6ac7efe",
   "metadata": {},
   "outputs": [],
   "source": [
    "from tensorflow.keras import models, layers\n",
    "import matplotlib.pyplot as plt"
   ]
  },
  {
   "cell_type": "code",
   "execution_count": 2,
   "id": "3f13bc35",
   "metadata": {},
   "outputs": [
    {
     "name": "stdout",
     "output_type": "stream",
     "text": [
      "404\n",
      "102\n",
      "(404, 13)\n"
     ]
    },
    {
     "data": {
      "text/plain": [
       "array([[1.23247e+00, 0.00000e+00, 8.14000e+00, ..., 2.10000e+01,\n",
       "        3.96900e+02, 1.87200e+01],\n",
       "       [2.17700e-02, 8.25000e+01, 2.03000e+00, ..., 1.47000e+01,\n",
       "        3.95380e+02, 3.11000e+00],\n",
       "       [4.89822e+00, 0.00000e+00, 1.81000e+01, ..., 2.02000e+01,\n",
       "        3.75520e+02, 3.26000e+00],\n",
       "       ...,\n",
       "       [3.46600e-02, 3.50000e+01, 6.06000e+00, ..., 1.69000e+01,\n",
       "        3.62250e+02, 7.83000e+00],\n",
       "       [2.14918e+00, 0.00000e+00, 1.95800e+01, ..., 1.47000e+01,\n",
       "        2.61950e+02, 1.57900e+01],\n",
       "       [1.43900e-02, 6.00000e+01, 2.93000e+00, ..., 1.56000e+01,\n",
       "        3.76700e+02, 4.38000e+00]])"
      ]
     },
     "execution_count": 2,
     "metadata": {},
     "output_type": "execute_result"
    }
   ],
   "source": [
    "# keras.datasets 안에 boston_housing 데이터셋을 로드합니다.\n",
    "from keras.datasets import boston_housing\n",
    "\n",
    "(train_data, train_labels), (test_data, test_labels) = boston_housing.load_data()\n",
    "\n",
    "# 데이터셋의 크기를 확인합니다.\n",
    "print(len(train_data))\n",
    "print(len(test_data))\n",
    "print(train_data.shape)\n",
    "train_data"
   ]
  },
  {
   "cell_type": "code",
   "execution_count": 3,
   "id": "057ac260",
   "metadata": {},
   "outputs": [],
   "source": [
    "# 문제 1-1: 데이터셋의 전처리를 위해 표준화 작업을 수행합니다.\n",
    "# 먼저 입력 데이터의 각 특성의 평균을 뺍니다.\n",
    "# [[YOUR CODE]\n",
    "\n",
    "# 평균을 뺀 입력 데이터에서 표준편차를 나눕니다.\n",
    "# 데이터 특성의 중앙이 0에 가깝게 만들고, 표준편차가 1이 되게 만듭니다.\n",
    "# [[YOUR CODE]]\n",
    "from sklearn.preprocessing import StandardScaler\n",
    "\n",
    "scaler = StandardScaler()\n",
    "\n",
    "x_train = scaler.fit(train_data).transform(train_data)\n",
    "\n",
    "# 테스트 데이터셋도 마찬가지로 평균을 빼고, 표준편차로 나눕니다.\n",
    "# [[YOUR CODE]]\n",
    "\n",
    "x_test = scaler.fit(test_data).transform(test_data)\n",
    "\n"
   ]
  },
  {
   "cell_type": "code",
   "execution_count": 4,
   "id": "7606a068",
   "metadata": {},
   "outputs": [
    {
     "data": {
      "text/plain": [
       "(404, 13)"
      ]
     },
     "execution_count": 4,
     "metadata": {},
     "output_type": "execute_result"
    }
   ],
   "source": [
    "x_train.shape"
   ]
  },
  {
   "cell_type": "code",
   "execution_count": 5,
   "id": "21814423",
   "metadata": {},
   "outputs": [
    {
     "data": {
      "text/plain": [
       "((363, 13), (41, 13))"
      ]
     },
     "execution_count": 5,
     "metadata": {},
     "output_type": "execute_result"
    }
   ],
   "source": [
    "from sklearn.model_selection  import train_test_split\n",
    "\n",
    "x_train, x_val, y_train, y_val = train_test_split(train_data, train_labels, random_state=5, test_size=.1)\n",
    "x_train.shape, x_val.shape"
   ]
  },
  {
   "cell_type": "markdown",
   "id": "77dc354f",
   "metadata": {},
   "source": [
    "### 모델 구성 및 컴파일"
   ]
  },
  {
   "cell_type": "code",
   "execution_count": 6,
   "id": "a1fc0e13",
   "metadata": {},
   "outputs": [],
   "source": [
    "# 문제 1-2: 주택 가격 예측을 위한 딥러닝 모델 구성 및 컴파일합니다.\n",
    "# input_shape은 (train_data.shape[1], )으로 구성합니다.\n",
    "# 회귀(예측)을 위한 모델이므로 loss를 mse, metrics를 mae로 사용합니다.\n",
    "# [[YOUR CODE]]\n",
    "\n",
    "from tensorflow.keras import Input, Model, layers\n",
    "from tensorflow import keras\n",
    "\n",
    "def model():\n",
    "    inp = Input(shape = x_train.shape[1])\n",
    "    x = keras.layers.Dense(64, activation = 'relu')(inp)\n",
    "    x = keras.layers.Dense(16, activation = 'relu')(x)\n",
    "    x = keras.layers.Dense(1, activation = 'linear')(x)\n",
    "    return keras.Model(inputs = inp, outputs = x)\n",
    "\n",
    "model = model()\n",
    "model.compile(loss = 'mse',\n",
    "             optimizer = 'adam',\n",
    "             metrics = ['mae'])"
   ]
  },
  {
   "cell_type": "code",
   "execution_count": 7,
   "id": "2c879256",
   "metadata": {},
   "outputs": [],
   "source": [
    "from tensorflow.keras import callbacks\n",
    "\n",
    "es = callbacks.EarlyStopping(patience=3, monitor='val_loss', mode = 'auto',\n",
    "                                  restore_best_weights=True)"
   ]
  },
  {
   "cell_type": "markdown",
   "id": "a2a33a84",
   "metadata": {},
   "source": [
    "### 모델 학습"
   ]
  },
  {
   "cell_type": "code",
   "execution_count": 8,
   "id": "0ce23047",
   "metadata": {},
   "outputs": [
    {
     "name": "stdout",
     "output_type": "stream",
     "text": [
      "Epoch 1/100\n",
      "12/12 [==============================] - 1s 14ms/step - loss: 6496.5283 - mae: 66.4899 - val_loss: 494.7283 - val_mae: 17.0211\n",
      "Epoch 2/100\n",
      "12/12 [==============================] - 0s 4ms/step - loss: 686.8673 - mae: 23.3206 - val_loss: 952.1237 - val_mae: 28.0690\n",
      "Epoch 3/100\n",
      "12/12 [==============================] - 0s 4ms/step - loss: 378.9867 - mae: 15.9341 - val_loss: 107.2354 - val_mae: 6.9223\n",
      "Epoch 4/100\n",
      "12/12 [==============================] - 0s 4ms/step - loss: 187.4702 - mae: 10.2139 - val_loss: 110.0953 - val_mae: 7.3029\n",
      "Epoch 5/100\n",
      "12/12 [==============================] - 0s 4ms/step - loss: 119.1101 - mae: 8.1867 - val_loss: 116.6210 - val_mae: 8.2918\n",
      "Epoch 6/100\n",
      "12/12 [==============================] - 0s 4ms/step - loss: 101.4496 - mae: 8.0341 - val_loss: 91.4096 - val_mae: 6.7671\n",
      "Epoch 7/100\n",
      "12/12 [==============================] - 0s 4ms/step - loss: 86.0585 - mae: 6.7766 - val_loss: 82.4690 - val_mae: 5.7925\n",
      "Epoch 8/100\n",
      "12/12 [==============================] - 0s 4ms/step - loss: 80.0751 - mae: 6.5666 - val_loss: 84.2198 - val_mae: 6.6285\n",
      "Epoch 9/100\n",
      "12/12 [==============================] - 0s 4ms/step - loss: 78.2333 - mae: 6.6638 - val_loss: 81.7992 - val_mae: 6.1397\n",
      "Epoch 10/100\n",
      "12/12 [==============================] - 0s 3ms/step - loss: 73.6349 - mae: 6.2710 - val_loss: 77.9724 - val_mae: 6.1227\n",
      "Epoch 11/100\n",
      "12/12 [==============================] - 0s 4ms/step - loss: 70.3753 - mae: 6.2071 - val_loss: 79.6455 - val_mae: 6.0041\n",
      "Epoch 12/100\n",
      "12/12 [==============================] - 0s 4ms/step - loss: 69.0951 - mae: 6.0640 - val_loss: 76.0758 - val_mae: 5.8183\n",
      "Epoch 13/100\n",
      "12/12 [==============================] - 0s 4ms/step - loss: 67.2887 - mae: 5.8248 - val_loss: 76.0604 - val_mae: 5.8070\n",
      "Epoch 14/100\n",
      "12/12 [==============================] - 0s 4ms/step - loss: 66.8070 - mae: 6.0452 - val_loss: 76.3156 - val_mae: 5.9962\n",
      "Epoch 15/100\n",
      "12/12 [==============================] - 0s 4ms/step - loss: 65.1621 - mae: 5.7511 - val_loss: 74.6364 - val_mae: 5.8045\n",
      "Epoch 16/100\n",
      "12/12 [==============================] - 0s 4ms/step - loss: 64.1442 - mae: 5.7312 - val_loss: 75.8212 - val_mae: 5.8029\n",
      "Epoch 17/100\n",
      "12/12 [==============================] - 0s 4ms/step - loss: 63.6081 - mae: 5.7795 - val_loss: 73.8171 - val_mae: 5.8641\n",
      "Epoch 18/100\n",
      "12/12 [==============================] - 0s 4ms/step - loss: 63.0058 - mae: 5.6061 - val_loss: 74.0061 - val_mae: 5.7283\n",
      "Epoch 19/100\n",
      "12/12 [==============================] - 0s 4ms/step - loss: 61.7200 - mae: 5.6081 - val_loss: 73.5864 - val_mae: 5.8750\n",
      "Epoch 20/100\n",
      "12/12 [==============================] - 0s 4ms/step - loss: 61.4428 - mae: 5.6443 - val_loss: 73.1509 - val_mae: 5.7113\n",
      "Epoch 21/100\n",
      "12/12 [==============================] - 0s 4ms/step - loss: 60.8388 - mae: 5.5065 - val_loss: 73.7971 - val_mae: 5.9808\n",
      "Epoch 22/100\n",
      "12/12 [==============================] - 0s 4ms/step - loss: 60.1383 - mae: 5.5741 - val_loss: 72.5174 - val_mae: 5.5328\n",
      "Epoch 23/100\n",
      "12/12 [==============================] - 0s 4ms/step - loss: 58.7899 - mae: 5.4315 - val_loss: 73.1995 - val_mae: 5.9806\n",
      "Epoch 24/100\n",
      "12/12 [==============================] - 0s 4ms/step - loss: 58.8245 - mae: 5.4387 - val_loss: 70.9592 - val_mae: 5.5684\n",
      "Epoch 25/100\n",
      "12/12 [==============================] - 0s 4ms/step - loss: 57.8044 - mae: 5.3508 - val_loss: 71.5534 - val_mae: 5.8626\n",
      "Epoch 26/100\n",
      "12/12 [==============================] - 0s 4ms/step - loss: 56.6365 - mae: 5.3359 - val_loss: 70.4828 - val_mae: 5.7846\n",
      "Epoch 27/100\n",
      "12/12 [==============================] - 0s 4ms/step - loss: 57.1163 - mae: 5.3316 - val_loss: 69.4428 - val_mae: 5.4284\n",
      "Epoch 28/100\n",
      "12/12 [==============================] - 0s 4ms/step - loss: 56.4657 - mae: 5.3385 - val_loss: 71.1635 - val_mae: 5.9781\n",
      "Epoch 29/100\n",
      "12/12 [==============================] - 0s 4ms/step - loss: 54.4055 - mae: 5.1317 - val_loss: 67.6435 - val_mae: 5.5783\n",
      "Epoch 30/100\n",
      "12/12 [==============================] - 0s 4ms/step - loss: 54.4832 - mae: 5.1483 - val_loss: 69.0231 - val_mae: 5.8628\n",
      "Epoch 31/100\n",
      "12/12 [==============================] - 0s 4ms/step - loss: 54.0324 - mae: 5.1549 - val_loss: 66.3952 - val_mae: 5.5195\n",
      "Epoch 32/100\n",
      "12/12 [==============================] - 0s 4ms/step - loss: 52.9663 - mae: 5.0085 - val_loss: 66.6573 - val_mae: 5.7643\n",
      "Epoch 33/100\n",
      "12/12 [==============================] - 0s 4ms/step - loss: 51.7102 - mae: 5.0081 - val_loss: 64.6225 - val_mae: 5.5039\n",
      "Epoch 34/100\n",
      "12/12 [==============================] - 0s 4ms/step - loss: 50.8074 - mae: 4.9150 - val_loss: 64.1321 - val_mae: 5.5235\n",
      "Epoch 35/100\n",
      "12/12 [==============================] - 0s 4ms/step - loss: 50.3775 - mae: 5.0851 - val_loss: 64.2424 - val_mae: 5.4347\n",
      "Epoch 36/100\n",
      "12/12 [==============================] - 0s 4ms/step - loss: 49.8541 - mae: 4.7122 - val_loss: 65.0660 - val_mae: 5.8556\n",
      "Epoch 37/100\n",
      "12/12 [==============================] - 0s 4ms/step - loss: 51.8608 - mae: 5.3277 - val_loss: 63.3932 - val_mae: 4.9918\n",
      "Epoch 38/100\n",
      "12/12 [==============================] - 0s 4ms/step - loss: 49.0847 - mae: 4.7097 - val_loss: 64.9730 - val_mae: 5.9344\n",
      "Epoch 39/100\n",
      "12/12 [==============================] - 0s 4ms/step - loss: 49.4545 - mae: 4.8961 - val_loss: 62.4513 - val_mae: 5.6771\n",
      "Epoch 40/100\n",
      "12/12 [==============================] - 0s 4ms/step - loss: 48.8647 - mae: 5.0913 - val_loss: 60.1937 - val_mae: 4.9973\n",
      "Epoch 41/100\n",
      "12/12 [==============================] - 0s 4ms/step - loss: 46.8251 - mae: 4.6984 - val_loss: 59.2866 - val_mae: 5.3347\n",
      "Epoch 42/100\n",
      "12/12 [==============================] - 0s 4ms/step - loss: 45.2374 - mae: 4.6664 - val_loss: 58.0713 - val_mae: 5.1968\n",
      "Epoch 43/100\n",
      "12/12 [==============================] - 0s 4ms/step - loss: 45.0180 - mae: 4.7702 - val_loss: 57.5303 - val_mae: 5.1879\n",
      "Epoch 44/100\n",
      "12/12 [==============================] - 0s 8ms/step - loss: 44.5169 - mae: 4.6096 - val_loss: 58.8386 - val_mae: 5.5725\n",
      "Epoch 45/100\n",
      "12/12 [==============================] - 0s 5ms/step - loss: 43.8120 - mae: 4.5781 - val_loss: 62.7570 - val_mae: 6.0647\n",
      "Epoch 46/100\n",
      "12/12 [==============================] - 0s 5ms/step - loss: 46.2190 - mae: 4.7731 - val_loss: 55.8311 - val_mae: 4.8419\n",
      "Epoch 47/100\n",
      "12/12 [==============================] - 0s 5ms/step - loss: 43.3567 - mae: 4.8340 - val_loss: 55.9368 - val_mae: 4.8389\n",
      "Epoch 48/100\n",
      "12/12 [==============================] - 0s 4ms/step - loss: 45.0909 - mae: 4.5967 - val_loss: 59.1584 - val_mae: 5.7400\n",
      "Epoch 49/100\n",
      "12/12 [==============================] - 0s 4ms/step - loss: 41.7996 - mae: 4.3857 - val_loss: 55.2787 - val_mae: 5.1454\n",
      "Epoch 50/100\n",
      "12/12 [==============================] - 0s 5ms/step - loss: 41.0975 - mae: 4.4273 - val_loss: 57.6732 - val_mae: 5.6029\n",
      "Epoch 51/100\n",
      "12/12 [==============================] - 0s 4ms/step - loss: 42.0206 - mae: 4.5159 - val_loss: 54.9832 - val_mae: 5.0307\n",
      "Epoch 52/100\n",
      "12/12 [==============================] - 0s 5ms/step - loss: 40.0398 - mae: 4.3438 - val_loss: 55.8839 - val_mae: 5.4153\n",
      "Epoch 53/100\n",
      "12/12 [==============================] - 0s 5ms/step - loss: 39.6740 - mae: 4.3771 - val_loss: 53.8755 - val_mae: 4.9081\n",
      "Epoch 54/100\n",
      "12/12 [==============================] - 0s 5ms/step - loss: 40.2945 - mae: 4.3376 - val_loss: 55.4763 - val_mae: 5.4065\n",
      "Epoch 55/100\n",
      "12/12 [==============================] - 0s 4ms/step - loss: 39.8338 - mae: 4.4082 - val_loss: 53.4768 - val_mae: 4.8872\n",
      "Epoch 56/100\n",
      "12/12 [==============================] - 0s 4ms/step - loss: 40.0753 - mae: 4.5066 - val_loss: 52.8158 - val_mae: 4.6999\n",
      "Epoch 57/100\n",
      "12/12 [==============================] - 0s 4ms/step - loss: 39.5312 - mae: 4.3865 - val_loss: 53.2806 - val_mae: 4.9055\n",
      "Epoch 58/100\n",
      "12/12 [==============================] - 0s 4ms/step - loss: 38.8639 - mae: 4.2605 - val_loss: 60.0678 - val_mae: 6.0668\n",
      "Epoch 59/100\n",
      "12/12 [==============================] - 0s 4ms/step - loss: 38.6946 - mae: 4.3429 - val_loss: 53.8066 - val_mae: 5.2263\n"
     ]
    }
   ],
   "source": [
    "# 문제 1-3: 예측을 위한 딥러닝 모델을 학습합니다.\n",
    "history =  model.fit(x_train, y_train, epochs = 100,\n",
    "                    validation_data = (x_val, y_val),\n",
    "                    callbacks = [es])"
   ]
  },
  {
   "cell_type": "code",
   "execution_count": 9,
   "id": "5d4dfb37",
   "metadata": {},
   "outputs": [
    {
     "data": {
      "image/png": "[encoded data removed]",
      "text/plain": [
       "<Figure size 864x360 with 2 Axes>"
      ]
     },
     "metadata": {},
     "output_type": "display_data"
    }
   ],
   "source": [
    "# 모델 학습 히스토리에서 loss, val_loss, mae, val_mae를 차트로 보여줍니다.\n",
    "plt.style.use('seaborn-white')\n",
    "\n",
    "history_dict = history.history\n",
    "\n",
    "loss = history_dict['loss']\n",
    "val_loss = history_dict['val_loss']\n",
    "\n",
    "epochs = range(1, len(loss) + 1)\n",
    "fig = plt.figure(figsize=(12, 5))\n",
    "\n",
    "ax1 = fig.add_subplot(1, 2, 1)\n",
    "ax1.plot(epochs, loss, 'b-', label='train_loss')\n",
    "ax1.plot(epochs, val_loss, 'r-', label='val_loss')\n",
    "ax1.set_title('Train and Validation Loss')\n",
    "ax1.set_xlabel('Epochs')\n",
    "ax1.set_ylabel('Loss')\n",
    "ax1.set_ylim([0,500])\n",
    "ax1.grid()\n",
    "ax1.legend()\n",
    "\n",
    "mae = history_dict['mae']\n",
    "val_mae = history_dict['val_mae']\n",
    "\n",
    "ax2 = fig.add_subplot(1, 2, 2)\n",
    "ax2.plot(epochs, mae, 'b-', label='train_mae')\n",
    "ax2.plot(epochs, val_mae, 'r-', label='val_mae')\n",
    "ax2.set_title('Train and Validation MAE')\n",
    "ax2.set_xlabel('Epochs')\n",
    "ax2.set_ylabel('Accuracy')\n",
    "ax2.set_ylim([0,50])\n",
    "ax2.grid()\n",
    "ax2.legend()\n",
    "\n",
    "plt.show()"
   ]
  },
  {
   "cell_type": "markdown",
   "id": "b856fcc1",
   "metadata": {},
   "source": [
    "### 모델 평가 및 예측"
   ]
  },
  {
   "cell_type": "code",
   "execution_count": 10,
   "id": "dd48d5c0",
   "metadata": {
    "scrolled": true
   },
   "outputs": [
    {
     "name": "stdout",
     "output_type": "stream",
     "text": [
      "4/4 [==============================] - 0s 2ms/step - loss: 597.4785 - mae: 22.7625\n",
      "TESTSET MSE : 597.478515625\n",
      "TESTSET MAE : 22.762495040893555\n"
     ]
    }
   ],
   "source": [
    "# 문제 1-4: 테스트 데이터셋을 이용해 모델을 평가합니다.\n",
    "# [[YOUR CODE]]\n",
    "\n",
    "loss, mae, = model.evaluate(x_test, test_labels)\n",
    "print('TESTSET MSE :',loss)\n",
    "print('TESTSET MAE :',mae)"
   ]
  },
  {
   "cell_type": "code",
   "execution_count": null,
   "id": "6b8eeb47",
   "metadata": {},
   "outputs": [],
   "source": []
  }
 ],
 "metadata": {
  "kernelspec": {
   "display_name": "Python 3 (ipykernel)",
   "language": "python",
   "name": "python3"
  },
  "language_info": {
   "codemirror_mode": {
    "name": "ipython",
    "version": 3
   },
   "file_extension": ".py",
   "mimetype": "text/x-python",
   "name": "python",
   "nbconvert_exporter": "python",
   "pygments_lexer": "ipython3",
   "version": "3.9.7"
  }
 },
 "nbformat": 4,
 "nbformat_minor": 5
}
