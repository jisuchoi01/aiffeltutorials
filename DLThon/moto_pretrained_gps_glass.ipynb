{
 "cells": [
  {
   "cell_type": "code",
   "execution_count": 256,
   "id": "8309dc5c",
   "metadata": {},
   "outputs": [],
   "source": [
    "# github : https://github.com/jimmy9704/GPS-GLASS/tree/main"
   ]
  },
  {
   "cell_type": "code",
   "execution_count": 1,
   "id": "054d493c",
   "metadata": {},
   "outputs": [],
   "source": [
    "import os\n",
    "os.getcwd()\n",
    "\n",
    "os.chdir('GPS-GLASS')"
   ]
  },
  {
   "cell_type": "code",
   "execution_count": 20,
   "id": "03b0cd79",
   "metadata": {
    "collapsed": true
   },
   "outputs": [
    {
     "data": {
      "text/plain": [
       "['data/images/Screenshot (309).png',\n",
       " 'data/images/Screenshot (310).png',\n",
       " 'data/images/Screenshot (311).png',\n",
       " 'data/images/Screenshot (312).png',\n",
       " 'data/images/Screenshot (313).png',\n",
       " 'data/images/Screenshot (314).png',\n",
       " 'data/images/Screenshot (317).png',\n",
       " 'data/images/Screenshot (318).png',\n",
       " 'data/images/Screenshot (319).png',\n",
       " 'data/images/Screenshot (321).png',\n",
       " 'data/images/Screenshot (322).png',\n",
       " 'data/images/Screenshot (323).png',\n",
       " 'data/images/Screenshot (324).png',\n",
       " 'data/images/Screenshot (325).png',\n",
       " 'data/images/Screenshot (326).png',\n",
       " 'data/images/Screenshot (353).png',\n",
       " 'data/images/Screenshot (354).png',\n",
       " 'data/images/Screenshot (355).png',\n",
       " 'data/images/Screenshot (356).png',\n",
       " 'data/images/Screenshot (357).png',\n",
       " 'data/images/Screenshot (358).png',\n",
       " 'data/images/Screenshot (359).png',\n",
       " 'data/images/Screenshot (361).png',\n",
       " 'data/images/Screenshot (362).png',\n",
       " 'data/images/Screenshot (363).png',\n",
       " 'data/images/Screenshot (364).png',\n",
       " 'data/images/Screenshot (366).png',\n",
       " 'data/images/Screenshot (367).png',\n",
       " 'data/images/Screenshot (368).png',\n",
       " 'data/images/Screenshot (369).png',\n",
       " 'data/images/Screenshot (370).png',\n",
       " 'data/images/Screenshot (371).png',\n",
       " 'data/images/Screenshot (372).png',\n",
       " 'data/images/Screenshot (373).png',\n",
       " 'data/images/Screenshot (374).png',\n",
       " 'data/images/Screenshot (375).png',\n",
       " 'data/images/Screenshot (376).png',\n",
       " 'data/images/Screenshot (377).png',\n",
       " 'data/images/Screenshot (378).png',\n",
       " 'data/images/Screenshot (379).png',\n",
       " 'data/images/Screenshot (380).png',\n",
       " 'data/images/Screenshot (381).png',\n",
       " 'data/images/Screenshot (383).png',\n",
       " 'data/images/Screenshot (384).png',\n",
       " 'data/images/Screenshot (385).png',\n",
       " 'data/images/Screenshot (386).png',\n",
       " 'data/images/Screenshot (387).png',\n",
       " 'data/images/Screenshot (388).png',\n",
       " 'data/images/Screenshot (389).png',\n",
       " 'data/images/Screenshot (390).png',\n",
       " 'data/images/Screenshot (391).png',\n",
       " 'data/images/Screenshot (392).png',\n",
       " 'data/images/Screenshot (393).png',\n",
       " 'data/images/Screenshot (394).png',\n",
       " 'data/images/Screenshot (395).png',\n",
       " 'data/images/Screenshot (396).png',\n",
       " 'data/images/Screenshot (397).png',\n",
       " 'data/images/Screenshot (398).png',\n",
       " 'data/images/Screenshot (400).png',\n",
       " 'data/images/Screenshot (401).png',\n",
       " 'data/images/Screenshot (403).png',\n",
       " 'data/images/Screenshot (404).png',\n",
       " 'data/images/Screenshot (405).png',\n",
       " 'data/images/Screenshot (406).png',\n",
       " 'data/images/Screenshot (407).png',\n",
       " 'data/images/Screenshot (408).png',\n",
       " 'data/images/Screenshot (409).png',\n",
       " 'data/images/Screenshot (410).png',\n",
       " 'data/images/Screenshot (411).png',\n",
       " 'data/images/Screenshot (412).png',\n",
       " 'data/images/Screenshot (413).png',\n",
       " 'data/images/Screenshot (414).png',\n",
       " 'data/images/Screenshot (416).png',\n",
       " 'data/images/Screenshot (417).png',\n",
       " 'data/images/Screenshot (418).png',\n",
       " 'data/images/Screenshot (419).png',\n",
       " 'data/images/Screenshot (420).png',\n",
       " 'data/images/Screenshot (421).png',\n",
       " 'data/images/Screenshot (422).png',\n",
       " 'data/images/Screenshot (423).png.png',\n",
       " 'data/images/Screenshot (424).png',\n",
       " 'data/images/Screenshot (425).png',\n",
       " 'data/images/Screenshot (426).png',\n",
       " 'data/images/Screenshot (427).png',\n",
       " 'data/images/Screenshot (428).png',\n",
       " 'data/images/Screenshot (429).png.png',\n",
       " 'data/images/Screenshot (430).png',\n",
       " 'data/images/Screenshot (431).png',\n",
       " 'data/images/Screenshot (432).png',\n",
       " 'data/images/Screenshot (433).png',\n",
       " 'data/images/Screenshot (434).png',\n",
       " 'data/images/Screenshot (435).png',\n",
       " 'data/images/Screenshot (436).png',\n",
       " 'data/images/Screenshot (437).png',\n",
       " 'data/images/Screenshot (438).png',\n",
       " 'data/images/Screenshot (439).png',\n",
       " 'data/images/Screenshot (440).png',\n",
       " 'data/images/Screenshot (441).png',\n",
       " 'data/images/Screenshot (442).png',\n",
       " 'data/images/Screenshot (443).png',\n",
       " 'data/images/Screenshot (444).png',\n",
       " 'data/images/Screenshot (445).png',\n",
       " 'data/images/Screenshot (446).png',\n",
       " 'data/images/Screenshot (447).png',\n",
       " 'data/images/Screenshot (448).png',\n",
       " 'data/images/Screenshot (449).png',\n",
       " 'data/images/Screenshot (450).png',\n",
       " 'data/images/night ride (10).png',\n",
       " 'data/images/night ride (100).png',\n",
       " 'data/images/night ride (11).png',\n",
       " 'data/images/night ride (12).png',\n",
       " 'data/images/night ride (13).png',\n",
       " 'data/images/night ride (14).png',\n",
       " 'data/images/night ride (15).png',\n",
       " 'data/images/night ride (16).png',\n",
       " 'data/images/night ride (17).png',\n",
       " 'data/images/night ride (18).png',\n",
       " 'data/images/night ride (19).png',\n",
       " 'data/images/night ride (20).png',\n",
       " 'data/images/night ride (21).png',\n",
       " 'data/images/night ride (22).png',\n",
       " 'data/images/night ride (23).png',\n",
       " 'data/images/night ride (24).png',\n",
       " 'data/images/night ride (25).png',\n",
       " 'data/images/night ride (26).png',\n",
       " 'data/images/night ride (27).png',\n",
       " 'data/images/night ride (28).png',\n",
       " 'data/images/night ride (29).png',\n",
       " 'data/images/night ride (30).png',\n",
       " 'data/images/night ride (31).png',\n",
       " 'data/images/night ride (33).png',\n",
       " 'data/images/night ride (34).png',\n",
       " 'data/images/night ride (35).png',\n",
       " 'data/images/night ride (36).png',\n",
       " 'data/images/night ride (37).png',\n",
       " 'data/images/night ride (38).png',\n",
       " 'data/images/night ride (39).png',\n",
       " 'data/images/night ride (40).png',\n",
       " 'data/images/night ride (41).png',\n",
       " 'data/images/night ride (42).png',\n",
       " 'data/images/night ride (43).png',\n",
       " 'data/images/night ride (44).png',\n",
       " 'data/images/night ride (45).png',\n",
       " 'data/images/night ride (46).png',\n",
       " 'data/images/night ride (47).png',\n",
       " 'data/images/night ride (48).png',\n",
       " 'data/images/night ride (49).png',\n",
       " 'data/images/night ride (50).png',\n",
       " 'data/images/night ride (51).png',\n",
       " 'data/images/night ride (52).png',\n",
       " 'data/images/night ride (53).png',\n",
       " 'data/images/night ride (54).png',\n",
       " 'data/images/night ride (55).png',\n",
       " 'data/images/night ride (56).png',\n",
       " 'data/images/night ride (57).png',\n",
       " 'data/images/night ride (58).png',\n",
       " 'data/images/night ride (59).png',\n",
       " 'data/images/night ride (60).png',\n",
       " 'data/images/night ride (61).png',\n",
       " 'data/images/night ride (62).png',\n",
       " 'data/images/night ride (63).png',\n",
       " 'data/images/night ride (64).png',\n",
       " 'data/images/night ride (65).png',\n",
       " 'data/images/night ride (66).png',\n",
       " 'data/images/night ride (67).png',\n",
       " 'data/images/night ride (68).png',\n",
       " 'data/images/night ride (69).png',\n",
       " 'data/images/night ride (7).png',\n",
       " 'data/images/night ride (70).png',\n",
       " 'data/images/night ride (71).png',\n",
       " 'data/images/night ride (72).png',\n",
       " 'data/images/night ride (73).png',\n",
       " 'data/images/night ride (74).png',\n",
       " 'data/images/night ride (75).png',\n",
       " 'data/images/night ride (76).png',\n",
       " 'data/images/night ride (77).png',\n",
       " 'data/images/night ride (78).png',\n",
       " 'data/images/night ride (79).png',\n",
       " 'data/images/night ride (8).png',\n",
       " 'data/images/night ride (80).png',\n",
       " 'data/images/night ride (81).png',\n",
       " 'data/images/night ride (82).png',\n",
       " 'data/images/night ride (83).png',\n",
       " 'data/images/night ride (84).png',\n",
       " 'data/images/night ride (85).png',\n",
       " 'data/images/night ride (86).png',\n",
       " 'data/images/night ride (87).png',\n",
       " 'data/images/night ride (88).png',\n",
       " 'data/images/night ride (89).png',\n",
       " 'data/images/night ride (9).png',\n",
       " 'data/images/night ride (90).png',\n",
       " 'data/images/night ride (91).png',\n",
       " 'data/images/night ride (92).png',\n",
       " 'data/images/night ride (93).png',\n",
       " 'data/images/night ride (94).png',\n",
       " 'data/images/night ride (95).png',\n",
       " 'data/images/night ride (96).png',\n",
       " 'data/images/night ride (97).png',\n",
       " 'data/images/night ride (98).png',\n",
       " 'data/images/night ride (99).png']"
      ]
     },
     "execution_count": 20,
     "metadata": {},
     "output_type": "execute_result"
    }
   ],
   "source": [
    "# evaluate.py 실행을 위한 파일 생성\n",
    "DATA_DIRECTORY = 'data/images'\n",
    "DATA_LIST_PATH = [os.path.join(DATA_DIRECTORY,x) for x in sorted(os.listdir(DATA_DIRECTORY))]\n",
    "DATA_LIST_PATH"
   ]
  },
  {
   "cell_type": "code",
   "execution_count": 21,
   "id": "916ec295",
   "metadata": {},
   "outputs": [],
   "source": [
    "file_name = 'data/images.txt'\n",
    "\n",
    "with open(file_name, 'w+') as file:\n",
    "    file.write('\\n'.join(DATA_LIST_PATH))"
   ]
  },
  {
   "cell_type": "code",
   "execution_count": 3,
   "id": "7228d230",
   "metadata": {},
   "outputs": [],
   "source": [
    "import os\n",
    "import math\n",
    "import numpy as np\n",
    "# import tensorflow as tf\n",
    "import random\n",
    "import pickle\n",
    "\n",
    "from PIL import Image\n",
    "import matplotlib.pyplot as plt\n",
    "from skimage.io import imread, imshow,show, imsave\n",
    "from skimage.transform import resize\n",
    "from glob import glob"
   ]
  },
  {
   "cell_type": "code",
   "execution_count": 2,
   "id": "7e120541",
   "metadata": {},
   "outputs": [],
   "source": [
    "import json"
   ]
  },
  {
   "cell_type": "code",
   "execution_count": 4,
   "id": "d91d344e",
   "metadata": {},
   "outputs": [],
   "source": [
    "with open(os.path.join('dataset/lists', 'info.json'), 'r') as fp:\n",
    "    info = json.load(fp)"
   ]
  },
  {
   "cell_type": "code",
   "execution_count": 5,
   "id": "8eeb5798",
   "metadata": {},
   "outputs": [
    {
     "data": {
      "text/plain": [
       "dict_keys(['classes', 'label2train', 'label', 'palette', 'mean', 'std'])"
      ]
     },
     "execution_count": 5,
     "metadata": {},
     "output_type": "execute_result"
    }
   ],
   "source": [
    "info.keys()"
   ]
  },
  {
   "cell_type": "code",
   "execution_count": 6,
   "id": "6b8100b5",
   "metadata": {},
   "outputs": [],
   "source": [
    "label = info['label']\n",
    "color = info['palette']"
   ]
  },
  {
   "cell_type": "code",
   "execution_count": 7,
   "id": "d0bc1708",
   "metadata": {},
   "outputs": [
    {
     "name": "stdout",
     "output_type": "stream",
     "text": [
      "[128, 64, 128] road\n",
      "[244, 35, 232] sidewalk\n",
      "[70, 70, 70] building\n",
      "[102, 102, 156] wall\n",
      "[190, 153, 153] fence\n",
      "[153, 153, 153] pole\n",
      "[250, 170, 30] light\n",
      "[220, 220, 0] sign\n",
      "[107, 142, 35] vegetation\n",
      "[152, 251, 152] terrain\n",
      "[70, 130, 180] sky\n",
      "[220, 20, 60] person\n",
      "[255, 0, 0] rider\n",
      "[0, 0, 142] car\n",
      "[0, 0, 70] truck\n",
      "[0, 60, 100] bus\n",
      "[0, 80, 100] train\n",
      "[0, 0, 230] motocycle\n",
      "[119, 11, 32] bicycle\n"
     ]
    }
   ],
   "source": [
    "# colormap 생성\n",
    "label2color = dict()\n",
    "color2label = dict()\n",
    "for (x,y) in list(zip(color, label)):\n",
    "    print(x,y)\n",
    "    label2color[y] = tuple(x)\n",
    "    color2label[tuple(x)] = y"
   ]
  },
  {
   "cell_type": "code",
   "execution_count": 11,
   "id": "7d79b6ed",
   "metadata": {},
   "outputs": [
    {
     "data": {
      "text/plain": [
       "{'road': (128, 64, 128),\n",
       " 'sidewalk': (244, 35, 232),\n",
       " 'building': (70, 70, 70),\n",
       " 'wall': (102, 102, 156),\n",
       " 'fence': (190, 153, 153),\n",
       " 'pole': (153, 153, 153),\n",
       " 'light': (250, 170, 30),\n",
       " 'sign': (220, 220, 0),\n",
       " 'vegetation': (107, 142, 35),\n",
       " 'terrain': (152, 251, 152),\n",
       " 'sky': (70, 130, 180),\n",
       " 'person': (220, 20, 60),\n",
       " 'rider': (255, 0, 0),\n",
       " 'car': (0, 0, 142),\n",
       " 'truck': (0, 0, 70),\n",
       " 'bus': (0, 60, 100),\n",
       " 'train': (0, 80, 100),\n",
       " 'motocycle': (0, 0, 230),\n",
       " 'bicycle': (119, 11, 32)}"
      ]
     },
     "execution_count": 11,
     "metadata": {},
     "output_type": "execute_result"
    }
   ],
   "source": [
    "label2color"
   ]
  },
  {
   "cell_type": "code",
   "execution_count": 109,
   "id": "e72973ce",
   "metadata": {},
   "outputs": [],
   "source": [
    "#segformer 학습 label\n",
    "seg_id2label = {0 : 'Movable', 1: 'Rider', 2:'My bike', 3:'Road', 4:'Undrivable', 5:'Lanemark'}\n",
    "seg_id2colors = {\n",
    "    0: (57, 234, 92),\n",
    "    1: (65, 117, 6),\n",
    "    2: (74, 144, 226),\n",
    "    3: (155, 155, 155),\n",
    "    4: (245, 166, 35),\n",
    "    5: (248, 231, 28)\n",
    "}"
   ]
  },
  {
   "cell_type": "code",
   "execution_count": 84,
   "id": "03744cb6",
   "metadata": {},
   "outputs": [],
   "source": [
    "# label 변경을 위한 작업 1, class 재부여\n",
    "translabel=    {'road': 'Road',\n",
    "     'sidewalk': 'Movable',\n",
    "     'building': 'Undrivable' ,\n",
    "     'wall':'Undrivable' ,\n",
    "     'fence': 'Undrivable',\n",
    "     'pole': 'Undrivable',\n",
    "     'light': 'Undrivable',\n",
    "     'sign': 'Undrivable',\n",
    "     'vegetation': 'Undrivable',\n",
    "     'terrain': 'Undrivable',\n",
    "     'sky': 'Undrivable',\n",
    "     'person': 'Movable' ,\n",
    "     'rider': 'Rider',\n",
    "     'car': 'Movable',\n",
    "     'truck': 'Movable',\n",
    "     'bus':'Movable' ,\n",
    "     'train': 'Movable',\n",
    "     'motocycle': 'Movable',\n",
    "     'bicycle': 'Movable'}"
   ]
  },
  {
   "cell_type": "code",
   "execution_count": 86,
   "id": "57bd1a35",
   "metadata": {},
   "outputs": [],
   "source": [
    "from skimage.transform import resize\n",
    "from tqdm import tqdm"
   ]
  },
  {
   "cell_type": "code",
   "execution_count": 70,
   "id": "ea5ce3b4",
   "metadata": {},
   "outputs": [
    {
     "data": {
      "image/png": "[encoded data removed]",
      "text/plain": [
       "<Figure size 1080x1440 with 19 Axes>"
      ]
     },
     "metadata": {
      "needs_background": "light"
     },
     "output_type": "display_data"
    }
   ],
   "source": [
    "# 각 클래스 별로 서브플롯에 그릴 그래프 설정\n",
    "plt.figure(figsize=(15, 20))\n",
    "for i, (class_id, colormap) in enumerate(label2color.items()):\n",
    "    ax = plt.subplot(4, 5, i + 1)\n",
    "    ax.set_title(f\"{class_id}\")\n",
    "    ax.imshow(np.full((3, 3, 3), colormap, dtype=np.uint8))\n",
    "    ax.axis('off')\n",
    "\n",
    "plt.tight_layout()\n",
    "plt.show()"
   ]
  },
  {
   "cell_type": "markdown",
   "id": "0f507888",
   "metadata": {},
   "source": [
    "weight는 있으므로 예측만 수행하면 됨\n",
    "\n",
    "명령어:\n",
    "```cmd\n",
    "python evaluate.py\n",
    "```"
   ]
  },
  {
   "cell_type": "code",
   "execution_count": null,
   "id": "f8192a3e",
   "metadata": {},
   "outputs": [],
   "source": [
    "# 빠른 예측을 위한 data resizing"
   ]
  },
  {
   "cell_type": "code",
   "execution_count": 17,
   "id": "c1d20eb3",
   "metadata": {},
   "outputs": [],
   "source": [
    "data_dir = 'data/images'\n",
    "label_dir = 'data/semantic'"
   ]
  },
  {
   "cell_type": "code",
   "execution_count": 19,
   "id": "9de11ccb",
   "metadata": {
    "collapsed": true
   },
   "outputs": [
    {
     "name": "stderr",
     "output_type": "stream",
     "text": [
      "Lossy conversion from float64 to uint8. Range [0, 1]. Convert image to uint8 prior to saving to suppress this warning.\n",
      "Lossy conversion from float64 to uint8. Range [0, 1]. Convert image to uint8 prior to saving to suppress this warning.\n",
      "Lossy conversion from float64 to uint8. Range [0, 1]. Convert image to uint8 prior to saving to suppress this warning.\n",
      "Lossy conversion from float64 to uint8. Range [0, 1]. Convert image to uint8 prior to saving to suppress this warning.\n",
      "/tmp/ipykernel_81/2510688191.py:9: UserWarning: data/images/Screenshot (397).png is a low contrast image\n",
      "  imsave(title+ext,img_resize)\n",
      "Lossy conversion from float64 to uint8. Range [0, 1]. Convert image to uint8 prior to saving to suppress this warning.\n",
      "Lossy conversion from float64 to uint8. Range [0, 1]. Convert image to uint8 prior to saving to suppress this warning.\n",
      "Lossy conversion from float64 to uint8. Range [0, 1]. Convert image to uint8 prior to saving to suppress this warning.\n",
      "Lossy conversion from float64 to uint8. Range [0, 1]. Convert image to uint8 prior to saving to suppress this warning.\n",
      "/tmp/ipykernel_81/2510688191.py:9: UserWarning: data/images/night ride (37).png is a low contrast image\n",
      "  imsave(title+ext,img_resize)\n",
      "Lossy conversion from float64 to uint8. Range [0, 1]. Convert image to uint8 prior to saving to suppress this warning.\n",
      "Lossy conversion from float64 to uint8. Range [0, 1]. Convert image to uint8 prior to saving to suppress this warning.\n",
      "Lossy conversion from float64 to uint8. Range [0, 1]. Convert image to uint8 prior to saving to suppress this warning.\n",
      "Lossy conversion from float64 to uint8. Range [0, 1]. Convert image to uint8 prior to saving to suppress this warning.\n",
      "/tmp/ipykernel_81/2510688191.py:9: UserWarning: data/images/night ride (38).png is a low contrast image\n",
      "  imsave(title+ext,img_resize)\n",
      "Lossy conversion from float64 to uint8. Range [0, 1]. Convert image to uint8 prior to saving to suppress this warning.\n",
      "Lossy conversion from float64 to uint8. Range [0, 1]. Convert image to uint8 prior to saving to suppress this warning.\n",
      "/tmp/ipykernel_81/2510688191.py:9: UserWarning: data/images/night ride (44).png is a low contrast image\n",
      "  imsave(title+ext,img_resize)\n",
      "Lossy conversion from float64 to uint8. Range [0, 1]. Convert image to uint8 prior to saving to suppress this warning.\n",
      "/tmp/ipykernel_81/2510688191.py:9: UserWarning: data/images/night ride (52).png is a low contrast image\n",
      "  imsave(title+ext,img_resize)\n",
      "Lossy conversion from float64 to uint8. Range [0, 1]. Convert image to uint8 prior to saving to suppress this warning.\n",
      "Lossy conversion from float64 to uint8. Range [0, 1]. Convert image to uint8 prior to saving to suppress this warning.\n",
      "/tmp/ipykernel_81/2510688191.py:9: UserWarning: data/images/night ride (42).png is a low contrast image\n",
      "  imsave(title+ext,img_resize)\n",
      "Lossy conversion from float64 to uint8. Range [0, 1]. Convert image to uint8 prior to saving to suppress this warning.\n",
      "Lossy conversion from float64 to uint8. Range [0, 1]. Convert image to uint8 prior to saving to suppress this warning.\n",
      "Lossy conversion from float64 to uint8. Range [0, 1]. Convert image to uint8 prior to saving to suppress this warning.\n",
      "Lossy conversion from float64 to uint8. Range [0, 1]. Convert image to uint8 prior to saving to suppress this warning.\n",
      "/tmp/ipykernel_81/2510688191.py:9: UserWarning: data/images/night ride (8).png is a low contrast image\n",
      "  imsave(title+ext,img_resize)\n",
      "Lossy conversion from float64 to uint8. Range [0, 1]. Convert image to uint8 prior to saving to suppress this warning.\n",
      "Lossy conversion from float64 to uint8. Range [0, 1]. Convert image to uint8 prior to saving to suppress this warning.\n",
      "/tmp/ipykernel_81/2510688191.py:9: UserWarning: data/images/night ride (36).png is a low contrast image\n",
      "  imsave(title+ext,img_resize)\n",
      "Lossy conversion from float64 to uint8. Range [0, 1]. Convert image to uint8 prior to saving to suppress this warning.\n",
      "/tmp/ipykernel_81/2510688191.py:9: UserWarning: data/images/Screenshot (356).png is a low contrast image\n",
      "  imsave(title+ext,img_resize)\n",
      "Lossy conversion from float64 to uint8. Range [0, 1]. Convert image to uint8 prior to saving to suppress this warning.\n",
      "Lossy conversion from float64 to uint8. Range [0, 1]. Convert image to uint8 prior to saving to suppress this warning.\n",
      "Lossy conversion from float64 to uint8. Range [0, 1]. Convert image to uint8 prior to saving to suppress this warning.\n",
      "Lossy conversion from float64 to uint8. Range [0, 1]. Convert image to uint8 prior to saving to suppress this warning.\n",
      "Lossy conversion from float64 to uint8. Range [0, 1]. Convert image to uint8 prior to saving to suppress this warning.\n",
      "Lossy conversion from float64 to uint8. Range [0, 1]. Convert image to uint8 prior to saving to suppress this warning.\n",
      "Lossy conversion from float64 to uint8. Range [0, 1]. Convert image to uint8 prior to saving to suppress this warning.\n",
      "Lossy conversion from float64 to uint8. Range [0, 1]. Convert image to uint8 prior to saving to suppress this warning.\n",
      "Lossy conversion from float64 to uint8. Range [0, 1]. Convert image to uint8 prior to saving to suppress this warning.\n",
      "/tmp/ipykernel_81/2510688191.py:9: UserWarning: data/images/night ride (51).png is a low contrast image\n",
      "  imsave(title+ext,img_resize)\n",
      "Lossy conversion from float64 to uint8. Range [0, 1]. Convert image to uint8 prior to saving to suppress this warning.\n",
      "Lossy conversion from float64 to uint8. Range [0, 1]. Convert image to uint8 prior to saving to suppress this warning.\n",
      "Lossy conversion from float64 to uint8. Range [0, 1]. Convert image to uint8 prior to saving to suppress this warning.\n",
      "/tmp/ipykernel_81/2510688191.py:9: UserWarning: data/images/night ride (16).png is a low contrast image\n",
      "  imsave(title+ext,img_resize)\n",
      "Lossy conversion from float64 to uint8. Range [0, 1]. Convert image to uint8 prior to saving to suppress this warning.\n",
      "/tmp/ipykernel_81/2510688191.py:9: UserWarning: data/images/night ride (43).png is a low contrast image\n",
      "  imsave(title+ext,img_resize)\n",
      "Lossy conversion from float64 to uint8. Range [0, 1]. Convert image to uint8 prior to saving to suppress this warning.\n",
      "Lossy conversion from float64 to uint8. Range [0, 1]. Convert image to uint8 prior to saving to suppress this warning.\n",
      "/tmp/ipykernel_81/2510688191.py:9: UserWarning: data/images/night ride (29).png is a low contrast image\n",
      "  imsave(title+ext,img_resize)\n",
      "Lossy conversion from float64 to uint8. Range [0, 1]. Convert image to uint8 prior to saving to suppress this warning.\n",
      "/tmp/ipykernel_81/2510688191.py:9: UserWarning: data/images/night ride (7).png is a low contrast image\n",
      "  imsave(title+ext,img_resize)\n",
      "Lossy conversion from float64 to uint8. Range [0, 1]. Convert image to uint8 prior to saving to suppress this warning.\n",
      "/tmp/ipykernel_81/2510688191.py:9: UserWarning: data/images/night ride (70).png is a low contrast image\n",
      "  imsave(title+ext,img_resize)\n",
      "Lossy conversion from float64 to uint8. Range [0, 1]. Convert image to uint8 prior to saving to suppress this warning.\n",
      "/tmp/ipykernel_81/2510688191.py:9: UserWarning: data/images/night ride (49).png is a low contrast image\n",
      "  imsave(title+ext,img_resize)\n",
      "Lossy conversion from float64 to uint8. Range [0, 1]. Convert image to uint8 prior to saving to suppress this warning.\n",
      "Lossy conversion from float64 to uint8. Range [0, 1]. Convert image to uint8 prior to saving to suppress this warning.\n",
      "Lossy conversion from float64 to uint8. Range [0, 1]. Convert image to uint8 prior to saving to suppress this warning.\n",
      "/tmp/ipykernel_81/2510688191.py:9: UserWarning: data/images/night ride (59).png is a low contrast image\n",
      "  imsave(title+ext,img_resize)\n",
      "Lossy conversion from float64 to uint8. Range [0, 1]. Convert image to uint8 prior to saving to suppress this warning.\n",
      "Lossy conversion from float64 to uint8. Range [0, 1]. Convert image to uint8 prior to saving to suppress this warning.\n",
      "Lossy conversion from float64 to uint8. Range [0, 1]. Convert image to uint8 prior to saving to suppress this warning.\n",
      "/tmp/ipykernel_81/2510688191.py:9: UserWarning: data/images/night ride (30).png is a low contrast image\n",
      "  imsave(title+ext,img_resize)\n",
      "Lossy conversion from float64 to uint8. Range [0, 1]. Convert image to uint8 prior to saving to suppress this warning.\n"
     ]
    },
    {
     "name": "stderr",
     "output_type": "stream",
     "text": [
      "/tmp/ipykernel_81/2510688191.py:9: UserWarning: data/images/night ride (31).png is a low contrast image\n",
      "  imsave(title+ext,img_resize)\n",
      "Lossy conversion from float64 to uint8. Range [0, 1]. Convert image to uint8 prior to saving to suppress this warning.\n",
      "Lossy conversion from float64 to uint8. Range [0, 1]. Convert image to uint8 prior to saving to suppress this warning.\n",
      "/tmp/ipykernel_81/2510688191.py:9: UserWarning: data/images/night ride (98).png is a low contrast image\n",
      "  imsave(title+ext,img_resize)\n",
      "Lossy conversion from float64 to uint8. Range [0, 1]. Convert image to uint8 prior to saving to suppress this warning.\n",
      "/tmp/ipykernel_81/2510688191.py:9: UserWarning: data/images/night ride (95).png is a low contrast image\n",
      "  imsave(title+ext,img_resize)\n",
      "Lossy conversion from float64 to uint8. Range [0, 1]. Convert image to uint8 prior to saving to suppress this warning.\n",
      "Lossy conversion from float64 to uint8. Range [0, 1]. Convert image to uint8 prior to saving to suppress this warning.\n",
      "Lossy conversion from float64 to uint8. Range [0, 1]. Convert image to uint8 prior to saving to suppress this warning.\n",
      "Lossy conversion from float64 to uint8. Range [0, 1]. Convert image to uint8 prior to saving to suppress this warning.\n",
      "Lossy conversion from float64 to uint8. Range [0, 1]. Convert image to uint8 prior to saving to suppress this warning.\n",
      "/tmp/ipykernel_81/2510688191.py:9: UserWarning: data/images/night ride (75).png is a low contrast image\n",
      "  imsave(title+ext,img_resize)\n",
      "Lossy conversion from float64 to uint8. Range [0, 1]. Convert image to uint8 prior to saving to suppress this warning.\n",
      "/tmp/ipykernel_81/2510688191.py:9: UserWarning: data/images/night ride (55).png is a low contrast image\n",
      "  imsave(title+ext,img_resize)\n",
      "Lossy conversion from float64 to uint8. Range [0, 1]. Convert image to uint8 prior to saving to suppress this warning.\n",
      "Lossy conversion from float64 to uint8. Range [0, 1]. Convert image to uint8 prior to saving to suppress this warning.\n",
      "/tmp/ipykernel_81/2510688191.py:9: UserWarning: data/images/night ride (11).png is a low contrast image\n",
      "  imsave(title+ext,img_resize)\n",
      "Lossy conversion from float64 to uint8. Range [0, 1]. Convert image to uint8 prior to saving to suppress this warning.\n",
      "Lossy conversion from float64 to uint8. Range [0, 1]. Convert image to uint8 prior to saving to suppress this warning.\n",
      "Lossy conversion from float64 to uint8. Range [0, 1]. Convert image to uint8 prior to saving to suppress this warning.\n",
      "Lossy conversion from float64 to uint8. Range [0, 1]. Convert image to uint8 prior to saving to suppress this warning.\n",
      "Lossy conversion from float64 to uint8. Range [0, 1]. Convert image to uint8 prior to saving to suppress this warning.\n",
      "Lossy conversion from float64 to uint8. Range [0, 1]. Convert image to uint8 prior to saving to suppress this warning.\n",
      "Lossy conversion from float64 to uint8. Range [0, 1]. Convert image to uint8 prior to saving to suppress this warning.\n",
      "Lossy conversion from float64 to uint8. Range [0, 1]. Convert image to uint8 prior to saving to suppress this warning.\n",
      "Lossy conversion from float64 to uint8. Range [0, 1]. Convert image to uint8 prior to saving to suppress this warning.\n",
      "Lossy conversion from float64 to uint8. Range [0, 1]. Convert image to uint8 prior to saving to suppress this warning.\n",
      "Lossy conversion from float64 to uint8. Range [0, 1]. Convert image to uint8 prior to saving to suppress this warning.\n",
      "/tmp/ipykernel_81/2510688191.py:9: UserWarning: data/images/night ride (68).png is a low contrast image\n",
      "  imsave(title+ext,img_resize)\n",
      "Lossy conversion from float64 to uint8. Range [0, 1]. Convert image to uint8 prior to saving to suppress this warning.\n",
      "Lossy conversion from float64 to uint8. Range [0, 1]. Convert image to uint8 prior to saving to suppress this warning.\n",
      "/tmp/ipykernel_81/2510688191.py:9: UserWarning: data/images/night ride (74).png is a low contrast image\n",
      "  imsave(title+ext,img_resize)\n",
      "Lossy conversion from float64 to uint8. Range [0, 1]. Convert image to uint8 prior to saving to suppress this warning.\n",
      "Lossy conversion from float64 to uint8. Range [0, 1]. Convert image to uint8 prior to saving to suppress this warning.\n",
      "/tmp/ipykernel_81/2510688191.py:9: UserWarning: data/images/Screenshot (311).png is a low contrast image\n",
      "  imsave(title+ext,img_resize)\n",
      "Lossy conversion from float64 to uint8. Range [0, 1]. Convert image to uint8 prior to saving to suppress this warning.\n",
      "Lossy conversion from float64 to uint8. Range [0, 1]. Convert image to uint8 prior to saving to suppress this warning.\n",
      "Lossy conversion from float64 to uint8. Range [0, 1]. Convert image to uint8 prior to saving to suppress this warning.\n",
      "Lossy conversion from float64 to uint8. Range [0, 1]. Convert image to uint8 prior to saving to suppress this warning.\n",
      "Lossy conversion from float64 to uint8. Range [0, 1]. Convert image to uint8 prior to saving to suppress this warning.\n",
      "Lossy conversion from float64 to uint8. Range [0, 1]. Convert image to uint8 prior to saving to suppress this warning.\n",
      "Lossy conversion from float64 to uint8. Range [0, 1]. Convert image to uint8 prior to saving to suppress this warning.\n",
      "Lossy conversion from float64 to uint8. Range [0, 1]. Convert image to uint8 prior to saving to suppress this warning.\n",
      "/tmp/ipykernel_81/2510688191.py:9: UserWarning: data/images/night ride (25).png is a low contrast image\n",
      "  imsave(title+ext,img_resize)\n",
      "Lossy conversion from float64 to uint8. Range [0, 1]. Convert image to uint8 prior to saving to suppress this warning.\n",
      "/tmp/ipykernel_81/2510688191.py:9: UserWarning: data/images/night ride (13).png is a low contrast image\n",
      "  imsave(title+ext,img_resize)\n",
      "Lossy conversion from float64 to uint8. Range [0, 1]. Convert image to uint8 prior to saving to suppress this warning.\n",
      "Lossy conversion from float64 to uint8. Range [0, 1]. Convert image to uint8 prior to saving to suppress this warning.\n",
      "/tmp/ipykernel_81/2510688191.py:9: UserWarning: data/images/night ride (86).png is a low contrast image\n",
      "  imsave(title+ext,img_resize)\n",
      "Lossy conversion from float64 to uint8. Range [0, 1]. Convert image to uint8 prior to saving to suppress this warning.\n",
      "/tmp/ipykernel_81/2510688191.py:9: UserWarning: data/images/night ride (27).png is a low contrast image\n",
      "  imsave(title+ext,img_resize)\n",
      "Lossy conversion from float64 to uint8. Range [0, 1]. Convert image to uint8 prior to saving to suppress this warning.\n",
      "Lossy conversion from float64 to uint8. Range [0, 1]. Convert image to uint8 prior to saving to suppress this warning.\n",
      "Lossy conversion from float64 to uint8. Range [0, 1]. Convert image to uint8 prior to saving to suppress this warning.\n",
      "Lossy conversion from float64 to uint8. Range [0, 1]. Convert image to uint8 prior to saving to suppress this warning.\n",
      "Lossy conversion from float64 to uint8. Range [0, 1]. Convert image to uint8 prior to saving to suppress this warning.\n",
      "Lossy conversion from float64 to uint8. Range [0, 1]. Convert image to uint8 prior to saving to suppress this warning.\n",
      "Lossy conversion from float64 to uint8. Range [0, 1]. Convert image to uint8 prior to saving to suppress this warning.\n",
      "Lossy conversion from float64 to uint8. Range [0, 1]. Convert image to uint8 prior to saving to suppress this warning.\n",
      "Lossy conversion from float64 to uint8. Range [0, 1]. Convert image to uint8 prior to saving to suppress this warning.\n",
      "Lossy conversion from float64 to uint8. Range [0, 1]. Convert image to uint8 prior to saving to suppress this warning.\n",
      "/tmp/ipykernel_81/2510688191.py:9: UserWarning: data/images/night ride (79).png is a low contrast image\n",
      "  imsave(title+ext,img_resize)\n",
      "Lossy conversion from float64 to uint8. Range [0, 1]. Convert image to uint8 prior to saving to suppress this warning.\n",
      "/tmp/ipykernel_81/2510688191.py:9: UserWarning: data/images/Screenshot (312).png is a low contrast image\n",
      "  imsave(title+ext,img_resize)\n",
      "Lossy conversion from float64 to uint8. Range [0, 1]. Convert image to uint8 prior to saving to suppress this warning.\n",
      "Lossy conversion from float64 to uint8. Range [0, 1]. Convert image to uint8 prior to saving to suppress this warning.\n",
      "/tmp/ipykernel_81/2510688191.py:9: UserWarning: data/images/night ride (20).png is a low contrast image\n",
      "  imsave(title+ext,img_resize)\n",
      "Lossy conversion from float64 to uint8. Range [0, 1]. Convert image to uint8 prior to saving to suppress this warning.\n"
     ]
    },
    {
     "name": "stderr",
     "output_type": "stream",
     "text": [
      "Lossy conversion from float64 to uint8. Range [0, 1]. Convert image to uint8 prior to saving to suppress this warning.\n",
      "/tmp/ipykernel_81/2510688191.py:9: UserWarning: data/images/Screenshot (318).png is a low contrast image\n",
      "  imsave(title+ext,img_resize)\n",
      "Lossy conversion from float64 to uint8. Range [0, 1]. Convert image to uint8 prior to saving to suppress this warning.\n",
      "/tmp/ipykernel_81/2510688191.py:9: UserWarning: data/images/night ride (15).png is a low contrast image\n",
      "  imsave(title+ext,img_resize)\n",
      "Lossy conversion from float64 to uint8. Range [0, 1]. Convert image to uint8 prior to saving to suppress this warning.\n",
      "Lossy conversion from float64 to uint8. Range [0, 1]. Convert image to uint8 prior to saving to suppress this warning.\n",
      "Lossy conversion from float64 to uint8. Range [0, 1]. Convert image to uint8 prior to saving to suppress this warning.\n",
      "/tmp/ipykernel_81/2510688191.py:9: UserWarning: data/images/night ride (48).png is a low contrast image\n",
      "  imsave(title+ext,img_resize)\n",
      "Lossy conversion from float64 to uint8. Range [0, 1]. Convert image to uint8 prior to saving to suppress this warning.\n",
      "Lossy conversion from float64 to uint8. Range [0, 1]. Convert image to uint8 prior to saving to suppress this warning.\n",
      "Lossy conversion from float64 to uint8. Range [0, 1]. Convert image to uint8 prior to saving to suppress this warning.\n",
      "Lossy conversion from float64 to uint8. Range [0, 1]. Convert image to uint8 prior to saving to suppress this warning.\n",
      "Lossy conversion from float64 to uint8. Range [0, 1]. Convert image to uint8 prior to saving to suppress this warning.\n",
      "Lossy conversion from float64 to uint8. Range [0, 1]. Convert image to uint8 prior to saving to suppress this warning.\n",
      "/tmp/ipykernel_81/2510688191.py:9: UserWarning: data/images/night ride (92).png is a low contrast image\n",
      "  imsave(title+ext,img_resize)\n",
      "Lossy conversion from float64 to uint8. Range [0, 1]. Convert image to uint8 prior to saving to suppress this warning.\n",
      "/tmp/ipykernel_81/2510688191.py:9: UserWarning: data/images/night ride (33).png is a low contrast image\n",
      "  imsave(title+ext,img_resize)\n",
      "Lossy conversion from float64 to uint8. Range [0, 1]. Convert image to uint8 prior to saving to suppress this warning.\n",
      "/tmp/ipykernel_81/2510688191.py:9: UserWarning: data/images/night ride (10).png is a low contrast image\n",
      "  imsave(title+ext,img_resize)\n",
      "Lossy conversion from float64 to uint8. Range [0, 1]. Convert image to uint8 prior to saving to suppress this warning.\n",
      "Lossy conversion from float64 to uint8. Range [0, 1]. Convert image to uint8 prior to saving to suppress this warning.\n",
      "Lossy conversion from float64 to uint8. Range [0, 1]. Convert image to uint8 prior to saving to suppress this warning.\n",
      "/tmp/ipykernel_81/2510688191.py:9: UserWarning: data/images/night ride (80).png is a low contrast image\n",
      "  imsave(title+ext,img_resize)\n",
      "Lossy conversion from float64 to uint8. Range [0, 1]. Convert image to uint8 prior to saving to suppress this warning.\n",
      "/tmp/ipykernel_81/2510688191.py:9: UserWarning: data/images/night ride (60).png is a low contrast image\n",
      "  imsave(title+ext,img_resize)\n",
      "Lossy conversion from float64 to uint8. Range [0, 1]. Convert image to uint8 prior to saving to suppress this warning.\n",
      "Lossy conversion from float64 to uint8. Range [0, 1]. Convert image to uint8 prior to saving to suppress this warning.\n",
      "/tmp/ipykernel_81/2510688191.py:9: UserWarning: data/images/night ride (57).png is a low contrast image\n",
      "  imsave(title+ext,img_resize)\n",
      "Lossy conversion from float64 to uint8. Range [0, 1]. Convert image to uint8 prior to saving to suppress this warning.\n",
      "Lossy conversion from float64 to uint8. Range [0, 1]. Convert image to uint8 prior to saving to suppress this warning.\n",
      "Lossy conversion from float64 to uint8. Range [0, 1]. Convert image to uint8 prior to saving to suppress this warning.\n",
      "Lossy conversion from float64 to uint8. Range [0, 1]. Convert image to uint8 prior to saving to suppress this warning.\n",
      "/tmp/ipykernel_81/2510688191.py:9: UserWarning: data/images/night ride (19).png is a low contrast image\n",
      "  imsave(title+ext,img_resize)\n",
      "Lossy conversion from float64 to uint8. Range [0, 1]. Convert image to uint8 prior to saving to suppress this warning.\n",
      "Lossy conversion from float64 to uint8. Range [0, 1]. Convert image to uint8 prior to saving to suppress this warning.\n",
      "Lossy conversion from float64 to uint8. Range [0, 1]. Convert image to uint8 prior to saving to suppress this warning.\n",
      "/tmp/ipykernel_81/2510688191.py:9: UserWarning: data/images/night ride (96).png is a low contrast image\n",
      "  imsave(title+ext,img_resize)\n",
      "Lossy conversion from float64 to uint8. Range [0, 1]. Convert image to uint8 prior to saving to suppress this warning.\n",
      "Lossy conversion from float64 to uint8. Range [0, 1]. Convert image to uint8 prior to saving to suppress this warning.\n",
      "Lossy conversion from float64 to uint8. Range [0, 1]. Convert image to uint8 prior to saving to suppress this warning.\n",
      "/tmp/ipykernel_81/2510688191.py:9: UserWarning: data/images/night ride (41).png is a low contrast image\n",
      "  imsave(title+ext,img_resize)\n",
      "Lossy conversion from float64 to uint8. Range [0, 1]. Convert image to uint8 prior to saving to suppress this warning.\n",
      "Lossy conversion from float64 to uint8. Range [0, 1]. Convert image to uint8 prior to saving to suppress this warning.\n",
      "Lossy conversion from float64 to uint8. Range [0, 1]. Convert image to uint8 prior to saving to suppress this warning.\n",
      "Lossy conversion from float64 to uint8. Range [0, 1]. Convert image to uint8 prior to saving to suppress this warning.\n",
      "Lossy conversion from float64 to uint8. Range [0, 1]. Convert image to uint8 prior to saving to suppress this warning.\n",
      "Lossy conversion from float64 to uint8. Range [0, 1]. Convert image to uint8 prior to saving to suppress this warning.\n",
      "Lossy conversion from float64 to uint8. Range [0, 1]. Convert image to uint8 prior to saving to suppress this warning.\n",
      "/tmp/ipykernel_81/2510688191.py:9: UserWarning: data/images/night ride (85).png is a low contrast image\n",
      "  imsave(title+ext,img_resize)\n",
      "Lossy conversion from float64 to uint8. Range [0, 1]. Convert image to uint8 prior to saving to suppress this warning.\n",
      "/tmp/ipykernel_81/2510688191.py:9: UserWarning: data/images/night ride (88).png is a low contrast image\n",
      "  imsave(title+ext,img_resize)\n",
      "Lossy conversion from float64 to uint8. Range [0, 1]. Convert image to uint8 prior to saving to suppress this warning.\n",
      "Lossy conversion from float64 to uint8. Range [0, 1]. Convert image to uint8 prior to saving to suppress this warning.\n",
      "Lossy conversion from float64 to uint8. Range [0, 1]. Convert image to uint8 prior to saving to suppress this warning.\n",
      "/tmp/ipykernel_81/2510688191.py:9: UserWarning: data/images/night ride (82).png is a low contrast image\n",
      "  imsave(title+ext,img_resize)\n",
      "Lossy conversion from float64 to uint8. Range [0, 1]. Convert image to uint8 prior to saving to suppress this warning.\n",
      "Lossy conversion from float64 to uint8. Range [0, 1]. Convert image to uint8 prior to saving to suppress this warning.\n",
      "/tmp/ipykernel_81/2510688191.py:9: UserWarning: data/images/night ride (100).png is a low contrast image\n",
      "  imsave(title+ext,img_resize)\n",
      "Lossy conversion from float64 to uint8. Range [0, 1]. Convert image to uint8 prior to saving to suppress this warning.\n",
      "Lossy conversion from float64 to uint8. Range [0, 1]. Convert image to uint8 prior to saving to suppress this warning.\n",
      "/tmp/ipykernel_81/2510688191.py:9: UserWarning: data/images/night ride (18).png is a low contrast image\n",
      "  imsave(title+ext,img_resize)\n",
      "Lossy conversion from float64 to uint8. Range [0, 1]. Convert image to uint8 prior to saving to suppress this warning.\n",
      "Lossy conversion from float64 to uint8. Range [0, 1]. Convert image to uint8 prior to saving to suppress this warning.\n",
      "/tmp/ipykernel_81/2510688191.py:9: UserWarning: data/images/Screenshot (364).png is a low contrast image\n",
      "  imsave(title+ext,img_resize)\n",
      "Lossy conversion from float64 to uint8. Range [0, 1]. Convert image to uint8 prior to saving to suppress this warning.\n",
      "/tmp/ipykernel_81/2510688191.py:9: UserWarning: data/images/night ride (97).png is a low contrast image\n",
      "  imsave(title+ext,img_resize)\n",
      "Lossy conversion from float64 to uint8. Range [0, 1]. Convert image to uint8 prior to saving to suppress this warning.\n"
     ]
    },
    {
     "name": "stderr",
     "output_type": "stream",
     "text": [
      "/tmp/ipykernel_81/2510688191.py:9: UserWarning: data/images/night ride (94).png is a low contrast image\n",
      "  imsave(title+ext,img_resize)\n",
      "Lossy conversion from float64 to uint8. Range [0, 1]. Convert image to uint8 prior to saving to suppress this warning.\n",
      "Lossy conversion from float64 to uint8. Range [0, 1]. Convert image to uint8 prior to saving to suppress this warning.\n",
      "Lossy conversion from float64 to uint8. Range [0, 1]. Convert image to uint8 prior to saving to suppress this warning.\n",
      "Lossy conversion from float64 to uint8. Range [0, 1]. Convert image to uint8 prior to saving to suppress this warning.\n",
      "/tmp/ipykernel_81/2510688191.py:9: UserWarning: data/images/night ride (9).png is a low contrast image\n",
      "  imsave(title+ext,img_resize)\n",
      "Lossy conversion from float64 to uint8. Range [0, 1]. Convert image to uint8 prior to saving to suppress this warning.\n",
      "Lossy conversion from float64 to uint8. Range [0, 1]. Convert image to uint8 prior to saving to suppress this warning.\n",
      "Lossy conversion from float64 to uint8. Range [0, 1]. Convert image to uint8 prior to saving to suppress this warning.\n",
      "/tmp/ipykernel_81/2510688191.py:9: UserWarning: data/images/night ride (89).png is a low contrast image\n",
      "  imsave(title+ext,img_resize)\n",
      "Lossy conversion from float64 to uint8. Range [0, 1]. Convert image to uint8 prior to saving to suppress this warning.\n",
      "Lossy conversion from float64 to uint8. Range [0, 1]. Convert image to uint8 prior to saving to suppress this warning.\n",
      "Lossy conversion from float64 to uint8. Range [0, 1]. Convert image to uint8 prior to saving to suppress this warning.\n",
      "/tmp/ipykernel_81/2510688191.py:9: UserWarning: data/images/night ride (99).png is a low contrast image\n",
      "  imsave(title+ext,img_resize)\n",
      "Lossy conversion from float64 to uint8. Range [0, 1]. Convert image to uint8 prior to saving to suppress this warning.\n",
      "Lossy conversion from float64 to uint8. Range [0, 1]. Convert image to uint8 prior to saving to suppress this warning.\n",
      "Lossy conversion from float64 to uint8. Range [0, 1]. Convert image to uint8 prior to saving to suppress this warning.\n",
      "Lossy conversion from float64 to uint8. Range [0, 1]. Convert image to uint8 prior to saving to suppress this warning.\n",
      "/tmp/ipykernel_81/2510688191.py:9: UserWarning: data/images/night ride (39).png is a low contrast image\n",
      "  imsave(title+ext,img_resize)\n",
      "Lossy conversion from float64 to uint8. Range [0, 1]. Convert image to uint8 prior to saving to suppress this warning.\n",
      "Lossy conversion from float64 to uint8. Range [0, 1]. Convert image to uint8 prior to saving to suppress this warning.\n",
      "/tmp/ipykernel_81/2510688191.py:9: UserWarning: data/images/night ride (91).png is a low contrast image\n",
      "  imsave(title+ext,img_resize)\n",
      "Lossy conversion from float64 to uint8. Range [0, 1]. Convert image to uint8 prior to saving to suppress this warning.\n",
      "/tmp/ipykernel_81/2510688191.py:9: UserWarning: data/images/Screenshot (371).png is a low contrast image\n",
      "  imsave(title+ext,img_resize)\n",
      "Lossy conversion from float64 to uint8. Range [0, 1]. Convert image to uint8 prior to saving to suppress this warning.\n",
      "Lossy conversion from float64 to uint8. Range [0, 1]. Convert image to uint8 prior to saving to suppress this warning.\n",
      "Lossy conversion from float64 to uint8. Range [0, 1]. Convert image to uint8 prior to saving to suppress this warning.\n",
      "Lossy conversion from float64 to uint8. Range [0, 1]. Convert image to uint8 prior to saving to suppress this warning.\n",
      "/tmp/ipykernel_81/2510688191.py:9: UserWarning: data/images/night ride (35).png is a low contrast image\n",
      "  imsave(title+ext,img_resize)\n",
      "Lossy conversion from float64 to uint8. Range [0, 1]. Convert image to uint8 prior to saving to suppress this warning.\n",
      "Lossy conversion from float64 to uint8. Range [0, 1]. Convert image to uint8 prior to saving to suppress this warning.\n",
      "/tmp/ipykernel_81/2510688191.py:9: UserWarning: data/images/night ride (87).png is a low contrast image\n",
      "  imsave(title+ext,img_resize)\n",
      "Lossy conversion from float64 to uint8. Range [0, 1]. Convert image to uint8 prior to saving to suppress this warning.\n",
      "/tmp/ipykernel_81/2510688191.py:9: UserWarning: data/images/night ride (84).png is a low contrast image\n",
      "  imsave(title+ext,img_resize)\n",
      "Lossy conversion from float64 to uint8. Range [0, 1]. Convert image to uint8 prior to saving to suppress this warning.\n",
      "Lossy conversion from float64 to uint8. Range [0, 1]. Convert image to uint8 prior to saving to suppress this warning.\n",
      "Lossy conversion from float64 to uint8. Range [0, 1]. Convert image to uint8 prior to saving to suppress this warning.\n",
      "Lossy conversion from float64 to uint8. Range [0, 1]. Convert image to uint8 prior to saving to suppress this warning.\n",
      "/tmp/ipykernel_81/2510688191.py:9: UserWarning: data/images/night ride (63).png is a low contrast image\n",
      "  imsave(title+ext,img_resize)\n",
      "Lossy conversion from float64 to uint8. Range [0, 1]. Convert image to uint8 prior to saving to suppress this warning.\n",
      "/tmp/ipykernel_81/2510688191.py:9: UserWarning: data/images/Screenshot (358).png is a low contrast image\n",
      "  imsave(title+ext,img_resize)\n",
      "Lossy conversion from float64 to uint8. Range [0, 1]. Convert image to uint8 prior to saving to suppress this warning.\n",
      "Lossy conversion from float64 to uint8. Range [0, 1]. Convert image to uint8 prior to saving to suppress this warning.\n",
      "/tmp/ipykernel_81/2510688191.py:9: UserWarning: data/images/night ride (23).png is a low contrast image\n",
      "  imsave(title+ext,img_resize)\n",
      "Lossy conversion from float64 to uint8. Range [0, 1]. Convert image to uint8 prior to saving to suppress this warning.\n",
      "/tmp/ipykernel_81/2510688191.py:9: UserWarning: data/images/night ride (12).png is a low contrast image\n",
      "  imsave(title+ext,img_resize)\n",
      "Lossy conversion from float64 to uint8. Range [0, 1]. Convert image to uint8 prior to saving to suppress this warning.\n",
      "Lossy conversion from float64 to uint8. Range [0, 1]. Convert image to uint8 prior to saving to suppress this warning.\n",
      "Lossy conversion from float64 to uint8. Range [0, 1]. Convert image to uint8 prior to saving to suppress this warning.\n",
      "Lossy conversion from float64 to uint8. Range [0, 1]. Convert image to uint8 prior to saving to suppress this warning.\n",
      "Lossy conversion from float64 to uint8. Range [0, 1]. Convert image to uint8 prior to saving to suppress this warning.\n",
      "Lossy conversion from float64 to uint8. Range [0, 1]. Convert image to uint8 prior to saving to suppress this warning.\n",
      "/tmp/ipykernel_81/2510688191.py:9: UserWarning: data/images/night ride (17).png is a low contrast image\n",
      "  imsave(title+ext,img_resize)\n",
      "Lossy conversion from float64 to uint8. Range [0, 1]. Convert image to uint8 prior to saving to suppress this warning.\n",
      "Lossy conversion from float64 to uint8. Range [0, 1]. Convert image to uint8 prior to saving to suppress this warning.\n",
      "/tmp/ipykernel_81/2510688191.py:9: UserWarning: data/images/night ride (53).png is a low contrast image\n",
      "  imsave(title+ext,img_resize)\n",
      "Lossy conversion from float64 to uint8. Range [0, 1]. Convert image to uint8 prior to saving to suppress this warning.\n",
      "/tmp/ipykernel_81/2510688191.py:9: UserWarning: data/images/Screenshot (354).png is a low contrast image\n",
      "  imsave(title+ext,img_resize)\n",
      "Lossy conversion from float64 to uint8. Range [0, 1]. Convert image to uint8 prior to saving to suppress this warning.\n",
      "/tmp/ipykernel_81/2510688191.py:9: UserWarning: data/images/night ride (14).png is a low contrast image\n",
      "  imsave(title+ext,img_resize)\n",
      "Lossy conversion from float64 to uint8. Range [0, 1]. Convert image to uint8 prior to saving to suppress this warning.\n",
      "Lossy conversion from float64 to uint8. Range [0, 1]. Convert image to uint8 prior to saving to suppress this warning.\n",
      "Lossy conversion from float64 to uint8. Range [0, 1]. Convert image to uint8 prior to saving to suppress this warning.\n",
      "Lossy conversion from float64 to uint8. Range [0, 1]. Convert image to uint8 prior to saving to suppress this warning.\n",
      "/tmp/ipykernel_81/2510688191.py:9: UserWarning: data/images/night ride (54).png is a low contrast image\n",
      "  imsave(title+ext,img_resize)\n",
      "Lossy conversion from float64 to uint8. Range [0, 1]. Convert image to uint8 prior to saving to suppress this warning.\n",
      "Lossy conversion from float64 to uint8. Range [0, 1]. Convert image to uint8 prior to saving to suppress this warning.\n"
     ]
    },
    {
     "name": "stderr",
     "output_type": "stream",
     "text": [
      "/tmp/ipykernel_81/2510688191.py:9: UserWarning: data/images/night ride (81).png is a low contrast image\n",
      "  imsave(title+ext,img_resize)\n",
      "Lossy conversion from float64 to uint8. Range [0, 1]. Convert image to uint8 prior to saving to suppress this warning.\n",
      "Lossy conversion from float64 to uint8. Range [0, 1]. Convert image to uint8 prior to saving to suppress this warning.\n",
      "Lossy conversion from float64 to uint8. Range [0, 1]. Convert image to uint8 prior to saving to suppress this warning.\n",
      "/tmp/ipykernel_81/2510688191.py:18: UserWarning: data/semantic/night ride (26).png___fuse.png is a low contrast image\n",
      "  imsave(title+ext,img_resize)\n",
      "Lossy conversion from float64 to uint8. Range [0, 1]. Convert image to uint8 prior to saving to suppress this warning.\n",
      "/tmp/ipykernel_81/2510688191.py:18: UserWarning: data/semantic/night ride (99).png___fuse.png is a low contrast image\n",
      "  imsave(title+ext,img_resize)\n",
      "Lossy conversion from float64 to uint8. Range [0, 1]. Convert image to uint8 prior to saving to suppress this warning.\n",
      "/tmp/ipykernel_81/2510688191.py:18: UserWarning: data/semantic/Screenshot (363).png___fuse.png is a low contrast image\n",
      "  imsave(title+ext,img_resize)\n",
      "Lossy conversion from float64 to uint8. Range [0, 1]. Convert image to uint8 prior to saving to suppress this warning.\n",
      "/tmp/ipykernel_81/2510688191.py:18: UserWarning: data/semantic/Screenshot (401).png___fuse.png is a low contrast image\n",
      "  imsave(title+ext,img_resize)\n",
      "Lossy conversion from float64 to uint8. Range [0, 1]. Convert image to uint8 prior to saving to suppress this warning.\n",
      "/tmp/ipykernel_81/2510688191.py:18: UserWarning: data/semantic/night ride (62).png___fuse.png is a low contrast image\n",
      "  imsave(title+ext,img_resize)\n",
      "Lossy conversion from float64 to uint8. Range [0, 1]. Convert image to uint8 prior to saving to suppress this warning.\n",
      "/tmp/ipykernel_81/2510688191.py:18: UserWarning: data/semantic/night ride (97).png___fuse.png is a low contrast image\n",
      "  imsave(title+ext,img_resize)\n",
      "Lossy conversion from float64 to uint8. Range [0, 1]. Convert image to uint8 prior to saving to suppress this warning.\n",
      "/tmp/ipykernel_81/2510688191.py:18: UserWarning: data/semantic/night ride (46).png___fuse.png is a low contrast image\n",
      "  imsave(title+ext,img_resize)\n",
      "Lossy conversion from float64 to uint8. Range [0, 1]. Convert image to uint8 prior to saving to suppress this warning.\n",
      "/tmp/ipykernel_81/2510688191.py:18: UserWarning: data/semantic/night ride (83).png___fuse.png is a low contrast image\n",
      "  imsave(title+ext,img_resize)\n",
      "Lossy conversion from float64 to uint8. Range [0, 1]. Convert image to uint8 prior to saving to suppress this warning.\n",
      "/tmp/ipykernel_81/2510688191.py:18: UserWarning: data/semantic/Screenshot (379).png___fuse.png is a low contrast image\n",
      "  imsave(title+ext,img_resize)\n",
      "Lossy conversion from float64 to uint8. Range [0, 1]. Convert image to uint8 prior to saving to suppress this warning.\n",
      "/tmp/ipykernel_81/2510688191.py:18: UserWarning: data/semantic/Screenshot (378).png___fuse.png is a low contrast image\n",
      "  imsave(title+ext,img_resize)\n",
      "Lossy conversion from float64 to uint8. Range [0, 1]. Convert image to uint8 prior to saving to suppress this warning.\n",
      "/tmp/ipykernel_81/2510688191.py:18: UserWarning: data/semantic/Screenshot (439).png___fuse.png is a low contrast image\n",
      "  imsave(title+ext,img_resize)\n",
      "Lossy conversion from float64 to uint8. Range [0, 1]. Convert image to uint8 prior to saving to suppress this warning.\n",
      "/tmp/ipykernel_81/2510688191.py:18: UserWarning: data/semantic/night ride (50).png___fuse.png is a low contrast image\n",
      "  imsave(title+ext,img_resize)\n",
      "Lossy conversion from float64 to uint8. Range [0, 1]. Convert image to uint8 prior to saving to suppress this warning.\n",
      "/tmp/ipykernel_81/2510688191.py:18: UserWarning: data/semantic/night ride (84).png___fuse.png is a low contrast image\n",
      "  imsave(title+ext,img_resize)\n",
      "Lossy conversion from float64 to uint8. Range [0, 1]. Convert image to uint8 prior to saving to suppress this warning.\n",
      "/tmp/ipykernel_81/2510688191.py:18: UserWarning: data/semantic/night ride (98).png___fuse.png is a low contrast image\n",
      "  imsave(title+ext,img_resize)\n",
      "Lossy conversion from float64 to uint8. Range [0, 1]. Convert image to uint8 prior to saving to suppress this warning.\n",
      "/tmp/ipykernel_81/2510688191.py:18: UserWarning: data/semantic/night ride (91).png___fuse.png is a low contrast image\n",
      "  imsave(title+ext,img_resize)\n",
      "Lossy conversion from float64 to uint8. Range [0, 1]. Convert image to uint8 prior to saving to suppress this warning.\n",
      "/tmp/ipykernel_81/2510688191.py:18: UserWarning: data/semantic/night ride (76).png___fuse.png is a low contrast image\n",
      "  imsave(title+ext,img_resize)\n",
      "Lossy conversion from float64 to uint8. Range [0, 1]. Convert image to uint8 prior to saving to suppress this warning.\n",
      "/tmp/ipykernel_81/2510688191.py:18: UserWarning: data/semantic/Screenshot (437).png___fuse.png is a low contrast image\n",
      "  imsave(title+ext,img_resize)\n",
      "Lossy conversion from float64 to uint8. Range [0, 1]. Convert image to uint8 prior to saving to suppress this warning.\n",
      "/tmp/ipykernel_81/2510688191.py:18: UserWarning: data/semantic/Screenshot (362).png___fuse.png is a low contrast image\n",
      "  imsave(title+ext,img_resize)\n",
      "Lossy conversion from float64 to uint8. Range [0, 1]. Convert image to uint8 prior to saving to suppress this warning.\n",
      "/tmp/ipykernel_81/2510688191.py:18: UserWarning: data/semantic/Screenshot (310).png___fuse.png is a low contrast image\n",
      "  imsave(title+ext,img_resize)\n",
      "Lossy conversion from float64 to uint8. Range [0, 1]. Convert image to uint8 prior to saving to suppress this warning.\n",
      "/tmp/ipykernel_81/2510688191.py:18: UserWarning: data/semantic/Screenshot (400).png___fuse.png is a low contrast image\n",
      "  imsave(title+ext,img_resize)\n",
      "Lossy conversion from float64 to uint8. Range [0, 1]. Convert image to uint8 prior to saving to suppress this warning.\n",
      "/tmp/ipykernel_81/2510688191.py:18: UserWarning: data/semantic/Screenshot (433).png___fuse.png is a low contrast image\n",
      "  imsave(title+ext,img_resize)\n",
      "Lossy conversion from float64 to uint8. Range [0, 1]. Convert image to uint8 prior to saving to suppress this warning.\n",
      "/tmp/ipykernel_81/2510688191.py:18: UserWarning: data/semantic/Screenshot (359).png___fuse.png is a low contrast image\n",
      "  imsave(title+ext,img_resize)\n",
      "Lossy conversion from float64 to uint8. Range [0, 1]. Convert image to uint8 prior to saving to suppress this warning.\n",
      "/tmp/ipykernel_81/2510688191.py:18: UserWarning: data/semantic/Screenshot (408).png___fuse.png is a low contrast image\n",
      "  imsave(title+ext,img_resize)\n",
      "Lossy conversion from float64 to uint8. Range [0, 1]. Convert image to uint8 prior to saving to suppress this warning.\n",
      "/tmp/ipykernel_81/2510688191.py:18: UserWarning: data/semantic/Screenshot (317).png___fuse.png is a low contrast image\n",
      "  imsave(title+ext,img_resize)\n",
      "Lossy conversion from float64 to uint8. Range [0, 1]. Convert image to uint8 prior to saving to suppress this warning.\n",
      "/tmp/ipykernel_81/2510688191.py:18: UserWarning: data/semantic/night ride (43).png___fuse.png is a low contrast image\n",
      "  imsave(title+ext,img_resize)\n",
      "Lossy conversion from float64 to uint8. Range [0, 1]. Convert image to uint8 prior to saving to suppress this warning.\n",
      "/tmp/ipykernel_81/2510688191.py:18: UserWarning: data/semantic/night ride (40).png___fuse.png is a low contrast image\n",
      "  imsave(title+ext,img_resize)\n",
      "Lossy conversion from float64 to uint8. Range [0, 1]. Convert image to uint8 prior to saving to suppress this warning.\n",
      "/tmp/ipykernel_81/2510688191.py:18: UserWarning: data/semantic/night ride (69).png___fuse.png is a low contrast image\n",
      "  imsave(title+ext,img_resize)\n",
      "Lossy conversion from float64 to uint8. Range [0, 1]. Convert image to uint8 prior to saving to suppress this warning.\n",
      "/tmp/ipykernel_81/2510688191.py:18: UserWarning: data/semantic/night ride (19).png___fuse.png is a low contrast image\n",
      "  imsave(title+ext,img_resize)\n",
      "Lossy conversion from float64 to uint8. Range [0, 1]. Convert image to uint8 prior to saving to suppress this warning.\n",
      "/tmp/ipykernel_81/2510688191.py:18: UserWarning: data/semantic/night ride (66).png___fuse.png is a low contrast image\n",
      "  imsave(title+ext,img_resize)\n",
      "Lossy conversion from float64 to uint8. Range [0, 1]. Convert image to uint8 prior to saving to suppress this warning.\n"
     ]
    },
    {
     "name": "stderr",
     "output_type": "stream",
     "text": [
      "/tmp/ipykernel_81/2510688191.py:18: UserWarning: data/semantic/Screenshot (396).png___fuse.png is a low contrast image\n",
      "  imsave(title+ext,img_resize)\n",
      "Lossy conversion from float64 to uint8. Range [0, 1]. Convert image to uint8 prior to saving to suppress this warning.\n",
      "/tmp/ipykernel_81/2510688191.py:18: UserWarning: data/semantic/Screenshot (444).png___fuse.png is a low contrast image\n",
      "  imsave(title+ext,img_resize)\n",
      "Lossy conversion from float64 to uint8. Range [0, 1]. Convert image to uint8 prior to saving to suppress this warning.\n",
      "/tmp/ipykernel_81/2510688191.py:18: UserWarning: data/semantic/night ride (61).png___fuse.png is a low contrast image\n",
      "  imsave(title+ext,img_resize)\n",
      "Lossy conversion from float64 to uint8. Range [0, 1]. Convert image to uint8 prior to saving to suppress this warning.\n",
      "/tmp/ipykernel_81/2510688191.py:18: UserWarning: data/semantic/night ride (33).png___fuse.png is a low contrast image\n",
      "  imsave(title+ext,img_resize)\n",
      "Lossy conversion from float64 to uint8. Range [0, 1]. Convert image to uint8 prior to saving to suppress this warning.\n",
      "/tmp/ipykernel_81/2510688191.py:18: UserWarning: data/semantic/Screenshot (410).png___fuse.png is a low contrast image\n",
      "  imsave(title+ext,img_resize)\n",
      "Lossy conversion from float64 to uint8. Range [0, 1]. Convert image to uint8 prior to saving to suppress this warning.\n",
      "/tmp/ipykernel_81/2510688191.py:18: UserWarning: data/semantic/Screenshot (311).png___fuse.png is a low contrast image\n",
      "  imsave(title+ext,img_resize)\n",
      "Lossy conversion from float64 to uint8. Range [0, 1]. Convert image to uint8 prior to saving to suppress this warning.\n",
      "/tmp/ipykernel_81/2510688191.py:18: UserWarning: data/semantic/Screenshot (416).png___fuse.png is a low contrast image\n",
      "  imsave(title+ext,img_resize)\n",
      "Lossy conversion from float64 to uint8. Range [0, 1]. Convert image to uint8 prior to saving to suppress this warning.\n",
      "/tmp/ipykernel_81/2510688191.py:18: UserWarning: data/semantic/Screenshot (355).png___fuse.png is a low contrast image\n",
      "  imsave(title+ext,img_resize)\n",
      "Lossy conversion from float64 to uint8. Range [0, 1]. Convert image to uint8 prior to saving to suppress this warning.\n",
      "/tmp/ipykernel_81/2510688191.py:18: UserWarning: data/semantic/Screenshot (426).png___fuse.png is a low contrast image\n",
      "  imsave(title+ext,img_resize)\n",
      "Lossy conversion from float64 to uint8. Range [0, 1]. Convert image to uint8 prior to saving to suppress this warning.\n",
      "/tmp/ipykernel_81/2510688191.py:18: UserWarning: data/semantic/night ride (27).png___fuse.png is a low contrast image\n",
      "  imsave(title+ext,img_resize)\n",
      "Lossy conversion from float64 to uint8. Range [0, 1]. Convert image to uint8 prior to saving to suppress this warning.\n",
      "/tmp/ipykernel_81/2510688191.py:18: UserWarning: data/semantic/night ride (21).png___fuse.png is a low contrast image\n",
      "  imsave(title+ext,img_resize)\n",
      "Lossy conversion from float64 to uint8. Range [0, 1]. Convert image to uint8 prior to saving to suppress this warning.\n",
      "/tmp/ipykernel_81/2510688191.py:18: UserWarning: data/semantic/Screenshot (372).png___fuse.png is a low contrast image\n",
      "  imsave(title+ext,img_resize)\n",
      "Lossy conversion from float64 to uint8. Range [0, 1]. Convert image to uint8 prior to saving to suppress this warning.\n",
      "/tmp/ipykernel_81/2510688191.py:18: UserWarning: data/semantic/Screenshot (420).png___fuse.png is a low contrast image\n",
      "  imsave(title+ext,img_resize)\n",
      "Lossy conversion from float64 to uint8. Range [0, 1]. Convert image to uint8 prior to saving to suppress this warning.\n",
      "/tmp/ipykernel_81/2510688191.py:18: UserWarning: data/semantic/Screenshot (449).png___fuse.png is a low contrast image\n",
      "  imsave(title+ext,img_resize)\n",
      "Lossy conversion from float64 to uint8. Range [0, 1]. Convert image to uint8 prior to saving to suppress this warning.\n",
      "/tmp/ipykernel_81/2510688191.py:18: UserWarning: data/semantic/night ride (8).png___fuse.png is a low contrast image\n",
      "  imsave(title+ext,img_resize)\n",
      "Lossy conversion from float64 to uint8. Range [0, 1]. Convert image to uint8 prior to saving to suppress this warning.\n",
      "/tmp/ipykernel_81/2510688191.py:18: UserWarning: data/semantic/night ride (11).png___fuse.png is a low contrast image\n",
      "  imsave(title+ext,img_resize)\n",
      "Lossy conversion from float64 to uint8. Range [0, 1]. Convert image to uint8 prior to saving to suppress this warning.\n",
      "/tmp/ipykernel_81/2510688191.py:18: UserWarning: data/semantic/Screenshot (394).png___fuse.png is a low contrast image\n",
      "  imsave(title+ext,img_resize)\n",
      "Lossy conversion from float64 to uint8. Range [0, 1]. Convert image to uint8 prior to saving to suppress this warning.\n",
      "/tmp/ipykernel_81/2510688191.py:18: UserWarning: data/semantic/Screenshot (318).png___fuse.png is a low contrast image\n",
      "  imsave(title+ext,img_resize)\n",
      "Lossy conversion from float64 to uint8. Range [0, 1]. Convert image to uint8 prior to saving to suppress this warning.\n",
      "/tmp/ipykernel_81/2510688191.py:18: UserWarning: data/semantic/Screenshot (431).png___fuse.png is a low contrast image\n",
      "  imsave(title+ext,img_resize)\n",
      "Lossy conversion from float64 to uint8. Range [0, 1]. Convert image to uint8 prior to saving to suppress this warning.\n",
      "/tmp/ipykernel_81/2510688191.py:18: UserWarning: data/semantic/Screenshot (441).png___fuse.png is a low contrast image\n",
      "  imsave(title+ext,img_resize)\n",
      "Lossy conversion from float64 to uint8. Range [0, 1]. Convert image to uint8 prior to saving to suppress this warning.\n",
      "/tmp/ipykernel_81/2510688191.py:18: UserWarning: data/semantic/Screenshot (423).png.png___fuse.png is a low contrast image\n",
      "  imsave(title+ext,img_resize)\n",
      "Lossy conversion from float64 to uint8. Range [0, 1]. Convert image to uint8 prior to saving to suppress this warning.\n",
      "/tmp/ipykernel_81/2510688191.py:18: UserWarning: data/semantic/Screenshot (313).png___fuse.png is a low contrast image\n",
      "  imsave(title+ext,img_resize)\n",
      "Lossy conversion from float64 to uint8. Range [0, 1]. Convert image to uint8 prior to saving to suppress this warning.\n",
      "/tmp/ipykernel_81/2510688191.py:18: UserWarning: data/semantic/Screenshot (417).png___fuse.png is a low contrast image\n",
      "  imsave(title+ext,img_resize)\n",
      "Lossy conversion from float64 to uint8. Range [0, 1]. Convert image to uint8 prior to saving to suppress this warning.\n",
      "/tmp/ipykernel_81/2510688191.py:18: UserWarning: data/semantic/night ride (89).png___fuse.png is a low contrast image\n",
      "  imsave(title+ext,img_resize)\n",
      "Lossy conversion from float64 to uint8. Range [0, 1]. Convert image to uint8 prior to saving to suppress this warning.\n",
      "/tmp/ipykernel_81/2510688191.py:18: UserWarning: data/semantic/night ride (71).png___fuse.png is a low contrast image\n",
      "  imsave(title+ext,img_resize)\n",
      "Lossy conversion from float64 to uint8. Range [0, 1]. Convert image to uint8 prior to saving to suppress this warning.\n",
      "/tmp/ipykernel_81/2510688191.py:18: UserWarning: data/semantic/Screenshot (446).png___fuse.png is a low contrast image\n",
      "  imsave(title+ext,img_resize)\n",
      "Lossy conversion from float64 to uint8. Range [0, 1]. Convert image to uint8 prior to saving to suppress this warning.\n",
      "/tmp/ipykernel_81/2510688191.py:18: UserWarning: data/semantic/Screenshot (323).png___fuse.png is a low contrast image\n",
      "  imsave(title+ext,img_resize)\n",
      "Lossy conversion from float64 to uint8. Range [0, 1]. Convert image to uint8 prior to saving to suppress this warning.\n",
      "/tmp/ipykernel_81/2510688191.py:18: UserWarning: data/semantic/Screenshot (322).png___fuse.png is a low contrast image\n",
      "  imsave(title+ext,img_resize)\n",
      "Lossy conversion from float64 to uint8. Range [0, 1]. Convert image to uint8 prior to saving to suppress this warning.\n",
      "/tmp/ipykernel_81/2510688191.py:18: UserWarning: data/semantic/night ride (47).png___fuse.png is a low contrast image\n",
      "  imsave(title+ext,img_resize)\n",
      "Lossy conversion from float64 to uint8. Range [0, 1]. Convert image to uint8 prior to saving to suppress this warning.\n",
      "/tmp/ipykernel_81/2510688191.py:18: UserWarning: data/semantic/night ride (10).png___fuse.png is a low contrast image\n",
      "  imsave(title+ext,img_resize)\n",
      "Lossy conversion from float64 to uint8. Range [0, 1]. Convert image to uint8 prior to saving to suppress this warning.\n",
      "/tmp/ipykernel_81/2510688191.py:18: UserWarning: data/semantic/night ride (60).png___fuse.png is a low contrast image\n",
      "  imsave(title+ext,img_resize)\n",
      "Lossy conversion from float64 to uint8. Range [0, 1]. Convert image to uint8 prior to saving to suppress this warning.\n"
     ]
    },
    {
     "name": "stderr",
     "output_type": "stream",
     "text": [
      "/tmp/ipykernel_81/2510688191.py:18: UserWarning: data/semantic/night ride (100).png___fuse.png is a low contrast image\n",
      "  imsave(title+ext,img_resize)\n",
      "Lossy conversion from float64 to uint8. Range [0, 1]. Convert image to uint8 prior to saving to suppress this warning.\n",
      "/tmp/ipykernel_81/2510688191.py:18: UserWarning: data/semantic/Screenshot (392).png___fuse.png is a low contrast image\n",
      "  imsave(title+ext,img_resize)\n",
      "Lossy conversion from float64 to uint8. Range [0, 1]. Convert image to uint8 prior to saving to suppress this warning.\n",
      "/tmp/ipykernel_81/2510688191.py:18: UserWarning: data/semantic/night ride (95).png___fuse.png is a low contrast image\n",
      "  imsave(title+ext,img_resize)\n",
      "Lossy conversion from float64 to uint8. Range [0, 1]. Convert image to uint8 prior to saving to suppress this warning.\n",
      "/tmp/ipykernel_81/2510688191.py:18: UserWarning: data/semantic/Screenshot (356).png___fuse.png is a low contrast image\n",
      "  imsave(title+ext,img_resize)\n",
      "Lossy conversion from float64 to uint8. Range [0, 1]. Convert image to uint8 prior to saving to suppress this warning.\n",
      "/tmp/ipykernel_81/2510688191.py:18: UserWarning: data/semantic/Screenshot (430).png___fuse.png is a low contrast image\n",
      "  imsave(title+ext,img_resize)\n",
      "Lossy conversion from float64 to uint8. Range [0, 1]. Convert image to uint8 prior to saving to suppress this warning.\n",
      "/tmp/ipykernel_81/2510688191.py:18: UserWarning: data/semantic/night ride (57).png___fuse.png is a low contrast image\n",
      "  imsave(title+ext,img_resize)\n",
      "Lossy conversion from float64 to uint8. Range [0, 1]. Convert image to uint8 prior to saving to suppress this warning.\n",
      "/tmp/ipykernel_81/2510688191.py:18: UserWarning: data/semantic/night ride (90).png___fuse.png is a low contrast image\n",
      "  imsave(title+ext,img_resize)\n",
      "Lossy conversion from float64 to uint8. Range [0, 1]. Convert image to uint8 prior to saving to suppress this warning.\n",
      "/tmp/ipykernel_81/2510688191.py:18: UserWarning: data/semantic/Screenshot (384).png___fuse.png is a low contrast image\n",
      "  imsave(title+ext,img_resize)\n",
      "Lossy conversion from float64 to uint8. Range [0, 1]. Convert image to uint8 prior to saving to suppress this warning.\n",
      "/tmp/ipykernel_81/2510688191.py:18: UserWarning: data/semantic/Screenshot (414).png___fuse.png is a low contrast image\n",
      "  imsave(title+ext,img_resize)\n",
      "Lossy conversion from float64 to uint8. Range [0, 1]. Convert image to uint8 prior to saving to suppress this warning.\n",
      "/tmp/ipykernel_81/2510688191.py:18: UserWarning: data/semantic/night ride (80).png___fuse.png is a low contrast image\n",
      "  imsave(title+ext,img_resize)\n",
      "Lossy conversion from float64 to uint8. Range [0, 1]. Convert image to uint8 prior to saving to suppress this warning.\n",
      "/tmp/ipykernel_81/2510688191.py:18: UserWarning: data/semantic/Screenshot (388).png___fuse.png is a low contrast image\n",
      "  imsave(title+ext,img_resize)\n",
      "Lossy conversion from float64 to uint8. Range [0, 1]. Convert image to uint8 prior to saving to suppress this warning.\n",
      "/tmp/ipykernel_81/2510688191.py:18: UserWarning: data/semantic/night ride (14).png___fuse.png is a low contrast image\n",
      "  imsave(title+ext,img_resize)\n",
      "Lossy conversion from float64 to uint8. Range [0, 1]. Convert image to uint8 prior to saving to suppress this warning.\n",
      "/tmp/ipykernel_81/2510688191.py:18: UserWarning: data/semantic/night ride (67).png___fuse.png is a low contrast image\n",
      "  imsave(title+ext,img_resize)\n",
      "Lossy conversion from float64 to uint8. Range [0, 1]. Convert image to uint8 prior to saving to suppress this warning.\n",
      "/tmp/ipykernel_81/2510688191.py:18: UserWarning: data/semantic/Screenshot (442).png___fuse.png is a low contrast image\n",
      "  imsave(title+ext,img_resize)\n",
      "Lossy conversion from float64 to uint8. Range [0, 1]. Convert image to uint8 prior to saving to suppress this warning.\n",
      "/tmp/ipykernel_81/2510688191.py:18: UserWarning: data/semantic/night ride (54).png___fuse.png is a low contrast image\n",
      "  imsave(title+ext,img_resize)\n",
      "Lossy conversion from float64 to uint8. Range [0, 1]. Convert image to uint8 prior to saving to suppress this warning.\n",
      "/tmp/ipykernel_81/2510688191.py:18: UserWarning: data/semantic/night ride (23).png___fuse.png is a low contrast image\n",
      "  imsave(title+ext,img_resize)\n",
      "Lossy conversion from float64 to uint8. Range [0, 1]. Convert image to uint8 prior to saving to suppress this warning.\n",
      "/tmp/ipykernel_81/2510688191.py:18: UserWarning: data/semantic/Screenshot (421).png___fuse.png is a low contrast image\n",
      "  imsave(title+ext,img_resize)\n",
      "Lossy conversion from float64 to uint8. Range [0, 1]. Convert image to uint8 prior to saving to suppress this warning.\n",
      "/tmp/ipykernel_81/2510688191.py:18: UserWarning: data/semantic/night ride (75).png___fuse.png is a low contrast image\n",
      "  imsave(title+ext,img_resize)\n",
      "Lossy conversion from float64 to uint8. Range [0, 1]. Convert image to uint8 prior to saving to suppress this warning.\n",
      "/tmp/ipykernel_81/2510688191.py:18: UserWarning: data/semantic/night ride (38).png___fuse.png is a low contrast image\n",
      "  imsave(title+ext,img_resize)\n",
      "Lossy conversion from float64 to uint8. Range [0, 1]. Convert image to uint8 prior to saving to suppress this warning.\n",
      "/tmp/ipykernel_81/2510688191.py:18: UserWarning: data/semantic/Screenshot (325).png___fuse.png is a low contrast image\n",
      "  imsave(title+ext,img_resize)\n",
      "Lossy conversion from float64 to uint8. Range [0, 1]. Convert image to uint8 prior to saving to suppress this warning.\n",
      "/tmp/ipykernel_81/2510688191.py:18: UserWarning: data/semantic/night ride (70).png___fuse.png is a low contrast image\n",
      "  imsave(title+ext,img_resize)\n",
      "Lossy conversion from float64 to uint8. Range [0, 1]. Convert image to uint8 prior to saving to suppress this warning.\n",
      "/tmp/ipykernel_81/2510688191.py:18: UserWarning: data/semantic/Screenshot (435).png___fuse.png is a low contrast image\n",
      "  imsave(title+ext,img_resize)\n",
      "Lossy conversion from float64 to uint8. Range [0, 1]. Convert image to uint8 prior to saving to suppress this warning.\n",
      "/tmp/ipykernel_81/2510688191.py:18: UserWarning: data/semantic/night ride (51).png___fuse.png is a low contrast image\n",
      "  imsave(title+ext,img_resize)\n",
      "Lossy conversion from float64 to uint8. Range [0, 1]. Convert image to uint8 prior to saving to suppress this warning.\n",
      "/tmp/ipykernel_81/2510688191.py:18: UserWarning: data/semantic/Screenshot (406).png___fuse.png is a low contrast image\n",
      "  imsave(title+ext,img_resize)\n",
      "Lossy conversion from float64 to uint8. Range [0, 1]. Convert image to uint8 prior to saving to suppress this warning.\n",
      "/tmp/ipykernel_81/2510688191.py:18: UserWarning: data/semantic/Screenshot (427).png___fuse.png is a low contrast image\n",
      "  imsave(title+ext,img_resize)\n",
      "Lossy conversion from float64 to uint8. Range [0, 1]. Convert image to uint8 prior to saving to suppress this warning.\n",
      "/tmp/ipykernel_81/2510688191.py:18: UserWarning: data/semantic/night ride (20).png___fuse.png is a low contrast image\n",
      "  imsave(title+ext,img_resize)\n",
      "Lossy conversion from float64 to uint8. Range [0, 1]. Convert image to uint8 prior to saving to suppress this warning.\n",
      "/tmp/ipykernel_81/2510688191.py:18: UserWarning: data/semantic/Screenshot (319).png___fuse.png is a low contrast image\n",
      "  imsave(title+ext,img_resize)\n",
      "Lossy conversion from float64 to uint8. Range [0, 1]. Convert image to uint8 prior to saving to suppress this warning.\n",
      "/tmp/ipykernel_81/2510688191.py:18: UserWarning: data/semantic/night ride (9).png___fuse.png is a low contrast image\n",
      "  imsave(title+ext,img_resize)\n",
      "Lossy conversion from float64 to uint8. Range [0, 1]. Convert image to uint8 prior to saving to suppress this warning.\n",
      "/tmp/ipykernel_81/2510688191.py:18: UserWarning: data/semantic/night ride (94).png___fuse.png is a low contrast image\n",
      "  imsave(title+ext,img_resize)\n",
      "Lossy conversion from float64 to uint8. Range [0, 1]. Convert image to uint8 prior to saving to suppress this warning.\n",
      "/tmp/ipykernel_81/2510688191.py:18: UserWarning: data/semantic/night ride (22).png___fuse.png is a low contrast image\n",
      "  imsave(title+ext,img_resize)\n",
      "Lossy conversion from float64 to uint8. Range [0, 1]. Convert image to uint8 prior to saving to suppress this warning.\n",
      "/tmp/ipykernel_81/2510688191.py:18: UserWarning: data/semantic/night ride (16).png___fuse.png is a low contrast image\n",
      "  imsave(title+ext,img_resize)\n",
      "Lossy conversion from float64 to uint8. Range [0, 1]. Convert image to uint8 prior to saving to suppress this warning.\n"
     ]
    },
    {
     "name": "stderr",
     "output_type": "stream",
     "text": [
      "/tmp/ipykernel_81/2510688191.py:18: UserWarning: data/semantic/night ride (87).png___fuse.png is a low contrast image\n",
      "  imsave(title+ext,img_resize)\n",
      "Lossy conversion from float64 to uint8. Range [0, 1]. Convert image to uint8 prior to saving to suppress this warning.\n",
      "/tmp/ipykernel_81/2510688191.py:18: UserWarning: data/semantic/Screenshot (425).png___fuse.png is a low contrast image\n",
      "  imsave(title+ext,img_resize)\n",
      "Lossy conversion from float64 to uint8. Range [0, 1]. Convert image to uint8 prior to saving to suppress this warning.\n",
      "/tmp/ipykernel_81/2510688191.py:18: UserWarning: data/semantic/Screenshot (443).png___fuse.png is a low contrast image\n",
      "  imsave(title+ext,img_resize)\n",
      "Lossy conversion from float64 to uint8. Range [0, 1]. Convert image to uint8 prior to saving to suppress this warning.\n",
      "/tmp/ipykernel_81/2510688191.py:18: UserWarning: data/semantic/night ride (39).png___fuse.png is a low contrast image\n",
      "  imsave(title+ext,img_resize)\n",
      "Lossy conversion from float64 to uint8. Range [0, 1]. Convert image to uint8 prior to saving to suppress this warning.\n",
      "/tmp/ipykernel_81/2510688191.py:18: UserWarning: data/semantic/night ride (30).png___fuse.png is a low contrast image\n",
      "  imsave(title+ext,img_resize)\n",
      "Lossy conversion from float64 to uint8. Range [0, 1]. Convert image to uint8 prior to saving to suppress this warning.\n",
      "/tmp/ipykernel_81/2510688191.py:18: UserWarning: data/semantic/night ride (82).png___fuse.png is a low contrast image\n",
      "  imsave(title+ext,img_resize)\n",
      "Lossy conversion from float64 to uint8. Range [0, 1]. Convert image to uint8 prior to saving to suppress this warning.\n",
      "/tmp/ipykernel_81/2510688191.py:18: UserWarning: data/semantic/Screenshot (391).png___fuse.png is a low contrast image\n",
      "  imsave(title+ext,img_resize)\n",
      "Lossy conversion from float64 to uint8. Range [0, 1]. Convert image to uint8 prior to saving to suppress this warning.\n",
      "/tmp/ipykernel_81/2510688191.py:18: UserWarning: data/semantic/Screenshot (438).png___fuse.png is a low contrast image\n",
      "  imsave(title+ext,img_resize)\n",
      "Lossy conversion from float64 to uint8. Range [0, 1]. Convert image to uint8 prior to saving to suppress this warning.\n",
      "/tmp/ipykernel_81/2510688191.py:18: UserWarning: data/semantic/Screenshot (389).png___fuse.png is a low contrast image\n",
      "  imsave(title+ext,img_resize)\n",
      "Lossy conversion from float64 to uint8. Range [0, 1]. Convert image to uint8 prior to saving to suppress this warning.\n",
      "/tmp/ipykernel_81/2510688191.py:18: UserWarning: data/semantic/Screenshot (383).png___fuse.png is a low contrast image\n",
      "  imsave(title+ext,img_resize)\n",
      "Lossy conversion from float64 to uint8. Range [0, 1]. Convert image to uint8 prior to saving to suppress this warning.\n",
      "/tmp/ipykernel_81/2510688191.py:18: UserWarning: data/semantic/Screenshot (357).png___fuse.png is a low contrast image\n",
      "  imsave(title+ext,img_resize)\n",
      "Lossy conversion from float64 to uint8. Range [0, 1]. Convert image to uint8 prior to saving to suppress this warning.\n",
      "/tmp/ipykernel_81/2510688191.py:18: UserWarning: data/semantic/night ride (74).png___fuse.png is a low contrast image\n",
      "  imsave(title+ext,img_resize)\n",
      "Lossy conversion from float64 to uint8. Range [0, 1]. Convert image to uint8 prior to saving to suppress this warning.\n",
      "/tmp/ipykernel_81/2510688191.py:18: UserWarning: data/semantic/Screenshot (371).png___fuse.png is a low contrast image\n",
      "  imsave(title+ext,img_resize)\n",
      "Lossy conversion from float64 to uint8. Range [0, 1]. Convert image to uint8 prior to saving to suppress this warning.\n",
      "/tmp/ipykernel_81/2510688191.py:18: UserWarning: data/semantic/night ride (78).png___fuse.png is a low contrast image\n",
      "  imsave(title+ext,img_resize)\n",
      "Lossy conversion from float64 to uint8. Range [0, 1]. Convert image to uint8 prior to saving to suppress this warning.\n",
      "/tmp/ipykernel_81/2510688191.py:18: UserWarning: data/semantic/night ride (41).png___fuse.png is a low contrast image\n",
      "  imsave(title+ext,img_resize)\n",
      "Lossy conversion from float64 to uint8. Range [0, 1]. Convert image to uint8 prior to saving to suppress this warning.\n",
      "/tmp/ipykernel_81/2510688191.py:18: UserWarning: data/semantic/night ride (25).png___fuse.png is a low contrast image\n",
      "  imsave(title+ext,img_resize)\n",
      "Lossy conversion from float64 to uint8. Range [0, 1]. Convert image to uint8 prior to saving to suppress this warning.\n",
      "/tmp/ipykernel_81/2510688191.py:18: UserWarning: data/semantic/Screenshot (370).png___fuse.png is a low contrast image\n",
      "  imsave(title+ext,img_resize)\n",
      "Lossy conversion from float64 to uint8. Range [0, 1]. Convert image to uint8 prior to saving to suppress this warning.\n",
      "/tmp/ipykernel_81/2510688191.py:18: UserWarning: data/semantic/Screenshot (395).png___fuse.png is a low contrast image\n",
      "  imsave(title+ext,img_resize)\n",
      "Lossy conversion from float64 to uint8. Range [0, 1]. Convert image to uint8 prior to saving to suppress this warning.\n",
      "/tmp/ipykernel_81/2510688191.py:18: UserWarning: data/semantic/Screenshot (440).png___fuse.png is a low contrast image\n",
      "  imsave(title+ext,img_resize)\n",
      "Lossy conversion from float64 to uint8. Range [0, 1]. Convert image to uint8 prior to saving to suppress this warning.\n",
      "/tmp/ipykernel_81/2510688191.py:18: UserWarning: data/semantic/night ride (18).png___fuse.png is a low contrast image\n",
      "  imsave(title+ext,img_resize)\n",
      "Lossy conversion from float64 to uint8. Range [0, 1]. Convert image to uint8 prior to saving to suppress this warning.\n",
      "/tmp/ipykernel_81/2510688191.py:18: UserWarning: data/semantic/Screenshot (358).png___fuse.png is a low contrast image\n",
      "  imsave(title+ext,img_resize)\n",
      "Lossy conversion from float64 to uint8. Range [0, 1]. Convert image to uint8 prior to saving to suppress this warning.\n",
      "/tmp/ipykernel_81/2510688191.py:18: UserWarning: data/semantic/night ride (96).png___fuse.png is a low contrast image\n",
      "  imsave(title+ext,img_resize)\n",
      "Lossy conversion from float64 to uint8. Range [0, 1]. Convert image to uint8 prior to saving to suppress this warning.\n",
      "/tmp/ipykernel_81/2510688191.py:18: UserWarning: data/semantic/Screenshot (409).png___fuse.png is a low contrast image\n",
      "  imsave(title+ext,img_resize)\n",
      "Lossy conversion from float64 to uint8. Range [0, 1]. Convert image to uint8 prior to saving to suppress this warning.\n",
      "/tmp/ipykernel_81/2510688191.py:18: UserWarning: data/semantic/Screenshot (404).png___fuse.png is a low contrast image\n",
      "  imsave(title+ext,img_resize)\n",
      "Lossy conversion from float64 to uint8. Range [0, 1]. Convert image to uint8 prior to saving to suppress this warning.\n",
      "/tmp/ipykernel_81/2510688191.py:18: UserWarning: data/semantic/night ride (37).png___fuse.png is a low contrast image\n",
      "  imsave(title+ext,img_resize)\n",
      "Lossy conversion from float64 to uint8. Range [0, 1]. Convert image to uint8 prior to saving to suppress this warning.\n",
      "/tmp/ipykernel_81/2510688191.py:18: UserWarning: data/semantic/night ride (81).png___fuse.png is a low contrast image\n",
      "  imsave(title+ext,img_resize)\n",
      "Lossy conversion from float64 to uint8. Range [0, 1]. Convert image to uint8 prior to saving to suppress this warning.\n",
      "/tmp/ipykernel_81/2510688191.py:18: UserWarning: data/semantic/night ride (85).png___fuse.png is a low contrast image\n",
      "  imsave(title+ext,img_resize)\n",
      "Lossy conversion from float64 to uint8. Range [0, 1]. Convert image to uint8 prior to saving to suppress this warning.\n",
      "/tmp/ipykernel_81/2510688191.py:18: UserWarning: data/semantic/night ride (88).png___fuse.png is a low contrast image\n",
      "  imsave(title+ext,img_resize)\n",
      "Lossy conversion from float64 to uint8. Range [0, 1]. Convert image to uint8 prior to saving to suppress this warning.\n",
      "/tmp/ipykernel_81/2510688191.py:18: UserWarning: data/semantic/night ride (35).png___fuse.png is a low contrast image\n",
      "  imsave(title+ext,img_resize)\n",
      "Lossy conversion from float64 to uint8. Range [0, 1]. Convert image to uint8 prior to saving to suppress this warning.\n",
      "/tmp/ipykernel_81/2510688191.py:18: UserWarning: data/semantic/night ride (45).png___fuse.png is a low contrast image\n",
      "  imsave(title+ext,img_resize)\n",
      "Lossy conversion from float64 to uint8. Range [0, 1]. Convert image to uint8 prior to saving to suppress this warning.\n",
      "/tmp/ipykernel_81/2510688191.py:18: UserWarning: data/semantic/Screenshot (405).png___fuse.png is a low contrast image\n",
      "  imsave(title+ext,img_resize)\n",
      "Lossy conversion from float64 to uint8. Range [0, 1]. Convert image to uint8 prior to saving to suppress this warning.\n"
     ]
    },
    {
     "name": "stderr",
     "output_type": "stream",
     "text": [
      "/tmp/ipykernel_81/2510688191.py:18: UserWarning: data/semantic/night ride (29).png___fuse.png is a low contrast image\n",
      "  imsave(title+ext,img_resize)\n",
      "Lossy conversion from float64 to uint8. Range [0, 1]. Convert image to uint8 prior to saving to suppress this warning.\n",
      "/tmp/ipykernel_81/2510688191.py:18: UserWarning: data/semantic/Screenshot (387).png___fuse.png is a low contrast image\n",
      "  imsave(title+ext,img_resize)\n",
      "Lossy conversion from float64 to uint8. Range [0, 1]. Convert image to uint8 prior to saving to suppress this warning.\n",
      "/tmp/ipykernel_81/2510688191.py:18: UserWarning: data/semantic/night ride (42).png___fuse.png is a low contrast image\n",
      "  imsave(title+ext,img_resize)\n",
      "Lossy conversion from float64 to uint8. Range [0, 1]. Convert image to uint8 prior to saving to suppress this warning.\n",
      "/tmp/ipykernel_81/2510688191.py:18: UserWarning: data/semantic/Screenshot (376).png___fuse.png is a low contrast image\n",
      "  imsave(title+ext,img_resize)\n",
      "Lossy conversion from float64 to uint8. Range [0, 1]. Convert image to uint8 prior to saving to suppress this warning.\n",
      "/tmp/ipykernel_81/2510688191.py:18: UserWarning: data/semantic/night ride (48).png___fuse.png is a low contrast image\n",
      "  imsave(title+ext,img_resize)\n",
      "Lossy conversion from float64 to uint8. Range [0, 1]. Convert image to uint8 prior to saving to suppress this warning.\n",
      "/tmp/ipykernel_81/2510688191.py:18: UserWarning: data/semantic/Screenshot (413).png___fuse.png is a low contrast image\n",
      "  imsave(title+ext,img_resize)\n",
      "Lossy conversion from float64 to uint8. Range [0, 1]. Convert image to uint8 prior to saving to suppress this warning.\n",
      "/tmp/ipykernel_81/2510688191.py:18: UserWarning: data/semantic/night ride (92).png___fuse.png is a low contrast image\n",
      "  imsave(title+ext,img_resize)\n",
      "Lossy conversion from float64 to uint8. Range [0, 1]. Convert image to uint8 prior to saving to suppress this warning.\n",
      "/tmp/ipykernel_81/2510688191.py:18: UserWarning: data/semantic/Screenshot (324).png___fuse.png is a low contrast image\n",
      "  imsave(title+ext,img_resize)\n",
      "Lossy conversion from float64 to uint8. Range [0, 1]. Convert image to uint8 prior to saving to suppress this warning.\n",
      "/tmp/ipykernel_81/2510688191.py:18: UserWarning: data/semantic/Screenshot (386).png___fuse.png is a low contrast image\n",
      "  imsave(title+ext,img_resize)\n",
      "Lossy conversion from float64 to uint8. Range [0, 1]. Convert image to uint8 prior to saving to suppress this warning.\n",
      "/tmp/ipykernel_81/2510688191.py:18: UserWarning: data/semantic/Screenshot (429).png.png___fuse.png is a low contrast image\n",
      "  imsave(title+ext,img_resize)\n",
      "Lossy conversion from float64 to uint8. Range [0, 1]. Convert image to uint8 prior to saving to suppress this warning.\n",
      "/tmp/ipykernel_81/2510688191.py:18: UserWarning: data/semantic/Screenshot (418).png___fuse.png is a low contrast image\n",
      "  imsave(title+ext,img_resize)\n",
      "Lossy conversion from float64 to uint8. Range [0, 1]. Convert image to uint8 prior to saving to suppress this warning.\n",
      "/tmp/ipykernel_81/2510688191.py:18: UserWarning: data/semantic/Screenshot (385).png___fuse.png is a low contrast image\n",
      "  imsave(title+ext,img_resize)\n",
      "Lossy conversion from float64 to uint8. Range [0, 1]. Convert image to uint8 prior to saving to suppress this warning.\n",
      "/tmp/ipykernel_81/2510688191.py:18: UserWarning: data/semantic/Screenshot (374).png___fuse.png is a low contrast image\n",
      "  imsave(title+ext,img_resize)\n",
      "Lossy conversion from float64 to uint8. Range [0, 1]. Convert image to uint8 prior to saving to suppress this warning.\n",
      "Lossy conversion from float64 to uint8. Range [0, 1]. Convert image to uint8 prior to saving to suppress this warning.\n",
      "/tmp/ipykernel_81/2510688191.py:18: UserWarning: data/semantic/night ride (68).png___fuse.png is a low contrast image\n",
      "  imsave(title+ext,img_resize)\n",
      "Lossy conversion from float64 to uint8. Range [0, 1]. Convert image to uint8 prior to saving to suppress this warning.\n",
      "/tmp/ipykernel_81/2510688191.py:18: UserWarning: data/semantic/night ride (12).png___fuse.png is a low contrast image\n",
      "  imsave(title+ext,img_resize)\n",
      "Lossy conversion from float64 to uint8. Range [0, 1]. Convert image to uint8 prior to saving to suppress this warning.\n",
      "/tmp/ipykernel_81/2510688191.py:18: UserWarning: data/semantic/Screenshot (419).png___fuse.png is a low contrast image\n",
      "  imsave(title+ext,img_resize)\n",
      "Lossy conversion from float64 to uint8. Range [0, 1]. Convert image to uint8 prior to saving to suppress this warning.\n",
      "/tmp/ipykernel_81/2510688191.py:18: UserWarning: data/semantic/Screenshot (366).png___fuse.png is a low contrast image\n",
      "  imsave(title+ext,img_resize)\n",
      "Lossy conversion from float64 to uint8. Range [0, 1]. Convert image to uint8 prior to saving to suppress this warning.\n",
      "/tmp/ipykernel_81/2510688191.py:18: UserWarning: data/semantic/night ride (53).png___fuse.png is a low contrast image\n",
      "  imsave(title+ext,img_resize)\n",
      "Lossy conversion from float64 to uint8. Range [0, 1]. Convert image to uint8 prior to saving to suppress this warning.\n",
      "/tmp/ipykernel_81/2510688191.py:18: UserWarning: data/semantic/Screenshot (397).png___fuse.png is a low contrast image\n",
      "  imsave(title+ext,img_resize)\n",
      "Lossy conversion from float64 to uint8. Range [0, 1]. Convert image to uint8 prior to saving to suppress this warning.\n",
      "/tmp/ipykernel_81/2510688191.py:18: UserWarning: data/semantic/Screenshot (375).png___fuse.png is a low contrast image\n",
      "  imsave(title+ext,img_resize)\n",
      "Lossy conversion from float64 to uint8. Range [0, 1]. Convert image to uint8 prior to saving to suppress this warning.\n",
      "/tmp/ipykernel_81/2510688191.py:18: UserWarning: data/semantic/Screenshot (398).png___fuse.png is a low contrast image\n",
      "  imsave(title+ext,img_resize)\n",
      "Lossy conversion from float64 to uint8. Range [0, 1]. Convert image to uint8 prior to saving to suppress this warning.\n",
      "/tmp/ipykernel_81/2510688191.py:18: UserWarning: data/semantic/Screenshot (445).png___fuse.png is a low contrast image\n",
      "  imsave(title+ext,img_resize)\n",
      "Lossy conversion from float64 to uint8. Range [0, 1]. Convert image to uint8 prior to saving to suppress this warning.\n",
      "/tmp/ipykernel_81/2510688191.py:18: UserWarning: data/semantic/night ride (56).png___fuse.png is a low contrast image\n",
      "  imsave(title+ext,img_resize)\n",
      "Lossy conversion from float64 to uint8. Range [0, 1]. Convert image to uint8 prior to saving to suppress this warning.\n",
      "/tmp/ipykernel_81/2510688191.py:18: UserWarning: data/semantic/Screenshot (380).png___fuse.png is a low contrast image\n",
      "  imsave(title+ext,img_resize)\n",
      "Lossy conversion from float64 to uint8. Range [0, 1]. Convert image to uint8 prior to saving to suppress this warning.\n",
      "/tmp/ipykernel_81/2510688191.py:18: UserWarning: data/semantic/Screenshot (354).png___fuse.png is a low contrast image\n",
      "  imsave(title+ext,img_resize)\n",
      "Lossy conversion from float64 to uint8. Range [0, 1]. Convert image to uint8 prior to saving to suppress this warning.\n",
      "/tmp/ipykernel_81/2510688191.py:18: UserWarning: data/semantic/night ride (72).png___fuse.png is a low contrast image\n",
      "  imsave(title+ext,img_resize)\n",
      "Lossy conversion from float64 to uint8. Range [0, 1]. Convert image to uint8 prior to saving to suppress this warning.\n",
      "/tmp/ipykernel_81/2510688191.py:18: UserWarning: data/semantic/Screenshot (403).png___fuse.png is a low contrast image\n",
      "  imsave(title+ext,img_resize)\n",
      "Lossy conversion from float64 to uint8. Range [0, 1]. Convert image to uint8 prior to saving to suppress this warning.\n",
      "/tmp/ipykernel_81/2510688191.py:18: UserWarning: data/semantic/Screenshot (428).png___fuse.png is a low contrast image\n",
      "  imsave(title+ext,img_resize)\n",
      "Lossy conversion from float64 to uint8. Range [0, 1]. Convert image to uint8 prior to saving to suppress this warning.\n",
      "/tmp/ipykernel_81/2510688191.py:18: UserWarning: data/semantic/Screenshot (314).png___fuse.png is a low contrast image\n",
      "  imsave(title+ext,img_resize)\n",
      "Lossy conversion from float64 to uint8. Range [0, 1]. Convert image to uint8 prior to saving to suppress this warning.\n",
      "/tmp/ipykernel_81/2510688191.py:18: UserWarning: data/semantic/night ride (49).png___fuse.png is a low contrast image\n",
      "  imsave(title+ext,img_resize)\n",
      "Lossy conversion from float64 to uint8. Range [0, 1]. Convert image to uint8 prior to saving to suppress this warning.\n",
      "/tmp/ipykernel_81/2510688191.py:18: UserWarning: data/semantic/night ride (34).png___fuse.png is a low contrast image\n",
      "  imsave(title+ext,img_resize)\n",
      "Lossy conversion from float64 to uint8. Range [0, 1]. Convert image to uint8 prior to saving to suppress this warning.\n"
     ]
    },
    {
     "name": "stderr",
     "output_type": "stream",
     "text": [
      "/tmp/ipykernel_81/2510688191.py:18: UserWarning: data/semantic/night ride (93).png___fuse.png is a low contrast image\n",
      "  imsave(title+ext,img_resize)\n",
      "Lossy conversion from float64 to uint8. Range [0, 1]. Convert image to uint8 prior to saving to suppress this warning.\n",
      "/tmp/ipykernel_81/2510688191.py:18: UserWarning: data/semantic/Screenshot (411).png___fuse.png is a low contrast image\n",
      "  imsave(title+ext,img_resize)\n",
      "Lossy conversion from float64 to uint8. Range [0, 1]. Convert image to uint8 prior to saving to suppress this warning.\n",
      "/tmp/ipykernel_81/2510688191.py:18: UserWarning: data/semantic/night ride (58).png___fuse.png is a low contrast image\n",
      "  imsave(title+ext,img_resize)\n",
      "Lossy conversion from float64 to uint8. Range [0, 1]. Convert image to uint8 prior to saving to suppress this warning.\n",
      "/tmp/ipykernel_81/2510688191.py:18: UserWarning: data/semantic/Screenshot (424).png___fuse.png is a low contrast image\n",
      "  imsave(title+ext,img_resize)\n",
      "Lossy conversion from float64 to uint8. Range [0, 1]. Convert image to uint8 prior to saving to suppress this warning.\n",
      "/tmp/ipykernel_81/2510688191.py:18: UserWarning: data/semantic/Screenshot (390).png___fuse.png is a low contrast image\n",
      "  imsave(title+ext,img_resize)\n",
      "Lossy conversion from float64 to uint8. Range [0, 1]. Convert image to uint8 prior to saving to suppress this warning.\n",
      "/tmp/ipykernel_81/2510688191.py:18: UserWarning: data/semantic/night ride (28).png___fuse.png is a low contrast image\n",
      "  imsave(title+ext,img_resize)\n",
      "Lossy conversion from float64 to uint8. Range [0, 1]. Convert image to uint8 prior to saving to suppress this warning.\n",
      "/tmp/ipykernel_81/2510688191.py:18: UserWarning: data/semantic/Screenshot (368).png___fuse.png is a low contrast image\n",
      "  imsave(title+ext,img_resize)\n",
      "Lossy conversion from float64 to uint8. Range [0, 1]. Convert image to uint8 prior to saving to suppress this warning.\n",
      "/tmp/ipykernel_81/2510688191.py:18: UserWarning: data/semantic/Screenshot (393).png___fuse.png is a low contrast image\n",
      "  imsave(title+ext,img_resize)\n",
      "Lossy conversion from float64 to uint8. Range [0, 1]. Convert image to uint8 prior to saving to suppress this warning.\n",
      "/tmp/ipykernel_81/2510688191.py:18: UserWarning: data/semantic/Screenshot (377).png___fuse.png is a low contrast image\n",
      "  imsave(title+ext,img_resize)\n",
      "Lossy conversion from float64 to uint8. Range [0, 1]. Convert image to uint8 prior to saving to suppress this warning.\n",
      "/tmp/ipykernel_81/2510688191.py:18: UserWarning: data/semantic/night ride (64).png___fuse.png is a low contrast image\n",
      "  imsave(title+ext,img_resize)\n",
      "Lossy conversion from float64 to uint8. Range [0, 1]. Convert image to uint8 prior to saving to suppress this warning.\n",
      "/tmp/ipykernel_81/2510688191.py:18: UserWarning: data/semantic/Screenshot (312).png___fuse.png is a low contrast image\n",
      "  imsave(title+ext,img_resize)\n",
      "Lossy conversion from float64 to uint8. Range [0, 1]. Convert image to uint8 prior to saving to suppress this warning.\n",
      "/tmp/ipykernel_81/2510688191.py:18: UserWarning: data/semantic/Screenshot (447).png___fuse.png is a low contrast image\n",
      "  imsave(title+ext,img_resize)\n",
      "Lossy conversion from float64 to uint8. Range [0, 1]. Convert image to uint8 prior to saving to suppress this warning.\n",
      "/tmp/ipykernel_81/2510688191.py:18: UserWarning: data/semantic/Screenshot (450).png___fuse.png is a low contrast image\n",
      "  imsave(title+ext,img_resize)\n",
      "Lossy conversion from float64 to uint8. Range [0, 1]. Convert image to uint8 prior to saving to suppress this warning.\n",
      "/tmp/ipykernel_81/2510688191.py:18: UserWarning: data/semantic/Screenshot (381).png___fuse.png is a low contrast image\n",
      "  imsave(title+ext,img_resize)\n",
      "Lossy conversion from float64 to uint8. Range [0, 1]. Convert image to uint8 prior to saving to suppress this warning.\n",
      "/tmp/ipykernel_81/2510688191.py:18: UserWarning: data/semantic/night ride (24).png___fuse.png is a low contrast image\n",
      "  imsave(title+ext,img_resize)\n",
      "Lossy conversion from float64 to uint8. Range [0, 1]. Convert image to uint8 prior to saving to suppress this warning.\n",
      "/tmp/ipykernel_81/2510688191.py:18: UserWarning: data/semantic/Screenshot (422).png___fuse.png is a low contrast image\n",
      "  imsave(title+ext,img_resize)\n",
      "Lossy conversion from float64 to uint8. Range [0, 1]. Convert image to uint8 prior to saving to suppress this warning.\n",
      "/tmp/ipykernel_81/2510688191.py:18: UserWarning: data/semantic/Screenshot (353).png___fuse.png is a low contrast image\n",
      "  imsave(title+ext,img_resize)\n",
      "Lossy conversion from float64 to uint8. Range [0, 1]. Convert image to uint8 prior to saving to suppress this warning.\n",
      "/tmp/ipykernel_81/2510688191.py:18: UserWarning: data/semantic/Screenshot (432).png___fuse.png is a low contrast image\n",
      "  imsave(title+ext,img_resize)\n",
      "Lossy conversion from float64 to uint8. Range [0, 1]. Convert image to uint8 prior to saving to suppress this warning.\n",
      "/tmp/ipykernel_81/2510688191.py:18: UserWarning: data/semantic/night ride (65).png___fuse.png is a low contrast image\n",
      "  imsave(title+ext,img_resize)\n",
      "Lossy conversion from float64 to uint8. Range [0, 1]. Convert image to uint8 prior to saving to suppress this warning.\n",
      "/tmp/ipykernel_81/2510688191.py:18: UserWarning: data/semantic/night ride (44).png___fuse.png is a low contrast image\n",
      "  imsave(title+ext,img_resize)\n",
      "Lossy conversion from float64 to uint8. Range [0, 1]. Convert image to uint8 prior to saving to suppress this warning.\n",
      "/tmp/ipykernel_81/2510688191.py:18: UserWarning: data/semantic/Screenshot (367).png___fuse.png is a low contrast image\n",
      "  imsave(title+ext,img_resize)\n",
      "Lossy conversion from float64 to uint8. Range [0, 1]. Convert image to uint8 prior to saving to suppress this warning.\n",
      "/tmp/ipykernel_81/2510688191.py:18: UserWarning: data/semantic/night ride (13).png___fuse.png is a low contrast image\n",
      "  imsave(title+ext,img_resize)\n",
      "Lossy conversion from float64 to uint8. Range [0, 1]. Convert image to uint8 prior to saving to suppress this warning.\n",
      "/tmp/ipykernel_81/2510688191.py:18: UserWarning: data/semantic/night ride (63).png___fuse.png is a low contrast image\n",
      "  imsave(title+ext,img_resize)\n",
      "Lossy conversion from float64 to uint8. Range [0, 1]. Convert image to uint8 prior to saving to suppress this warning.\n",
      "/tmp/ipykernel_81/2510688191.py:18: UserWarning: data/semantic/night ride (36).png___fuse.png is a low contrast image\n",
      "  imsave(title+ext,img_resize)\n",
      "Lossy conversion from float64 to uint8. Range [0, 1]. Convert image to uint8 prior to saving to suppress this warning.\n",
      "/tmp/ipykernel_81/2510688191.py:18: UserWarning: data/semantic/night ride (31).png___fuse.png is a low contrast image\n",
      "  imsave(title+ext,img_resize)\n",
      "Lossy conversion from float64 to uint8. Range [0, 1]. Convert image to uint8 prior to saving to suppress this warning.\n",
      "/tmp/ipykernel_81/2510688191.py:18: UserWarning: data/semantic/night ride (86).png___fuse.png is a low contrast image\n",
      "  imsave(title+ext,img_resize)\n",
      "Lossy conversion from float64 to uint8. Range [0, 1]. Convert image to uint8 prior to saving to suppress this warning.\n",
      "/tmp/ipykernel_81/2510688191.py:18: UserWarning: data/semantic/night ride (73).png___fuse.png is a low contrast image\n",
      "  imsave(title+ext,img_resize)\n",
      "Lossy conversion from float64 to uint8. Range [0, 1]. Convert image to uint8 prior to saving to suppress this warning.\n",
      "/tmp/ipykernel_81/2510688191.py:18: UserWarning: data/semantic/night ride (79).png___fuse.png is a low contrast image\n",
      "  imsave(title+ext,img_resize)\n",
      "Lossy conversion from float64 to uint8. Range [0, 1]. Convert image to uint8 prior to saving to suppress this warning.\n",
      "/tmp/ipykernel_81/2510688191.py:18: UserWarning: data/semantic/Screenshot (448).png___fuse.png is a low contrast image\n",
      "  imsave(title+ext,img_resize)\n",
      "Lossy conversion from float64 to uint8. Range [0, 1]. Convert image to uint8 prior to saving to suppress this warning.\n",
      "/tmp/ipykernel_81/2510688191.py:18: UserWarning: data/semantic/Screenshot (412).png___fuse.png is a low contrast image\n",
      "  imsave(title+ext,img_resize)\n",
      "Lossy conversion from float64 to uint8. Range [0, 1]. Convert image to uint8 prior to saving to suppress this warning.\n",
      "/tmp/ipykernel_81/2510688191.py:18: UserWarning: data/semantic/Screenshot (373).png___fuse.png is a low contrast image\n",
      "  imsave(title+ext,img_resize)\n",
      "Lossy conversion from float64 to uint8. Range [0, 1]. Convert image to uint8 prior to saving to suppress this warning.\n"
     ]
    },
    {
     "name": "stderr",
     "output_type": "stream",
     "text": [
      "/tmp/ipykernel_81/2510688191.py:18: UserWarning: data/semantic/Screenshot (364).png___fuse.png is a low contrast image\n",
      "  imsave(title+ext,img_resize)\n",
      "Lossy conversion from float64 to uint8. Range [0, 1]. Convert image to uint8 prior to saving to suppress this warning.\n",
      "/tmp/ipykernel_81/2510688191.py:18: UserWarning: data/semantic/night ride (17).png___fuse.png is a low contrast image\n",
      "  imsave(title+ext,img_resize)\n",
      "Lossy conversion from float64 to uint8. Range [0, 1]. Convert image to uint8 prior to saving to suppress this warning.\n",
      "/tmp/ipykernel_81/2510688191.py:18: UserWarning: data/semantic/night ride (77).png___fuse.png is a low contrast image\n",
      "  imsave(title+ext,img_resize)\n",
      "Lossy conversion from float64 to uint8. Range [0, 1]. Convert image to uint8 prior to saving to suppress this warning.\n",
      "/tmp/ipykernel_81/2510688191.py:18: UserWarning: data/semantic/Screenshot (407).png___fuse.png is a low contrast image\n",
      "  imsave(title+ext,img_resize)\n",
      "Lossy conversion from float64 to uint8. Range [0, 1]. Convert image to uint8 prior to saving to suppress this warning.\n",
      "/tmp/ipykernel_81/2510688191.py:18: UserWarning: data/semantic/Screenshot (326).png___fuse.png is a low contrast image\n",
      "  imsave(title+ext,img_resize)\n",
      "Lossy conversion from float64 to uint8. Range [0, 1]. Convert image to uint8 prior to saving to suppress this warning.\n",
      "/tmp/ipykernel_81/2510688191.py:18: UserWarning: data/semantic/Screenshot (434).png___fuse.png is a low contrast image\n",
      "  imsave(title+ext,img_resize)\n",
      "Lossy conversion from float64 to uint8. Range [0, 1]. Convert image to uint8 prior to saving to suppress this warning.\n",
      "/tmp/ipykernel_81/2510688191.py:18: UserWarning: data/semantic/Screenshot (361).png___fuse.png is a low contrast image\n",
      "  imsave(title+ext,img_resize)\n",
      "Lossy conversion from float64 to uint8. Range [0, 1]. Convert image to uint8 prior to saving to suppress this warning.\n",
      "/tmp/ipykernel_81/2510688191.py:18: UserWarning: data/semantic/Screenshot (309).png___fuse.png is a low contrast image\n",
      "  imsave(title+ext,img_resize)\n",
      "Lossy conversion from float64 to uint8. Range [0, 1]. Convert image to uint8 prior to saving to suppress this warning.\n",
      "/tmp/ipykernel_81/2510688191.py:18: UserWarning: data/semantic/night ride (15).png___fuse.png is a low contrast image\n",
      "  imsave(title+ext,img_resize)\n",
      "Lossy conversion from float64 to uint8. Range [0, 1]. Convert image to uint8 prior to saving to suppress this warning.\n",
      "/tmp/ipykernel_81/2510688191.py:18: UserWarning: data/semantic/Screenshot (321).png___fuse.png is a low contrast image\n",
      "  imsave(title+ext,img_resize)\n",
      "Lossy conversion from float64 to uint8. Range [0, 1]. Convert image to uint8 prior to saving to suppress this warning.\n",
      "/tmp/ipykernel_81/2510688191.py:18: UserWarning: data/semantic/Screenshot (369).png___fuse.png is a low contrast image\n",
      "  imsave(title+ext,img_resize)\n",
      "Lossy conversion from float64 to uint8. Range [0, 1]. Convert image to uint8 prior to saving to suppress this warning.\n",
      "/tmp/ipykernel_81/2510688191.py:18: UserWarning: data/semantic/night ride (55).png___fuse.png is a low contrast image\n",
      "  imsave(title+ext,img_resize)\n",
      "Lossy conversion from float64 to uint8. Range [0, 1]. Convert image to uint8 prior to saving to suppress this warning.\n",
      "/tmp/ipykernel_81/2510688191.py:18: UserWarning: data/semantic/night ride (7).png___fuse.png is a low contrast image\n",
      "  imsave(title+ext,img_resize)\n",
      "Lossy conversion from float64 to uint8. Range [0, 1]. Convert image to uint8 prior to saving to suppress this warning.\n",
      "/tmp/ipykernel_81/2510688191.py:18: UserWarning: data/semantic/night ride (59).png___fuse.png is a low contrast image\n",
      "  imsave(title+ext,img_resize)\n",
      "Lossy conversion from float64 to uint8. Range [0, 1]. Convert image to uint8 prior to saving to suppress this warning.\n",
      "/tmp/ipykernel_81/2510688191.py:18: UserWarning: data/semantic/night ride (52).png___fuse.png is a low contrast image\n",
      "  imsave(title+ext,img_resize)\n",
      "Lossy conversion from float64 to uint8. Range [0, 1]. Convert image to uint8 prior to saving to suppress this warning.\n"
     ]
    }
   ],
   "source": [
    "## resize\n",
    "\n",
    "files = glob(data_dir+'/*')\n",
    "for f in files:\n",
    "    title, ext = os.path.splitext(f)\n",
    "    if ext in ['.png']:\n",
    "        img = imread(f)[:3] # alpha 삭제\n",
    "        img_resize = resize(img,(224, 224))\n",
    "        imsave(title+ext,img_resize)\n",
    "        \n",
    "files = glob(label_dir+'/*')\n",
    "for f in files:\n",
    "    title, ext = os.path.splitext(f)\n",
    "    if ext in ['.png']:\n",
    "        img = imread(f)[:3]\n",
    "        img_resize = resize(img,(224, 224))\n",
    "        imsave(title+ext,img_resize)"
   ]
  },
  {
   "cell_type": "code",
   "execution_count": 56,
   "id": "c75bdca9",
   "metadata": {},
   "outputs": [],
   "source": [
    "mask_dir = 'result/GPS-GLASS/PSPNet/'"
   ]
  },
  {
   "cell_type": "code",
   "execution_count": 57,
   "id": "36626290",
   "metadata": {},
   "outputs": [
    {
     "data": {
      "text/plain": [
       "400"
      ]
     },
     "execution_count": 57,
     "metadata": {},
     "output_type": "execute_result"
    }
   ],
   "source": [
    "len(os.listdir(mask_dir))"
   ]
  },
  {
   "cell_type": "code",
   "execution_count": 227,
   "id": "929c1bf7",
   "metadata": {},
   "outputs": [],
   "source": [
    "## 예측 mask 실제 이미지, mask와 확인"
   ]
  },
  {
   "cell_type": "code",
   "execution_count": 73,
   "id": "6bc471d7",
   "metadata": {},
   "outputs": [
    {
     "data": {
      "text/plain": [
       "(200, 200)"
      ]
     },
     "execution_count": 73,
     "metadata": {},
     "output_type": "execute_result"
    }
   ],
   "source": [
    "# integer로 구성된 mask와 RGB color mask 둘다 생성하여 file명 분리 저장\n",
    "color_mask = glob(mask_dir + '*_color.png')\n",
    "integer_mask = [mask_dir+ x for x in os.listdir(mask_dir) if mask_dir + x not in color_mask]\n",
    "\n",
    "len(color_mask), len(integer_mask)"
   ]
  },
  {
   "cell_type": "code",
   "execution_count": 74,
   "id": "d85ae3f6",
   "metadata": {},
   "outputs": [],
   "source": [
    "color_mask.sort()\n",
    "integer_mask.sort()"
   ]
  },
  {
   "cell_type": "code",
   "execution_count": 75,
   "id": "9b1f35f5",
   "metadata": {},
   "outputs": [],
   "source": [
    "data = [ _ for _ in zip(color_mask, integer_mask)]"
   ]
  },
  {
   "cell_type": "code",
   "execution_count": 236,
   "id": "02f2f432",
   "metadata": {},
   "outputs": [],
   "source": [
    "color, integer = data[107]"
   ]
  },
  {
   "cell_type": "code",
   "execution_count": 237,
   "id": "a6cc10df",
   "metadata": {},
   "outputs": [
    {
     "data": {
      "text/plain": [
       "'result/GPS-GLASS/PSPNet/night ride (10)_color.png'"
      ]
     },
     "execution_count": 237,
     "metadata": {},
     "output_type": "execute_result"
    }
   ],
   "source": [
    "color"
   ]
  },
  {
   "cell_type": "code",
   "execution_count": 238,
   "id": "31851ae8",
   "metadata": {},
   "outputs": [
    {
     "data": {
      "text/plain": [
       "'result/GPS-GLASS/PSPNet/night ride (10).png'"
      ]
     },
     "execution_count": 238,
     "metadata": {},
     "output_type": "execute_result"
    }
   ],
   "source": [
    "integer"
   ]
  },
  {
   "cell_type": "code",
   "execution_count": 239,
   "id": "b1f1bf2d",
   "metadata": {},
   "outputs": [],
   "source": [
    "c_mask = imread(color)\n",
    "i_mask = imread(integer)"
   ]
  },
  {
   "cell_type": "code",
   "execution_count": 240,
   "id": "4f698c91",
   "metadata": {},
   "outputs": [
    {
     "data": {
      "image/png": "[encoded data removed]",
      "text/plain": [
       "<Figure size 432x288 with 1 Axes>"
      ]
     },
     "metadata": {
      "needs_background": "light"
     },
     "output_type": "display_data"
    }
   ],
   "source": [
    "imshow(imread(data_dir+f\"/{os.path.splitext(integer)[0].split('/')[-1]}.png\"))\n",
    "show()"
   ]
  },
  {
   "cell_type": "code",
   "execution_count": 252,
   "id": "a5e78dd1",
   "metadata": {},
   "outputs": [
    {
     "data": {
      "text/plain": [
       "'result/GPS-GLASS/PSPNet/night ride (10)__fuse.png'"
      ]
     },
     "execution_count": 252,
     "metadata": {},
     "output_type": "execute_result"
    }
   ],
   "source": [
    "label_dir+f\"/{os.path.splitext(integer)[0].split('/')[-1]}__fuse.png\""
   ]
  },
  {
   "cell_type": "code",
   "execution_count": 254,
   "id": "4348002e",
   "metadata": {},
   "outputs": [
    {
     "data": {
      "image/png": "[encoded data removed]",
      "text/plain": [
       "<Figure size 432x288 with 2 Axes>"
      ]
     },
     "metadata": {
      "needs_background": "light"
     },
     "output_type": "display_data"
    }
   ],
   "source": [
    "imshow(imread(mask_dir+f\"/{os.path.splitext(integer)[0].split('/')[-1]}__fuse.png\"))\n",
    "plt.show()"
   ]
  },
  {
   "cell_type": "code",
   "execution_count": 255,
   "id": "32746835",
   "metadata": {},
   "outputs": [],
   "source": [
    "#실제 예측 mask"
   ]
  },
  {
   "cell_type": "code",
   "execution_count": 242,
   "id": "ba83ea28",
   "metadata": {},
   "outputs": [
    {
     "data": {
      "image/png": "[encoded data removed]",
      "text/plain": [
       "<Figure size 1080x432 with 2 Axes>"
      ]
     },
     "metadata": {
      "needs_background": "light"
     },
     "output_type": "display_data"
    }
   ],
   "source": [
    "plt.figure(figsize = (15,6))\n",
    "plt.subplot(1, 2, 1)\n",
    "plt.imshow(c_mask) # color mask\n",
    "plt.subplot(1, 2, 2)\n",
    "plt.imshow(i_mask) # integer mask\n",
    "plt.show()"
   ]
  },
  {
   "cell_type": "code",
   "execution_count": 226,
   "id": "e3567f2d",
   "metadata": {},
   "outputs": [],
   "source": [
    "# 단편적인 결과만 확인했을 떄는 좀더 segmentation 성능이 좋은 것으로 생각됨"
   ]
  },
  {
   "cell_type": "code",
   "execution_count": 183,
   "id": "fba1d8c3",
   "metadata": {},
   "outputs": [
    {
     "name": "stdout",
     "output_type": "stream",
     "text": [
      "16  added\n"
     ]
    }
   ],
   "source": [
    "# color와 interger 에 대한 연결 정보가 없어 임의의 몇 데이터를 통하여 integer2color로 연결되는 dictionary 생성\n",
    "for n in range(100):\n",
    "    color, integer = data[n]\n",
    "    c_mask = imread(color)\n",
    "    i_mask = imread(integer)\n",
    "    # int2label = dict()\n",
    "    unique_labels = np.unique(i_mask)\n",
    "    for label in unique_labels:\n",
    "        if label in int2label.keys(): \n",
    "            continue\n",
    "\n",
    "        print(label,' added')\n",
    "        int2label[label] = tuple(c_mask[i_mask == label][0][:3])\n",
    "    #     print(tuple(c_mask[i_mask == label][0][:3]))\n",
    "    #     break\n",
    "    if len(int2label) == 19:\n",
    "        break"
   ]
  },
  {
   "cell_type": "code",
   "execution_count": 186,
   "id": "74c93bb5",
   "metadata": {},
   "outputs": [
    {
     "data": {
      "text/plain": [
       "{(128, 64, 128): 0,\n",
       " (244, 35, 232): 1,\n",
       " (70, 70, 70): 2,\n",
       " (102, 102, 156): 3,\n",
       " (190, 153, 153): 4,\n",
       " (153, 153, 153): 5,\n",
       " (250, 170, 30): 6,\n",
       " (220, 220, 0): 7,\n",
       " (107, 142, 35): 8,\n",
       " (152, 251, 152): 9,\n",
       " (70, 130, 180): 10,\n",
       " (220, 20, 60): 11,\n",
       " (255, 0, 0): 12,\n",
       " (0, 0, 142): 13,\n",
       " (0, 0, 70): 14,\n",
       " (0, 0, 230): 17,\n",
       " (119, 11, 32): 18,\n",
       " (0, 60, 100): 15,\n",
       " (0, 80, 100): 16}"
      ]
     },
     "execution_count": 186,
     "metadata": {},
     "output_type": "execute_result"
    }
   ],
   "source": [
    "label2int = {v:k for k, v in int2label.items()}\n",
    "label2int"
   ]
  },
  {
   "cell_type": "code",
   "execution_count": 187,
   "id": "9719dd5f",
   "metadata": {},
   "outputs": [
    {
     "data": {
      "text/plain": [
       "{(57, 234, 92): 0,\n",
       " (65, 117, 6): 1,\n",
       " (74, 144, 226): 2,\n",
       " (155, 155, 155): 3,\n",
       " (245, 166, 35): 4,\n",
       " (248, 231, 28): 5}"
      ]
     },
     "execution_count": 187,
     "metadata": {},
     "output_type": "execute_result"
    }
   ],
   "source": [
    "# segformer에서 사용한 colormap->id(class)\n",
    "seg_color2id = {v:k for k, v in seg_id2colors.items()}\n",
    "seg_color2id"
   ]
  },
  {
   "cell_type": "code",
   "execution_count": 192,
   "id": "e231f324",
   "metadata": {},
   "outputs": [
    {
     "data": {
      "text/plain": [
       "['My bike', 'Lanemark']"
      ]
     },
     "execution_count": 192,
     "metadata": {},
     "output_type": "execute_result"
    }
   ],
   "source": [
    "[seg_id2label[x] for x in [2,5,]] \n",
    "# 2가지 정보에 대한 데이터 없음\n",
    "# my bike라고 특정되어 있어 motocycle class에 적용시키지 않음"
   ]
  },
  {
   "cell_type": "code",
   "execution_count": 190,
   "id": "d069a704",
   "metadata": {},
   "outputs": [
    {
     "data": {
      "text/plain": [
       "{0: 3,\n",
       " 1: 0,\n",
       " 2: 4,\n",
       " 3: 4,\n",
       " 4: 4,\n",
       " 5: 4,\n",
       " 6: 4,\n",
       " 7: 4,\n",
       " 8: 4,\n",
       " 9: 4,\n",
       " 10: 4,\n",
       " 11: 0,\n",
       " 12: 1,\n",
       " 13: 0,\n",
       " 14: 0,\n",
       " 15: 0,\n",
       " 16: 0,\n",
       " 17: 0,\n",
       " 18: 0}"
      ]
     },
     "execution_count": 190,
     "metadata": {},
     "output_type": "execute_result"
    }
   ],
   "source": [
    "# 위에서 작성했었던 label, class_id, colormap 정보를 종합하여 class id 전환을 위한 dictionary 생성\n",
    "color_transfer = {label2color[key] :class_colors[label2id[translabel[key]]] for key in label2color.keys()}\n",
    "color_transfer = {label2int[k]: seg_color2id[v] for k,v in color_transfer.items()}\n",
    "color_transfer"
   ]
  },
  {
   "cell_type": "code",
   "execution_count": null,
   "id": "517ad8e6",
   "metadata": {},
   "outputs": [],
   "source": [
    "# task dataset에 맞춘 mask 생성"
   ]
  },
  {
   "cell_type": "code",
   "execution_count": 193,
   "id": "895c3e6b",
   "metadata": {},
   "outputs": [],
   "source": [
    "def apply_color_transfer(value): # 일괄적용을 위한 함수 작성\n",
    "    return color_transfer.get(value, value)"
   ]
  },
  {
   "cell_type": "code",
   "execution_count": 194,
   "id": "ba848c6d",
   "metadata": {},
   "outputs": [
    {
     "data": {
      "image/png": "[encoded data removed]",
      "text/plain": [
       "<Figure size 432x288 with 1 Axes>"
      ]
     },
     "metadata": {
      "needs_background": "light"
     },
     "output_type": "display_data"
    }
   ],
   "source": [
    "transformed_mask = np.vectorize(apply_color_transfer)(i_mask)\n",
    "plt.imshow(transformed_mask) # 예측 mask\n",
    "plt.show()"
   ]
  },
  {
   "cell_type": "code",
   "execution_count": 200,
   "id": "53123cfb",
   "metadata": {},
   "outputs": [],
   "source": [
    "mask = imread(label_dir+f\"/{os.path.splitext(data[8][1])[0].split('/')[-1]}.png___fuse.png\")"
   ]
  },
  {
   "cell_type": "code",
   "execution_count": 208,
   "id": "332bf9a8",
   "metadata": {},
   "outputs": [
    {
     "data": {
      "image/png": "[encoded data removed]",
      "text/plain": [
       "<Figure size 432x288 with 2 Axes>"
      ]
     },
     "metadata": {
      "needs_background": "light"
     },
     "output_type": "display_data"
    }
   ],
   "source": [
    "def convert_mask(mask_4d, seg_color2id = seg_color2id): \n",
    "    h, w, _ = mask_4d.shape\n",
    "    mask_2d = np.zeros((h, w), dtype=np.uint8)\n",
    "    for i in range(h):\n",
    "        for j in range(w):\n",
    "            rgb = tuple(mask_4d[i, j, :3])\n",
    "            class_id = seg_color2id.get(rgb, 0)  # 255는 unknown을 나타냄\n",
    "            mask_2d[i, j] = class_id\n",
    "    return mask_2d\n",
    "imshow(convert_mask(mask))\n",
    "plt.show()"
   ]
  },
  {
   "cell_type": "code",
   "execution_count": 217,
   "id": "3c4f5c4b",
   "metadata": {},
   "outputs": [],
   "source": [
    "import warnings\n",
    "from tqdm import tqdm\n",
    "\n",
    "# 경고 메시지 무시 설정\n",
    "warnings.simplefilter(\"ignore\", category=UserWarning)"
   ]
  },
  {
   "cell_type": "code",
   "execution_count": 219,
   "id": "03500c3a",
   "metadata": {},
   "outputs": [],
   "source": [
    "def convert_mask_png(image_path, seg_color2id):\n",
    "    image = Image.open(image_path)\n",
    "    mask_4d = np.array(image)\n",
    "    h, w, _ = mask_4d.shape\n",
    "    mask_2d = np.zeros((h, w), dtype=np.uint8)\n",
    "    for i in range(h):\n",
    "        for j in range(w):\n",
    "            rgb = tuple(mask_4d[i, j, :3])\n",
    "            class_id = seg_color2id.get(rgb, 0)  # 255는 unknown을 나타냄\n",
    "            mask_2d[i, j] = class_id\n",
    "    return Image.fromarray(mask_2d.astype(np.uint8))"
   ]
  },
  {
   "cell_type": "code",
   "execution_count": 220,
   "id": "1a22d7a7",
   "metadata": {},
   "outputs": [
    {
     "name": "stderr",
     "output_type": "stream",
     "text": [
      "100%|██████████| 200/200 [39:54<00:00, 11.97s/it]\n"
     ]
    }
   ],
   "source": [
    "# label_dir 디렉토리 내의 모든 파일에 대해 작업 수행\n",
    "for filename in tqdm(os.listdir(label_dir)):\n",
    "    if filename.endswith(\".png\"):  # 파일 확장자가 .png인 경우에만 처리\n",
    "        input_path = os.path.join(label_dir, filename)\n",
    "        output_path = os.path.join(label_dir, filename.replace(\".png_\", \"\"))\n",
    "        \n",
    "        mask_2d = convert_mask_png(input_path, seg_color2id)\n",
    "        \n",
    "        mask_2d.save(output_path)"
   ]
  },
  {
   "cell_type": "code",
   "execution_count": 223,
   "id": "d06400c2",
   "metadata": {},
   "outputs": [],
   "source": [
    "import cv2"
   ]
  },
  {
   "cell_type": "code",
   "execution_count": 221,
   "id": "04058301",
   "metadata": {},
   "outputs": [],
   "source": [
    "def apply_color_transfer_to_image(image):\n",
    "    transformed_image = np.vectorize(apply_color_transfer)(image)\n",
    "    return transformed_image"
   ]
  },
  {
   "cell_type": "code",
   "execution_count": 224,
   "id": "abbffffa",
   "metadata": {},
   "outputs": [
    {
     "name": "stderr",
     "output_type": "stream",
     "text": [
      "100%|██████████| 200/200 [10:36<00:00,  3.18s/it]\n"
     ]
    }
   ],
   "source": [
    "# integer mask 값 변환을 일괄적으로 진행\n",
    "for filename in tqdm(integer_mask):\n",
    "    if filename.endswith(\".png\"):\n",
    "        # 이미지 파일 읽어오기\n",
    "        image = cv2.imread(filename, cv2.IMREAD_UNCHANGED)\n",
    "        \n",
    "        # 변환 적용\n",
    "        transformed_image = apply_color_transfer_to_image(image)\n",
    "        \n",
    "        # 변환된 이미지 저장\n",
    "        output_path = filename.replace('.png','_sf.png')\n",
    "        cv2.imwrite(output_path, transformed_image)\n",
    "#         print(f\"Processed: {filename}\")"
   ]
  },
  {
   "cell_type": "code",
   "execution_count": 228,
   "id": "45d9995e",
   "metadata": {},
   "outputs": [],
   "source": [
    "# calculate_miou_for_rider.py 작성하여 계산을 ipynb외의 코드로 수행"
   ]
  },
  {
   "cell_type": "code",
   "execution_count": 229,
   "id": "3a057aef",
   "metadata": {},
   "outputs": [],
   "source": [
    "# 디렉토리 경로\n",
    "mask_dir = \"data/semantic\"\n",
    "label_dir = \"result/GPS-GLASS/PSPNet\"\n",
    "\n",
    "# 파일 목록 가져오기\n",
    "mask_files = sorted([f for f in os.listdir(mask_dir) if '.png_' not in f])\n",
    "label_files = sorted([f for f in os.listdir(label_dir) if f.endswith(\"_sf.png\")])"
   ]
  },
  {
   "cell_type": "code",
   "execution_count": 230,
   "id": "bdcd4813",
   "metadata": {},
   "outputs": [],
   "source": [
    "pixel_acc = []"
   ]
  },
  {
   "cell_type": "code",
   "execution_count": 233,
   "id": "51f965bf",
   "metadata": {},
   "outputs": [
    {
     "name": "stderr",
     "output_type": "stream",
     "text": [
      "198it [00:06, 29.38it/s]\n"
     ]
    }
   ],
   "source": [
    "# 이미지 파일 별로 처리\n",
    "for mask_file, label_file in tqdm(zip(mask_files, label_files)):\n",
    "    mask_path = os.path.join(mask_dir, mask_file)\n",
    "    label_path = os.path.join(label_dir, label_file)\n",
    "    \n",
    "    # 이미지 파일 불러오기\n",
    "    mask = np.array(Image.open(mask_path))\n",
    "    label = np.array(Image.open(label_path))\n",
    "    \n",
    "    # 정확하게 예측된 픽셀 수 계산\n",
    "    accurate_pixels = np.sum(label == mask)\n",
    "\n",
    "    # 전체 픽셀 수\n",
    "    total_pixels = mask.shape[0] * mask.shape[1]\n",
    "\n",
    "    # 픽셀 정확도 계산\n",
    "    pixel_accuracy = accurate_pixels / total_pixels\n",
    "    \n",
    "    pixel_acc.append(pixel_accuracy)"
   ]
  },
  {
   "cell_type": "code",
   "execution_count": 235,
   "id": "2d82623f",
   "metadata": {},
   "outputs": [
    {
     "data": {
      "text/plain": [
       "(0.5778240399753709, 0.10737709733288785)"
      ]
     },
     "execution_count": 235,
     "metadata": {},
     "output_type": "execute_result"
    }
   ],
   "source": [
    "np.mean(pixel_acc),np.std(pixel_acc)"
   ]
  },
  {
   "cell_type": "markdown",
   "id": "24c19a1f",
   "metadata": {},
   "source": [
    "<center><b> mIOU 계산 결과 </b></centter>\n",
    "\n",
    "|Class |IOUs|\n",
    "|:--|--:|\n",
    "|Movable| 0.0832|\n",
    "|Rider| 0.1418|\n",
    "|My bike| 0.0000|\n",
    "|Road| 0.4670|\n",
    "|Undrivable| 0.7668|\n",
    "|Lanemark| 0.0000|\n",
    "|**mIOU**|**0.2432**|\n",
    "\n",
    "\n",
    "<center> 데이터가 없던 my bike와 lanemark를 빼게 된다면, 0.459 정도의 mIOU가 도출됨 </centter>\n",
    "<center> 생각보다 성능이 낮았지만 데이터가 없던 부분에서 깎인 것이 꽤 크다고 판담됨 </centter>\n",
    "<center> SegFormer b5과 유사한 정도가 되지 않았을까 예상 </centter>"
   ]
  },
  {
   "cell_type": "code",
   "execution_count": null,
   "id": "e198b206",
   "metadata": {},
   "outputs": [],
   "source": []
  }
 ],
 "metadata": {
  "kernelspec": {
   "display_name": "Python 3 (ipykernel)",
   "language": "python",
   "name": "python3"
  },
  "language_info": {
   "codemirror_mode": {
    "name": "ipython",
    "version": 3
   },
   "file_extension": ".py",
   "mimetype": "text/x-python",
   "name": "python",
   "nbconvert_exporter": "python",
   "pygments_lexer": "ipython3",
   "version": "3.9.7"
  }
 },
 "nbformat": 4,
 "nbformat_minor": 5
}
