{
 "cells": [
  {
   "cell_type": "markdown",
   "id": "63e82a15",
   "metadata": {},
   "source": [
    "# Flow(홍수정님)"
   ]
  },
  {
   "cell_type": "markdown",
   "id": "786ed521",
   "metadata": {},
   "source": [
    "![image](drawio.jpg)"
   ]
  },
  {
   "cell_type": "markdown",
   "id": "eb951f32",
   "metadata": {},
   "source": [
    "## Import\n"
   ]
  },
  {
   "cell_type": "code",
   "execution_count": 1,
   "id": "477ff7e2",
   "metadata": {},
   "outputs": [
    {
     "name": "stderr",
     "output_type": "stream",
     "text": [
      "[nltk_data] Downloading package stopwords to /aiffel/nltk_data...\n",
      "[nltk_data]   Package stopwords is already up-to-date!\n",
      "[nltk_data] Downloading package stopwords to /aiffel/nltk_data...\n",
      "[nltk_data]   Package stopwords is already up-to-date!\n"
     ]
    },
    {
     "data": {
      "text/plain": [
       "True"
      ]
     },
     "execution_count": 1,
     "metadata": {},
     "output_type": "execute_result"
    }
   ],
   "source": [
    "from importlib.metadata import version\n",
    "import nltk\n",
    "import tensorflow\n",
    "import summa\n",
    "import pandas as pd\n",
    "\n",
    "import urllib.request\n",
    "\n",
    "nltk.download('stopwords')\n",
    "\n",
    "import numpy as np\n",
    "import os\n",
    "import re\n",
    "import matplotlib.pyplot as plt\n",
    "from nltk.corpus import stopwords\n",
    "from bs4 import BeautifulSoup \n",
    "from tensorflow.keras.preprocessing.text import Tokenizer \n",
    "from tensorflow.keras.preprocessing.sequence import pad_sequences\n",
    "import urllib.request\n",
    "import warnings\n",
    "warnings.filterwarnings(\"ignore\", category=UserWarning, module='bs4')\n",
    "\n",
    "nltk.download('stopwords')"
   ]
  },
  {
   "cell_type": "markdown",
   "id": "06f0fbb3",
   "metadata": {},
   "source": [
    "# Step 1. 데이터 수집하기"
   ]
  },
  {
   "cell_type": "markdown",
   "id": "2e84fd91",
   "metadata": {},
   "source": [
    "## Data Load"
   ]
  },
  {
   "cell_type": "markdown",
   "id": "8f6cbe2c",
   "metadata": {},
   "source": [
    "- 추상적 요약을 하는 경우에는 text를 본문, headlines를 이미 요약된 데이터로 삼아서 모델을 학습할 수 있어요. \n",
    "- 추출적 요약을 하는 경우에는 오직 text열만을 사용하세요"
   ]
  },
  {
   "cell_type": "code",
   "execution_count": 5,
   "id": "5b96e421",
   "metadata": {},
   "outputs": [],
   "source": [
    "#urllib.request.urlretrieve(\"https://raw.githubusercontent.com/sunnysai12345/News_Summary/master/news_summary_more.csv\", filename=\"news_summary_more.csv\")\n",
    "data = pd.read_csv('data/news_summary_more.csv', encoding='iso-8859-1')"
   ]
  },
  {
   "cell_type": "code",
   "execution_count": 6,
   "id": "d3dd8232",
   "metadata": {},
   "outputs": [
    {
     "data": {
      "text/html": [
       "<div>\n",
       "<style scoped>\n",
       "    .dataframe tbody tr th:only-of-type {\n",
       "        vertical-align: middle;\n",
       "    }\n",
       "\n",
       "    .dataframe tbody tr th {\n",
       "        vertical-align: top;\n",
       "    }\n",
       "\n",
       "    .dataframe thead th {\n",
       "        text-align: right;\n",
       "    }\n",
       "</style>\n",
       "<table border=\"1\" class=\"dataframe\">\n",
       "  <thead>\n",
       "    <tr style=\"text-align: right;\">\n",
       "      <th></th>\n",
       "      <th>headlines</th>\n",
       "      <th>text</th>\n",
       "    </tr>\n",
       "  </thead>\n",
       "  <tbody>\n",
       "    <tr>\n",
       "      <th>0</th>\n",
       "      <td>upGrad learner switches to career in ML &amp; Al w...</td>\n",
       "      <td>Saurav Kant, an alumnus of upGrad and IIIT-B's...</td>\n",
       "    </tr>\n",
       "    <tr>\n",
       "      <th>1</th>\n",
       "      <td>Delhi techie wins free food from Swiggy for on...</td>\n",
       "      <td>Kunal Shah's credit card bill payment platform...</td>\n",
       "    </tr>\n",
       "    <tr>\n",
       "      <th>2</th>\n",
       "      <td>New Zealand end Rohit Sharma-led India's 12-ma...</td>\n",
       "      <td>New Zealand defeated India by 8 wickets in the...</td>\n",
       "    </tr>\n",
       "    <tr>\n",
       "      <th>3</th>\n",
       "      <td>Aegon life iTerm insurance plan helps customer...</td>\n",
       "      <td>With Aegon Life iTerm Insurance plan, customer...</td>\n",
       "    </tr>\n",
       "    <tr>\n",
       "      <th>4</th>\n",
       "      <td>Have known Hirani for yrs, what if MeToo claim...</td>\n",
       "      <td>Speaking about the sexual harassment allegatio...</td>\n",
       "    </tr>\n",
       "  </tbody>\n",
       "</table>\n",
       "</div>"
      ],
      "text/plain": [
       "                                           headlines  \\\n",
       "0  upGrad learner switches to career in ML & Al w...   \n",
       "1  Delhi techie wins free food from Swiggy for on...   \n",
       "2  New Zealand end Rohit Sharma-led India's 12-ma...   \n",
       "3  Aegon life iTerm insurance plan helps customer...   \n",
       "4  Have known Hirani for yrs, what if MeToo claim...   \n",
       "\n",
       "                                                text  \n",
       "0  Saurav Kant, an alumnus of upGrad and IIIT-B's...  \n",
       "1  Kunal Shah's credit card bill payment platform...  \n",
       "2  New Zealand defeated India by 8 wickets in the...  \n",
       "3  With Aegon Life iTerm Insurance plan, customer...  \n",
       "4  Speaking about the sexual harassment allegatio...  "
      ]
     },
     "execution_count": 6,
     "metadata": {},
     "output_type": "execute_result"
    }
   ],
   "source": [
    "data.head()"
   ]
  },
  {
   "cell_type": "code",
   "execution_count": 7,
   "id": "7bc05c88",
   "metadata": {},
   "outputs": [
    {
     "name": "stdout",
     "output_type": "stream",
     "text": [
      "전체 샘플수 : 98401\n"
     ]
    }
   ],
   "source": [
    "print('전체 샘플수 :', (len(data)))"
   ]
  },
  {
   "cell_type": "markdown",
   "id": "a18198fc",
   "metadata": {},
   "source": [
    "# Step 2. 데이터 전처리하기 (추상적 요약)\n",
    "\n",
    "실습에서 사용된 전처리를 참고하여 각자 필요하다고 생각하는 전처리를 추가 사용하여 텍스트를 정규화 또는 정제해 보세요. 만약, 불용어 제거를 선택한다면 상대적으로 길이가 짧은 요약 데이터에 대해서도 불용어를 제거하는 것이 좋을지 고민해 보세요."
   ]
  },
  {
   "cell_type": "markdown",
   "id": "49b903db",
   "metadata": {},
   "source": [
    "## 2.1) text 중복 제거"
   ]
  },
  {
   "cell_type": "code",
   "execution_count": 8,
   "id": "a0c7aa0d",
   "metadata": {},
   "outputs": [
    {
     "name": "stdout",
     "output_type": "stream",
     "text": [
      "Text 열에서 중복을 배제한 유일한 샘플의 수 : 98360\n",
      "Summary 열에서 중복을 배제한 유일한 샘플의 수 : 98280\n"
     ]
    }
   ],
   "source": [
    "print('Text 열에서 중복을 배제한 유일한 샘플의 수 :', data['text'].nunique())\n",
    "print('Summary 열에서 중복을 배제한 유일한 샘플의 수 :', data['headlines'].nunique())"
   ]
  },
  {
   "cell_type": "code",
   "execution_count": 9,
   "id": "bba0af42",
   "metadata": {},
   "outputs": [
    {
     "name": "stdout",
     "output_type": "stream",
     "text": [
      "전체 샘플수 : 98360\n"
     ]
    }
   ],
   "source": [
    "# text 중복제거\n",
    "data.drop_duplicates(subset = ['text'], inplace=True)\n",
    "print('전체 샘플수 :', (len(data)))"
   ]
  },
  {
   "cell_type": "markdown",
   "id": "943da24d",
   "metadata": {},
   "source": [
    "## 2.2) 결측치 제거"
   ]
  },
  {
   "cell_type": "code",
   "execution_count": 10,
   "id": "239f9bd6",
   "metadata": {},
   "outputs": [
    {
     "name": "stdout",
     "output_type": "stream",
     "text": [
      "headlines    0\n",
      "text         0\n",
      "dtype: int64\n"
     ]
    }
   ],
   "source": [
    "# 결측치 확인\n",
    "print(data.isnull().sum())"
   ]
  },
  {
   "cell_type": "code",
   "execution_count": 11,
   "id": "2478ecfd",
   "metadata": {},
   "outputs": [
    {
     "name": "stdout",
     "output_type": "stream",
     "text": [
      "전체 샘플수 : 98360\n"
     ]
    }
   ],
   "source": [
    "# 결측치 제거\n",
    "data.dropna(axis=0, inplace=True)\n",
    "print('전체 샘플수 :', (len(data)))"
   ]
  },
  {
   "cell_type": "markdown",
   "id": "8d486ba4",
   "metadata": {},
   "source": [
    "## 2.3) 텍스트 정규화와 불용어 제거"
   ]
  },
  {
   "cell_type": "markdown",
   "id": "91a371e9",
   "metadata": {},
   "source": [
    "- ex) \n",
    "    - it'll -> it will\n",
    "    - mustn't -> must not"
   ]
  },
  {
   "cell_type": "code",
   "execution_count": 1,
   "id": "84a3d444",
   "metadata": {
    "collapsed": true
   },
   "outputs": [
    {
     "name": "stdout",
     "output_type": "stream",
     "text": [
      "정규화 사전의 수:  120\n"
     ]
    },
    {
     "ename": "NameError",
     "evalue": "name 'stopwords' is not defined",
     "output_type": "error",
     "traceback": [
      "\u001b[0;31m---------------------------------------------------------------------------\u001b[0m",
      "\u001b[0;31mNameError\u001b[0m                                 Traceback (most recent call last)",
      "\u001b[0;32m/tmp/ipykernel_31/1573965459.py\u001b[0m in \u001b[0;36m<module>\u001b[0;34m\u001b[0m\n\u001b[1;32m     24\u001b[0m \u001b[0;34m\u001b[0m\u001b[0m\n\u001b[1;32m     25\u001b[0m \u001b[0mprint\u001b[0m\u001b[0;34m(\u001b[0m\u001b[0;34m\"정규화 사전의 수: \"\u001b[0m\u001b[0;34m,\u001b[0m \u001b[0mlen\u001b[0m\u001b[0;34m(\u001b[0m\u001b[0mcontractions\u001b[0m\u001b[0;34m)\u001b[0m\u001b[0;34m)\u001b[0m\u001b[0;34m\u001b[0m\u001b[0;34m\u001b[0m\u001b[0m\n\u001b[0;32m---> 26\u001b[0;31m \u001b[0mprint\u001b[0m\u001b[0;34m(\u001b[0m\u001b[0;34m'불용어 개수 :'\u001b[0m\u001b[0;34m,\u001b[0m \u001b[0mlen\u001b[0m\u001b[0;34m(\u001b[0m\u001b[0mstopwords\u001b[0m\u001b[0;34m.\u001b[0m\u001b[0mwords\u001b[0m\u001b[0;34m(\u001b[0m\u001b[0;34m'english'\u001b[0m\u001b[0;34m)\u001b[0m \u001b[0;34m)\u001b[0m\u001b[0;34m)\u001b[0m\u001b[0;34m\u001b[0m\u001b[0;34m\u001b[0m\u001b[0m\n\u001b[0m",
      "\u001b[0;31mNameError\u001b[0m: name 'stopwords' is not defined"
     ]
    }
   ],
   "source": [
    "contractions = {\"ain't\": \"is not\", \"aren't\": \"are not\",\"can't\": \"cannot\", \"'cause\": \"because\", \"could've\": \"could have\", \"couldn't\": \"could not\",\n",
    "                           \"didn't\": \"did not\",  \"doesn't\": \"does not\", \"don't\": \"do not\", \"hadn't\": \"had not\", \"hasn't\": \"has not\", \"haven't\": \"have not\",\n",
    "                           \"he'd\": \"he would\",\"he'll\": \"he will\", \"he's\": \"he is\", \"how'd\": \"how did\", \"how'd'y\": \"how do you\", \"how'll\": \"how will\", \"how's\": \"how is\",\n",
    "                           \"I'd\": \"I would\", \"I'd've\": \"I would have\", \"I'll\": \"I will\", \"I'll've\": \"I will have\",\"I'm\": \"I am\", \"I've\": \"I have\", \"i'd\": \"i would\",\n",
    "                           \"i'd've\": \"i would have\", \"i'll\": \"i will\",  \"i'll've\": \"i will have\",\"i'm\": \"i am\", \"i've\": \"i have\", \"isn't\": \"is not\", \"it'd\": \"it would\",\n",
    "                           \"it'd've\": \"it would have\", \"it'll\": \"it will\", \"it'll've\": \"it will have\",\"it's\": \"it is\", \"let's\": \"let us\", \"ma'am\": \"madam\",\n",
    "                           \"mayn't\": \"may not\", \"might've\": \"might have\",\"mightn't\": \"might not\",\"mightn't've\": \"might not have\", \"must've\": \"must have\",\n",
    "                           \"mustn't\": \"must not\", \"mustn't've\": \"must not have\", \"needn't\": \"need not\", \"needn't've\": \"need not have\",\"o'clock\": \"of the clock\",\n",
    "                           \"oughtn't\": \"ought not\", \"oughtn't've\": \"ought not have\", \"shan't\": \"shall not\", \"sha'n't\": \"shall not\", \"shan't've\": \"shall not have\",\n",
    "                           \"she'd\": \"she would\", \"she'd've\": \"she would have\", \"she'll\": \"she will\", \"she'll've\": \"she will have\", \"she's\": \"she is\",\n",
    "                           \"should've\": \"should have\", \"shouldn't\": \"should not\", \"shouldn't've\": \"should not have\", \"so've\": \"so have\",\"so's\": \"so as\",\n",
    "                           \"this's\": \"this is\",\"that'd\": \"that would\", \"that'd've\": \"that would have\", \"that's\": \"that is\", \"there'd\": \"there would\",\n",
    "                           \"there'd've\": \"there would have\", \"there's\": \"there is\", \"here's\": \"here is\",\"they'd\": \"they would\", \"they'd've\": \"they would have\",\n",
    "                           \"they'll\": \"they will\", \"they'll've\": \"they will have\", \"they're\": \"they are\", \"they've\": \"they have\", \"to've\": \"to have\",\n",
    "                           \"wasn't\": \"was not\", \"we'd\": \"we would\", \"we'd've\": \"we would have\", \"we'll\": \"we will\", \"we'll've\": \"we will have\", \"we're\": \"we are\",\n",
    "                           \"we've\": \"we have\", \"weren't\": \"were not\", \"what'll\": \"what will\", \"what'll've\": \"what will have\", \"what're\": \"what are\",\n",
    "                           \"what's\": \"what is\", \"what've\": \"what have\", \"when's\": \"when is\", \"when've\": \"when have\", \"where'd\": \"where did\", \"where's\": \"where is\",\n",
    "                           \"where've\": \"where have\", \"who'll\": \"who will\", \"who'll've\": \"who will have\", \"who's\": \"who is\", \"who've\": \"who have\",\n",
    "                           \"why's\": \"why is\", \"why've\": \"why have\", \"will've\": \"will have\", \"won't\": \"will not\", \"won't've\": \"will not have\",\n",
    "                           \"would've\": \"would have\", \"wouldn't\": \"would not\", \"wouldn't've\": \"would not have\", \"y'all\": \"you all\",\n",
    "                           \"y'all'd\": \"you all would\",\"y'all'd've\": \"you all would have\",\"y'all're\": \"you all are\",\"y'all've\": \"you all have\",\n",
    "                           \"you'd\": \"you would\", \"you'd've\": \"you would have\", \"you'll\": \"you will\", \"you'll've\": \"you will have\",\n",
    "                           \"you're\": \"you are\", \"you've\": \"you have\"}\n",
    "\n",
    "print(\"정규화 사전의 수: \", len(contractions))"
   ]
  },
  {
   "cell_type": "code",
   "execution_count": 13,
   "id": "50a78762",
   "metadata": {},
   "outputs": [
    {
     "name": "stdout",
     "output_type": "stream",
     "text": [
      "불용어 개수 : 179\n",
      "['i', 'me', 'my', 'myself', 'we', 'our', 'ours', 'ourselves', 'you', \"you're\", \"you've\", \"you'll\", \"you'd\", 'your', 'yours', 'yourself', 'yourselves', 'he', 'him', 'his', 'himself', 'she', \"she's\", 'her', 'hers', 'herself', 'it', \"it's\", 'its', 'itself', 'they', 'them', 'their', 'theirs', 'themselves', 'what', 'which', 'who', 'whom', 'this', 'that', \"that'll\", 'these', 'those', 'am', 'is', 'are', 'was', 'were', 'be', 'been', 'being', 'have', 'has', 'had', 'having', 'do', 'does', 'did', 'doing', 'a', 'an', 'the', 'and', 'but', 'if', 'or', 'because', 'as', 'until', 'while', 'of', 'at', 'by', 'for', 'with', 'about', 'against', 'between', 'into', 'through', 'during', 'before', 'after', 'above', 'below', 'to', 'from', 'up', 'down', 'in', 'out', 'on', 'off', 'over', 'under', 'again', 'further', 'then', 'once', 'here', 'there', 'when', 'where', 'why', 'how', 'all', 'any', 'both', 'each', 'few', 'more', 'most', 'other', 'some', 'such', 'no', 'nor', 'not', 'only', 'own', 'same', 'so', 'than', 'too', 'very', 's', 't', 'can', 'will', 'just', 'don', \"don't\", 'should', \"should've\", 'now', 'd', 'll', 'm', 'o', 're', 've', 'y', 'ain', 'aren', \"aren't\", 'couldn', \"couldn't\", 'didn', \"didn't\", 'doesn', \"doesn't\", 'hadn', \"hadn't\", 'hasn', \"hasn't\", 'haven', \"haven't\", 'isn', \"isn't\", 'ma', 'mightn', \"mightn't\", 'mustn', \"mustn't\", 'needn', \"needn't\", 'shan', \"shan't\", 'shouldn', \"shouldn't\", 'wasn', \"wasn't\", 'weren', \"weren't\", 'won', \"won't\", 'wouldn', \"wouldn't\"]\n"
     ]
    }
   ],
   "source": [
    "print('불용어 개수 :', len(stopwords.words('english') ))\n",
    "print(stopwords.words('english'))"
   ]
  },
  {
   "cell_type": "code",
   "execution_count": 14,
   "id": "f329b171",
   "metadata": {},
   "outputs": [],
   "source": [
    "# 데이터 전처리 함수\n",
    "def preprocess_sentence(sentence, remove_stopwords=True):\n",
    "    sentence = sentence.lower() # 텍스트 소문자화\n",
    "    sentence = BeautifulSoup(sentence, \"lxml\").text # <br />, <a href = ...> 등의 html 태그 제거\n",
    "    sentence = re.sub(r'\\([^)]*\\)', '', sentence) # 괄호로 닫힌 문자열 (...) 제거 Ex) my husband (and myself!) for => my husband for\n",
    "    sentence = re.sub('\"','', sentence) # 쌍따옴표 \" 제거\n",
    "    sentence = ' '.join([contractions[t] if t in contractions else t for t in sentence.split(\" \")]) # 약어 정규화\n",
    "    sentence = re.sub(r\"'s\\b\",\"\", sentence) # 소유격 제거. Ex) roland's -> roland\n",
    "    sentence = re.sub(\"[^a-zA-Z]\", \" \", sentence) # 영어 외 문자(숫자, 특수문자 등) 공백으로 변환\n",
    "    sentence = re.sub('[m]{2,}', 'mm', sentence) # m이 3개 이상이면 2개로 변경. Ex) ummmmmmm yeah -> umm yeah\n",
    "    \n",
    "    # 불용어 제거 (Text)\n",
    "    if remove_stopwords:\n",
    "        tokens = ' '.join(word for word in sentence.split() if not word in stopwords.words('english') if len(word) > 1)\n",
    "    # 불용어 미제거 (Summary)\n",
    "    else:\n",
    "        tokens = ' '.join(word for word in sentence.split() if len(word) > 1)\n",
    "    return tokens"
   ]
  },
  {
   "cell_type": "code",
   "execution_count": 15,
   "id": "388f87c3",
   "metadata": {},
   "outputs": [],
   "source": [
    "data['text'] = data['text'].apply(lambda x : preprocess_sentence(x))"
   ]
  },
  {
   "cell_type": "code",
   "execution_count": 16,
   "id": "26bf7039",
   "metadata": {},
   "outputs": [],
   "source": [
    "data['headlines'] = data['headlines'].apply(lambda x : preprocess_sentence(x,False))"
   ]
  },
  {
   "cell_type": "markdown",
   "id": "e6b37721",
   "metadata": {},
   "source": [
    "## 2.4) '텍스트 정규화와 불용어 제거' 후 결측치 제거"
   ]
  },
  {
   "cell_type": "code",
   "execution_count": 17,
   "id": "1932990b",
   "metadata": {},
   "outputs": [
    {
     "data": {
      "text/plain": [
       "headlines    0\n",
       "text         0\n",
       "dtype: int64"
      ]
     },
     "execution_count": 17,
     "metadata": {},
     "output_type": "execute_result"
    }
   ],
   "source": [
    "# 결측치 확인\n",
    "data.isnull().sum()"
   ]
  },
  {
   "cell_type": "code",
   "execution_count": 18,
   "id": "310d2ef9",
   "metadata": {},
   "outputs": [
    {
     "name": "stdout",
     "output_type": "stream",
     "text": [
      "전체 샘플수 : 98360\n"
     ]
    }
   ],
   "source": [
    "# 결측치 제거\n",
    "data.dropna(axis=0, inplace=True)\n",
    "print('전체 샘플수 :', (len(data)))"
   ]
  },
  {
   "cell_type": "markdown",
   "id": "ad86ac25",
   "metadata": {},
   "source": [
    "## (추가) '전처리 된' 데이터 저장 및 불러오기"
   ]
  },
  {
   "cell_type": "markdown",
   "id": "7bd6cb1d",
   "metadata": {},
   "source": [
    "### 전처리 끝난 데이터 '저장'"
   ]
  },
  {
   "cell_type": "code",
   "execution_count": 21,
   "id": "f47f57c0",
   "metadata": {},
   "outputs": [],
   "source": [
    "# 전처리 끝난 데이터 저장\n",
    "#data.to_csv('data/preprocessed_data.csv')"
   ]
  },
  {
   "cell_type": "markdown",
   "id": "584ae7bc",
   "metadata": {},
   "source": [
    "### 전치리 끝난 데이터 '불러옥이'"
   ]
  },
  {
   "cell_type": "code",
   "execution_count": 2,
   "id": "0f525c35",
   "metadata": {},
   "outputs": [
    {
     "data": {
      "text/html": [
       "<div>\n",
       "<style scoped>\n",
       "    .dataframe tbody tr th:only-of-type {\n",
       "        vertical-align: middle;\n",
       "    }\n",
       "\n",
       "    .dataframe tbody tr th {\n",
       "        vertical-align: top;\n",
       "    }\n",
       "\n",
       "    .dataframe thead th {\n",
       "        text-align: right;\n",
       "    }\n",
       "</style>\n",
       "<table border=\"1\" class=\"dataframe\">\n",
       "  <thead>\n",
       "    <tr style=\"text-align: right;\">\n",
       "      <th></th>\n",
       "      <th>Unnamed: 0</th>\n",
       "      <th>headlines</th>\n",
       "      <th>text</th>\n",
       "    </tr>\n",
       "  </thead>\n",
       "  <tbody>\n",
       "    <tr>\n",
       "      <th>0</th>\n",
       "      <td>0</td>\n",
       "      <td>upgrad learner switches to career in ml al wit...</td>\n",
       "      <td>saurav kant alumnus upgrad iiit pg program mac...</td>\n",
       "    </tr>\n",
       "    <tr>\n",
       "      <th>1</th>\n",
       "      <td>1</td>\n",
       "      <td>delhi techie wins free food from swiggy for on...</td>\n",
       "      <td>kunal shah credit card bill payment platform c...</td>\n",
       "    </tr>\n",
       "    <tr>\n",
       "      <th>2</th>\n",
       "      <td>2</td>\n",
       "      <td>new zealand end rohit sharma led india match w...</td>\n",
       "      <td>new zealand defeated india wickets fourth odi ...</td>\n",
       "    </tr>\n",
       "    <tr>\n",
       "      <th>3</th>\n",
       "      <td>3</td>\n",
       "      <td>aegon life iterm insurance plan helps customer...</td>\n",
       "      <td>aegon life iterm insurance plan customers enjo...</td>\n",
       "    </tr>\n",
       "    <tr>\n",
       "      <th>4</th>\n",
       "      <td>4</td>\n",
       "      <td>have known hirani for yrs what if metoo claims...</td>\n",
       "      <td>speaking sexual harassment allegations rajkuma...</td>\n",
       "    </tr>\n",
       "  </tbody>\n",
       "</table>\n",
       "</div>"
      ],
      "text/plain": [
       "   Unnamed: 0                                          headlines  \\\n",
       "0           0  upgrad learner switches to career in ml al wit...   \n",
       "1           1  delhi techie wins free food from swiggy for on...   \n",
       "2           2  new zealand end rohit sharma led india match w...   \n",
       "3           3  aegon life iterm insurance plan helps customer...   \n",
       "4           4  have known hirani for yrs what if metoo claims...   \n",
       "\n",
       "                                                text  \n",
       "0  saurav kant alumnus upgrad iiit pg program mac...  \n",
       "1  kunal shah credit card bill payment platform c...  \n",
       "2  new zealand defeated india wickets fourth odi ...  \n",
       "3  aegon life iterm insurance plan customers enjo...  \n",
       "4  speaking sexual harassment allegations rajkuma...  "
      ]
     },
     "execution_count": 2,
     "metadata": {},
     "output_type": "execute_result"
    }
   ],
   "source": [
    "# 전처리 끝난 데이터 불러오기\n",
    "data = pd.read_csv(os.path.join('data', 'preprocessed_data.csv'))\n",
    "data.head()"
   ]
  },
  {
   "cell_type": "markdown",
   "id": "9bc966a5",
   "metadata": {},
   "source": [
    "## 2.5) 샘플 최대 길이 정하기"
   ]
  },
  {
   "cell_type": "code",
   "execution_count": 3,
   "id": "6e293417",
   "metadata": {},
   "outputs": [
    {
     "name": "stdout",
     "output_type": "stream",
     "text": [
      "텍스트의 최소 길이 : 1\n",
      "텍스트의 최대 길이 : 60\n",
      "텍스트의 평균 길이 : 35.09968483123221\n",
      "요약의 최소 길이 : 1\n",
      "요약의 최대 길이 : 16\n",
      "요약의 평균 길이 : 9.299532330215534\n"
     ]
    },
    {
     "data": {
      "image/png": "[encoded data removed]",
      "text/plain": [
       "<Figure size 432x288 with 2 Axes>"
      ]
     },
     "metadata": {
      "needs_background": "light"
     },
     "output_type": "display_data"
    },
    {
     "data": {
      "image/png": "[encoded data removed]",
      "text/plain": [
       "<Figure size 432x288 with 1 Axes>"
      ]
     },
     "metadata": {
      "needs_background": "light"
     },
     "output_type": "display_data"
    },
    {
     "data": {
      "image/png": "[encoded data removed]",
      "text/plain": [
       "<Figure size 432x288 with 1 Axes>"
      ]
     },
     "metadata": {
      "needs_background": "light"
     },
     "output_type": "display_data"
    }
   ],
   "source": [
    "# 샘플의 최대 길이 정하기\n",
    "\n",
    "# 길이 분포 출력\n",
    "import matplotlib.pyplot as plt\n",
    "\n",
    "text_len = [len(s.split()) for s in data['text']]\n",
    "summary_len = [len(s.split()) for s in data['headlines']]\n",
    "\n",
    "print('텍스트의 최소 길이 : {}'.format(np.min(text_len)))\n",
    "print('텍스트의 최대 길이 : {}'.format(np.max(text_len)))\n",
    "print('텍스트의 평균 길이 : {}'.format(np.mean(text_len)))\n",
    "print('요약의 최소 길이 : {}'.format(np.min(summary_len)))\n",
    "print('요약의 최대 길이 : {}'.format(np.max(summary_len)))\n",
    "print('요약의 평균 길이 : {}'.format(np.mean(summary_len)))\n",
    "\n",
    "plt.subplot(1,2,1)\n",
    "plt.boxplot(text_len)\n",
    "plt.title('Text')\n",
    "plt.subplot(1,2,2)\n",
    "plt.boxplot(summary_len)\n",
    "plt.title('Summary')\n",
    "plt.tight_layout()\n",
    "plt.show()\n",
    "\n",
    "plt.title('Text')\n",
    "plt.hist(text_len, bins = 40)\n",
    "plt.xlabel('length of samples')\n",
    "plt.ylabel('number of samples')\n",
    "plt.show()\n",
    "\n",
    "plt.title('Summary')\n",
    "plt.hist(summary_len, bins = 40)\n",
    "plt.xlabel('length of samples')\n",
    "plt.ylabel('number of samples')\n",
    "plt.show()"
   ]
  },
  {
   "cell_type": "code",
   "execution_count": 4,
   "id": "6860774e",
   "metadata": {},
   "outputs": [],
   "source": [
    "# 길이 지정\n",
    "text_max_len = 50\n",
    "summary_max_len = 14"
   ]
  },
  {
   "cell_type": "code",
   "execution_count": 5,
   "id": "06f0e799",
   "metadata": {},
   "outputs": [
    {
     "name": "stdout",
     "output_type": "stream",
     "text": [
      "전체 샘플 중 길이가 50 이하인 샘플의 비율: 99.98576657177715\n",
      "전체 샘플 중 길이가 14 이하인 샘플의 비율: 99.97763318422123\n"
     ]
    }
   ],
   "source": [
    "def below_threshold_len(max_len, nested_list):\n",
    "  cnt = 0\n",
    "  for s in nested_list:\n",
    "    if(len(s.split()) <= max_len):\n",
    "        cnt = cnt + 1\n",
    "  print('전체 샘플 중 길이가 %s 이하인 샘플의 비율: %s'%(max_len, (cnt / len(nested_list)*100)))\n",
    "\n",
    "below_threshold_len(text_max_len, data['text'])\n",
    "below_threshold_len(summary_max_len,  data['headlines'])"
   ]
  },
  {
   "cell_type": "markdown",
   "id": "18c1accc",
   "metadata": {},
   "source": [
    "## 2.6) 샘플 최대 길이 넘는 행 제거"
   ]
  },
  {
   "cell_type": "code",
   "execution_count": 6,
   "id": "72c6861c",
   "metadata": {},
   "outputs": [
    {
     "name": "stdout",
     "output_type": "stream",
     "text": [
      "전체 샘플수 : 98324\n"
     ]
    }
   ],
   "source": [
    "# 샘플 길이 안넘는 애들만 살리기\n",
    "# 샘플 길이를 넘으면 사용안함\n",
    "# text_max_len = 50\n",
    "# summary_max_len = 14\n",
    "def check_length(row):\n",
    "    text_len = len(row['text'].split())\n",
    "    summary_len = len(row['headlines'].split())\n",
    "    return text_len <= text_max_len and summary_len <= summary_max_len\n",
    "\n",
    "# apply 함수와 lambda 식을 사용하여 조건에 맞는 샘플만 남기기\n",
    "data = data[data.apply(lambda row: check_length(row), axis=1)]\n",
    "\n",
    "# 결과 출력\n",
    "print('전체 샘플수 :', (len(data)))"
   ]
  },
  {
   "cell_type": "markdown",
   "id": "db13eb0f",
   "metadata": {},
   "source": [
    "## 2.7) (디코더) 시작, 종료 토큰 추가"
   ]
  },
  {
   "cell_type": "code",
   "execution_count": 7,
   "id": "a97bb9f4",
   "metadata": {},
   "outputs": [
    {
     "data": {
      "text/html": [
       "<div>\n",
       "<style scoped>\n",
       "    .dataframe tbody tr th:only-of-type {\n",
       "        vertical-align: middle;\n",
       "    }\n",
       "\n",
       "    .dataframe tbody tr th {\n",
       "        vertical-align: top;\n",
       "    }\n",
       "\n",
       "    .dataframe thead th {\n",
       "        text-align: right;\n",
       "    }\n",
       "</style>\n",
       "<table border=\"1\" class=\"dataframe\">\n",
       "  <thead>\n",
       "    <tr style=\"text-align: right;\">\n",
       "      <th></th>\n",
       "      <th>Unnamed: 0</th>\n",
       "      <th>headlines</th>\n",
       "      <th>text</th>\n",
       "      <th>decoder_input</th>\n",
       "      <th>decoder_target</th>\n",
       "    </tr>\n",
       "  </thead>\n",
       "  <tbody>\n",
       "    <tr>\n",
       "      <th>0</th>\n",
       "      <td>0</td>\n",
       "      <td>upgrad learner switches to career in ml al wit...</td>\n",
       "      <td>saurav kant alumnus upgrad iiit pg program mac...</td>\n",
       "      <td>sostoken upgrad learner switches to career in ...</td>\n",
       "      <td>upgrad learner switches to career in ml al wit...</td>\n",
       "    </tr>\n",
       "    <tr>\n",
       "      <th>1</th>\n",
       "      <td>1</td>\n",
       "      <td>delhi techie wins free food from swiggy for on...</td>\n",
       "      <td>kunal shah credit card bill payment platform c...</td>\n",
       "      <td>sostoken delhi techie wins free food from swig...</td>\n",
       "      <td>delhi techie wins free food from swiggy for on...</td>\n",
       "    </tr>\n",
       "    <tr>\n",
       "      <th>2</th>\n",
       "      <td>2</td>\n",
       "      <td>new zealand end rohit sharma led india match w...</td>\n",
       "      <td>new zealand defeated india wickets fourth odi ...</td>\n",
       "      <td>sostoken new zealand end rohit sharma led indi...</td>\n",
       "      <td>new zealand end rohit sharma led india match w...</td>\n",
       "    </tr>\n",
       "    <tr>\n",
       "      <th>3</th>\n",
       "      <td>3</td>\n",
       "      <td>aegon life iterm insurance plan helps customer...</td>\n",
       "      <td>aegon life iterm insurance plan customers enjo...</td>\n",
       "      <td>sostoken aegon life iterm insurance plan helps...</td>\n",
       "      <td>aegon life iterm insurance plan helps customer...</td>\n",
       "    </tr>\n",
       "    <tr>\n",
       "      <th>4</th>\n",
       "      <td>4</td>\n",
       "      <td>have known hirani for yrs what if metoo claims...</td>\n",
       "      <td>speaking sexual harassment allegations rajkuma...</td>\n",
       "      <td>sostoken have known hirani for yrs what if met...</td>\n",
       "      <td>have known hirani for yrs what if metoo claims...</td>\n",
       "    </tr>\n",
       "  </tbody>\n",
       "</table>\n",
       "</div>"
      ],
      "text/plain": [
       "   Unnamed: 0                                          headlines  \\\n",
       "0           0  upgrad learner switches to career in ml al wit...   \n",
       "1           1  delhi techie wins free food from swiggy for on...   \n",
       "2           2  new zealand end rohit sharma led india match w...   \n",
       "3           3  aegon life iterm insurance plan helps customer...   \n",
       "4           4  have known hirani for yrs what if metoo claims...   \n",
       "\n",
       "                                                text  \\\n",
       "0  saurav kant alumnus upgrad iiit pg program mac...   \n",
       "1  kunal shah credit card bill payment platform c...   \n",
       "2  new zealand defeated india wickets fourth odi ...   \n",
       "3  aegon life iterm insurance plan customers enjo...   \n",
       "4  speaking sexual harassment allegations rajkuma...   \n",
       "\n",
       "                                       decoder_input  \\\n",
       "0  sostoken upgrad learner switches to career in ...   \n",
       "1  sostoken delhi techie wins free food from swig...   \n",
       "2  sostoken new zealand end rohit sharma led indi...   \n",
       "3  sostoken aegon life iterm insurance plan helps...   \n",
       "4  sostoken have known hirani for yrs what if met...   \n",
       "\n",
       "                                      decoder_target  \n",
       "0  upgrad learner switches to career in ml al wit...  \n",
       "1  delhi techie wins free food from swiggy for on...  \n",
       "2  new zealand end rohit sharma led india match w...  \n",
       "3  aegon life iterm insurance plan helps customer...  \n",
       "4  have known hirani for yrs what if metoo claims...  "
      ]
     },
     "execution_count": 7,
     "metadata": {},
     "output_type": "execute_result"
    }
   ],
   "source": [
    "# 요약 데이터에는 시작 토큰과 종료 토큰을 추가한다.\n",
    "data['decoder_input'] = data['headlines'].apply(lambda x : 'sostoken '+ x)\n",
    "data['decoder_target'] = data['headlines'].apply(lambda x : x + ' eostoken')\n",
    "data.head()"
   ]
  },
  {
   "cell_type": "markdown",
   "id": "d684a14f",
   "metadata": {},
   "source": [
    "## 2.8) train/test 나누기"
   ]
  },
  {
   "cell_type": "code",
   "execution_count": 8,
   "id": "4069f09c",
   "metadata": {},
   "outputs": [],
   "source": [
    "# train/test 나누기 1\n",
    "encoder_input = np.array(data['text']) # 인코더의 입력\n",
    "decoder_input = np.array(data['decoder_input']) # 디코더의 입력\n",
    "decoder_target = np.array(data['decoder_target']) # 디코더의 레이블"
   ]
  },
  {
   "cell_type": "code",
   "execution_count": 9,
   "id": "10a6e9ca",
   "metadata": {},
   "outputs": [
    {
     "name": "stdout",
     "output_type": "stream",
     "text": [
      "[27556 60157 36866 ... 45666 85492 91303]\n"
     ]
    }
   ],
   "source": [
    "# train/test 나누기 2\n",
    "indices = np.arange(encoder_input.shape[0])\n",
    "np.random.shuffle(indices)\n",
    "print(indices)"
   ]
  },
  {
   "cell_type": "code",
   "execution_count": 10,
   "id": "10aa5135",
   "metadata": {},
   "outputs": [],
   "source": [
    "# train/test 나누기 3\n",
    "encoder_input = encoder_input[indices]\n",
    "decoder_input = decoder_input[indices]\n",
    "decoder_target = decoder_target[indices]"
   ]
  },
  {
   "cell_type": "code",
   "execution_count": 11,
   "id": "78d2a6d9",
   "metadata": {},
   "outputs": [],
   "source": [
    "# 8 : 2\n",
    "n_of_val = int(len(encoder_input)*0.2)"
   ]
  },
  {
   "cell_type": "code",
   "execution_count": 12,
   "id": "3251b659",
   "metadata": {},
   "outputs": [
    {
     "name": "stdout",
     "output_type": "stream",
     "text": [
      "훈련 데이터의 개수 : 78660\n",
      "훈련 레이블의 개수 : 78660\n",
      "테스트 데이터의 개수 : 19664\n",
      "테스트 레이블의 개수 : 19664\n"
     ]
    }
   ],
   "source": [
    "encoder_input_train = encoder_input[:-n_of_val]\n",
    "decoder_input_train = decoder_input[:-n_of_val]\n",
    "decoder_target_train = decoder_target[:-n_of_val]\n",
    "\n",
    "encoder_input_test = encoder_input[-n_of_val:]\n",
    "decoder_input_test = decoder_input[-n_of_val:]\n",
    "decoder_target_test = decoder_target[-n_of_val:]\n",
    "\n",
    "print('훈련 데이터의 개수 :', len(encoder_input_train))\n",
    "print('훈련 레이블의 개수 :', len(decoder_input_train))\n",
    "print('테스트 데이터의 개수 :', len(encoder_input_test))\n",
    "print('테스트 레이블의 개수 :', len(decoder_input_test))"
   ]
  },
  {
   "cell_type": "markdown",
   "id": "a5529f14",
   "metadata": {},
   "source": [
    "## 2.9) 제거됨"
   ]
  },
  {
   "cell_type": "markdown",
   "id": "ec998810",
   "metadata": {},
   "source": [
    "## 2.10) 'text' 빈도수 적은 희귀 단어 제거"
   ]
  },
  {
   "cell_type": "code",
   "execution_count": 14,
   "id": "8635ab32",
   "metadata": {},
   "outputs": [
    {
     "name": "stdout",
     "output_type": "stream",
     "text": [
      "단어 집합(vocabulary)의 크기 : 69612\n",
      "등장 빈도가 6번 이하인 희귀 단어의 수: 47446\n",
      "단어 집합에서 희귀 단어를 제외시킬 경우의 단어 집합의 크기 22166\n",
      "단어 집합에서 희귀 단어의 비율: 68.15778888697352\n",
      "전체 등장 빈도에서 희귀 단어 등장 빈도 비율: 3.4928455491285093\n"
     ]
    }
   ],
   "source": [
    "src_tokenizer = Tokenizer() # 토크나이저 정의\n",
    "src_tokenizer.fit_on_texts(encoder_input_train) # 입력된 데이터로부터 단어 집합 생성\n",
    "\n",
    "threshold = 7\n",
    "total_cnt = len(src_tokenizer.word_index) # 단어의 수\n",
    "rare_cnt = 0 # 등장 빈도수가 threshold보다 작은 단어의 개수를 카운트\n",
    "total_freq = 0 # 훈련 데이터의 전체 단어 빈도수 총 합\n",
    "rare_freq = 0 # 등장 빈도수가 threshold보다 작은 단어의 등장 빈도수의 총 합\n",
    "\n",
    "# 단어와 빈도수의 쌍(pair)을 key와 value로 받는다.\n",
    "for key, value in src_tokenizer.word_counts.items():\n",
    "    total_freq = total_freq + value\n",
    "\n",
    "    # 단어의 등장 빈도수가 threshold보다 작으면\n",
    "    if(value < threshold):\n",
    "        rare_cnt = rare_cnt + 1\n",
    "        rare_freq = rare_freq + value\n",
    "\n",
    "print('단어 집합(vocabulary)의 크기 :', total_cnt)\n",
    "print('등장 빈도가 %s번 이하인 희귀 단어의 수: %s'%(threshold - 1, rare_cnt))\n",
    "print('단어 집합에서 희귀 단어를 제외시킬 경우의 단어 집합의 크기 %s'%(total_cnt - rare_cnt))\n",
    "print(\"단어 집합에서 희귀 단어의 비율:\", (rare_cnt / total_cnt)*100)\n",
    "print(\"전체 등장 빈도에서 희귀 단어 등장 빈도 비율:\", (rare_freq / total_freq)*100)"
   ]
  },
  {
   "cell_type": "code",
   "execution_count": 15,
   "id": "f2e1f8e8",
   "metadata": {},
   "outputs": [],
   "source": [
    "src_vocab = 8000\n",
    "src_tokenizer = Tokenizer(num_words=src_vocab) # 단어 집합의 크기를 8,000으로 제한\n",
    "src_tokenizer.fit_on_texts(encoder_input_train) # 단어 집합 재생성"
   ]
  },
  {
   "cell_type": "code",
   "execution_count": 16,
   "id": "bccc53bc",
   "metadata": {},
   "outputs": [
    {
     "name": "stdout",
     "output_type": "stream",
     "text": [
      "[[2, 745, 12, 27, 1460, 1017, 85, 27, 19, 1017, 103, 7, 359, 51, 2202, 245, 59, 19, 143, 74, 516, 1506, 93, 216, 31, 19, 143, 374, 2, 7786, 2148, 6, 1268, 93, 359, 663], [38, 56, 168, 182, 386, 1423, 360, 291, 184, 230, 12, 344, 57, 660, 94, 1423, 459, 291, 184, 105, 29, 787, 1925, 5375, 7, 2275, 184, 489], [1476, 35, 2130, 2149, 7557, 1794, 44, 18, 6191, 1195, 70, 79, 42, 1868, 1881, 1618, 2977, 68, 374, 42, 7557, 2759, 436, 474, 649, 253, 1106, 409, 194, 1415, 2977, 5376, 48, 1]]\n"
     ]
    }
   ],
   "source": [
    "# 텍스트 시퀀스를 정수 시퀀스로 변환\n",
    "encoder_input_train = src_tokenizer.texts_to_sequences(encoder_input_train) \n",
    "encoder_input_test = src_tokenizer.texts_to_sequences(encoder_input_test)\n",
    "\n",
    "# 잘 진행되었는지 샘플 출력\n",
    "print(encoder_input_train[:3])"
   ]
  },
  {
   "cell_type": "markdown",
   "id": "a004af62",
   "metadata": {},
   "source": [
    "## 2.11) 'headlines' 빈도수 적은 희귀 단어 제거"
   ]
  },
  {
   "cell_type": "code",
   "execution_count": 17,
   "id": "00f53fc7",
   "metadata": {},
   "outputs": [
    {
     "name": "stdout",
     "output_type": "stream",
     "text": [
      "단어 집합(vocabulary)의 크기 : 30140\n",
      "등장 빈도가 5번 이하인 희귀 단어의 수: 19712\n",
      "단어 집합에서 희귀 단어를 제외시킬 경우의 단어 집합의 크기 10428\n",
      "단어 집합에서 희귀 단어의 비율: 65.4014598540146\n",
      "전체 등장 빈도에서 희귀 단어 등장 빈도 비율: 4.644402513237967\n"
     ]
    }
   ],
   "source": [
    "tar_tokenizer = Tokenizer()\n",
    "tar_tokenizer.fit_on_texts(decoder_input_train)\n",
    "\n",
    "threshold = 6\n",
    "total_cnt = len(tar_tokenizer.word_index) # 단어의 수\n",
    "rare_cnt = 0 # 등장 빈도수가 threshold보다 작은 단어의 개수를 카운트\n",
    "total_freq = 0 # 훈련 데이터의 전체 단어 빈도수 총 합\n",
    "rare_freq = 0 # 등장 빈도수가 threshold보다 작은 단어의 등장 빈도수의 총 합\n",
    "\n",
    "# 단어와 빈도수의 쌍(pair)을 key와 value로 받는다.\n",
    "for key, value in tar_tokenizer.word_counts.items():\n",
    "    total_freq = total_freq + value\n",
    "\n",
    "    # 단어의 등장 빈도수가 threshold보다 작으면\n",
    "    if(value < threshold):\n",
    "        rare_cnt = rare_cnt + 1\n",
    "        rare_freq = rare_freq + value\n",
    "\n",
    "print('단어 집합(vocabulary)의 크기 :', total_cnt)\n",
    "print('등장 빈도가 %s번 이하인 희귀 단어의 수: %s'%(threshold - 1, rare_cnt))\n",
    "print('단어 집합에서 희귀 단어를 제외시킬 경우의 단어 집합의 크기 %s'%(total_cnt - rare_cnt))\n",
    "print(\"단어 집합에서 희귀 단어의 비율:\", (rare_cnt / total_cnt)*100)\n",
    "print(\"전체 등장 빈도에서 희귀 단어 등장 빈도 비율:\", (rare_freq / total_freq)*100)"
   ]
  },
  {
   "cell_type": "code",
   "execution_count": 18,
   "id": "59c150ca",
   "metadata": {},
   "outputs": [
    {
     "name": "stdout",
     "output_type": "stream",
     "text": [
      "input\n",
      "input  [[1, 9, 183, 55, 1267, 1722, 4, 1209], [1, 32, 760, 975, 422, 6, 1859, 5, 312, 243], [1, 834, 72, 51, 6, 570, 144], [1, 263, 3, 736, 67, 43, 4, 368], [1, 620, 568, 1747, 1860, 1492, 292, 183]]\n",
      "target\n",
      "decoder  [[9, 183, 55, 1267, 1722, 4, 1209, 2], [32, 760, 975, 422, 6, 1859, 5, 312, 243, 2], [834, 72, 51, 6, 570, 144, 2], [263, 3, 736, 67, 43, 4, 368, 2], [620, 568, 1747, 1860, 1492, 292, 183, 2]]\n"
     ]
    }
   ],
   "source": [
    "tar_vocab = 2000\n",
    "tar_tokenizer = Tokenizer(num_words=tar_vocab) \n",
    "tar_tokenizer.fit_on_texts(decoder_input_train)\n",
    "tar_tokenizer.fit_on_texts(decoder_target_train)\n",
    "\n",
    "# 텍스트 시퀀스를 정수 시퀀스로 변환\n",
    "decoder_input_train = tar_tokenizer.texts_to_sequences(decoder_input_train) \n",
    "decoder_target_train = tar_tokenizer.texts_to_sequences(decoder_target_train)\n",
    "decoder_input_test = tar_tokenizer.texts_to_sequences(decoder_input_test)\n",
    "decoder_target_test = tar_tokenizer.texts_to_sequences(decoder_target_test)\n",
    "\n",
    "# 잘 변환되었는지 확인\n",
    "print('input')\n",
    "print('input ',decoder_input_train[:5])\n",
    "print('target')\n",
    "print('decoder ',decoder_target_train[:5])"
   ]
  },
  {
   "cell_type": "markdown",
   "id": "61c90dcf",
   "metadata": {},
   "source": [
    "## 2.12) 비어있는 text & headline 삭제"
   ]
  },
  {
   "cell_type": "code",
   "execution_count": 19,
   "id": "796f0903",
   "metadata": {},
   "outputs": [
    {
     "name": "stdout",
     "output_type": "stream",
     "text": [
      "삭제할 훈련 데이터의 개수 : 15\n",
      "삭제할 테스트 데이터의 개수 : 0\n",
      "훈련 데이터의 개수 : 78645\n",
      "훈련 레이블의 개수 : 78645\n",
      "테스트 데이터의 개수 : 19664\n",
      "테스트 레이블의 개수 : 19664\n"
     ]
    }
   ],
   "source": [
    "drop_train = [index for index, sentence in enumerate(decoder_input_train) if len(sentence) == 1]\n",
    "drop_test = [index for index, sentence in enumerate(decoder_input_test) if len(sentence) == 1]\n",
    "\n",
    "print('삭제할 훈련 데이터의 개수 :', len(drop_train))\n",
    "print('삭제할 테스트 데이터의 개수 :', len(drop_test))\n",
    "\n",
    "encoder_input_train = [sentence for index, sentence in enumerate(encoder_input_train) if index not in drop_train]\n",
    "decoder_input_train = [sentence for index, sentence in enumerate(decoder_input_train) if index not in drop_train]\n",
    "decoder_target_train = [sentence for index, sentence in enumerate(decoder_target_train) if index not in drop_train]\n",
    "\n",
    "encoder_input_test = [sentence for index, sentence in enumerate(encoder_input_test) if index not in drop_test]\n",
    "decoder_input_test = [sentence for index, sentence in enumerate(decoder_input_test) if index not in drop_test]\n",
    "decoder_target_test = [sentence for index, sentence in enumerate(decoder_target_test) if index not in drop_test]\n",
    "\n",
    "print('훈련 데이터의 개수 :', len(encoder_input_train))\n",
    "print('훈련 레이블의 개수 :', len(decoder_input_train))\n",
    "print('테스트 데이터의 개수 :', len(encoder_input_test))\n",
    "print('테스트 레이블의 개수 :', len(decoder_input_test))"
   ]
  },
  {
   "cell_type": "markdown",
   "id": "e5c788a4",
   "metadata": {},
   "source": [
    "## 2.13) 패딩 "
   ]
  },
  {
   "cell_type": "code",
   "execution_count": 20,
   "id": "30d00eaa",
   "metadata": {},
   "outputs": [],
   "source": [
    "# 패딩하기\n",
    "encoder_input_train = pad_sequences(encoder_input_train, maxlen=text_max_len, padding='post')\n",
    "encoder_input_test = pad_sequences(encoder_input_test, maxlen=text_max_len, padding='post')\n",
    "decoder_input_train = pad_sequences(decoder_input_train, maxlen=summary_max_len, padding='post')\n",
    "decoder_target_train = pad_sequences(decoder_target_train, maxlen=summary_max_len, padding='post')\n",
    "decoder_input_test = pad_sequences(decoder_input_test, maxlen=summary_max_len, padding='post')\n",
    "decoder_target_test = pad_sequences(decoder_target_test, maxlen=summary_max_len, padding='post')"
   ]
  },
  {
   "cell_type": "markdown",
   "id": "0830ae4d",
   "metadata": {},
   "source": [
    "# Step 3. 어텐션 메커니즘 사용하기 (추상적 요약)\n",
    "\n",
    "일반적인 seq2seq보다는 어텐션 메커니즘을 사용한 seq2seq를 사용하는 것이 더 나은 성능을 얻을 수 있어요. 실습 내용을 참고하여 어텐션 메커니즘을 사용한 seq2seq를 설계해 보세요."
   ]
  },
  {
   "cell_type": "markdown",
   "id": "e016ef41",
   "metadata": {},
   "source": [
    "## 3.1) encoder"
   ]
  },
  {
   "cell_type": "code",
   "execution_count": 21,
   "id": "6a0b2047",
   "metadata": {},
   "outputs": [
    {
     "name": "stdout",
     "output_type": "stream",
     "text": [
      "WARNING:tensorflow:Layer lstm_1 will not use cuDNN kernels since it doesn't meet the criteria. It will use a generic GPU kernel as fallback when running on GPU.\n",
      "WARNING:tensorflow:Layer lstm_2 will not use cuDNN kernels since it doesn't meet the criteria. It will use a generic GPU kernel as fallback when running on GPU.\n"
     ]
    }
   ],
   "source": [
    "from tensorflow.keras.layers import Input, LSTM, Embedding, Dense, Concatenate, TimeDistributed\n",
    "from tensorflow.keras.models import Model\n",
    "from tensorflow.keras.callbacks import EarlyStopping, ModelCheckpoint\n",
    "\n",
    "\n",
    "# 인코더 설계 시작\n",
    "embedding_dim = 128\n",
    "hidden_size = 256\n",
    "\n",
    "# 인코더\n",
    "encoder_inputs = Input(shape=(text_max_len,))\n",
    "\n",
    "# 인코더의 임베딩 층\n",
    "enc_emb = Embedding(src_vocab, embedding_dim)(encoder_inputs)\n",
    "\n",
    "# 인코더의 LSTM 1\n",
    "# encoder_lstm1 = LSTM(hidden_size, return_sequences=True, return_state=True ,dropout = 0.4, recurrent_dropout = 0.4)\n",
    "encoder_lstm1 = LSTM(hidden_size, return_sequences=True, return_state=True ,dropout = 0.4)\n",
    "encoder_output1, state_h1, state_c1 = encoder_lstm1(enc_emb)\n",
    "\n",
    "# 인코더의 LSTM 2\n",
    "encoder_lstm2 = LSTM(hidden_size, return_sequences=True, return_state=True, dropout=0.4, recurrent_dropout=0.4)\n",
    "encoder_output2, state_h2, state_c2 = encoder_lstm2(encoder_output1)\n",
    "\n",
    "# 인코더의 LSTM 3\n",
    "encoder_lstm3 = LSTM(hidden_size, return_state=True, return_sequences=True, dropout=0.4, recurrent_dropout=0.4)\n",
    "encoder_outputs3, state_h3, state_c3= encoder_lstm3(encoder_output2)\n",
    "\n",
    "\n",
    "encoder_outputs = encoder_outputs3\n",
    "state_h = state_h3\n",
    "state_c = state_c3"
   ]
  },
  {
   "cell_type": "markdown",
   "id": "a4c3d9f2",
   "metadata": {},
   "source": [
    "## 3.2) decoder"
   ]
  },
  {
   "cell_type": "code",
   "execution_count": 22,
   "id": "eaa85644",
   "metadata": {},
   "outputs": [],
   "source": [
    "# 디코더 설계\n",
    "decoder_inputs = Input(shape=(None,))\n",
    "\n",
    "# 디코더의 임베딩 층\n",
    "dec_emb_layer = Embedding(tar_vocab, embedding_dim)\n",
    "dec_emb = dec_emb_layer(decoder_inputs)\n",
    "\n",
    "# 디코더의 LSTM\n",
    "# decoder_lstm = LSTM(hidden_size, return_sequences=True, return_state=True, dropout=0.4, recurrent_dropout=0.2)\n",
    "decoder_lstm = LSTM(hidden_size, return_sequences=True, return_state=True, dropout=0.4)\n",
    "decoder_outputs, _, _ = decoder_lstm(dec_emb, initial_state=[state_h, state_c])"
   ]
  },
  {
   "cell_type": "markdown",
   "id": "6cf52c7e",
   "metadata": {},
   "source": [
    "## 3.3) 출력층"
   ]
  },
  {
   "cell_type": "code",
   "execution_count": 23,
   "id": "1f428988",
   "metadata": {},
   "outputs": [
    {
     "name": "stdout",
     "output_type": "stream",
     "text": [
      "Model: \"model\"\n",
      "__________________________________________________________________________________________________\n",
      "Layer (type)                    Output Shape         Param #     Connected to                     \n",
      "==================================================================================================\n",
      "input_1 (InputLayer)            [(None, 50)]         0                                            \n",
      "__________________________________________________________________________________________________\n",
      "embedding (Embedding)           (None, 50, 128)      1024000     input_1[0][0]                    \n",
      "__________________________________________________________________________________________________\n",
      "lstm (LSTM)                     [(None, 50, 256), (N 394240      embedding[0][0]                  \n",
      "__________________________________________________________________________________________________\n",
      "input_2 (InputLayer)            [(None, None)]       0                                            \n",
      "__________________________________________________________________________________________________\n",
      "lstm_1 (LSTM)                   [(None, 50, 256), (N 525312      lstm[0][0]                       \n",
      "__________________________________________________________________________________________________\n",
      "embedding_1 (Embedding)         (None, None, 128)    256000      input_2[0][0]                    \n",
      "__________________________________________________________________________________________________\n",
      "lstm_2 (LSTM)                   [(None, 50, 256), (N 525312      lstm_1[0][0]                     \n",
      "__________________________________________________________________________________________________\n",
      "lstm_3 (LSTM)                   [(None, None, 256),  394240      embedding_1[0][0]                \n",
      "                                                                 lstm_2[0][1]                     \n",
      "                                                                 lstm_2[0][2]                     \n",
      "__________________________________________________________________________________________________\n",
      "dense (Dense)                   (None, None, 2000)   514000      lstm_3[0][0]                     \n",
      "==================================================================================================\n",
      "Total params: 3,633,104\n",
      "Trainable params: 3,633,104\n",
      "Non-trainable params: 0\n",
      "__________________________________________________________________________________________________\n"
     ]
    }
   ],
   "source": [
    "# 디코더의 출력층\n",
    "decoder_softmax_layer = Dense(tar_vocab, activation='softmax')\n",
    "decoder_softmax_outputs = decoder_softmax_layer(decoder_outputs) \n",
    "\n",
    "# 모델 정의\n",
    "model = Model([encoder_inputs, decoder_inputs], decoder_softmax_outputs)\n",
    "model.summary()"
   ]
  },
  {
   "cell_type": "markdown",
   "id": "88279cd2",
   "metadata": {},
   "source": [
    "## 3.4) 어텐션"
   ]
  },
  {
   "cell_type": "code",
   "execution_count": 24,
   "id": "ff41d8c2",
   "metadata": {},
   "outputs": [
    {
     "name": "stdout",
     "output_type": "stream",
     "text": [
      "Model: \"model_1\"\n",
      "__________________________________________________________________________________________________\n",
      "Layer (type)                    Output Shape         Param #     Connected to                     \n",
      "==================================================================================================\n",
      "input_1 (InputLayer)            [(None, 50)]         0                                            \n",
      "__________________________________________________________________________________________________\n",
      "embedding (Embedding)           (None, 50, 128)      1024000     input_1[0][0]                    \n",
      "__________________________________________________________________________________________________\n",
      "lstm (LSTM)                     [(None, 50, 256), (N 394240      embedding[0][0]                  \n",
      "__________________________________________________________________________________________________\n",
      "input_2 (InputLayer)            [(None, None)]       0                                            \n",
      "__________________________________________________________________________________________________\n",
      "lstm_1 (LSTM)                   [(None, 50, 256), (N 525312      lstm[0][0]                       \n",
      "__________________________________________________________________________________________________\n",
      "embedding_1 (Embedding)         (None, None, 128)    256000      input_2[0][0]                    \n",
      "__________________________________________________________________________________________________\n",
      "lstm_2 (LSTM)                   [(None, 50, 256), (N 525312      lstm_1[0][0]                     \n",
      "__________________________________________________________________________________________________\n",
      "lstm_3 (LSTM)                   [(None, None, 256),  394240      embedding_1[0][0]                \n",
      "                                                                 lstm_2[0][1]                     \n",
      "                                                                 lstm_2[0][2]                     \n",
      "__________________________________________________________________________________________________\n",
      "attention_layer (AdditiveAttent (None, None, 256)    256         lstm_3[0][0]                     \n",
      "                                                                 lstm_2[0][0]                     \n",
      "__________________________________________________________________________________________________\n",
      "concat_layer (Concatenate)      (None, None, 512)    0           lstm_3[0][0]                     \n",
      "                                                                 attention_layer[0][0]            \n",
      "__________________________________________________________________________________________________\n",
      "dense_1 (Dense)                 (None, None, 2000)   1026000     concat_layer[0][0]               \n",
      "==================================================================================================\n",
      "Total params: 4,145,360\n",
      "Trainable params: 4,145,360\n",
      "Non-trainable params: 0\n",
      "__________________________________________________________________________________________________\n"
     ]
    }
   ],
   "source": [
    "from tensorflow.keras.layers import AdditiveAttention\n",
    "\n",
    "# 어텐션 층(어텐션 함수)\n",
    "attn_layer = AdditiveAttention(name='attention_layer')\n",
    "\n",
    "# 인코더와 디코더의 모든 time step의 hidden state를 어텐션 층에 전달하고 결과를 리턴\n",
    "attn_out = attn_layer([decoder_outputs, encoder_outputs])\n",
    "\n",
    "\n",
    "# 어텐션의 결과와 디코더의 hidden state들을 연결\n",
    "decoder_concat_input = Concatenate(axis=-1, name='concat_layer')([decoder_outputs, attn_out])\n",
    "\n",
    "# 디코더의 출력층\n",
    "decoder_softmax_layer = Dense(tar_vocab, activation='softmax')\n",
    "decoder_softmax_outputs = decoder_softmax_layer(decoder_concat_input)\n",
    "\n",
    "# 모델 정의\n",
    "model = Model([encoder_inputs, decoder_inputs], decoder_softmax_outputs)\n",
    "model.summary()"
   ]
  },
  {
   "cell_type": "markdown",
   "id": "1dbd172f",
   "metadata": {},
   "source": [
    "## 3.5) 모델 학습\n",
    "\n",
    "- EarlyStopping 적용"
   ]
  },
  {
   "cell_type": "code",
   "execution_count": 25,
   "id": "9a433517",
   "metadata": {},
   "outputs": [
    {
     "name": "stdout",
     "output_type": "stream",
     "text": [
      "Epoch 1/20\n",
      "308/308 [==============================] - 150s 460ms/step - loss: 3.3555 - val_loss: 3.0975\n",
      "Epoch 2/20\n",
      "308/308 [==============================] - 143s 463ms/step - loss: 2.9523 - val_loss: 2.8154\n",
      "Epoch 3/20\n",
      "308/308 [==============================] - 143s 465ms/step - loss: 2.6997 - val_loss: 2.6296\n",
      "Epoch 4/20\n",
      "308/308 [==============================] - 140s 454ms/step - loss: 2.5422 - val_loss: 2.5095\n",
      "Epoch 5/20\n",
      "308/308 [==============================] - 139s 452ms/step - loss: 2.4233 - val_loss: 2.4292\n",
      "Epoch 6/20\n",
      "308/308 [==============================] - 142s 461ms/step - loss: 2.3264 - val_loss: 2.3496\n",
      "Epoch 7/20\n",
      "308/308 [==============================] - 138s 449ms/step - loss: 2.2463 - val_loss: 2.2940\n",
      "Epoch 8/20\n",
      "308/308 [==============================] - 144s 468ms/step - loss: 2.1769 - val_loss: 2.2440\n",
      "Epoch 9/20\n",
      "308/308 [==============================] - 138s 448ms/step - loss: 2.1156 - val_loss: 2.2110\n",
      "Epoch 10/20\n",
      "308/308 [==============================] - 138s 447ms/step - loss: 2.0615 - val_loss: 2.1770\n",
      "Epoch 11/20\n",
      "308/308 [==============================] - 138s 447ms/step - loss: 2.0136 - val_loss: 2.1528\n",
      "Epoch 12/20\n",
      "308/308 [==============================] - 137s 445ms/step - loss: 1.9690 - val_loss: 2.1443\n",
      "Epoch 13/20\n",
      "308/308 [==============================] - 138s 448ms/step - loss: 1.9295 - val_loss: 2.1166\n",
      "Epoch 14/20\n",
      "308/308 [==============================] - 137s 446ms/step - loss: 1.8932 - val_loss: 2.1050\n",
      "Epoch 15/20\n",
      "308/308 [==============================] - 137s 443ms/step - loss: 1.8588 - val_loss: 2.0959\n",
      "Epoch 16/20\n",
      "308/308 [==============================] - 137s 443ms/step - loss: 1.8277 - val_loss: 2.0752\n",
      "Epoch 17/20\n",
      "308/308 [==============================] - 137s 444ms/step - loss: 1.7997 - val_loss: 2.0738\n",
      "Epoch 18/20\n",
      "308/308 [==============================] - 137s 445ms/step - loss: 1.7725 - val_loss: 2.0603\n",
      "Epoch 19/20\n",
      "308/308 [==============================] - 137s 444ms/step - loss: 1.7473 - val_loss: 2.0607\n",
      "Epoch 20/20\n",
      "308/308 [==============================] - 137s 445ms/step - loss: 1.7234 - val_loss: 2.0573\n"
     ]
    }
   ],
   "source": [
    "model.compile(\n",
    "    optimizer='rmsprop', \n",
    "    loss='sparse_categorical_crossentropy'\n",
    ")\n",
    "es = EarlyStopping(\n",
    "    monitor='val_loss', \n",
    "    patience=2, \n",
    "    verbose=1\n",
    ")\n",
    "history = model.fit(\n",
    "    x=[encoder_input_train, decoder_input_train], \n",
    "    y=decoder_target_train, \n",
    "    validation_data=(\n",
    "        [encoder_input_test, \n",
    "         decoder_input_test\n",
    "        ], \n",
    "    decoder_target_test), \n",
    "    batch_size=256, \n",
    "    callbacks=[es], \n",
    "    epochs=20\n",
    ")"
   ]
  },
  {
   "cell_type": "code",
   "execution_count": 27,
   "id": "3ffb0d1b",
   "metadata": {},
   "outputs": [],
   "source": [
    "# 모델 저장\n",
    "#model.save('trained_model.h5')"
   ]
  },
  {
   "cell_type": "markdown",
   "id": "6de7c25b",
   "metadata": {},
   "source": [
    "## 3.6) 결과 그래프"
   ]
  },
  {
   "cell_type": "code",
   "execution_count": 26,
   "id": "2623a1fb",
   "metadata": {},
   "outputs": [
    {
     "data": {
      "image/png": "[encoded data removed]",
      "text/plain": [
       "<Figure size 432x288 with 1 Axes>"
      ]
     },
     "metadata": {
      "needs_background": "light"
     },
     "output_type": "display_data"
    }
   ],
   "source": [
    "plt.plot(history.history['loss'], label='train')\n",
    "plt.plot(history.history['val_loss'], label='test')\n",
    "plt.legend()\n",
    "plt.show()"
   ]
  },
  {
   "cell_type": "markdown",
   "id": "9d798002",
   "metadata": {},
   "source": [
    "# Step 4. 실제 결과와 요약문 비교하기 (추상적 요약)\n",
    "\n",
    "원래의 요약문(headlines 열)과 학습을 통해 얻은 추상적 요약의 결과를 비교해 보세요."
   ]
  },
  {
   "cell_type": "markdown",
   "id": "d673ec92",
   "metadata": {},
   "source": [
    "## 4.1) 인퍼런스(추론) 모델 구현하기"
   ]
  },
  {
   "cell_type": "code",
   "execution_count": 28,
   "id": "fc51cbbe",
   "metadata": {},
   "outputs": [],
   "source": [
    "src_index_to_word = src_tokenizer.index_word # 원문 단어 집합에서 정수 -> 단어를 얻음\n",
    "tar_word_to_index = tar_tokenizer.word_index # 요약 단어 집합에서 단어 -> 정수를 얻음\n",
    "tar_index_to_word = tar_tokenizer.index_word # 요약 단어 집합에서 정수 -> 단어를 얻음"
   ]
  },
  {
   "cell_type": "code",
   "execution_count": 29,
   "id": "61da0e5e",
   "metadata": {},
   "outputs": [],
   "source": [
    "# 인코더 설계\n",
    "encoder_model = Model(inputs=encoder_inputs, outputs=[encoder_outputs, state_h, state_c])\n",
    "\n",
    "# 이전 시점의 상태들을 저장하는 텐서\n",
    "decoder_state_input_h = Input(shape=(hidden_size,))\n",
    "decoder_state_input_c = Input(shape=(hidden_size,))\n",
    "\n",
    "dec_emb2 = dec_emb_layer(decoder_inputs)\n",
    "\n",
    "# 문장의 다음 단어를 예측하기 위해서 초기 상태(initial_state)를 이전 시점의 상태로 사용. 이는 뒤의 함수 decode_sequence()에 구현\n",
    "# 훈련 과정에서와 달리 LSTM의 리턴하는 은닉 상태와 셀 상태인 state_h와 state_c를 버리지 않음.\n",
    "decoder_outputs2, state_h2, state_c2 = decoder_lstm(dec_emb2, initial_state=[decoder_state_input_h, decoder_state_input_c])"
   ]
  },
  {
   "cell_type": "code",
   "execution_count": 30,
   "id": "d1a67ab6",
   "metadata": {},
   "outputs": [],
   "source": [
    "# 어텐션 함수\n",
    "decoder_hidden_state_input = Input(shape=(text_max_len, hidden_size))\n",
    "attn_out_inf = attn_layer([decoder_outputs2, decoder_hidden_state_input])\n",
    "decoder_inf_concat = Concatenate(axis=-1, name='concat')([decoder_outputs2, attn_out_inf])\n",
    "\n",
    "# 디코더의 출력층\n",
    "decoder_outputs2 = decoder_softmax_layer(decoder_inf_concat) \n",
    "\n",
    "# 최종 디코더 모델\n",
    "decoder_model = Model(\n",
    "    [decoder_inputs] + [decoder_hidden_state_input,decoder_state_input_h, decoder_state_input_c],\n",
    "    [decoder_outputs2] + [state_h2, state_c2])"
   ]
  },
  {
   "cell_type": "code",
   "execution_count": 31,
   "id": "f7ee8200",
   "metadata": {},
   "outputs": [],
   "source": [
    "def decode_sequence(input_seq):\n",
    "    # 입력으로부터 인코더의 상태를 얻음\n",
    "    e_out, e_h, e_c = encoder_model.predict(input_seq)\n",
    "\n",
    "     # <SOS>에 해당하는 토큰 생성\n",
    "    target_seq = np.zeros((1,1))\n",
    "    target_seq[0, 0] = tar_word_to_index['sostoken']\n",
    "\n",
    "    stop_condition = False\n",
    "    decoded_sentence = ''\n",
    "    while not stop_condition: # stop_condition이 True가 될 때까지 루프 반복\n",
    "\n",
    "        output_tokens, h, c = decoder_model.predict([target_seq] + [e_out, e_h, e_c])\n",
    "        sampled_token_index = np.argmax(output_tokens[0, -1, :])\n",
    "        sampled_token = tar_index_to_word[sampled_token_index]\n",
    "\n",
    "        if (sampled_token!='eostoken'):\n",
    "            decoded_sentence += ' '+sampled_token\n",
    "\n",
    "        #  <eos>에 도달하거나 최대 길이를 넘으면 중단.\n",
    "        if (sampled_token == 'eostoken'  or len(decoded_sentence.split()) >= (summary_max_len-1)):\n",
    "            stop_condition = True\n",
    "\n",
    "        # 길이가 1인 타겟 시퀀스를 업데이트\n",
    "        target_seq = np.zeros((1,1))\n",
    "        target_seq[0, 0] = sampled_token_index\n",
    "\n",
    "        # 상태를 업데이트 합니다.\n",
    "        e_h, e_c = h, c\n",
    "\n",
    "    return decoded_sentence"
   ]
  },
  {
   "cell_type": "markdown",
   "id": "d6e970ad",
   "metadata": {},
   "source": [
    "## 4.2) 모델 테스트하기"
   ]
  },
  {
   "cell_type": "code",
   "execution_count": 32,
   "id": "2c6a707e",
   "metadata": {},
   "outputs": [],
   "source": [
    "# 원문의 정수 시퀀스를 텍스트 시퀀스로 변환\n",
    "def seq2text(input_seq):\n",
    "    sentence=''\n",
    "    for i in input_seq:\n",
    "        if(i!=0):\n",
    "            sentence = sentence + src_index_to_word[i]+' '\n",
    "    return sentence\n",
    "\n",
    "# 요약문의 정수 시퀀스를 텍스트 시퀀스로 변환\n",
    "def seq2summary(input_seq):\n",
    "    sentence=''\n",
    "    for i in input_seq:\n",
    "        if((i!=0 and i!=tar_word_to_index['sostoken']) and i!=tar_word_to_index['eostoken']):\n",
    "            sentence = sentence + tar_index_to_word[i] + ' '\n",
    "    return sentence"
   ]
  },
  {
   "cell_type": "code",
   "execution_count": 33,
   "id": "263cbd9f",
   "metadata": {},
   "outputs": [
    {
     "name": "stdout",
     "output_type": "stream",
     "text": [
      "원문 : bangladesh internet services across country suspended services hours prevent propaganda misleading content spreading internet ahead general elections official said bangladesh regulatory commission earlier blocked website opposition bangladesh nationalist party along news websites \n",
      "실제 요약 : services suspended in bangladesh ahead of elections \n",
      "예측 요약 :  bangladesh suspends internet amid internet\n",
      "\n",
      "\n",
      "원문 : delivering union budget speech finance minister arun jaitley thursday said india trillion economy path growth also announced budget focused rural economy health infrastructure also said natural resources allocated transparent manner \n",
      "실제 요약 : india is trillion economy on for growth fm \n",
      "예측 요약 :  india growth rate to economy economy\n",
      "\n",
      "\n",
      "원문 : filmmaker said arjun rampal directed actor potential feel actually someone potential need know offer able push added arjun next seen upcoming film daddy directed \n",
      "실제 요약 : arjun is an under actor \n",
      "예측 요약 :  arjun is the of arjun\n",
      "\n",
      "\n",
      "원문 : district administration decided withdrawal limit lake eight million litres water per day way ensure water level lake balance water water withdrawal uttarakhand official said demand water less added \n",
      "실제 요약 : water cut to mn day \n",
      "예측 요약 :  to be in water\n",
      "\n",
      "\n",
      "원문 : election commission monday asked sasikala aiadmk stop using two leaves symbol website social media accounts poll panel sought reply april commission earlier directed sasikala panneerselvam choose new symbols upcoming polls \n",
      "실제 요약 : remove two leaves from website ec to group \n",
      "예측 요약 :  ec asks ec to stop ads\n",
      "\n",
      "\n",
      "원문 : least people killed several others injured college crimea wednesday student opened fire fellow killing attack initially classified act terror however authorities later said mass murder russian president vladimir putin expressed condolences victims relatives \n",
      "실제 요약 : gun teen kills at college shoots self \n",
      "예측 요약 :  killed injured in shooting at saudi embassy\n",
      "\n",
      "\n",
      "원문 : uk based virgin trains apologised slammed using language deemed sexist social media users tweeted male manager called dismissing complaint following virgin replied sorry would prefer pet love next time \n",
      "실제 요약 : trains slammed for to woman complaint \n",
      "예측 요약 :  uk apologises for fake pics of\n",
      "\n",
      "\n",
      "원문 : us afghanistan attend russia led peace talks moscow next month us claimed talks progress towards ending year old war afghanistan said hold direct talks taliban meanwhile taliban militant group confirmed send delegation russia \n",
      "실제 요약 : us afghanistan russia led peace talks with taliban \n",
      "예측 요약 :  us taliban talks to talks with taliban\n",
      "\n",
      "\n",
      "원문 : world number one rafael nadal first time roger federer said could get used playing side net nadal federer nadal inaugural edition cup representing team europe duo defeated sam jack \n",
      "실제 요약 : could get used to playing on the same side as nadal federer \n",
      "예측 요약 :  federer nadal to federer nadal to federer\n",
      "\n",
      "\n",
      "원문 : cricketer robin ongoing australia india series clarified giving go instead playing ranji trophy recovering surgery continue play till enjoy anymore cannot physically tweeted year old last represented india july \n",
      "실제 요약 : doing as am not on not playing \n",
      "예측 요약 :  no one test for india\n",
      "\n",
      "\n"
     ]
    }
   ],
   "source": [
    "for i in range(50, 60):\n",
    "    print(\"원문 :\", seq2text(encoder_input_test[i]))\n",
    "    print(\"실제 요약 :\", seq2summary(decoder_input_test[i]))\n",
    "    print(\"예측 요약 :\", decode_sequence(encoder_input_test[i].reshape(1, text_max_len)))\n",
    "    print(\"\\n\")"
   ]
  },
  {
   "cell_type": "markdown",
   "id": "33e7cd43",
   "metadata": {},
   "source": [
    "- *비교 결과* :\n",
    "    - 단어는 주로 일치해 보이지만, 순서가 많이 다름\n",
    "    - 디테일한 부분은 다르지만, 큰 틀은 비슷함\n",
    "        - 대학 총기 난사 사건의 10대 살인 사건(gun teen kills at college shoots self)\n",
    "        - 사우디 대사관에서 총격으로 부상을 입은 사람들(killed injured in shooting at saudi embassy)"
   ]
  },
  {
   "cell_type": "markdown",
   "id": "1298c5ae",
   "metadata": {},
   "source": [
    "# Step 5. Summa을 이용해서 추출적 요약해보기\n",
    "\n",
    "추상적 요약은 추출적 요약과는 달리 문장의 표현력을 다양하게 가져갈 수 있지만, 추출적 요약에 비해서 난이도가 높아요. 반대로 말하면 추출적 요약은 추상적 요약에 비해 난이도가 낮고 기존 문장에서 문장을 꺼내오는 것이므로 잘못된 요약이 나올 가능성이 낮아요.\n",
    "\n",
    "Summa의 summarize를 사용하여 추출적 요약을 해보세요."
   ]
  },
  {
   "cell_type": "markdown",
   "id": "0c09ae30",
   "metadata": {},
   "source": [
    "## 5.1) Summa"
   ]
  },
  {
   "cell_type": "markdown",
   "id": "366e634a",
   "metadata": {},
   "source": [
    "- 결론: 대부분의 요약한 결과가 `blank`가 나옴\n",
    "    - 이유 : Summa에 사용되는 텍스트(원본)의 `길이가 짧아서 추출 요약이 정상적으로 이루어지지 않음`\n",
    "    - 아래 코드에 있는 `textsummarizer.py`로 대체"
   ]
  },
  {
   "cell_type": "code",
   "execution_count": 34,
   "id": "25051234",
   "metadata": {},
   "outputs": [
    {
     "name": "stdout",
     "output_type": "stream",
     "text": [
      "원문 : cbi said special director rakesh asthana complaint central vigilance commission director alok verma malicious baseless cbi said attempt officers probing role six cases asthana filed complaint alleging cbi chief interfering cases including one rjd chief lalu prasad yadav \n",
      "실제 요약 : top officer complaint against director cbi \n",
      "Summa 1 : \n",
      "Summa 2 : \n",
      "\n",
      "\n",
      "원문 : britain european union start brexit negotiations june planned initially negotiations thrown doubt uk prime minister theresa may conservative party lost parliamentary majority snap election last week notably britain member eu years \n",
      "실제 요약 : eu to brexit on june \n",
      "Summa 1 : \n",
      "Summa 2 : \n",
      "\n",
      "\n"
     ]
    }
   ],
   "source": [
    "import requests\n",
    "from summa.summarizer import summarize\n",
    "\n",
    "for i in range(150, 152):\n",
    "    text = seq2text(encoder_input_test[i])\n",
    "    print(\"원문 :\", text)\n",
    "    print(\"실제 요약 :\", seq2summary(decoder_input_test[i]))\n",
    "    print('Summa 1 :',summarize(text, ratio=0.005))\n",
    "    print('Summa 2 :',summarize(text, words=50))\n",
    "    print(\"\\n\")"
   ]
  },
  {
   "cell_type": "markdown",
   "id": "1d50f2c6",
   "metadata": {},
   "source": [
    "## 5.2) textsummarizer.py"
   ]
  },
  {
   "cell_type": "code",
   "execution_count": 35,
   "id": "23f41161",
   "metadata": {},
   "outputs": [
    {
     "name": "stderr",
     "output_type": "stream",
     "text": [
      "[nltk_data] Downloading package stopwords to /aiffel/nltk_data...\n",
      "[nltk_data]   Package stopwords is already up-to-date!\n",
      "[nltk_data] Downloading package punkt to /aiffel/nltk_data...\n",
      "[nltk_data]   Package punkt is already up-to-date!\n"
     ]
    },
    {
     "data": {
      "text/plain": [
       "True"
      ]
     },
     "execution_count": 35,
     "metadata": {},
     "output_type": "execute_result"
    }
   ],
   "source": [
    "nltk.download('stopwords')\n",
    "nltk.download('punkt')"
   ]
  },
  {
   "cell_type": "code",
   "execution_count": 36,
   "id": "8a763baf",
   "metadata": {},
   "outputs": [],
   "source": [
    "import nltk\n",
    "from nltk.corpus import stopwords\n",
    "from nltk.cluster.util import cosine_distance\n",
    "from nltk.tokenize import sent_tokenize\n",
    "import numpy as np\n",
    "import networkx as nx\n",
    "import re\n",
    "\n",
    "def read_article(text):\n",
    "    sentences =[]\n",
    "    sentences = sent_tokenize(text)\n",
    "    for sentence in sentences:\n",
    "        sentence.replace(\"[^a-zA-Z0-9]\",\" \")\n",
    "\n",
    "    return sentences\n",
    "    \n",
    "def sentence_similarity(sent1,sent2,stopwords=None):\n",
    "    if stopwords is None:\n",
    "        stopwords = []\n",
    "    \n",
    "    sent1 = [w.lower() for w in sent1]\n",
    "    sent2 = [w.lower() for w in sent2]\n",
    "    \n",
    "    all_words = list(set(sent1 + sent2))\n",
    "    \n",
    "    vector1 = [0] * len(all_words)\n",
    "    vector2 = [0] * len(all_words)\n",
    "    \n",
    "    for w in sent1:\n",
    "        if not w in stopwords:\n",
    "            vector1[all_words.index(w)]+=1\n",
    "    \n",
    "    for w in sent2:\n",
    "        if not w in stopwords:\n",
    "            vector2[all_words.index(w)]+=1\n",
    "            \n",
    "    return 1-cosine_distance(vector1,vector2)\n",
    "\n",
    "def build_similarity_matrix(sentences,stop_words):\n",
    "    similarity_matrix = np.zeros((len(sentences),len(sentences)))\n",
    "    \n",
    "    for idx1 in range(len(sentences)):\n",
    "        for idx2 in range(len(sentences)):\n",
    "            if idx1!=idx2:\n",
    "                similarity_matrix[idx1][idx2] = sentence_similarity(sentences[idx1],sentences[idx2],stop_words)\n",
    "                \n",
    "    return similarity_matrix\n",
    "\n",
    "def generate_summary(text, top_n):\n",
    "    # 영어 불용어(stop words)를 사용하기 위해 stopwords.words('english')를 호출합니다.\n",
    "    stop_words = stopwords.words('english')\n",
    "    summarize_text = []\n",
    "    \n",
    "    # 텍스트를 문장 단위로 분리합니다. (read_article 함수 호출)\n",
    "    sentences = read_article(text)\n",
    "    \n",
    "    # 문장 간 유사도 행렬을 생성합니다. (build_similarity_matrix 함수 호출)\n",
    "    sentence_similarity_matrix = build_similarity_matrix(sentences, stop_words)\n",
    "    \n",
    "    # 유사도 그래프를 생성합니다. (넘파이 배열을 이용하여 nx.from_numpy_array 호출)\n",
    "    sentence_similarity_graph = nx.from_numpy_array(sentence_similarity_matrix)\n",
    "    \n",
    "    # 문장별 점수를 계산합니다. (페이지랭크 알고리즘을 사용하여 nx.pagerank 호출)\n",
    "    scores = nx.pagerank(sentence_similarity_graph)\n",
    "    \n",
    "    # 점수에 따라 문장을 정렬합니다.\n",
    "    ranked_sentences = sorted(((scores[i], s) for i, s in enumerate(sentences)), reverse=True)\n",
    "    \n",
    "    # 상위 top_n개의 문장을 선택합니다.\n",
    "    for i in range(top_n):\n",
    "        summarize_text.append(ranked_sentences[i][1])\n",
    "    \n",
    "    # 선택된 문장들을 하나의 문자열로 결합하여 반환합니다.\n",
    "    return \" \".join(summarize_text), len(sentences)\n"
   ]
  },
  {
   "cell_type": "code",
   "execution_count": 38,
   "id": "62ad8a96",
   "metadata": {},
   "outputs": [
    {
     "name": "stdout",
     "output_type": "stream",
     "text": [
      ">> 실제 Headline : amazon founder bezos shares photo with mother \n",
      ">> 예측 Headline :  bezos shares old pic of daughter mother\n",
      ">> 추출 요약 : amazon founder world third richest person jeff bezos took twitter share childhood picture mother following mother day captioned picture lottery mom thanks literally everything mom reacting picture twitter former ceo tweeted hey tie\n",
      "=====================================================================\n",
      ">> 실제 Headline : china to study human \n",
      ">> 예측 Headline :  scientists create of\n",
      ">> 추출 요약 : chinese scientists five monkeys monkey gene associated human diseases like depression cancer first time multiple made gene monkey research state media reported gene monkey disorder selected donor\n",
      "=====================================================================\n",
      ">> 실제 Headline : tata says no plans to list land \n",
      ">> 예측 Headline :  tata group to buy luxury car reports\n",
      ">> 추출 요약 : tata motors monday said plans list luxury car brand jaguar land rover reports suggested considering initial public offering unit truth rumours tata spokesperson noted earlier reports stated senior tata officials held preliminary discussions listing international stock exchange\n",
      "=====================================================================\n",
      ">> 실제 Headline : andhra gets state nearly five years after \n",
      ">> 예측 Headline :  andhra pradesh to be in\n",
      ">> 추출 요약 : nearly five years andhra pradesh state finalised new official use state consists ring leaves stones national placed bottom andhra\n",
      "=====================================================================\n",
      ">> 실제 Headline : can be to help remove \n",
      ">> 예측 Headline :  of\n",
      ">> 추출 요약 : transplant medical procedure collected tested donor placed patient helps treat problems replacing good bacteria killed inside body patient transplant via tube capsule\n",
      "=====================================================================\n",
      ">> 실제 Headline : pm modi govt using strikes to win votes congress \n",
      ">> 예측 Headline :  congress to fight polls in pak pm modi\n",
      ">> 추출 요약 : release video footage surgical strikes indian army congress spokesperson randeep surjewala accused pm narendra modi led government using strikes win votes added whenever government amit shah bjp starts failing misuse army political benefit\n",
      "=====================================================================\n",
      ">> 실제 Headline : great in north korea japan pm \n",
      ">> 예측 Headline :  trump calls kim jong un\n",
      ">> 추출 요약 : praising north korean leader kim jong un japanese prime minister shinzo abe said great meaning chairman kim clearly confirming us president donald trump complete denuclearisation korean peninsula said issue japanese citizens abducted north korea would require strong support us\n",
      "=====================================================================\n",
      ">> 실제 Headline : mumbai court in case \n",
      ">> 예측 Headline :  sentenced to life term for murder\n",
      ">> 추출 요약 : mumbai court convicted years imprisonment case found guilty attempt murder kidnapping taking people hostage board commercial ship thailand one four cases registered holding people different countries hostage\n",
      "=====================================================================\n",
      ">> 실제 Headline : mp school students forced to study in toilet \n",
      ">> 예측 Headline :  students at school school in school\n",
      ">> 추출 요약 : photograph primary school students madhya pradesh district shows children forced study toilet school building school run single teacher local mla reportedly aware existence school constituency\n",
      "=====================================================================\n",
      ">> 실제 Headline : laws which sc to govt \n",
      ">> 예측 Headline :  sc asks states to make policy to\n",
      ">> 추출 요약 : supreme court asked centre states provisions patients asserting government hospital deny treatment patients urged government awareness campaigns disease government duty ensure patients sc added\n",
      "=====================================================================\n"
     ]
    }
   ],
   "source": [
    "true = []\n",
    "pred = []\n",
    "extract = []\n",
    "\n",
    "for i in range(0, 10):\n",
    "    # 원본 text \n",
    "    temp_text = seq2text(encoder_input_test[i]) \n",
    "    # 실제 headline\n",
    "    temp_true = seq2summary(decoder_input_test[i])\n",
    "    true.append(temp_true)\n",
    "    print(\">> 실제 Headline :\", temp_true)\n",
    "    \n",
    "    # 예측 headline\n",
    "    temp_pred = decode_sequence(encoder_input_test[i].reshape(1, text_max_len))\n",
    "    pred.append(temp_pred)\n",
    "    print(\">> 예측 Headline :\", temp_pred)\n",
    "\n",
    "\n",
    "    temp_ext = generate_summary(temp_text,1)[0]\n",
    "    extract.append(temp_ext)\n",
    "    print(\">> 추출 요약 :\", temp_ext)\n",
    "    print('=====================================================================')"
   ]
  },
  {
   "cell_type": "markdown",
   "id": "b7a3c964",
   "metadata": {},
   "source": [
    "## (추가) 성능평가"
   ]
  },
  {
   "cell_type": "markdown",
   "id": "04e12a87",
   "metadata": {},
   "source": [
    "- 지표 설명\n",
    "    - rouge-1 : 예측한 요약문과 실제 요약문 간의 `unigram의 재현율`이다.\n",
    "    - rouge-2 : 예측한 요약문과 실제 요약문 간의 `bigram 재현율`이다.\n",
    "    - rouge-l : 가장 긴 공통 시퀀스(LCS)를 기반으로 한다. 두 시퀀스 사이의 LCS란최대 길이를 가지는 공통 하위 시퀀스를 말한다. 따라서 예측 및 실제 요약문에 LCS가 있다는 것은 `예측 요약 문과 실제 요약문이 일치하는 것`이라고 볼수 있다."
   ]
  },
  {
   "cell_type": "code",
   "execution_count": 39,
   "id": "64f84cbc",
   "metadata": {},
   "outputs": [
    {
     "name": "stdout",
     "output_type": "stream",
     "text": [
      "\u001b[33mWARNING: Running pip as the 'root' user can result in broken permissions and conflicting behaviour with the system package manager. It is recommended to use a virtual environment instead: https://pip.pypa.io/warnings/venv\u001b[0m\r\n"
     ]
    }
   ],
   "source": [
    "!pip install -q rouge"
   ]
  },
  {
   "cell_type": "code",
   "execution_count": 40,
   "id": "42fdb334",
   "metadata": {},
   "outputs": [
    {
     "name": "stderr",
     "output_type": "stream",
     "text": [
      "/tmp/ipykernel_2573/1239194333.py:22: UserWarning: FixedFormatter should only be used together with FixedLocator\n",
      "  ax[n].set_xticklabels(['recall','recall','precision','f-score','recall','precision','f-score'])\n"
     ]
    },
    {
     "data": {
      "image/png": "[encoded data removed]",
      "text/plain": [
       "<Figure size 576x1080 with 3 Axes>"
      ]
     },
     "metadata": {
      "needs_background": "light"
     },
     "output_type": "display_data"
    },
    {
     "name": "stdout",
     "output_type": "stream",
     "text": [
      "Done\n"
     ]
    }
   ],
   "source": [
    "import rouge\n",
    "\n",
    "pred_score = []\n",
    "extract_score = []\n",
    "\n",
    "rscore = rouge.Rouge()\n",
    "\n",
    "fig, ax = plt.subplots(3,1, figsize = (8, 15))\n",
    "for n, method in enumerate(['rouge-1','rouge-2','rouge-l']): # 채점 방식 차이 3개\n",
    "    for i in range(len(true)):\n",
    "        pred_score.append(rscore.get_scores(true[i], pred[i], avg=True)[method])\n",
    "        extract_score.append(rscore.get_scores(true[i], extract[i], avg=True)[method])\n",
    "\n",
    "    pr, er = np.mean([x['r'] for x in pred_score]), np.mean([x['r'] for x in extract_score])\n",
    "    pp, ep = np.mean([x['p'] for x in pred_score]), np.mean([x['p'] for x in extract_score])\n",
    "    pf, ef = np.mean([x['f'] for x in pred_score]), np.mean([x['f'] for x in extract_score])\n",
    "\n",
    "    ax[n].set_title(method, fontsize= 15)\n",
    "\n",
    "    ax[n].bar([0,1,2], [pr, pp, pf], label = 'abstractive')\n",
    "    ax[n].bar([3,4,5], [er,ep,ef], label = 'extractive')\n",
    "    ax[n].set_xticklabels(['recall','recall','precision','f-score','recall','precision','f-score'])\n",
    "    ax[n].set_ylim([0,0.5])\n",
    "\n",
    "    ax[n].legend()\n",
    "\n",
    "plt.show()\n",
    "print('Done')"
   ]
  },
  {
   "cell_type": "markdown",
   "id": "db04e197",
   "metadata": {},
   "source": [
    "- 결과\n",
    "    - 단어의 일치율(순서 무시)은 추출적 요약이 추상적 요약보다 성능이 우수하다\n",
    "    \n",
    "- 원인분석\n",
    "    1. 추상적 요약에 사용되는 `단어사전`의 한계\n",
    "        - 해결 방안 : 사전학습된 임베딩 모델(Word2Vec, FastText 등)을 이용하면 성능이 올라가나요?????\n",
    "    2. 학습에 사용되는 뉴스 원본(text)의 길이가 짧다"
   ]
  },
  {
   "cell_type": "code",
   "execution_count": null,
   "id": "bd894c37",
   "metadata": {},
   "outputs": [],
   "source": []
  }
 ],
 "metadata": {
  "kernelspec": {
   "display_name": "Python 3 (ipykernel)",
   "language": "python",
   "name": "python3"
  },
  "language_info": {
   "codemirror_mode": {
    "name": "ipython",
    "version": 3
   },
   "file_extension": ".py",
   "mimetype": "text/x-python",
   "name": "python",
   "nbconvert_exporter": "python",
   "pygments_lexer": "ipython3",
   "version": "3.9.7"
  }
 },
 "nbformat": 4,
 "nbformat_minor": 5
}
