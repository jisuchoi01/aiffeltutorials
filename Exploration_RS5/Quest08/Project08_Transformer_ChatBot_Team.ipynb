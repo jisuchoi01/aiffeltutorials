{
 "cells": [
  {
   "cell_type": "markdown",
   "metadata": {},
   "source": [
    "# Flow"
   ]
  },
  {
   "cell_type": "markdown",
   "metadata": {},
   "source": [
    "![flow](ChatBot.jpg)"
   ]
  },
  {
   "cell_type": "markdown",
   "metadata": {
    "id": "v2135zq4WI_d"
   },
   "source": [
    "## 조사과제: 한국어 정보로 답벗 만들기\n",
    "\n",
    "### 작업1.정보 수집하기\n",
    "한국어 챗봇 데이터는 송영숙님이 공개한 챗봇 데이터를 사용합니다.\n",
    "\n",
    "이 데이터는 아래의 링크에서 다운로드할 수 있습니다.\n",
    "\n",
    "### 작업2. 데이터 전처리하기\n",
    "영어 데이터와는 전혀 다른 데이터인 만큼 영어 데이터에 사용했던 전처리와 일부 동일한 전처리도 필요하겠지만 전체적으로는 다른 전처리를 수행해야 할 수도 있습니다.\n",
    "\n",
    "### 작업3. SubwordTextEncoder 사용하기\n",
    "한국어 데이터는 형태소 분석기를 사용하여 토크나이징을 해야 한다고 많은 분이 알고 있습니다. 하지만 여기서는 형태소 분석기가 아닌 위 실습에서 사용했던 내부 단어 토크나이저인 SubwordTextEncoder를 그대로 사용해보세요.\n",
    "\n",
    "### 작업4. 모델 구성하기\n",
    "위 실습 내용을 참고하여 트랜스포머 모델을 구현합니다.\n",
    "\n",
    "### 작업5. 모델 평가하기\n",
    "작업1에서 선택한 전처리 방법을 고려하여 입력된 문장에 대해서 대답을 얻는 예측 함수를 만듭니다."
   ]
  },
  {
   "cell_type": "markdown",
   "metadata": {
    "id": "kpu40pjfWxgN"
   },
   "source": [
    "### 평가문항\n",
    "1. 한국어 전처리를 통해 학습 데이터셋을 구축하였다.  \n",
    "공백과 특수문자 처리, 토크나이징, 병렬데이터 구축의 과정이 적절히 진행되었다.\n",
    "\n",
    "2. 트랜스포머 모델을 구현하여 한국어 챗봇 모델 학습을 정상적으로 진행하였다.  \n",
    "구현한 트랜스포머 모델이 한국어 병렬 데이터 학습 시 안정적으로 수렴하였다.\n",
    "\n",
    "3. 한국어 입력문장에 대해 한국어로 답변하는 함수를 구현하였다.  \n",
    "한국어 입력문장에 맥락에 맞는 한국어로 답변을 리턴하였다."
   ]
  },
  {
   "cell_type": "code",
   "execution_count": 1,
   "metadata": {
    "id": "v7ZmVkNHWIca"
   },
   "outputs": [],
   "source": [
    "# !wget https://github.com/songys/Chatbot_data/blob/master/ChatbotData.csv"
   ]
  },
  {
   "cell_type": "code",
   "execution_count": 42,
   "metadata": {
    "colab": {
     "base_uri": "https://localhost:8080/"
    },
    "id": "y1pk_6K-XXg8",
    "outputId": "5b90c258-f147-43ff-baa4-8b5b55c86378"
   },
   "outputs": [],
   "source": [
    "import tensorflow as tf\n",
    "import tensorflow_datasets as tfds\n",
    "from keras.callbacks import EarlyStopping , ModelCheckpoint\n",
    "\n",
    "import seaborn as sns\n",
    "import matplotlib.pyplot as plt\n",
    "\n",
    "import os\n",
    "import numpy as np\n",
    "import pandas as pd\n",
    "from tqdm import tqdm\n",
    "\n",
    "import re\n",
    "from konlpy.tag import Mecab\n",
    "from collections import Counter"
   ]
  },
  {
   "cell_type": "markdown",
   "metadata": {
    "id": "9gJod2tdJ5lw"
   },
   "source": [
    "## 학습데이터 구축\n",
    "### 작업1.정보 수집하기\n",
    "\n",
    "데이터를 받아오는 이번 스텝에서 목표로 하는 것은 다음과 같습니다.\n",
    "\n",
    "1. 질문과 답변의 쌍을 추출한다.\n",
    "2. 문장에서 단어와 구두점 사이에 공백을 추가한다.\n",
    "3. 알파벳과 ! ? , . 이 4개의 구두점을 제외하고 다른 특수문자는 모두 제거한다."
   ]
  },
  {
   "cell_type": "code",
   "execution_count": 2,
   "metadata": {},
   "outputs": [
    {
     "data": {
      "text/plain": [
       "['ChatbotData .csv']"
      ]
     },
     "execution_count": 2,
     "metadata": {},
     "output_type": "execute_result"
    }
   ],
   "source": [
    "data_path = './data'\n",
    "os.listdir(data_path)"
   ]
  },
  {
   "cell_type": "code",
   "execution_count": 3,
   "metadata": {},
   "outputs": [
    {
     "data": {
      "text/html": [
       "<div>\n",
       "<style scoped>\n",
       "    .dataframe tbody tr th:only-of-type {\n",
       "        vertical-align: middle;\n",
       "    }\n",
       "\n",
       "    .dataframe tbody tr th {\n",
       "        vertical-align: top;\n",
       "    }\n",
       "\n",
       "    .dataframe thead th {\n",
       "        text-align: right;\n",
       "    }\n",
       "</style>\n",
       "<table border=\"1\" class=\"dataframe\">\n",
       "  <thead>\n",
       "    <tr style=\"text-align: right;\">\n",
       "      <th></th>\n",
       "      <th>Q</th>\n",
       "      <th>A</th>\n",
       "      <th>label</th>\n",
       "    </tr>\n",
       "  </thead>\n",
       "  <tbody>\n",
       "    <tr>\n",
       "      <th>0</th>\n",
       "      <td>12시 땡!</td>\n",
       "      <td>하루가 또 가네요.</td>\n",
       "      <td>0</td>\n",
       "    </tr>\n",
       "    <tr>\n",
       "      <th>1</th>\n",
       "      <td>1지망 학교 떨어졌어</td>\n",
       "      <td>위로해 드립니다.</td>\n",
       "      <td>0</td>\n",
       "    </tr>\n",
       "    <tr>\n",
       "      <th>2</th>\n",
       "      <td>3박4일 놀러가고 싶다</td>\n",
       "      <td>여행은 언제나 좋죠.</td>\n",
       "      <td>0</td>\n",
       "    </tr>\n",
       "    <tr>\n",
       "      <th>3</th>\n",
       "      <td>3박4일 정도 놀러가고 싶다</td>\n",
       "      <td>여행은 언제나 좋죠.</td>\n",
       "      <td>0</td>\n",
       "    </tr>\n",
       "    <tr>\n",
       "      <th>4</th>\n",
       "      <td>PPL 심하네</td>\n",
       "      <td>눈살이 찌푸려지죠.</td>\n",
       "      <td>0</td>\n",
       "    </tr>\n",
       "    <tr>\n",
       "      <th>...</th>\n",
       "      <td>...</td>\n",
       "      <td>...</td>\n",
       "      <td>...</td>\n",
       "    </tr>\n",
       "    <tr>\n",
       "      <th>11818</th>\n",
       "      <td>훔쳐보는 것도 눈치 보임.</td>\n",
       "      <td>티가 나니까 눈치가 보이는 거죠!</td>\n",
       "      <td>2</td>\n",
       "    </tr>\n",
       "    <tr>\n",
       "      <th>11819</th>\n",
       "      <td>훔쳐보는 것도 눈치 보임.</td>\n",
       "      <td>훔쳐보는 거 티나나봐요.</td>\n",
       "      <td>2</td>\n",
       "    </tr>\n",
       "    <tr>\n",
       "      <th>11820</th>\n",
       "      <td>흑기사 해주는 짝남.</td>\n",
       "      <td>설렜겠어요.</td>\n",
       "      <td>2</td>\n",
       "    </tr>\n",
       "    <tr>\n",
       "      <th>11821</th>\n",
       "      <td>힘든 연애 좋은 연애라는게 무슨 차이일까?</td>\n",
       "      <td>잘 헤어질 수 있는 사이 여부인 거 같아요.</td>\n",
       "      <td>2</td>\n",
       "    </tr>\n",
       "    <tr>\n",
       "      <th>11822</th>\n",
       "      <td>힘들어서 결혼할까봐</td>\n",
       "      <td>도피성 결혼은 하지 않길 바라요.</td>\n",
       "      <td>2</td>\n",
       "    </tr>\n",
       "  </tbody>\n",
       "</table>\n",
       "<p>11823 rows × 3 columns</p>\n",
       "</div>"
      ],
      "text/plain": [
       "                             Q                         A  label\n",
       "0                       12시 땡!                하루가 또 가네요.      0\n",
       "1                  1지망 학교 떨어졌어                 위로해 드립니다.      0\n",
       "2                 3박4일 놀러가고 싶다               여행은 언제나 좋죠.      0\n",
       "3              3박4일 정도 놀러가고 싶다               여행은 언제나 좋죠.      0\n",
       "4                      PPL 심하네                눈살이 찌푸려지죠.      0\n",
       "...                        ...                       ...    ...\n",
       "11818           훔쳐보는 것도 눈치 보임.        티가 나니까 눈치가 보이는 거죠!      2\n",
       "11819           훔쳐보는 것도 눈치 보임.             훔쳐보는 거 티나나봐요.      2\n",
       "11820              흑기사 해주는 짝남.                    설렜겠어요.      2\n",
       "11821  힘든 연애 좋은 연애라는게 무슨 차이일까?  잘 헤어질 수 있는 사이 여부인 거 같아요.      2\n",
       "11822               힘들어서 결혼할까봐        도피성 결혼은 하지 않길 바라요.      2\n",
       "\n",
       "[11823 rows x 3 columns]"
      ]
     },
     "execution_count": 3,
     "metadata": {},
     "output_type": "execute_result"
    }
   ],
   "source": [
    "df = pd.read_csv(os.path.join(data_path,os.listdir(data_path)[0]))\n",
    "df # 11823 개의 data"
   ]
  },
  {
   "cell_type": "markdown",
   "metadata": {},
   "source": [
    "#### 1.1.데이터 확인\n",
    "\n",
    "- 영어나 숫자, 중복등이 있는지 확인\n",
    "- 각 사용된 용례를 확인했을 때 어떤 경우를 삭제해야하는 지 검토\n",
    "- 결론적으로 대부분 사례가 학습되어야할 것 같아 지우지는 않음"
   ]
  },
  {
   "cell_type": "markdown",
   "metadata": {},
   "source": [
    "#### 1.1.1 결측치 확인"
   ]
  },
  {
   "cell_type": "code",
   "execution_count": 288,
   "metadata": {},
   "outputs": [
    {
     "data": {
      "text/plain": [
       "Q        0\n",
       "A        0\n",
       "label    0\n",
       "dtype: int64"
      ]
     },
     "execution_count": 288,
     "metadata": {},
     "output_type": "execute_result"
    }
   ],
   "source": [
    "df.isnull().sum()"
   ]
  },
  {
   "cell_type": "markdown",
   "metadata": {},
   "source": [
    "#### 1.1.2 영어가 포함된 데이터"
   ]
  },
  {
   "cell_type": "code",
   "execution_count": 289,
   "metadata": {},
   "outputs": [
    {
     "data": {
      "text/plain": [
       "0    11791\n",
       "3       19\n",
       "2        7\n",
       "1        6\n",
       "Name: q, dtype: int64"
      ]
     },
     "execution_count": 289,
     "metadata": {},
     "output_type": "execute_result"
    }
   ],
   "source": [
    "pattern = r'[a-zA-Z]'\n",
    "df['q'] = df['Q'].apply(lambda x: len(re.findall(pattern, x))) # 검색되는 경우 알파벳 개수 return\n",
    "df['a'] = df['A'].apply(lambda x: len(re.findall(pattern, x)))\n",
    "df['q'].value_counts() #질문에서 알파벳이 검출된 경우가 42회"
   ]
  },
  {
   "cell_type": "code",
   "execution_count": 290,
   "metadata": {
    "scrolled": true
   },
   "outputs": [
    {
     "data": {
      "text/html": [
       "<div>\n",
       "<style scoped>\n",
       "    .dataframe tbody tr th:only-of-type {\n",
       "        vertical-align: middle;\n",
       "    }\n",
       "\n",
       "    .dataframe tbody tr th {\n",
       "        vertical-align: top;\n",
       "    }\n",
       "\n",
       "    .dataframe thead th {\n",
       "        text-align: right;\n",
       "    }\n",
       "</style>\n",
       "<table border=\"1\" class=\"dataframe\">\n",
       "  <thead>\n",
       "    <tr style=\"text-align: right;\">\n",
       "      <th></th>\n",
       "      <th>Q</th>\n",
       "      <th>A</th>\n",
       "      <th>label</th>\n",
       "      <th>q</th>\n",
       "      <th>a</th>\n",
       "    </tr>\n",
       "  </thead>\n",
       "  <tbody>\n",
       "    <tr>\n",
       "      <th>4</th>\n",
       "      <td>PPL 심하네</td>\n",
       "      <td>눈살이 찌푸려지죠.</td>\n",
       "      <td>0</td>\n",
       "      <td>3</td>\n",
       "      <td>0</td>\n",
       "    </tr>\n",
       "    <tr>\n",
       "      <th>5</th>\n",
       "      <td>SD카드 망가졌어</td>\n",
       "      <td>다시 새로 사는 게 마음 편해요.</td>\n",
       "      <td>0</td>\n",
       "      <td>2</td>\n",
       "      <td>0</td>\n",
       "    </tr>\n",
       "    <tr>\n",
       "      <th>6</th>\n",
       "      <td>SD카드 안돼</td>\n",
       "      <td>다시 새로 사는 게 마음 편해요.</td>\n",
       "      <td>0</td>\n",
       "      <td>2</td>\n",
       "      <td>0</td>\n",
       "    </tr>\n",
       "    <tr>\n",
       "      <th>7</th>\n",
       "      <td>SNS 맞팔 왜 안하지ㅠㅠ</td>\n",
       "      <td>잘 모르고 있을 수도 있어요.</td>\n",
       "      <td>0</td>\n",
       "      <td>3</td>\n",
       "      <td>0</td>\n",
       "    </tr>\n",
       "    <tr>\n",
       "      <th>8</th>\n",
       "      <td>SNS 시간낭비인 거 아는데 매일 하는 중</td>\n",
       "      <td>시간을 정하고 해보세요.</td>\n",
       "      <td>0</td>\n",
       "      <td>3</td>\n",
       "      <td>0</td>\n",
       "    </tr>\n",
       "    <tr>\n",
       "      <th>9</th>\n",
       "      <td>SNS 시간낭비인데 자꾸 보게됨</td>\n",
       "      <td>시간을 정하고 해보세요.</td>\n",
       "      <td>0</td>\n",
       "      <td>3</td>\n",
       "      <td>0</td>\n",
       "    </tr>\n",
       "    <tr>\n",
       "      <th>10</th>\n",
       "      <td>SNS보면 나만 빼고 다 행복해보여</td>\n",
       "      <td>자랑하는 자리니까요.</td>\n",
       "      <td>0</td>\n",
       "      <td>3</td>\n",
       "      <td>0</td>\n",
       "    </tr>\n",
       "    <tr>\n",
       "      <th>754</th>\n",
       "      <td>남친 SNS에 내 사진 없어</td>\n",
       "      <td>신경쓰지 마세요.</td>\n",
       "      <td>0</td>\n",
       "      <td>3</td>\n",
       "      <td>0</td>\n",
       "    </tr>\n",
       "    <tr>\n",
       "      <th>762</th>\n",
       "      <td>남친이 SNS에 내 사진에 안 올려</td>\n",
       "      <td>신경쓰지 마세요.</td>\n",
       "      <td>0</td>\n",
       "      <td>3</td>\n",
       "      <td>0</td>\n",
       "    </tr>\n",
       "    <tr>\n",
       "      <th>5420</th>\n",
       "      <td>jk김동욱 노래 생각나네</td>\n",
       "      <td>가사가 비슷한가봐요.</td>\n",
       "      <td>1</td>\n",
       "      <td>2</td>\n",
       "      <td>0</td>\n",
       "    </tr>\n",
       "    <tr>\n",
       "      <th>5421</th>\n",
       "      <td>SNS 를 끊어야 하는데.</td>\n",
       "      <td>SNS 끊는게 힘들죠.</td>\n",
       "      <td>1</td>\n",
       "      <td>3</td>\n",
       "      <td>3</td>\n",
       "    </tr>\n",
       "    <tr>\n",
       "      <th>5422</th>\n",
       "      <td>SNS 흔적</td>\n",
       "      <td>SNS 흔적 삭제하세요.</td>\n",
       "      <td>1</td>\n",
       "      <td>3</td>\n",
       "      <td>3</td>\n",
       "    </tr>\n",
       "    <tr>\n",
       "      <th>5423</th>\n",
       "      <td>sns에서 다른 이성이랑 대화하는걸 보니 화가 나</td>\n",
       "      <td>SNS 보지 마세요.</td>\n",
       "      <td>1</td>\n",
       "      <td>3</td>\n",
       "      <td>3</td>\n",
       "    </tr>\n",
       "    <tr>\n",
       "      <th>5639</th>\n",
       "      <td>그녀에 sns를 봤습니다.</td>\n",
       "      <td>SNS는 보지 않는 게 좋겠어요.</td>\n",
       "      <td>1</td>\n",
       "      <td>3</td>\n",
       "      <td>3</td>\n",
       "    </tr>\n",
       "    <tr>\n",
       "      <th>6333</th>\n",
       "      <td>몰래 sns 훔쳐보고 있는 나 한심해</td>\n",
       "      <td>SNS 검색하지 마세요.</td>\n",
       "      <td>1</td>\n",
       "      <td>3</td>\n",
       "      <td>3</td>\n",
       "    </tr>\n",
       "    <tr>\n",
       "      <th>7127</th>\n",
       "      <td>오늘 또 헤어진 사람의 sns를 봤네</td>\n",
       "      <td>sns를 삭제하는게 어떨까요. 미련만 남을 뿐이에요.</td>\n",
       "      <td>1</td>\n",
       "      <td>3</td>\n",
       "      <td>3</td>\n",
       "    </tr>\n",
       "    <tr>\n",
       "      <th>7164</th>\n",
       "      <td>오늘도 전 여친sns를 봤습니다</td>\n",
       "      <td>sns를 삭제하는게 어떨까요. 미련만 남을 뿐이에요.</td>\n",
       "      <td>1</td>\n",
       "      <td>3</td>\n",
       "      <td>3</td>\n",
       "    </tr>\n",
       "    <tr>\n",
       "      <th>8572</th>\n",
       "      <td>헤어진 남친의 SNS 행적</td>\n",
       "      <td>SNS 끊으세요.</td>\n",
       "      <td>1</td>\n",
       "      <td>3</td>\n",
       "      <td>3</td>\n",
       "    </tr>\n",
       "    <tr>\n",
       "      <th>8887</th>\n",
       "      <td>AB형 남자랑 썸 타면</td>\n",
       "      <td>최대한 이해해보세요.</td>\n",
       "      <td>2</td>\n",
       "      <td>2</td>\n",
       "      <td>0</td>\n",
       "    </tr>\n",
       "    <tr>\n",
       "      <th>8888</th>\n",
       "      <td>AB형 여자랑 썸 타면</td>\n",
       "      <td>하고 싶은 걸 표현할 수 있게 해주세요.</td>\n",
       "      <td>2</td>\n",
       "      <td>2</td>\n",
       "      <td>0</td>\n",
       "    </tr>\n",
       "    <tr>\n",
       "      <th>8889</th>\n",
       "      <td>A형 남자랑 썸을 타게 됨</td>\n",
       "      <td>사소한 걸 기억해보세요.</td>\n",
       "      <td>2</td>\n",
       "      <td>1</td>\n",
       "      <td>0</td>\n",
       "    </tr>\n",
       "    <tr>\n",
       "      <th>8890</th>\n",
       "      <td>A형 여자랑 썸을 타게 됨</td>\n",
       "      <td>세심하게 챙겨주세요.</td>\n",
       "      <td>2</td>\n",
       "      <td>1</td>\n",
       "      <td>0</td>\n",
       "    </tr>\n",
       "    <tr>\n",
       "      <th>8891</th>\n",
       "      <td>B형 남자랑 썸 탐.</td>\n",
       "      <td>계속 칭찬해보세요.</td>\n",
       "      <td>2</td>\n",
       "      <td>1</td>\n",
       "      <td>0</td>\n",
       "    </tr>\n",
       "    <tr>\n",
       "      <th>8892</th>\n",
       "      <td>B형 여자랑 썸 탐.</td>\n",
       "      <td>자신이 가장 자신다울 수 있게 도와주세요.</td>\n",
       "      <td>2</td>\n",
       "      <td>1</td>\n",
       "      <td>0</td>\n",
       "    </tr>\n",
       "    <tr>\n",
       "      <th>8893</th>\n",
       "      <td>CC 레알 별로임?</td>\n",
       "      <td>헤어질 경우 엮여 있는 사람이 많으니까요.</td>\n",
       "      <td>2</td>\n",
       "      <td>2</td>\n",
       "      <td>0</td>\n",
       "    </tr>\n",
       "    <tr>\n",
       "      <th>8894</th>\n",
       "      <td>O형 남자와 썸을 타는데</td>\n",
       "      <td>애교 부려보세요.</td>\n",
       "      <td>2</td>\n",
       "      <td>1</td>\n",
       "      <td>0</td>\n",
       "    </tr>\n",
       "    <tr>\n",
       "      <th>8895</th>\n",
       "      <td>O형 여자와 썸을 타는데</td>\n",
       "      <td>엄청 사랑해주세요.</td>\n",
       "      <td>2</td>\n",
       "      <td>1</td>\n",
       "      <td>0</td>\n",
       "    </tr>\n",
       "    <tr>\n",
       "      <th>8916</th>\n",
       "      <td>같은 과에 내 이상형인 남자애가 있는데 cc는 무리일까?</td>\n",
       "      <td>CC는 아무래도 제약이 있을 거예요.</td>\n",
       "      <td>2</td>\n",
       "      <td>2</td>\n",
       "      <td>2</td>\n",
       "    </tr>\n",
       "    <tr>\n",
       "      <th>9296</th>\n",
       "      <td>남자친구가 sns에 나 안 올려.</td>\n",
       "      <td>개인 성향 차이인 것 같아요.</td>\n",
       "      <td>2</td>\n",
       "      <td>3</td>\n",
       "      <td>0</td>\n",
       "    </tr>\n",
       "    <tr>\n",
       "      <th>10572</th>\n",
       "      <td>여자친구가 나를 sns에 올리지 않아서 서운해.</td>\n",
       "      <td>SNS에 올리는 걸 안 좋아하는 사람도 있어요.</td>\n",
       "      <td>2</td>\n",
       "      <td>3</td>\n",
       "      <td>3</td>\n",
       "    </tr>\n",
       "    <tr>\n",
       "      <th>10661</th>\n",
       "      <td>여자친구의 sns말투가 고민이야.</td>\n",
       "      <td>아예 보지 마세요.</td>\n",
       "      <td>2</td>\n",
       "      <td>3</td>\n",
       "      <td>0</td>\n",
       "    </tr>\n",
       "    <tr>\n",
       "      <th>11083</th>\n",
       "      <td>좋아하는 사람 생기면 어떻게든 sns같은 거 알아내서 친신하고 그래?</td>\n",
       "      <td>다가가는 방법 중에 하나니까요.</td>\n",
       "      <td>2</td>\n",
       "      <td>3</td>\n",
       "      <td>0</td>\n",
       "    </tr>\n",
       "  </tbody>\n",
       "</table>\n",
       "</div>"
      ],
      "text/plain": [
       "                                            Q                              A  \\\n",
       "4                                     PPL 심하네                     눈살이 찌푸려지죠.   \n",
       "5                                   SD카드 망가졌어             다시 새로 사는 게 마음 편해요.   \n",
       "6                                     SD카드 안돼             다시 새로 사는 게 마음 편해요.   \n",
       "7                              SNS 맞팔 왜 안하지ㅠㅠ               잘 모르고 있을 수도 있어요.   \n",
       "8                     SNS 시간낭비인 거 아는데 매일 하는 중                  시간을 정하고 해보세요.   \n",
       "9                           SNS 시간낭비인데 자꾸 보게됨                  시간을 정하고 해보세요.   \n",
       "10                        SNS보면 나만 빼고 다 행복해보여                    자랑하는 자리니까요.   \n",
       "754                           남친 SNS에 내 사진 없어                      신경쓰지 마세요.   \n",
       "762                       남친이 SNS에 내 사진에 안 올려                      신경쓰지 마세요.   \n",
       "5420                            jk김동욱 노래 생각나네                    가사가 비슷한가봐요.   \n",
       "5421                           SNS 를 끊어야 하는데.                   SNS 끊는게 힘들죠.   \n",
       "5422                                   SNS 흔적                  SNS 흔적 삭제하세요.   \n",
       "5423              sns에서 다른 이성이랑 대화하는걸 보니 화가 나                    SNS 보지 마세요.   \n",
       "5639                           그녀에 sns를 봤습니다.             SNS는 보지 않는 게 좋겠어요.   \n",
       "6333                     몰래 sns 훔쳐보고 있는 나 한심해                  SNS 검색하지 마세요.   \n",
       "7127                     오늘 또 헤어진 사람의 sns를 봤네  sns를 삭제하는게 어떨까요. 미련만 남을 뿐이에요.   \n",
       "7164                        오늘도 전 여친sns를 봤습니다  sns를 삭제하는게 어떨까요. 미련만 남을 뿐이에요.   \n",
       "8572                           헤어진 남친의 SNS 행적                      SNS 끊으세요.   \n",
       "8887                             AB형 남자랑 썸 타면                    최대한 이해해보세요.   \n",
       "8888                             AB형 여자랑 썸 타면         하고 싶은 걸 표현할 수 있게 해주세요.   \n",
       "8889                           A형 남자랑 썸을 타게 됨                  사소한 걸 기억해보세요.   \n",
       "8890                           A형 여자랑 썸을 타게 됨                    세심하게 챙겨주세요.   \n",
       "8891                              B형 남자랑 썸 탐.                     계속 칭찬해보세요.   \n",
       "8892                              B형 여자랑 썸 탐.        자신이 가장 자신다울 수 있게 도와주세요.   \n",
       "8893                               CC 레알 별로임?        헤어질 경우 엮여 있는 사람이 많으니까요.   \n",
       "8894                            O형 남자와 썸을 타는데                      애교 부려보세요.   \n",
       "8895                            O형 여자와 썸을 타는데                     엄청 사랑해주세요.   \n",
       "8916          같은 과에 내 이상형인 남자애가 있는데 cc는 무리일까?           CC는 아무래도 제약이 있을 거예요.   \n",
       "9296                       남자친구가 sns에 나 안 올려.               개인 성향 차이인 것 같아요.   \n",
       "10572              여자친구가 나를 sns에 올리지 않아서 서운해.     SNS에 올리는 걸 안 좋아하는 사람도 있어요.   \n",
       "10661                      여자친구의 sns말투가 고민이야.                     아예 보지 마세요.   \n",
       "11083  좋아하는 사람 생기면 어떻게든 sns같은 거 알아내서 친신하고 그래?              다가가는 방법 중에 하나니까요.   \n",
       "\n",
       "       label  q  a  \n",
       "4          0  3  0  \n",
       "5          0  2  0  \n",
       "6          0  2  0  \n",
       "7          0  3  0  \n",
       "8          0  3  0  \n",
       "9          0  3  0  \n",
       "10         0  3  0  \n",
       "754        0  3  0  \n",
       "762        0  3  0  \n",
       "5420       1  2  0  \n",
       "5421       1  3  3  \n",
       "5422       1  3  3  \n",
       "5423       1  3  3  \n",
       "5639       1  3  3  \n",
       "6333       1  3  3  \n",
       "7127       1  3  3  \n",
       "7164       1  3  3  \n",
       "8572       1  3  3  \n",
       "8887       2  2  0  \n",
       "8888       2  2  0  \n",
       "8889       2  1  0  \n",
       "8890       2  1  0  \n",
       "8891       2  1  0  \n",
       "8892       2  1  0  \n",
       "8893       2  2  0  \n",
       "8894       2  1  0  \n",
       "8895       2  1  0  \n",
       "8916       2  2  2  \n",
       "9296       2  3  0  \n",
       "10572      2  3  3  \n",
       "10661      2  3  0  \n",
       "11083      2  3  0  "
      ]
     },
     "execution_count": 290,
     "metadata": {},
     "output_type": "execute_result"
    }
   ],
   "source": [
    "df[df['q']!=0] # 질문에 알파벳 포함"
   ]
  },
  {
   "cell_type": "code",
   "execution_count": 291,
   "metadata": {},
   "outputs": [
    {
     "data": {
      "text/html": [
       "<div>\n",
       "<style scoped>\n",
       "    .dataframe tbody tr th:only-of-type {\n",
       "        vertical-align: middle;\n",
       "    }\n",
       "\n",
       "    .dataframe tbody tr th {\n",
       "        vertical-align: top;\n",
       "    }\n",
       "\n",
       "    .dataframe thead th {\n",
       "        text-align: right;\n",
       "    }\n",
       "</style>\n",
       "<table border=\"1\" class=\"dataframe\">\n",
       "  <thead>\n",
       "    <tr style=\"text-align: right;\">\n",
       "      <th></th>\n",
       "      <th>Q</th>\n",
       "      <th>A</th>\n",
       "      <th>label</th>\n",
       "      <th>q</th>\n",
       "      <th>a</th>\n",
       "    </tr>\n",
       "  </thead>\n",
       "  <tbody>\n",
       "    <tr>\n",
       "      <th>1401</th>\n",
       "      <td>떨어뜨려서 핸드폰 액정 나갔어</td>\n",
       "      <td>as 맡기세요.</td>\n",
       "      <td>0</td>\n",
       "      <td>0</td>\n",
       "      <td>2</td>\n",
       "    </tr>\n",
       "    <tr>\n",
       "      <th>2432</th>\n",
       "      <td>서핑하러 가고 싶다</td>\n",
       "      <td>주말에 gogo.</td>\n",
       "      <td>0</td>\n",
       "      <td>0</td>\n",
       "      <td>4</td>\n",
       "    </tr>\n",
       "    <tr>\n",
       "      <th>2994</th>\n",
       "      <td>액정 나갔어</td>\n",
       "      <td>as 맡기세요.</td>\n",
       "      <td>0</td>\n",
       "      <td>0</td>\n",
       "      <td>2</td>\n",
       "    </tr>\n",
       "    <tr>\n",
       "      <th>4742</th>\n",
       "      <td>컴터 고장났나봐</td>\n",
       "      <td>AS센터에 맡겨보세요.</td>\n",
       "      <td>0</td>\n",
       "      <td>0</td>\n",
       "      <td>2</td>\n",
       "    </tr>\n",
       "    <tr>\n",
       "      <th>4744</th>\n",
       "      <td>컴터가 맛이 갔어</td>\n",
       "      <td>AS센터에 맡겨보세요.</td>\n",
       "      <td>0</td>\n",
       "      <td>0</td>\n",
       "      <td>2</td>\n",
       "    </tr>\n",
       "    <tr>\n",
       "      <th>4745</th>\n",
       "      <td>컴터가 안돼</td>\n",
       "      <td>AS센터에 맡겨보세요.</td>\n",
       "      <td>0</td>\n",
       "      <td>0</td>\n",
       "      <td>2</td>\n",
       "    </tr>\n",
       "    <tr>\n",
       "      <th>5063</th>\n",
       "      <td>핸드폰 떨어뜨려서 고장 났나봐</td>\n",
       "      <td>as 맡기세요.</td>\n",
       "      <td>0</td>\n",
       "      <td>0</td>\n",
       "      <td>2</td>\n",
       "    </tr>\n",
       "    <tr>\n",
       "      <th>5421</th>\n",
       "      <td>SNS 를 끊어야 하는데.</td>\n",
       "      <td>SNS 끊는게 힘들죠.</td>\n",
       "      <td>1</td>\n",
       "      <td>3</td>\n",
       "      <td>3</td>\n",
       "    </tr>\n",
       "    <tr>\n",
       "      <th>5422</th>\n",
       "      <td>SNS 흔적</td>\n",
       "      <td>SNS 흔적 삭제하세요.</td>\n",
       "      <td>1</td>\n",
       "      <td>3</td>\n",
       "      <td>3</td>\n",
       "    </tr>\n",
       "    <tr>\n",
       "      <th>5423</th>\n",
       "      <td>sns에서 다른 이성이랑 대화하는걸 보니 화가 나</td>\n",
       "      <td>SNS 보지 마세요.</td>\n",
       "      <td>1</td>\n",
       "      <td>3</td>\n",
       "      <td>3</td>\n",
       "    </tr>\n",
       "    <tr>\n",
       "      <th>5639</th>\n",
       "      <td>그녀에 sns를 봤습니다.</td>\n",
       "      <td>SNS는 보지 않는 게 좋겠어요.</td>\n",
       "      <td>1</td>\n",
       "      <td>3</td>\n",
       "      <td>3</td>\n",
       "    </tr>\n",
       "    <tr>\n",
       "      <th>5807</th>\n",
       "      <td>나한테 욕 좀 해줘</td>\n",
       "      <td>XX놈아!</td>\n",
       "      <td>1</td>\n",
       "      <td>0</td>\n",
       "      <td>2</td>\n",
       "    </tr>\n",
       "    <tr>\n",
       "      <th>6333</th>\n",
       "      <td>몰래 sns 훔쳐보고 있는 나 한심해</td>\n",
       "      <td>SNS 검색하지 마세요.</td>\n",
       "      <td>1</td>\n",
       "      <td>3</td>\n",
       "      <td>3</td>\n",
       "    </tr>\n",
       "    <tr>\n",
       "      <th>7127</th>\n",
       "      <td>오늘 또 헤어진 사람의 sns를 봤네</td>\n",
       "      <td>sns를 삭제하는게 어떨까요. 미련만 남을 뿐이에요.</td>\n",
       "      <td>1</td>\n",
       "      <td>3</td>\n",
       "      <td>3</td>\n",
       "    </tr>\n",
       "    <tr>\n",
       "      <th>7164</th>\n",
       "      <td>오늘도 전 여친sns를 봤습니다</td>\n",
       "      <td>sns를 삭제하는게 어떨까요. 미련만 남을 뿐이에요.</td>\n",
       "      <td>1</td>\n",
       "      <td>3</td>\n",
       "      <td>3</td>\n",
       "    </tr>\n",
       "    <tr>\n",
       "      <th>8359</th>\n",
       "      <td>컴터가 맛이 갔어</td>\n",
       "      <td>AS센터에 맡겨보세요.</td>\n",
       "      <td>1</td>\n",
       "      <td>0</td>\n",
       "      <td>2</td>\n",
       "    </tr>\n",
       "    <tr>\n",
       "      <th>8476</th>\n",
       "      <td>핸드폰 떨어뜨려서 고장 났나봐</td>\n",
       "      <td>as 맡기세요.</td>\n",
       "      <td>1</td>\n",
       "      <td>0</td>\n",
       "      <td>2</td>\n",
       "    </tr>\n",
       "    <tr>\n",
       "      <th>8572</th>\n",
       "      <td>헤어진 남친의 SNS 행적</td>\n",
       "      <td>SNS 끊으세요.</td>\n",
       "      <td>1</td>\n",
       "      <td>3</td>\n",
       "      <td>3</td>\n",
       "    </tr>\n",
       "    <tr>\n",
       "      <th>8916</th>\n",
       "      <td>같은 과에 내 이상형인 남자애가 있는데 cc는 무리일까?</td>\n",
       "      <td>CC는 아무래도 제약이 있을 거예요.</td>\n",
       "      <td>2</td>\n",
       "      <td>2</td>\n",
       "      <td>2</td>\n",
       "    </tr>\n",
       "    <tr>\n",
       "      <th>10572</th>\n",
       "      <td>여자친구가 나를 sns에 올리지 않아서 서운해.</td>\n",
       "      <td>SNS에 올리는 걸 안 좋아하는 사람도 있어요.</td>\n",
       "      <td>2</td>\n",
       "      <td>3</td>\n",
       "      <td>3</td>\n",
       "    </tr>\n",
       "  </tbody>\n",
       "</table>\n",
       "</div>"
      ],
      "text/plain": [
       "                                     Q                              A  label  \\\n",
       "1401                  떨어뜨려서 핸드폰 액정 나갔어                       as 맡기세요.      0   \n",
       "2432                        서핑하러 가고 싶다                      주말에 gogo.      0   \n",
       "2994                            액정 나갔어                       as 맡기세요.      0   \n",
       "4742                          컴터 고장났나봐                   AS센터에 맡겨보세요.      0   \n",
       "4744                         컴터가 맛이 갔어                   AS센터에 맡겨보세요.      0   \n",
       "4745                            컴터가 안돼                   AS센터에 맡겨보세요.      0   \n",
       "5063                  핸드폰 떨어뜨려서 고장 났나봐                       as 맡기세요.      0   \n",
       "5421                    SNS 를 끊어야 하는데.                   SNS 끊는게 힘들죠.      1   \n",
       "5422                            SNS 흔적                  SNS 흔적 삭제하세요.      1   \n",
       "5423       sns에서 다른 이성이랑 대화하는걸 보니 화가 나                    SNS 보지 마세요.      1   \n",
       "5639                    그녀에 sns를 봤습니다.             SNS는 보지 않는 게 좋겠어요.      1   \n",
       "5807                        나한테 욕 좀 해줘                          XX놈아!      1   \n",
       "6333              몰래 sns 훔쳐보고 있는 나 한심해                  SNS 검색하지 마세요.      1   \n",
       "7127              오늘 또 헤어진 사람의 sns를 봤네  sns를 삭제하는게 어떨까요. 미련만 남을 뿐이에요.      1   \n",
       "7164                 오늘도 전 여친sns를 봤습니다  sns를 삭제하는게 어떨까요. 미련만 남을 뿐이에요.      1   \n",
       "8359                         컴터가 맛이 갔어                   AS센터에 맡겨보세요.      1   \n",
       "8476                  핸드폰 떨어뜨려서 고장 났나봐                       as 맡기세요.      1   \n",
       "8572                    헤어진 남친의 SNS 행적                      SNS 끊으세요.      1   \n",
       "8916   같은 과에 내 이상형인 남자애가 있는데 cc는 무리일까?           CC는 아무래도 제약이 있을 거예요.      2   \n",
       "10572       여자친구가 나를 sns에 올리지 않아서 서운해.     SNS에 올리는 걸 안 좋아하는 사람도 있어요.      2   \n",
       "\n",
       "       q  a  \n",
       "1401   0  2  \n",
       "2432   0  4  \n",
       "2994   0  2  \n",
       "4742   0  2  \n",
       "4744   0  2  \n",
       "4745   0  2  \n",
       "5063   0  2  \n",
       "5421   3  3  \n",
       "5422   3  3  \n",
       "5423   3  3  \n",
       "5639   3  3  \n",
       "5807   0  2  \n",
       "6333   3  3  \n",
       "7127   3  3  \n",
       "7164   3  3  \n",
       "8359   0  2  \n",
       "8476   0  2  \n",
       "8572   3  3  \n",
       "8916   2  2  \n",
       "10572  3  3  "
      ]
     },
     "execution_count": 291,
     "metadata": {},
     "output_type": "execute_result"
    }
   ],
   "source": [
    "df[df['a']!=0] # 대답에 알파벳 포함"
   ]
  },
  {
   "cell_type": "markdown",
   "metadata": {},
   "source": [
    "#### 1.1.3 숫자가 포함된 데이터"
   ]
  },
  {
   "cell_type": "code",
   "execution_count": 293,
   "metadata": {},
   "outputs": [
    {
     "data": {
      "text/plain": [
       "0    11434\n",
       "1      306\n",
       "2       71\n",
       "3       11\n",
       "4        1\n",
       "Name: q, dtype: int64"
      ]
     },
     "execution_count": 293,
     "metadata": {},
     "output_type": "execute_result"
    }
   ],
   "source": [
    "pattern = r'[0-9]'\n",
    "df['q'] = df['Q'].apply(lambda x: len(re.findall(pattern, x))) # 검색되는 경우 숫자 개수 return\n",
    "df['a'] = df['A'].apply(lambda x: len(re.findall(pattern, x)))\n",
    "df['q'].value_counts() #질문에서 알파벳이 검출된 경우가 389회"
   ]
  },
  {
   "cell_type": "code",
   "execution_count": 294,
   "metadata": {},
   "outputs": [
    {
     "data": {
      "text/html": [
       "<div>\n",
       "<style scoped>\n",
       "    .dataframe tbody tr th:only-of-type {\n",
       "        vertical-align: middle;\n",
       "    }\n",
       "\n",
       "    .dataframe tbody tr th {\n",
       "        vertical-align: top;\n",
       "    }\n",
       "\n",
       "    .dataframe thead th {\n",
       "        text-align: right;\n",
       "    }\n",
       "</style>\n",
       "<table border=\"1\" class=\"dataframe\">\n",
       "  <thead>\n",
       "    <tr style=\"text-align: right;\">\n",
       "      <th></th>\n",
       "      <th>Q</th>\n",
       "      <th>A</th>\n",
       "      <th>label</th>\n",
       "      <th>q</th>\n",
       "      <th>a</th>\n",
       "    </tr>\n",
       "  </thead>\n",
       "  <tbody>\n",
       "    <tr>\n",
       "      <th>0</th>\n",
       "      <td>12시 땡!</td>\n",
       "      <td>하루가 또 가네요.</td>\n",
       "      <td>0</td>\n",
       "      <td>2</td>\n",
       "      <td>0</td>\n",
       "    </tr>\n",
       "    <tr>\n",
       "      <th>1</th>\n",
       "      <td>1지망 학교 떨어졌어</td>\n",
       "      <td>위로해 드립니다.</td>\n",
       "      <td>0</td>\n",
       "      <td>1</td>\n",
       "      <td>0</td>\n",
       "    </tr>\n",
       "    <tr>\n",
       "      <th>2</th>\n",
       "      <td>3박4일 놀러가고 싶다</td>\n",
       "      <td>여행은 언제나 좋죠.</td>\n",
       "      <td>0</td>\n",
       "      <td>2</td>\n",
       "      <td>0</td>\n",
       "    </tr>\n",
       "    <tr>\n",
       "      <th>3</th>\n",
       "      <td>3박4일 정도 놀러가고 싶다</td>\n",
       "      <td>여행은 언제나 좋죠.</td>\n",
       "      <td>0</td>\n",
       "      <td>2</td>\n",
       "      <td>0</td>\n",
       "    </tr>\n",
       "    <tr>\n",
       "      <th>176</th>\n",
       "      <td>고3은 공부만 해야겠지.</td>\n",
       "      <td>공부가 최우선이죠.</td>\n",
       "      <td>0</td>\n",
       "      <td>1</td>\n",
       "      <td>0</td>\n",
       "    </tr>\n",
       "    <tr>\n",
       "      <th>...</th>\n",
       "      <td>...</td>\n",
       "      <td>...</td>\n",
       "      <td>...</td>\n",
       "      <td>...</td>\n",
       "      <td>...</td>\n",
       "    </tr>\n",
       "    <tr>\n",
       "      <th>10750</th>\n",
       "      <td>연애한지 2년째야</td>\n",
       "      <td>딱 좋을 때네요.</td>\n",
       "      <td>2</td>\n",
       "      <td>1</td>\n",
       "      <td>0</td>\n",
       "    </tr>\n",
       "    <tr>\n",
       "      <th>10948</th>\n",
       "      <td>자기를 3인칭으로 말하는 여자친구의 말투가 고민임.</td>\n",
       "      <td>귀엽게 봐주세요.</td>\n",
       "      <td>2</td>\n",
       "      <td>1</td>\n",
       "      <td>0</td>\n",
       "    </tr>\n",
       "    <tr>\n",
       "      <th>11184</th>\n",
       "      <td>좋아하는 애가 1년만 기다려 달라는데 어쩌지.</td>\n",
       "      <td>기다릴 수 있다면 본인 의지대로 하셔요.</td>\n",
       "      <td>2</td>\n",
       "      <td>1</td>\n",
       "      <td>0</td>\n",
       "    </tr>\n",
       "    <tr>\n",
       "      <th>11390</th>\n",
       "      <td>짝남이 내가 좋아하는걸 1도 몰라.</td>\n",
       "      <td>1은 알게 해야죠.</td>\n",
       "      <td>2</td>\n",
       "      <td>1</td>\n",
       "      <td>1</td>\n",
       "    </tr>\n",
       "    <tr>\n",
       "      <th>11522</th>\n",
       "      <td>짝녀가 좋아하는거 눈치 1도 못챔.</td>\n",
       "      <td>1은 알게 해야죠.</td>\n",
       "      <td>2</td>\n",
       "      <td>1</td>\n",
       "      <td>1</td>\n",
       "    </tr>\n",
       "  </tbody>\n",
       "</table>\n",
       "<p>389 rows × 5 columns</p>\n",
       "</div>"
      ],
      "text/plain": [
       "                                  Q                       A  label  q  a\n",
       "0                            12시 땡!              하루가 또 가네요.      0  2  0\n",
       "1                       1지망 학교 떨어졌어               위로해 드립니다.      0  1  0\n",
       "2                      3박4일 놀러가고 싶다             여행은 언제나 좋죠.      0  2  0\n",
       "3                   3박4일 정도 놀러가고 싶다             여행은 언제나 좋죠.      0  2  0\n",
       "176                   고3은 공부만 해야겠지.              공부가 최우선이죠.      0  1  0\n",
       "...                             ...                     ...    ... .. ..\n",
       "10750                     연애한지 2년째야               딱 좋을 때네요.      2  1  0\n",
       "10948  자기를 3인칭으로 말하는 여자친구의 말투가 고민임.               귀엽게 봐주세요.      2  1  0\n",
       "11184     좋아하는 애가 1년만 기다려 달라는데 어쩌지.  기다릴 수 있다면 본인 의지대로 하셔요.      2  1  0\n",
       "11390           짝남이 내가 좋아하는걸 1도 몰라.              1은 알게 해야죠.      2  1  1\n",
       "11522           짝녀가 좋아하는거 눈치 1도 못챔.              1은 알게 해야죠.      2  1  1\n",
       "\n",
       "[389 rows x 5 columns]"
      ]
     },
     "execution_count": 294,
     "metadata": {},
     "output_type": "execute_result"
    }
   ],
   "source": [
    "df[df['q']!=0]"
   ]
  },
  {
   "cell_type": "code",
   "execution_count": 295,
   "metadata": {},
   "outputs": [
    {
     "data": {
      "text/html": [
       "<div>\n",
       "<style scoped>\n",
       "    .dataframe tbody tr th:only-of-type {\n",
       "        vertical-align: middle;\n",
       "    }\n",
       "\n",
       "    .dataframe tbody tr th {\n",
       "        vertical-align: top;\n",
       "    }\n",
       "\n",
       "    .dataframe thead th {\n",
       "        text-align: right;\n",
       "    }\n",
       "</style>\n",
       "<table border=\"1\" class=\"dataframe\">\n",
       "  <thead>\n",
       "    <tr style=\"text-align: right;\">\n",
       "      <th></th>\n",
       "      <th>Q</th>\n",
       "      <th>A</th>\n",
       "      <th>label</th>\n",
       "      <th>q</th>\n",
       "      <th>a</th>\n",
       "    </tr>\n",
       "  </thead>\n",
       "  <tbody>\n",
       "    <tr>\n",
       "      <th>67</th>\n",
       "      <td>강렬한 첫인상 남겨야 하는데</td>\n",
       "      <td>처음 3초가 중요해요. 당신의 매력을 어필해보세요.</td>\n",
       "      <td>0</td>\n",
       "      <td>0</td>\n",
       "      <td>1</td>\n",
       "    </tr>\n",
       "    <tr>\n",
       "      <th>546</th>\n",
       "      <td>나 정신차리게 말해줘</td>\n",
       "      <td>나 자신에 집중하세요. 언제나 1순위에 자신을 두세요.</td>\n",
       "      <td>0</td>\n",
       "      <td>0</td>\n",
       "      <td>1</td>\n",
       "    </tr>\n",
       "    <tr>\n",
       "      <th>1150</th>\n",
       "      <td>단거 땡긴다.</td>\n",
       "      <td>맛있게 먹으면 0칼로리!</td>\n",
       "      <td>0</td>\n",
       "      <td>0</td>\n",
       "      <td>1</td>\n",
       "    </tr>\n",
       "    <tr>\n",
       "      <th>1163</th>\n",
       "      <td>달달한 거 먹고 싶다.</td>\n",
       "      <td>맛있게 먹으면 0칼로리!</td>\n",
       "      <td>0</td>\n",
       "      <td>0</td>\n",
       "      <td>1</td>\n",
       "    </tr>\n",
       "    <tr>\n",
       "      <th>1356</th>\n",
       "      <td>뒤척이다 늦잠 자게 되네</td>\n",
       "      <td>30분씩 일찍 자는 습관을 들여보세요.</td>\n",
       "      <td>0</td>\n",
       "      <td>0</td>\n",
       "      <td>2</td>\n",
       "    </tr>\n",
       "    <tr>\n",
       "      <th>1918</th>\n",
       "      <td>반배정 망했어</td>\n",
       "      <td>1년 힘내요.</td>\n",
       "      <td>0</td>\n",
       "      <td>0</td>\n",
       "      <td>1</td>\n",
       "    </tr>\n",
       "    <tr>\n",
       "      <th>1919</th>\n",
       "      <td>반배정부터 올해 끝났다.</td>\n",
       "      <td>1년 힘내요.</td>\n",
       "      <td>0</td>\n",
       "      <td>0</td>\n",
       "      <td>1</td>\n",
       "    </tr>\n",
       "    <tr>\n",
       "      <th>3225</th>\n",
       "      <td>연예인 되고 싶어</td>\n",
       "      <td>제가 1호팬 하겠습니다.</td>\n",
       "      <td>0</td>\n",
       "      <td>0</td>\n",
       "      <td>1</td>\n",
       "    </tr>\n",
       "    <tr>\n",
       "      <th>3226</th>\n",
       "      <td>연예인 되는 방법</td>\n",
       "      <td>제가 1호팬 하겠습니다.</td>\n",
       "      <td>0</td>\n",
       "      <td>0</td>\n",
       "      <td>1</td>\n",
       "    </tr>\n",
       "    <tr>\n",
       "      <th>3482</th>\n",
       "      <td>요즘 잠을 늦게 자</td>\n",
       "      <td>30분씩 일찍 자는 습관을 들여보세요.</td>\n",
       "      <td>0</td>\n",
       "      <td>0</td>\n",
       "      <td>2</td>\n",
       "    </tr>\n",
       "    <tr>\n",
       "      <th>4148</th>\n",
       "      <td>정신차리라고 한 마디 해줘</td>\n",
       "      <td>나 자신에 집중하세요. 언제나 1순위에 자신을 두세요.</td>\n",
       "      <td>0</td>\n",
       "      <td>0</td>\n",
       "      <td>1</td>\n",
       "    </tr>\n",
       "    <tr>\n",
       "      <th>4281</th>\n",
       "      <td>지금 자면 밤에 못 자겠지?</td>\n",
       "      <td>낮잠은 20분만 자세요.</td>\n",
       "      <td>0</td>\n",
       "      <td>0</td>\n",
       "      <td>2</td>\n",
       "    </tr>\n",
       "    <tr>\n",
       "      <th>4282</th>\n",
       "      <td>지금 자면 밤에 못 자는데 졸려</td>\n",
       "      <td>낮잠은 20분만 자세요.</td>\n",
       "      <td>0</td>\n",
       "      <td>0</td>\n",
       "      <td>2</td>\n",
       "    </tr>\n",
       "    <tr>\n",
       "      <th>4480</th>\n",
       "      <td>첫인상에서 강렬한 인상 남기기</td>\n",
       "      <td>처음 3초가 중요해요. 당신의 매력을 어필해보세요.</td>\n",
       "      <td>0</td>\n",
       "      <td>0</td>\n",
       "      <td>1</td>\n",
       "    </tr>\n",
       "    <tr>\n",
       "      <th>4481</th>\n",
       "      <td>첫인상은 뭘로 판단할까</td>\n",
       "      <td>첫인상은 상대방을 바라봤을때 3초에 결정난데요.</td>\n",
       "      <td>0</td>\n",
       "      <td>0</td>\n",
       "      <td>1</td>\n",
       "    </tr>\n",
       "    <tr>\n",
       "      <th>5006</th>\n",
       "      <td>한 번 보고 어떻게 판단하지</td>\n",
       "      <td>첫인상은 상대방을 바라봤을때 3초에 결정난데요.</td>\n",
       "      <td>0</td>\n",
       "      <td>0</td>\n",
       "      <td>1</td>\n",
       "    </tr>\n",
       "    <tr>\n",
       "      <th>5016</th>\n",
       "      <td>한복 맞출까 빌릴까</td>\n",
       "      <td>2번 이상 입을 일이 있으면 맞추세요.</td>\n",
       "      <td>0</td>\n",
       "      <td>0</td>\n",
       "      <td>1</td>\n",
       "    </tr>\n",
       "    <tr>\n",
       "      <th>5017</th>\n",
       "      <td>한복 빌려도 예쁠까</td>\n",
       "      <td>2번 이상 입을 일이 있으면 맞추세요.</td>\n",
       "      <td>0</td>\n",
       "      <td>0</td>\n",
       "      <td>1</td>\n",
       "    </tr>\n",
       "    <tr>\n",
       "      <th>5207</th>\n",
       "      <td>환승 가능?</td>\n",
       "      <td>환승은 30분 안에</td>\n",
       "      <td>0</td>\n",
       "      <td>0</td>\n",
       "      <td>2</td>\n",
       "    </tr>\n",
       "    <tr>\n",
       "      <th>5208</th>\n",
       "      <td>환승이 될까</td>\n",
       "      <td>환승은 30분 안에</td>\n",
       "      <td>0</td>\n",
       "      <td>0</td>\n",
       "      <td>2</td>\n",
       "    </tr>\n",
       "    <tr>\n",
       "      <th>5209</th>\n",
       "      <td>환승할까</td>\n",
       "      <td>환승은 30분 안에</td>\n",
       "      <td>0</td>\n",
       "      <td>0</td>\n",
       "      <td>2</td>\n",
       "    </tr>\n",
       "    <tr>\n",
       "      <th>5333</th>\n",
       "      <td>2주가 지났어</td>\n",
       "      <td>2주 동안 고생했어요.</td>\n",
       "      <td>1</td>\n",
       "      <td>1</td>\n",
       "      <td>1</td>\n",
       "    </tr>\n",
       "    <tr>\n",
       "      <th>5657</th>\n",
       "      <td>그놈 생일이예요</td>\n",
       "      <td>365일 중에 하루일 뿐이에요.</td>\n",
       "      <td>1</td>\n",
       "      <td>0</td>\n",
       "      <td>3</td>\n",
       "    </tr>\n",
       "    <tr>\n",
       "      <th>6059</th>\n",
       "      <td>다시 한번 또.</td>\n",
       "      <td>7전 8기.</td>\n",
       "      <td>1</td>\n",
       "      <td>0</td>\n",
       "      <td>2</td>\n",
       "    </tr>\n",
       "    <tr>\n",
       "      <th>8596</th>\n",
       "      <td>헤어진 지 2주가 지났네.</td>\n",
       "      <td>어느덧 2주가 흘렀나봐요.</td>\n",
       "      <td>1</td>\n",
       "      <td>1</td>\n",
       "      <td>1</td>\n",
       "    </tr>\n",
       "    <tr>\n",
       "      <th>8597</th>\n",
       "      <td>헤어진 지 이제 2주정도네.</td>\n",
       "      <td>어느덧 2주가 흘렀나봐요.</td>\n",
       "      <td>1</td>\n",
       "      <td>1</td>\n",
       "      <td>1</td>\n",
       "    </tr>\n",
       "    <tr>\n",
       "      <th>8634</th>\n",
       "      <td>헤어진지 2주째 .</td>\n",
       "      <td>어느덧 2주가 지났어요.</td>\n",
       "      <td>1</td>\n",
       "      <td>1</td>\n",
       "      <td>1</td>\n",
       "    </tr>\n",
       "    <tr>\n",
       "      <th>8635</th>\n",
       "      <td>헤어진지 2주쯤 됐군</td>\n",
       "      <td>어느덧 2주가 지났어요.</td>\n",
       "      <td>1</td>\n",
       "      <td>1</td>\n",
       "      <td>1</td>\n",
       "    </tr>\n",
       "    <tr>\n",
       "      <th>8644</th>\n",
       "      <td>헤어진지 3주</td>\n",
       "      <td>어느덧 3주가 지났군요.</td>\n",
       "      <td>1</td>\n",
       "      <td>1</td>\n",
       "      <td>1</td>\n",
       "    </tr>\n",
       "    <tr>\n",
       "      <th>8660</th>\n",
       "      <td>헤어진지 6일째</td>\n",
       "      <td>어느덧 6일이 되었나봐요.</td>\n",
       "      <td>1</td>\n",
       "      <td>1</td>\n",
       "      <td>1</td>\n",
       "    </tr>\n",
       "    <tr>\n",
       "      <th>8705</th>\n",
       "      <td>헤어진지2주가지났네</td>\n",
       "      <td>어느덧 2주가 지났어요.</td>\n",
       "      <td>1</td>\n",
       "      <td>1</td>\n",
       "      <td>1</td>\n",
       "    </tr>\n",
       "    <tr>\n",
       "      <th>8709</th>\n",
       "      <td>헤어진지 이제 5개월.</td>\n",
       "      <td>새로운 나날을 보내는 것도 5개월이 되었네요.</td>\n",
       "      <td>1</td>\n",
       "      <td>1</td>\n",
       "      <td>1</td>\n",
       "    </tr>\n",
       "    <tr>\n",
       "      <th>8764</th>\n",
       "      <td>환승 가능?</td>\n",
       "      <td>환승은 30분 안에</td>\n",
       "      <td>1</td>\n",
       "      <td>0</td>\n",
       "      <td>2</td>\n",
       "    </tr>\n",
       "    <tr>\n",
       "      <th>8957</th>\n",
       "      <td>결혼은 현실이지?</td>\n",
       "      <td>100퍼센트 현실입니다.</td>\n",
       "      <td>2</td>\n",
       "      <td>0</td>\n",
       "      <td>3</td>\n",
       "    </tr>\n",
       "    <tr>\n",
       "      <th>11257</th>\n",
       "      <td>좋아하는데 걸린 시간이 보통 어떻게 돼요?</td>\n",
       "      <td>1초가 걸릴 수도 있고 평생이 걸릴 수도 있어요.</td>\n",
       "      <td>2</td>\n",
       "      <td>0</td>\n",
       "      <td>1</td>\n",
       "    </tr>\n",
       "    <tr>\n",
       "      <th>11390</th>\n",
       "      <td>짝남이 내가 좋아하는걸 1도 몰라.</td>\n",
       "      <td>1은 알게 해야죠.</td>\n",
       "      <td>2</td>\n",
       "      <td>1</td>\n",
       "      <td>1</td>\n",
       "    </tr>\n",
       "    <tr>\n",
       "      <th>11522</th>\n",
       "      <td>짝녀가 좋아하는거 눈치 1도 못챔.</td>\n",
       "      <td>1은 알게 해야죠.</td>\n",
       "      <td>2</td>\n",
       "      <td>1</td>\n",
       "      <td>1</td>\n",
       "    </tr>\n",
       "  </tbody>\n",
       "</table>\n",
       "</div>"
      ],
      "text/plain": [
       "                             Q                               A  label  q  a\n",
       "67             강렬한 첫인상 남겨야 하는데    처음 3초가 중요해요. 당신의 매력을 어필해보세요.      0  0  1\n",
       "546                나 정신차리게 말해줘  나 자신에 집중하세요. 언제나 1순위에 자신을 두세요.      0  0  1\n",
       "1150                   단거 땡긴다.                   맛있게 먹으면 0칼로리!      0  0  1\n",
       "1163              달달한 거 먹고 싶다.                   맛있게 먹으면 0칼로리!      0  0  1\n",
       "1356             뒤척이다 늦잠 자게 되네           30분씩 일찍 자는 습관을 들여보세요.      0  0  2\n",
       "1918                   반배정 망했어                         1년 힘내요.      0  0  1\n",
       "1919             반배정부터 올해 끝났다.                         1년 힘내요.      0  0  1\n",
       "3225                 연예인 되고 싶어                   제가 1호팬 하겠습니다.      0  0  1\n",
       "3226                 연예인 되는 방법                   제가 1호팬 하겠습니다.      0  0  1\n",
       "3482                요즘 잠을 늦게 자           30분씩 일찍 자는 습관을 들여보세요.      0  0  2\n",
       "4148            정신차리라고 한 마디 해줘  나 자신에 집중하세요. 언제나 1순위에 자신을 두세요.      0  0  1\n",
       "4281           지금 자면 밤에 못 자겠지?                   낮잠은 20분만 자세요.      0  0  2\n",
       "4282         지금 자면 밤에 못 자는데 졸려                   낮잠은 20분만 자세요.      0  0  2\n",
       "4480          첫인상에서 강렬한 인상 남기기    처음 3초가 중요해요. 당신의 매력을 어필해보세요.      0  0  1\n",
       "4481              첫인상은 뭘로 판단할까      첫인상은 상대방을 바라봤을때 3초에 결정난데요.      0  0  1\n",
       "5006           한 번 보고 어떻게 판단하지      첫인상은 상대방을 바라봤을때 3초에 결정난데요.      0  0  1\n",
       "5016                한복 맞출까 빌릴까           2번 이상 입을 일이 있으면 맞추세요.      0  0  1\n",
       "5017                한복 빌려도 예쁠까           2번 이상 입을 일이 있으면 맞추세요.      0  0  1\n",
       "5207                    환승 가능?                      환승은 30분 안에      0  0  2\n",
       "5208                    환승이 될까                      환승은 30분 안에      0  0  2\n",
       "5209                      환승할까                      환승은 30분 안에      0  0  2\n",
       "5333                   2주가 지났어                    2주 동안 고생했어요.      1  1  1\n",
       "5657                  그놈 생일이예요               365일 중에 하루일 뿐이에요.      1  0  3\n",
       "6059                  다시 한번 또.                          7전 8기.      1  0  2\n",
       "8596            헤어진 지 2주가 지났네.                  어느덧 2주가 흘렀나봐요.      1  1  1\n",
       "8597           헤어진 지 이제 2주정도네.                  어느덧 2주가 흘렀나봐요.      1  1  1\n",
       "8634                헤어진지 2주째 .                   어느덧 2주가 지났어요.      1  1  1\n",
       "8635               헤어진지 2주쯤 됐군                   어느덧 2주가 지났어요.      1  1  1\n",
       "8644                   헤어진지 3주                   어느덧 3주가 지났군요.      1  1  1\n",
       "8660                  헤어진지 6일째                  어느덧 6일이 되었나봐요.      1  1  1\n",
       "8705                헤어진지2주가지났네                   어느덧 2주가 지났어요.      1  1  1\n",
       "8709              헤어진지 이제 5개월.       새로운 나날을 보내는 것도 5개월이 되었네요.      1  1  1\n",
       "8764                    환승 가능?                      환승은 30분 안에      1  0  2\n",
       "8957                 결혼은 현실이지?                   100퍼센트 현실입니다.      2  0  3\n",
       "11257  좋아하는데 걸린 시간이 보통 어떻게 돼요?     1초가 걸릴 수도 있고 평생이 걸릴 수도 있어요.      2  0  1\n",
       "11390      짝남이 내가 좋아하는걸 1도 몰라.                      1은 알게 해야죠.      2  1  1\n",
       "11522      짝녀가 좋아하는거 눈치 1도 못챔.                      1은 알게 해야죠.      2  1  1"
      ]
     },
     "execution_count": 295,
     "metadata": {},
     "output_type": "execute_result"
    }
   ],
   "source": [
    "df[df['a']!=0]"
   ]
  },
  {
   "cell_type": "markdown",
   "metadata": {},
   "source": [
    "#### 1.1.4 중복 데이터"
   ]
  },
  {
   "cell_type": "code",
   "execution_count": 5,
   "metadata": {},
   "outputs": [
    {
     "data": {
      "text/plain": [
       "7779"
      ]
     },
     "execution_count": 5,
     "metadata": {},
     "output_type": "execute_result"
    }
   ],
   "source": [
    "df['A'].nunique() # 대답이 4천개 가량 중복이 있음"
   ]
  },
  {
   "cell_type": "code",
   "execution_count": 6,
   "metadata": {},
   "outputs": [
    {
     "data": {
      "text/plain": [
       "맛있게 드세요.              21\n",
       "제가 있잖아요.              16\n",
       "조심하세요.                13\n",
       "감기 조심하세요.             13\n",
       "잘할 수 있을 거예요.          11\n",
       "                      ..\n",
       "더 많이 배웠길 바라요.          1\n",
       "개인 시간이 생길 거예요.         1\n",
       "쇼핑은 아울렛이죠.             1\n",
       "삶의 낙이죠.                1\n",
       "도피성 결혼은 하지 않길 바라요.     1\n",
       "Name: A, Length: 2934, dtype: int64"
      ]
     },
     "execution_count": 6,
     "metadata": {},
     "output_type": "execute_result"
    }
   ],
   "source": [
    "df[df['A'].duplicated()]['A'].value_counts() "
   ]
  },
  {
   "cell_type": "code",
   "execution_count": 7,
   "metadata": {},
   "outputs": [
    {
     "data": {
      "text/html": [
       "<div>\n",
       "<style scoped>\n",
       "    .dataframe tbody tr th:only-of-type {\n",
       "        vertical-align: middle;\n",
       "    }\n",
       "\n",
       "    .dataframe tbody tr th {\n",
       "        vertical-align: top;\n",
       "    }\n",
       "\n",
       "    .dataframe thead th {\n",
       "        text-align: right;\n",
       "    }\n",
       "</style>\n",
       "<table border=\"1\" class=\"dataframe\">\n",
       "  <thead>\n",
       "    <tr style=\"text-align: right;\">\n",
       "      <th></th>\n",
       "      <th>Q</th>\n",
       "      <th>A</th>\n",
       "      <th>label</th>\n",
       "    </tr>\n",
       "  </thead>\n",
       "  <tbody>\n",
       "    <tr>\n",
       "      <th>45</th>\n",
       "      <td>간장치킨 시켜야지</td>\n",
       "      <td>맛있게 드세요.</td>\n",
       "      <td>0</td>\n",
       "    </tr>\n",
       "    <tr>\n",
       "      <th>49</th>\n",
       "      <td>감 말랭이 먹고 싶다.</td>\n",
       "      <td>맛있게 드세요.</td>\n",
       "      <td>0</td>\n",
       "    </tr>\n",
       "    <tr>\n",
       "      <th>50</th>\n",
       "      <td>감 말랭이 먹어야지</td>\n",
       "      <td>맛있게 드세요.</td>\n",
       "      <td>0</td>\n",
       "    </tr>\n",
       "    <tr>\n",
       "      <th>1263</th>\n",
       "      <td>도시락 싸가지고 가야지</td>\n",
       "      <td>맛있게 드세요.</td>\n",
       "      <td>0</td>\n",
       "    </tr>\n",
       "    <tr>\n",
       "      <th>1267</th>\n",
       "      <td>도시락 싸봐야지</td>\n",
       "      <td>맛있게 드세요.</td>\n",
       "      <td>0</td>\n",
       "    </tr>\n",
       "    <tr>\n",
       "      <th>1270</th>\n",
       "      <td>도시락 싸옴</td>\n",
       "      <td>맛있게 드세요.</td>\n",
       "      <td>0</td>\n",
       "    </tr>\n",
       "    <tr>\n",
       "      <th>1271</th>\n",
       "      <td>도시락 싸왔어</td>\n",
       "      <td>맛있게 드세요.</td>\n",
       "      <td>0</td>\n",
       "    </tr>\n",
       "    <tr>\n",
       "      <th>1390</th>\n",
       "      <td>딸기 먹어야지</td>\n",
       "      <td>맛있게 드세요.</td>\n",
       "      <td>0</td>\n",
       "    </tr>\n",
       "    <tr>\n",
       "      <th>1391</th>\n",
       "      <td>딸기 먹을래</td>\n",
       "      <td>맛있게 드세요.</td>\n",
       "      <td>0</td>\n",
       "    </tr>\n",
       "    <tr>\n",
       "      <th>1888</th>\n",
       "      <td>바나나 먹고 싶다.</td>\n",
       "      <td>맛있게 드세요.</td>\n",
       "      <td>0</td>\n",
       "    </tr>\n",
       "    <tr>\n",
       "      <th>1889</th>\n",
       "      <td>바나나 먹어야지</td>\n",
       "      <td>맛있게 드세요.</td>\n",
       "      <td>0</td>\n",
       "    </tr>\n",
       "    <tr>\n",
       "      <th>1972</th>\n",
       "      <td>밥먹자.</td>\n",
       "      <td>맛있게 드세요.</td>\n",
       "      <td>0</td>\n",
       "    </tr>\n",
       "    <tr>\n",
       "      <th>1976</th>\n",
       "      <td>밥이나 먹자</td>\n",
       "      <td>맛있게 드세요.</td>\n",
       "      <td>0</td>\n",
       "    </tr>\n",
       "    <tr>\n",
       "      <th>2245</th>\n",
       "      <td>빵 먹어야지</td>\n",
       "      <td>맛있게 드세요.</td>\n",
       "      <td>0</td>\n",
       "    </tr>\n",
       "    <tr>\n",
       "      <th>2246</th>\n",
       "      <td>빵 한 개만 먹어야지</td>\n",
       "      <td>맛있게 드세요.</td>\n",
       "      <td>0</td>\n",
       "    </tr>\n",
       "    <tr>\n",
       "      <th>2678</th>\n",
       "      <td>스테끼 먹은거 몇 년 만이냐</td>\n",
       "      <td>맛있게 드세요.</td>\n",
       "      <td>0</td>\n",
       "    </tr>\n",
       "    <tr>\n",
       "      <th>2680</th>\n",
       "      <td>스테이크 먹으러 가고 싶어</td>\n",
       "      <td>맛있게 드세요.</td>\n",
       "      <td>0</td>\n",
       "    </tr>\n",
       "    <tr>\n",
       "      <th>2682</th>\n",
       "      <td>스테이크 썰러 가고 싶어</td>\n",
       "      <td>맛있게 드세요.</td>\n",
       "      <td>0</td>\n",
       "    </tr>\n",
       "    <tr>\n",
       "      <th>3371</th>\n",
       "      <td>오랜만에 스테끼 먹고 싶어</td>\n",
       "      <td>맛있게 드세요.</td>\n",
       "      <td>0</td>\n",
       "    </tr>\n",
       "    <tr>\n",
       "      <th>4436</th>\n",
       "      <td>참외 맛있다.</td>\n",
       "      <td>맛있게 드세요.</td>\n",
       "      <td>0</td>\n",
       "    </tr>\n",
       "    <tr>\n",
       "      <th>4437</th>\n",
       "      <td>참외 먹어야지</td>\n",
       "      <td>맛있게 드세요.</td>\n",
       "      <td>0</td>\n",
       "    </tr>\n",
       "    <tr>\n",
       "      <th>4581</th>\n",
       "      <td>치킨 시켜야지</td>\n",
       "      <td>맛있게 드세요.</td>\n",
       "      <td>0</td>\n",
       "    </tr>\n",
       "  </tbody>\n",
       "</table>\n",
       "</div>"
      ],
      "text/plain": [
       "                    Q         A  label\n",
       "45          간장치킨 시켜야지  맛있게 드세요.      0\n",
       "49       감 말랭이 먹고 싶다.  맛있게 드세요.      0\n",
       "50         감 말랭이 먹어야지  맛있게 드세요.      0\n",
       "1263     도시락 싸가지고 가야지  맛있게 드세요.      0\n",
       "1267         도시락 싸봐야지  맛있게 드세요.      0\n",
       "1270           도시락 싸옴  맛있게 드세요.      0\n",
       "1271          도시락 싸왔어  맛있게 드세요.      0\n",
       "1390          딸기 먹어야지  맛있게 드세요.      0\n",
       "1391           딸기 먹을래  맛있게 드세요.      0\n",
       "1888       바나나 먹고 싶다.  맛있게 드세요.      0\n",
       "1889         바나나 먹어야지  맛있게 드세요.      0\n",
       "1972             밥먹자.  맛있게 드세요.      0\n",
       "1976           밥이나 먹자  맛있게 드세요.      0\n",
       "2245           빵 먹어야지  맛있게 드세요.      0\n",
       "2246      빵 한 개만 먹어야지  맛있게 드세요.      0\n",
       "2678  스테끼 먹은거 몇 년 만이냐  맛있게 드세요.      0\n",
       "2680   스테이크 먹으러 가고 싶어  맛있게 드세요.      0\n",
       "2682    스테이크 썰러 가고 싶어  맛있게 드세요.      0\n",
       "3371   오랜만에 스테끼 먹고 싶어  맛있게 드세요.      0\n",
       "4436          참외 맛있다.  맛있게 드세요.      0\n",
       "4437          참외 먹어야지  맛있게 드세요.      0\n",
       "4581          치킨 시켜야지  맛있게 드세요.      0"
      ]
     },
     "execution_count": 7,
     "metadata": {},
     "output_type": "execute_result"
    }
   ],
   "source": [
    "df[df['A']=='맛있게 드세요.'] # 중복을 제거해야하는가? -> 다양한 상황에서도 동일한 대답은 나올 수 있어 No 라고 판단"
   ]
  },
  {
   "cell_type": "code",
   "execution_count": 8,
   "metadata": {},
   "outputs": [
    {
     "data": {
      "text/plain": [
       "Q             \n",
       "외로워               3\n",
       "사랑을 했다            2\n",
       "올해 왜 이러지          2\n",
       "너무 힘들다            2\n",
       "2년 가량의 연애         1\n",
       "                 ..\n",
       "배불러               1\n",
       "봄 타나 봄.           1\n",
       "불타올랐다가 식었어        1\n",
       "비 오는데?            1\n",
       "훔쳐보는 것도 눈치 보임.    1\n",
       "Length: 156, dtype: int64"
      ]
     },
     "execution_count": 8,
     "metadata": {},
     "output_type": "execute_result"
    }
   ],
   "source": [
    "df[df['Q'].duplicated()].value_counts('Q')"
   ]
  },
  {
   "cell_type": "code",
   "execution_count": 9,
   "metadata": {},
   "outputs": [
    {
     "data": {
      "text/html": [
       "<div>\n",
       "<style scoped>\n",
       "    .dataframe tbody tr th:only-of-type {\n",
       "        vertical-align: middle;\n",
       "    }\n",
       "\n",
       "    .dataframe tbody tr th {\n",
       "        vertical-align: top;\n",
       "    }\n",
       "\n",
       "    .dataframe thead th {\n",
       "        text-align: right;\n",
       "    }\n",
       "</style>\n",
       "<table border=\"1\" class=\"dataframe\">\n",
       "  <thead>\n",
       "    <tr style=\"text-align: right;\">\n",
       "      <th></th>\n",
       "      <th>Q</th>\n",
       "      <th>A</th>\n",
       "      <th>label</th>\n",
       "    </tr>\n",
       "  </thead>\n",
       "  <tbody>\n",
       "    <tr>\n",
       "      <th>3456</th>\n",
       "      <td>외로워</td>\n",
       "      <td>친구를 사귀어 보세요.</td>\n",
       "      <td>0</td>\n",
       "    </tr>\n",
       "    <tr>\n",
       "      <th>3457</th>\n",
       "      <td>외로워</td>\n",
       "      <td>혼자가 아니에요.</td>\n",
       "      <td>0</td>\n",
       "    </tr>\n",
       "    <tr>\n",
       "      <th>7261</th>\n",
       "      <td>외로워</td>\n",
       "      <td>제가 곁에 있을게요.</td>\n",
       "      <td>1</td>\n",
       "    </tr>\n",
       "    <tr>\n",
       "      <th>7262</th>\n",
       "      <td>외로워</td>\n",
       "      <td>혼자가 아니에요.</td>\n",
       "      <td>1</td>\n",
       "    </tr>\n",
       "  </tbody>\n",
       "</table>\n",
       "</div>"
      ],
      "text/plain": [
       "        Q             A  label\n",
       "3456  외로워  친구를 사귀어 보세요.      0\n",
       "3457  외로워     혼자가 아니에요.      0\n",
       "7261  외로워   제가 곁에 있을게요.      1\n",
       "7262  외로워     혼자가 아니에요.      1"
      ]
     },
     "execution_count": 9,
     "metadata": {},
     "output_type": "execute_result"
    }
   ],
   "source": [
    "df[df['Q']=='외로워'] # 같은 질문에 다양한 답을 할 수 있음 "
   ]
  },
  {
   "cell_type": "code",
   "execution_count": 10,
   "metadata": {},
   "outputs": [
    {
     "data": {
      "text/plain": [
       "결혼이나 하지 왜 자꾸 나한테 화 내냐구!    1\n",
       "야                          1\n",
       "중2 히스테리 알아?                1\n",
       "주차장이 꽉 찼어                  1\n",
       "저 사람이 왜 자꾸 볼까?             1\n",
       "                          ..\n",
       "뻔하다                        1\n",
       "비밀번호 뭐였더라                  1\n",
       "뭔가 무섭다                     1\n",
       "문 잠겼는데 집에 아무도 없네           1\n",
       "내일 만나자고 해볼까?               1\n",
       "Name: Q, Length: 73, dtype: int64"
      ]
     },
     "execution_count": 10,
     "metadata": {},
     "output_type": "execute_result"
    }
   ],
   "source": [
    "df[df.duplicated(['Q','A'])]['Q'].value_counts() # Q,A 전부 중복되는 경우를 검색"
   ]
  },
  {
   "cell_type": "code",
   "execution_count": 11,
   "metadata": {},
   "outputs": [
    {
     "data": {
      "text/html": [
       "<div>\n",
       "<style scoped>\n",
       "    .dataframe tbody tr th:only-of-type {\n",
       "        vertical-align: middle;\n",
       "    }\n",
       "\n",
       "    .dataframe tbody tr th {\n",
       "        vertical-align: top;\n",
       "    }\n",
       "\n",
       "    .dataframe thead th {\n",
       "        text-align: right;\n",
       "    }\n",
       "</style>\n",
       "<table border=\"1\" class=\"dataframe\">\n",
       "  <thead>\n",
       "    <tr style=\"text-align: right;\">\n",
       "      <th></th>\n",
       "      <th>Q</th>\n",
       "      <th>A</th>\n",
       "      <th>label</th>\n",
       "    </tr>\n",
       "  </thead>\n",
       "  <tbody>\n",
       "    <tr>\n",
       "      <th>2995</th>\n",
       "      <td>야</td>\n",
       "      <td>네</td>\n",
       "      <td>0</td>\n",
       "    </tr>\n",
       "    <tr>\n",
       "      <th>6909</th>\n",
       "      <td>야</td>\n",
       "      <td>네</td>\n",
       "      <td>1</td>\n",
       "    </tr>\n",
       "  </tbody>\n",
       "</table>\n",
       "</div>"
      ],
      "text/plain": [
       "      Q  A  label\n",
       "2995  야  네      0\n",
       "6909  야  네      1"
      ]
     },
     "execution_count": 11,
     "metadata": {},
     "output_type": "execute_result"
    }
   ],
   "source": [
    "df[df['Q']=='야'] # q,a 중복만 제거"
   ]
  },
  {
   "cell_type": "code",
   "execution_count": 12,
   "metadata": {
    "scrolled": true
   },
   "outputs": [
    {
     "data": {
      "text/html": [
       "<div>\n",
       "<style scoped>\n",
       "    .dataframe tbody tr th:only-of-type {\n",
       "        vertical-align: middle;\n",
       "    }\n",
       "\n",
       "    .dataframe tbody tr th {\n",
       "        vertical-align: top;\n",
       "    }\n",
       "\n",
       "    .dataframe thead th {\n",
       "        text-align: right;\n",
       "    }\n",
       "</style>\n",
       "<table border=\"1\" class=\"dataframe\">\n",
       "  <thead>\n",
       "    <tr style=\"text-align: right;\">\n",
       "      <th></th>\n",
       "      <th>Q</th>\n",
       "      <th>A</th>\n",
       "      <th>label</th>\n",
       "    </tr>\n",
       "  </thead>\n",
       "  <tbody>\n",
       "    <tr>\n",
       "      <th>2251</th>\n",
       "      <td>뻔하다</td>\n",
       "      <td>한가지만 보면 몰라요.</td>\n",
       "      <td>0</td>\n",
       "    </tr>\n",
       "    <tr>\n",
       "      <th>6561</th>\n",
       "      <td>뻔하다</td>\n",
       "      <td>한가지만 보면 몰라요.</td>\n",
       "      <td>1</td>\n",
       "    </tr>\n",
       "  </tbody>\n",
       "</table>\n",
       "</div>"
      ],
      "text/plain": [
       "        Q             A  label\n",
       "2251  뻔하다  한가지만 보면 몰라요.      0\n",
       "6561  뻔하다  한가지만 보면 몰라요.      1"
      ]
     },
     "execution_count": 12,
     "metadata": {},
     "output_type": "execute_result"
    }
   ],
   "source": [
    "df[df['Q']=='뻔하다'] # q,a 중복만 제거"
   ]
  },
  {
   "cell_type": "code",
   "execution_count": 296,
   "metadata": {
    "scrolled": true
   },
   "outputs": [
    {
     "data": {
      "text/plain": [
       "(11750, 5)"
      ]
     },
     "execution_count": 296,
     "metadata": {},
     "output_type": "execute_result"
    }
   ],
   "source": [
    "df = df.drop_duplicates(['Q','A'])\n",
    "df.shape # 73개 제거"
   ]
  },
  {
   "cell_type": "markdown",
   "metadata": {
    "id": "wQtUCyv-MMTY"
   },
   "source": [
    "### 작업2. 데이터 전처리하기\n",
    "#### 구두점 분리 및 이상 특문, 영어, 숫자 제거\n",
    "\n",
    "?나 .과 같은 구두점들이 단어들과 분리되어 단어와 구두점 사이에는 공백이 추가  \n",
    "단어를 토크나이징 하는 과정에서 구두점과 붙어있던 단어들을 하나의 단어로 인식하는 것을 방지"
   ]
  },
  {
   "cell_type": "code",
   "execution_count": 297,
   "metadata": {
    "colab": {
     "base_uri": "https://localhost:8080/"
    },
    "id": "lzxZ0_SzKDuJ",
    "outputId": "ebc14c8c-6a0d-4d22-aabc-5111ab4adc80"
   },
   "outputs": [],
   "source": [
    "# 전처리 함수\n",
    "def preprocess_sentence(sentence):\n",
    "    # 입력받은 sentence 양쪽 공백을 제거\n",
    "    sentence = sentence.strip()\n",
    "\n",
    "    # 단어와 구두점(punctuation) 사이의 거리를 만듭니다.\n",
    "    # 예를 들어서 \"I am a student.\" => \"I am a student .\"와 같이\n",
    "    # student와 온점 사이에 거리를 만듭니다.\n",
    "    sentence = re.sub(r\"([?.!,])\", r\" \\1 \", sentence)\n",
    "    sentence = re.sub(r'[\" \"]+', \" \", sentence)\n",
    "\n",
    "    # 특이 특수 문자를 공백인 ' '로 대체합니다.\n",
    "    sentence = re.sub(r\"[^0-9a-zA-Zㄱ-ㅎㅏ-ㅣ가-힣.?!,]\",' ', sentence)\n",
    "    sentence = sentence.strip()\n",
    "    return sentence"
   ]
  },
  {
   "cell_type": "code",
   "execution_count": 298,
   "metadata": {
    "colab": {
     "base_uri": "https://localhost:8080/"
    },
    "id": "7KK8goxGMFs_",
    "outputId": "c04c4acf-921b-4b5b-af71-3971f6a373ff"
   },
   "outputs": [
    {
     "name": "stdout",
     "output_type": "stream",
     "text": [
      "전체 샘플 수 : 11750\n",
      "전체 샘플 수 : 11750\n"
     ]
    }
   ],
   "source": [
    "#질문을 questions, 답변을 answers에 저장합니다.\n",
    "questions, answers = [preprocess_sentence(q) for q in df['Q'].tolist()], [preprocess_sentence(a) for a in df[\"A\"].tolist()]\n",
    "print('전체 샘플 수 :', len(questions))\n",
    "print('전체 샘플 수 :', len(answers))"
   ]
  },
  {
   "cell_type": "code",
   "execution_count": 304,
   "metadata": {
    "colab": {
     "base_uri": "https://localhost:8080/"
    },
    "id": "ewIqM-IsMFqh",
    "outputId": "d0666310-be4c-46ab-c946-b37a1caefb83"
   },
   "outputs": [
    {
     "name": "stdout",
     "output_type": "stream",
     "text": [
      "전처리 후의 22번째 질문 샘플: 간만에 떨리니까 좋더라\n",
      "전처리 후의 22번째 답변 샘플: 떨리는 감정은 그 자체로 소중해요 .\n"
     ]
    }
   ],
   "source": [
    "print('전처리 후의 22번째 질문 샘플: {}'.format(questions[40]))\n",
    "print('전처리 후의 22번째 답변 샘플: {}'.format(answers[40]))"
   ]
  },
  {
   "cell_type": "markdown",
   "metadata": {
    "id": "Y_2UxF_vMSk5"
   },
   "source": [
    "### 작업3. SubwordTextEncoder 사용하기\n",
    "\n",
    "1. TensorFlow Datasets SubwordTextEncoder 를 토크나이저로 사용한다.  단어보다 더 작은 단위인 Subword를 기준으로 토크나이징하고,  각 토큰을 고유한 정수로 인코딩 한다.\n",
    "2. 각 문장을 토큰화하고 각 문장의 시작과 끝을 나타내는 START_TOKEN 및 END_TOKEN을 추가한다.\n",
    "3. 최대 길이 MAX_LENGTH 인 40을 넘는 문장들은 필터링한다.\n",
    "4. MAX_LENGTH보다 길이가 짧은 문장들은 40에 맞도록 패딩 한다."
   ]
  },
  {
   "cell_type": "markdown",
   "metadata": {
    "id": "vHKWs1n3MiwC"
   },
   "source": [
    "### Vocabulary"
   ]
  },
  {
   "cell_type": "code",
   "execution_count": 300,
   "metadata": {},
   "outputs": [],
   "source": [
    "# 질문과 답변 데이터셋에 대해서 Vocabulary 생성\n",
    "tokenizer = tfds.deprecated.text.SubwordTextEncoder.build_from_corpus(questions + answers, target_vocab_size=2**13)"
   ]
  },
  {
   "cell_type": "code",
   "execution_count": 301,
   "metadata": {},
   "outputs": [],
   "source": [
    "# 시작 토큰과 종료 토큰에 고유한 정수를 부여합니다.\n",
    "START_TOKEN, END_TOKEN = [tokenizer.vocab_size], [tokenizer.vocab_size + 1]"
   ]
  },
  {
   "cell_type": "code",
   "execution_count": 302,
   "metadata": {},
   "outputs": [
    {
     "name": "stdout",
     "output_type": "stream",
     "text": [
      "START_TOKEN의 번호 : [8132]\n",
      "END_TOKEN의 번호 : [8133]\n"
     ]
    }
   ],
   "source": [
    "print('START_TOKEN의 번호 :' ,START_TOKEN)\n",
    "print('END_TOKEN의 번호 :' ,END_TOKEN)"
   ]
  },
  {
   "cell_type": "code",
   "execution_count": 303,
   "metadata": {},
   "outputs": [
    {
     "name": "stdout",
     "output_type": "stream",
     "text": [
      "8134\n"
     ]
    }
   ],
   "source": [
    "# 시작 토큰과 종료 토큰을 고려하여 +2를 하여 단어장의 크기를 산정합니다.\n",
    "VOCAB_SIZE = tokenizer.vocab_size + 2\n",
    "print(VOCAB_SIZE)"
   ]
  },
  {
   "cell_type": "code",
   "execution_count": 305,
   "metadata": {},
   "outputs": [
    {
     "name": "stdout",
     "output_type": "stream",
     "text": [
      "정수 인코딩 후의 21번째 질문 샘플: [3154, 306, 8111, 8034, 8049, 11, 672]\n",
      "정수 인코딩 후의 21번째 답변 샘플: [499, 124, 1]\n"
     ]
    }
   ],
   "source": [
    "# 임의의 22번째 샘플에 대해서 정수 인코딩 작업을 수행.\n",
    "# 각 토큰을 고유한 정수로 변환\n",
    "print('정수 인코딩 후의 21번째 질문 샘플: {}'.format(tokenizer.encode(questions[50])))\n",
    "print('정수 인코딩 후의 21번째 답변 샘플: {}'.format(tokenizer.encode(answers[50])))"
   ]
  },
  {
   "cell_type": "code",
   "execution_count": 306,
   "metadata": {},
   "outputs": [
    {
     "name": "stdout",
     "output_type": "stream",
     "text": [
      "정수 인코딩 후의 문장 [7834, 1718, 330, 4872]\n",
      "기존 문장: 간만에 떨리니까 좋더라\n"
     ]
    }
   ],
   "source": [
    "# 서브워드텍스트인코더 토크나이저의 .encode()와 .decode() 테스트해보기\n",
    "# 임의의 입력 문장을 sample_string에 저장\n",
    "sample_string = questions[40]\n",
    "\n",
    "# encode() : 텍스트 시퀀스 --> 정수 시퀀스\n",
    "tokenized_string = tokenizer.encode(sample_string)\n",
    "print ('정수 인코딩 후의 문장 {}'.format(tokenized_string))\n",
    "\n",
    "# decode() : 정수 시퀀스 --> 텍스트 시퀀스\n",
    "original_string = tokenizer.decode(tokenized_string)\n",
    "print ('기존 문장: {}'.format(original_string))"
   ]
  },
  {
   "cell_type": "code",
   "execution_count": 307,
   "metadata": {},
   "outputs": [
    {
     "name": "stdout",
     "output_type": "stream",
     "text": [
      "7834 ----> 간만에 \n",
      "1718 ----> 떨리\n",
      "330 ----> 니까 \n",
      "4872 ----> 좋더라\n"
     ]
    }
   ],
   "source": [
    "for ts in tokenized_string:\n",
    "    print ('{} ----> {}'.format(ts, tokenizer.decode([ts])))"
   ]
  },
  {
   "cell_type": "code",
   "execution_count": 308,
   "metadata": {},
   "outputs": [],
   "source": [
    "data = questions + answers"
   ]
  },
  {
   "cell_type": "code",
   "execution_count": 309,
   "metadata": {},
   "outputs": [
    {
     "name": "stdout",
     "output_type": "stream",
     "text": [
      "[Data Report]\n",
      "\n",
      "-- 질의응답의 최대 길이 : 78\n",
      "-- 질의응답의 최소 길이 : 1\n",
      "-- 질의응답의 평균 길이 : 14.639574\n",
      "-- 질의응답의 중간 길이 : 13.000000\n",
      "-- 질의응답의 표준 편차 : 6.742508\n",
      "\n"
     ]
    }
   ],
   "source": [
    "print('[Data Report]')\n",
    "print()\n",
    "max_len = max(len(l) for l in data)\n",
    "print('-- 질의응답의 최대 길이 : %d' % max_len)\n",
    "print('-- 질의응답의 최소 길이 : %d' % min(len(l) for l in data))\n",
    "print('-- 질의응답의 평균 길이 : %f' % (sum(map(len, data))/len(data)))\n",
    "print('-- 질의응답의 중간 길이 : %f' % (np.median(list(map(len, data)))))\n",
    "print('-- 질의응답의 표준 편차 : %f' % (np.std(list(map(len, data)))))\n",
    "print()"
   ]
  },
  {
   "cell_type": "code",
   "execution_count": 310,
   "metadata": {},
   "outputs": [
    {
     "data": {
      "text/plain": [
       "'data covered by length 11 : 36.40 percentage'"
      ]
     },
     "execution_count": 310,
     "metadata": {},
     "output_type": "execute_result"
    }
   ],
   "source": [
    "MAX_LENGTH = 11\n",
    "\"data covered by length %s : %.2f percentage\"%(MAX_LENGTH, sum([len(x)<=MAX_LENGTH for x in data])*100/len(data))"
   ]
  },
  {
   "cell_type": "code",
   "execution_count": 311,
   "metadata": {},
   "outputs": [
    {
     "data": {
      "image/png": "[encoded data removed]",
      "text/plain": [
       "<Figure size 432x288 with 1 Axes>"
      ]
     },
     "metadata": {
      "needs_background": "light"
     },
     "output_type": "display_data"
    }
   ],
   "source": [
    "plt.hist([len(s) for s in data], bins=50)\n",
    "plt.plot([MAX_LENGTH]*4000,range(4000), 'r--', label = 'Max length')\n",
    "plt.title('Full data length histogram')\n",
    "plt.xlabel('length of sample')\n",
    "plt.ylabel('number of sample')\n",
    "plt.legend()\n",
    "plt.show()"
   ]
  },
  {
   "cell_type": "code",
   "execution_count": 312,
   "metadata": {
    "colab": {
     "base_uri": "https://localhost:8080/"
    },
    "id": "oMvedz5yMFZX",
    "outputId": "c67b78e1-d019-4a4a-85e2-393b0c1fbb8c"
   },
   "outputs": [],
   "source": [
    "# 정수 인코딩, 최대 길이를 초과하는 샘플 제거, 패딩\n",
    "def tokenize_and_filter(inputs, outputs):\n",
    "    tokenized_inputs, tokenized_outputs = [], []\n",
    "\n",
    "    for (sentence1, sentence2) in zip(inputs, outputs):\n",
    "        # 정수 인코딩 과정에서 시작 토큰과 종료 토큰을 추가\n",
    "        sentence1 = START_TOKEN + tokenizer.encode(sentence1) + END_TOKEN\n",
    "        sentence2 = START_TOKEN + tokenizer.encode(sentence2) + END_TOKEN\n",
    "\n",
    "        # 최대 길이 40 이하인 경우에만 데이터셋으로 허용\n",
    "        if len(sentence1) <= MAX_LENGTH and len(sentence2) <= MAX_LENGTH:\n",
    "            tokenized_inputs.append(sentence1)\n",
    "            tokenized_outputs.append(sentence2)\n",
    "\n",
    "    # 최대 길이 40으로 모든 데이터셋을 패딩\n",
    "    tokenized_inputs = tf.keras.preprocessing.sequence.pad_sequences(tokenized_inputs,\n",
    "                                                                     maxlen=MAX_LENGTH,\n",
    "                                                                     padding='post')\n",
    "    tokenized_outputs = tf.keras.preprocessing.sequence.pad_sequences(tokenized_outputs,\n",
    "                                                                      maxlen=MAX_LENGTH,\n",
    "                                                                      padding='post')\n",
    "\n",
    "    return tokenized_inputs, tokenized_outputs"
   ]
  },
  {
   "cell_type": "code",
   "execution_count": 313,
   "metadata": {
    "colab": {
     "base_uri": "https://localhost:8080/"
    },
    "id": "hGpzEpFSMFW5",
    "outputId": "142beb84-b5f9-436a-98cb-e61ed38b9045"
   },
   "outputs": [
    {
     "name": "stdout",
     "output_type": "stream",
     "text": [
      "단어장의 크기 : 8134\n",
      "필터링 후의 질문 샘플 개수: 10035\n",
      "필터링 후의 답변 샘플 개수: 10035\n"
     ]
    }
   ],
   "source": [
    "questions, answers = tokenize_and_filter(questions, answers)\n",
    "print('단어장의 크기 :',(VOCAB_SIZE))\n",
    "print('필터링 후의 질문 샘플 개수: {}'.format(len(questions)))\n",
    "print('필터링 후의 답변 샘플 개수: {}'.format(len(answers)))"
   ]
  },
  {
   "cell_type": "code",
   "execution_count": 314,
   "metadata": {},
   "outputs": [
    {
     "name": "stdout",
     "output_type": "stream",
     "text": [
      "[8132  624  367  416 5994 5151   47 8133    0    0    0]\n",
      "[8132  499  124    1 8133    0    0    0    0    0    0]\n"
     ]
    }
   ],
   "source": [
    "# 0번 샘플을 임의로 출력\n",
    "print(questions[40])\n",
    "print(answers[40])"
   ]
  },
  {
   "cell_type": "markdown",
   "metadata": {
    "id": "YRQ2DzNXPQ4H"
   },
   "source": [
    "### 작업4. 모델 구성하기"
   ]
  },
  {
   "cell_type": "markdown",
   "metadata": {},
   "source": [
    "#### 4.1 Data 모듈을 이용한 데이터 구상"
   ]
  },
  {
   "cell_type": "code",
   "execution_count": 315,
   "metadata": {
    "id": "UhMXHUMuuzxq"
   },
   "outputs": [],
   "source": [
    "# 포지셔널 인코딩 레이어\n",
    "class PositionalEncoding(tf.keras.layers.Layer):\n",
    "    def __init__(self, position, d_model):\n",
    "        super(PositionalEncoding, self).__init__()\n",
    "        self.pos_encoding = self.positional_encoding(position, d_model)\n",
    "\n",
    "    def get_angles(self, position, i, d_model):\n",
    "        # 포지션과 i 값을 사용하여 각도 계산\n",
    "        angles = 1 / tf.pow(10000, (2 * (i // 2)) / tf.cast(d_model, tf.float32))\n",
    "        return position * angles\n",
    "\n",
    "    def positional_encoding(self, position, d_model):\n",
    "        # 포지셔널 인코딩을 생성하는 함수\n",
    "        # position: 입력으로 받은 문장의 최대 길이\n",
    "        # d_model: 임베딩된 단어의 차원 수 (모델의 hidden size)\n",
    "\n",
    "        # 각 위치별로 각도 계산\n",
    "        angle_rads = self.get_angles(\n",
    "            position=tf.range(position, dtype=tf.float32)[:, tf.newaxis],\n",
    "            i=tf.range(d_model, dtype=tf.float32)[tf.newaxis, :],\n",
    "            d_model=d_model)\n",
    "\n",
    "        # 배열의 짝수 인덱스에는 sin 함수를 적용하여 각도 값 계산\n",
    "        sines = tf.math.sin(angle_rads[:, 0::2])\n",
    "\n",
    "        # 배열의 홀수 인덱스에는 cosine 함수를 적용하여 각도 값 계산\n",
    "        cosines = tf.math.cos(angle_rads[:, 1::2])\n",
    "\n",
    "        # sin 함수와 cosine 함수의 값들을 교차하며 재배열하여 포지셔널 인코딩 생성\n",
    "        pos_encoding = tf.stack([sines, cosines], axis=0)\n",
    "        pos_encoding = tf.transpose(pos_encoding, [1, 2, 0])\n",
    "        pos_encoding = tf.reshape(pos_encoding, [position, d_model])\n",
    "\n",
    "        # pos_encoding에 차원을 추가하여 3차원 텐서로 만듭니다. (배치 크기를 포함한 3차원)\n",
    "        pos_encoding = pos_encoding[tf.newaxis, ...]\n",
    "\n",
    "        return tf.cast(pos_encoding, tf.float32)\n",
    "\n",
    "    def call(self, inputs):\n",
    "        # 입력 임베딩 텐서와 포지셔널 인코딩 텐서를 더하여 위치 정보를 추가합니다.\n",
    "        # 입력과 포지셔널 인코딩은 크기가 같아야 합니다.\n",
    "        return inputs + self.pos_encoding[:, :tf.shape(inputs)[1], :]\n"
   ]
  },
  {
   "cell_type": "code",
   "execution_count": 316,
   "metadata": {
    "colab": {
     "base_uri": "https://localhost:8080/",
     "height": 455
    },
    "id": "kDXFtwf7-VlY",
    "outputId": "933dff59-30ad-4e16-cae2-00175c4b1769"
   },
   "outputs": [
    {
     "data": {
      "image/png": "[encoded data removed]",
      "text/plain": [
       "<Figure size 432x288 with 2 Axes>"
      ]
     },
     "metadata": {
      "needs_background": "light"
     },
     "output_type": "display_data"
    }
   ],
   "source": [
    "# sample_pos_encoding = np.random.randint(5, size=(50, 512))\n",
    "sample_pos_encoding =  PositionalEncoding(50,512)\n",
    "\n",
    "\n",
    "plt.pcolormesh(sample_pos_encoding.pos_encoding.numpy()[0], cmap='RdBu')\n",
    "plt.xlabel('Depth')\n",
    "plt.xlim((0, 512))\n",
    "plt.ylabel('Position')\n",
    "plt.colorbar()\n",
    "plt.show()"
   ]
  },
  {
   "cell_type": "markdown",
   "metadata": {},
   "source": [
    "#### 4.2 필요 Layer class 선언\n",
    "- scaled_dot_product_attention : attention 연산\n",
    "- MultiHeadAttention : input 차원을 n_heads로 나누어 예산\n",
    "- create_padding_mask : 데이터 padding\n",
    "- create_look_ahead_mask : 유사도 matrix에서 key axis의 값들을 가려 query 부분에 집중시킴"
   ]
  },
  {
   "cell_type": "markdown",
   "metadata": {
    "id": "nZhKZpUTBnJC"
   },
   "source": [
    "### self attention\n",
    "\n",
    "다른 문장의 단어가 아니 `현재 문장 내`의 단어들이 서로 유사도를 구하는 경우\n",
    "\n",
    "![](https://d3s0tskafalll9.cloudfront.net/media/original_images/Untitled_13_hjMyZwL.png)\n",
    "\n",
    "위 그림은 self-attnetion 계산을 통하여 it과 animal과 높은 상관관계를 가지고 있다는 것을 도출한 예시를 표현\n",
    "\n",
    "출처 : [구글ai블로그포스팅](https://ai.googleblog.com/2017/08/transformer-novel-neural-network.html)"
   ]
  },
  {
   "cell_type": "code",
   "execution_count": 317,
   "metadata": {
    "colab": {
     "base_uri": "https://localhost:8080/"
    },
    "id": "R7aYFuOUAnum",
    "outputId": "3a49068f-27e8-40de-fea0-750de8ed2ef7"
   },
   "outputs": [],
   "source": [
    "# 스케일드 닷 프로덕트 어텐션 함수\n",
    "def scaled_dot_product_attention(query, key, value, mask):\n",
    "    # 어텐션 가중치는 Q와 K의 닷 프로덕트\n",
    "    matmul_qk = tf.matmul(query, key, transpose_b=True)\n",
    "\n",
    "    # 가중치를 정규화\n",
    "    depth = tf.cast(tf.shape(key)[-1], tf.float32)\n",
    "    logits = matmul_qk / tf.math.sqrt(depth)\n",
    "\n",
    "    # 패딩에 마스크 추가\n",
    "    if mask is not None:\n",
    "        logits += (mask * -1e9)\n",
    "\n",
    "    # softmax적용\n",
    "    attention_weights = tf.nn.softmax(logits, axis=-1)\n",
    "\n",
    "    # 최종 어텐션은 가중치와 V의 닷 프로덕트\n",
    "    output = tf.matmul(attention_weights, value)\n",
    "    return output\n"
   ]
  },
  {
   "cell_type": "markdown",
   "metadata": {
    "id": "k6fjcK-2Dsmb"
   },
   "source": [
    "#### multi-head attention\n",
    "\n",
    "![](https://d3s0tskafalll9.cloudfront.net/media/original_images/Untitled_19_FwmaA3q.png)\n",
    "\n",
    "차원을 head 개수로 나누어 그만큼 다양한 관점으로 보겠다의 의미\n",
    "(e.g.Convolution filter 개수)"
   ]
  },
  {
   "cell_type": "code",
   "execution_count": 318,
   "metadata": {
    "colab": {
     "base_uri": "https://localhost:8080/"
    },
    "id": "1-uqpppoDid4",
    "outputId": "f5121d48-1b84-4390-a18a-1c3b6816a0d3"
   },
   "outputs": [],
   "source": [
    "class MultiHeadAttention(tf.keras.layers.Layer):\n",
    "\n",
    "    def __init__(self, d_model, num_heads, name=\"multi_head_attention\"):\n",
    "        super(MultiHeadAttention, self).__init__(name=name)\n",
    "        self.num_heads = num_heads\n",
    "        self.d_model = d_model\n",
    "\n",
    "        assert d_model % self.num_heads == 0\n",
    "\n",
    "        self.depth = d_model // self.num_heads\n",
    "\n",
    "        self.query_dense = tf.keras.layers.Dense(units=d_model)\n",
    "        self.key_dense = tf.keras.layers.Dense(units=d_model)\n",
    "        self.value_dense = tf.keras.layers.Dense(units=d_model)\n",
    "\n",
    "        self.dense = tf.keras.layers.Dense(units=d_model)\n",
    "\n",
    "    def split_heads(self, inputs, batch_size):\n",
    "        inputs = tf.reshape(inputs,\n",
    "                            shape=(batch_size, -1, self.num_heads, self.depth))\n",
    "        return tf.transpose(inputs, perm=[0, 2, 1, 3])\n",
    "\n",
    "    def call(self, inputs):\n",
    "        query, key, value, mask = inputs['query'], inputs['key'], inputs['value'], inputs['mask']\n",
    "        batch_size = tf.shape(query)[0]\n",
    "\n",
    "        # Q, K, V에 각각 Dense를 적용합니다\n",
    "        query = self.query_dense(query)\n",
    "        key = self.key_dense(key)\n",
    "        value = self.value_dense(value)\n",
    "\n",
    "        # 병렬 연산을 위한 머리를 여러 개 만듭니다\n",
    "        query = self.split_heads(query, batch_size)\n",
    "        key = self.split_heads(key, batch_size)\n",
    "        value = self.split_heads(value, batch_size)\n",
    "\n",
    "        # 스케일드 닷 프로덕트 어텐션 함수\n",
    "        scaled_attention = scaled_dot_product_attention(query, key, value, mask)\n",
    "\n",
    "        scaled_attention = tf.transpose(scaled_attention, perm=[0, 2, 1, 3])\n",
    "\n",
    "        # 어텐션 연산 후에 각 결과를 다시 연결(concatenate)합니다\n",
    "        concat_attention = tf.reshape(scaled_attention,\n",
    "                                      (batch_size, -1, self.d_model))\n",
    "\n",
    "        # 최종 결과에도 Dense를 한 번 더 적용합니다\n",
    "        outputs = self.dense(concat_attention)\n",
    "\n",
    "        return outputs"
   ]
  },
  {
   "cell_type": "markdown",
   "metadata": {
    "id": "vETdlCxME7M3"
   },
   "source": [
    "#### masking\n",
    "\n",
    "![](https://d3s0tskafalll9.cloudfront.net/media/images/1365906-20200410103623697-871078599.max-800x600.png)\n",
    "\n",
    "설정 길이만큼 자르고 채움\n",
    "\n",
    "#### look ahead mask\n",
    "\n",
    "한번에 문장을 입력받는 transformer의 경우 모든 문장을 보고 문장을 생성할 수 있어,  \n",
    "cheating을 방지하는 목적으로 수행\n",
    "\n",
    "![](https://d3s0tskafalll9.cloudfront.net/media/images/_.max-800x600.png)"
   ]
  },
  {
   "cell_type": "code",
   "execution_count": 319,
   "metadata": {
    "id": "RuTZj24KE2zm"
   },
   "outputs": [],
   "source": [
    "def create_padding_mask(x):\n",
    "    \"\"\"\n",
    "    패딩 마스크를 생성하는 함수입니다.\n",
    "\n",
    "    Args:\n",
    "      x: 입력 시퀀스 텐서. 정수로 구성된 텐서로서, 0은 패딩 값을 나타냅니다.\n",
    "         (예: [2, 4, 6, 0, 0]는 패딩이 적용된 길이가 5인 시퀀스입니다.)\n",
    "\n",
    "    Returns:\n",
    "      mask: 패딩 마스크. 패딩 위치에 1을 표시하는 텐서입니다. (pad 위치: True, 그 외: False)\n",
    "            3차원 텐서로서, (batch_size, 1, 1, sequence_length)의 크기를 가집니다.\n",
    "            이 마스크는 트랜스포머에서 패딩된 부분을 무시하는 데 사용됩니다.\n",
    "    \"\"\"\n",
    "\n",
    "    # x에서 값이 0인 위치를 찾아서 True로, 그 외 위치를 False로 변환합니다.\n",
    "    mask = tf.cast(tf.math.equal(x, 0), tf.float32)\n",
    "\n",
    "    # 차원을 늘려서 마스크를 (batch_size, 1, 1, sequence_length) 크기로 변환합니다.\n",
    "    # 이렇게 하면 브로드캐스팅을 이용하여 패딩 마스크를 인코더 및 디코더에서 사용할 수 있게 됩니다.\n",
    "    mask = mask[:, tf.newaxis, tf.newaxis, :]\n",
    "\n",
    "    return mask"
   ]
  },
  {
   "cell_type": "code",
   "execution_count": 320,
   "metadata": {
    "colab": {
     "base_uri": "https://localhost:8080/"
    },
    "id": "bfUa1yceE9xC",
    "outputId": "94622e5f-8c01-4fca-8ee0-ef9751df40a4"
   },
   "outputs": [
    {
     "name": "stdout",
     "output_type": "stream",
     "text": [
      "tf.Tensor(\n",
      "[[[[0. 0. 1. 0. 1.]]]\n",
      "\n",
      "\n",
      " [[[1. 1. 1. 0. 0.]]]], shape=(2, 1, 1, 5), dtype=float32)\n"
     ]
    }
   ],
   "source": [
    "#예시\n",
    "\n",
    "print(create_padding_mask(tf.constant([[1, 2, 0, 3, 0], [0, 0, 0, 4, 5]])))"
   ]
  },
  {
   "cell_type": "code",
   "execution_count": 321,
   "metadata": {
    "id": "LEpRgLItFMTt"
   },
   "outputs": [],
   "source": [
    "def create_look_ahead_mask(x):\n",
    "    \"\"\"\n",
    "    미래의 단어를 가리는(look-ahead) 마스크와 패딩 마스크를 결합하여 어텐션 마스크를 생성하는 함수입니다.\n",
    "\n",
    "    Args:\n",
    "      x: 입력 시퀀스 텐서. 정수로 구성된 텐서로서, 0은 패딩 값을 나타냅니다.\n",
    "         (예: [2, 4, 6, 0, 0]는 패딩이 적용된 길이가 5인 시퀀스입니다.)\n",
    "\n",
    "    Returns:\n",
    "      어텐션 마스크: 패딩 마스크와 미래 단어를 가리는 마스크를 결합한 결과입니다.\n",
    "                    트랜스포머의 디코더 부분에서 사용됩니다.\n",
    "    \"\"\"\n",
    "\n",
    "    # 입력 시퀀스의 길이를 가져옵니다.\n",
    "    seq_len = tf.shape(x)[1]\n",
    "\n",
    "    # 미래 단어를 가리는 마스크를 생성합니다.\n",
    "    look_ahead_mask = 1 - tf.linalg.band_part(tf.ones((seq_len, seq_len)), -1, 0)\n",
    "\n",
    "    # 패딩 마스크를 생성합니다. create_padding_mask 함수는 이전에 정의되어 있습니다.\n",
    "    padding_mask = create_padding_mask(x)\n",
    "\n",
    "    # 미래 단어를 가리는 마스크와 패딩 마스크를 결합합니다.\n",
    "    # tf.maximum 함수를 사용하여 어텐션 마스크를 생성합니다.\n",
    "    # tf.maximum 함수는 두 마스크 중에서 큰 값을 선택하는 역할을 합니다.\n",
    "    # 따라서 미래 단어가 있는 부분은 look_ahead_mask를 따르고, 패딩된 부분은 padding_mask를 따릅니다.\n",
    "    # 이렇게 어텐션 마스크를 생성하면 트랜스포머의 디코더에서 미래 단어와 패딩된 부분을 올바르게 처리할 수 있습니다.\n",
    "    attention_mask = tf.maximum(look_ahead_mask, padding_mask)\n",
    "\n",
    "    return attention_mask"
   ]
  },
  {
   "cell_type": "code",
   "execution_count": 322,
   "metadata": {
    "colab": {
     "base_uri": "https://localhost:8080/"
    },
    "id": "ycOV1kckGHhw",
    "outputId": "cf592e4f-5eee-4973-bbb6-cb9432ff0118"
   },
   "outputs": [
    {
     "name": "stdout",
     "output_type": "stream",
     "text": [
      "tf.Tensor(\n",
      "[[[[1. 1. 1. 1. 1.]\n",
      "   [1. 0. 1. 1. 1.]\n",
      "   [1. 0. 0. 1. 1.]\n",
      "   [1. 0. 0. 0. 1.]\n",
      "   [1. 0. 0. 0. 0.]]]], shape=(1, 1, 5, 5), dtype=float32)\n"
     ]
    }
   ],
   "source": [
    "# 이 마스킹과 패딩 마스킹은 별개이므로, 이 마스킹을 수행할 때 만약에 숫자 0인 단어가 있다면 이 또한 패딩 해야함\n",
    "# 만약 입력 시퀀스에 0과 같은 패딩 값을 가진 단어가 있다면, 이 단어들은 패딩된 부분이므로 어텐션 계산에 영향을 주지 않도록 패딩 마스크를 반드시 추가\n",
    "\n",
    "print(create_look_ahead_mask(tf.constant([[0, 5, 1, 5, 5]])))"
   ]
  },
  {
   "cell_type": "markdown",
   "metadata": {},
   "source": [
    "#### 4.2 Build Transformer\n",
    "\n",
    "- encoder (with encoder_layer)\n",
    "- decoder (with decoder_layer)\n",
    "\n",
    "- transfomer (Mask_layers + encoder + eecoder)"
   ]
  },
  {
   "cell_type": "markdown",
   "metadata": {
    "id": "DDCKJdi8HdM0"
   },
   "source": [
    "#### Encoder\n",
    "\n",
    "구조\n",
    "1. Self-Attention  \n",
    "2. Feed Forward Neural Network\n",
    "\n",
    "![Encoder](https://d3s0tskafalll9.cloudfront.net/media/images/Untitled_22_teJgoCi.max-800x600.png)\n",
    "\n",
    "근데 self-attention은 multi-head를 통해 병렬적 진행\n",
    "\n",
    "이 layer들을 원하는 만큼 연결하여 값을 이해하고 decoder로 전달"
   ]
  },
  {
   "cell_type": "code",
   "execution_count": 323,
   "metadata": {
    "colab": {
     "base_uri": "https://localhost:8080/"
    },
    "id": "JJOf8uGsGcM2",
    "outputId": "243e5e9c-52bc-406d-d1f7-0424b11f867b"
   },
   "outputs": [],
   "source": [
    "# 인코더 하나의 레이어를 함수로 구현.\n",
    "# 이 하나의 레이어 안에는 두 개의 서브 레이어가 존재합니다.\n",
    "def encoder_layer(units, d_model, num_heads, dropout, name=\"encoder_layer\"):\n",
    "    inputs = tf.keras.Input(shape=(None, d_model), name=\"inputs\")\n",
    "\n",
    "    # 패딩 마스크 사용\n",
    "    padding_mask = tf.keras.Input(shape=(1, 1, None), name=\"padding_mask\")\n",
    "\n",
    "    # ===========첫 번째 서브 레이어 : 멀티 헤드 어텐션 수행 (셀프 어텐션===========\n",
    "    attention = MultiHeadAttention(\n",
    "      d_model, num_heads, name=\"attention\")({\n",
    "          'query': inputs,\n",
    "          'key': inputs,\n",
    "          'value': inputs,\n",
    "          'mask': padding_mask\n",
    "      })\n",
    "\n",
    "    # 어텐션의 결과는 Dropout과 Layer Normalization이라는 훈련을 돕는 테크닉을 수행\n",
    "    attention = tf.keras.layers.Dropout(rate=dropout)(attention)\n",
    "    attention = tf.keras.layers.LayerNormalization(\n",
    "      epsilon=1e-6)(inputs + attention)\n",
    "\n",
    "    # ===========두 번째 서브 레이어 : 2개의 완전연결층 ===========\n",
    "    outputs = tf.keras.layers.Dense(units=units, activation='relu')(attention)\n",
    "    outputs = tf.keras.layers.Dense(units=d_model)(outputs)\n",
    "\n",
    "    # 완전연결층의 결과는 Dropout과 LayerNormalization이라는 훈련을 돕는 테크닉을 수행\n",
    "    outputs = tf.keras.layers.Dropout(rate=dropout)(outputs)\n",
    "    outputs = tf.keras.layers.LayerNormalization(\n",
    "      epsilon=1e-6)(attention + outputs)\n",
    "\n",
    "    return tf.keras.Model(inputs=[inputs, padding_mask], outputs=outputs, name=name)"
   ]
  },
  {
   "cell_type": "code",
   "execution_count": 324,
   "metadata": {
    "colab": {
     "base_uri": "https://localhost:8080/"
    },
    "id": "HIcbEikpGLt5",
    "outputId": "c0b6396a-1947-42f6-b1e9-9968a80bbc2a"
   },
   "outputs": [],
   "source": [
    "# 위의 encoder_layer 함수를 이용하여 원하는 만큼 적재\n",
    "def encoder(vocab_size,\n",
    "            num_layers,\n",
    "            units,\n",
    "            d_model,\n",
    "            num_heads,\n",
    "            dropout,\n",
    "            name=\"encoder\"):\n",
    "    \n",
    "    inputs = tf.keras.Input(shape=(None,), name=\"inputs\")\n",
    "\n",
    "    # 패딩 마스크 사용\n",
    "    padding_mask = tf.keras.Input(shape=(1, 1, None), name=\"padding_mask\")\n",
    "\n",
    "    # 임베딩 레이어\n",
    "    embeddings = tf.keras.layers.Embedding(vocab_size, d_model)(inputs)\n",
    "    embeddings *= tf.math.sqrt(tf.cast(d_model, tf.float32))\n",
    "\n",
    "    # 포지셔널 인코딩\n",
    "    embeddings = PositionalEncoding(vocab_size, d_model)(embeddings)\n",
    "\n",
    "    outputs = tf.keras.layers.Dropout(rate=dropout)(embeddings)\n",
    "\n",
    "    # num_layers만큼 쌓아올린 인코더의 층.\n",
    "    for i in range(num_layers):\n",
    "        outputs = encoder_layer(\n",
    "            units=units,\n",
    "            d_model=d_model,\n",
    "            num_heads=num_heads,\n",
    "            dropout=dropout,\n",
    "            name=\"encoder_layer_{}\".format(i),\n",
    "        )([outputs, padding_mask])\n",
    "\n",
    "    return tf.keras.Model(inputs=[inputs, padding_mask], outputs=outputs, name=name)"
   ]
  },
  {
   "cell_type": "markdown",
   "metadata": {
    "id": "ZrZ3ZKcYIxCw"
   },
   "source": [
    "#### Decoder\n",
    "\n",
    "Encoder와 비교하면 한가지 module이 추가됨\n",
    "\n",
    "![https://d3s0tskafalll9.cloudfront.net/media/images/Untitled_24_Kj9egLY.max-800x600.png](https://d3s0tskafalll9.cloudfront.net/media/images/Untitled_24_Kj9egLY.max-800x600.png)\n",
    "\n",
    "\n",
    "1. Self-Attention  \n",
    "2. `Encoder-Decoder Attention  `\n",
    "3. Feed Forward Neural Network\n",
    "\n",
    "이 또한 원하는 만큼 쌓아서 만들 수 있으나\n",
    "많으면 많을 수록 학습소요시간이 몹시 길어짐"
   ]
  },
  {
   "cell_type": "markdown",
   "metadata": {
    "id": "6MNbHjwSJXSP"
   },
   "source": [
    "#### Encoder-Decoder Attention ?\n",
    "\n",
    "인코더가 입력 문장으로부터 정보를 디코더에 전달하는 과정  \n",
    "\n",
    " `Query가 디코더의 벡터`인 반면에 `Key와 Value가 인코더의 벡터`\n",
    " \n",
    "디코더가 하나의 출력 단어를 생성할 때  \n",
    "소스 문장에서 나왔던 인코더의 모든 출력 값 중 어떤 값과 가장 연관성이 있는지 구하기 위해 수치화하는 layer 구간\n",
    "[ref](https://nongnongai.tistory.com/62?category=924000)"
   ]
  },
  {
   "cell_type": "code",
   "execution_count": 325,
   "metadata": {
    "colab": {
     "base_uri": "https://localhost:8080/"
    },
    "id": "q7Js9cBDIv_2",
    "outputId": "5caeef7f-ae90-4aac-fcf1-f2948d5009ec"
   },
   "outputs": [],
   "source": [
    "# 디코더 하나의 레이어를 함수로 구현.\n",
    "# 이 하나의 레이어 안에는 세 개의 서브 레이어가 존재합니다.\n",
    "def decoder_layer(units, d_model, num_heads, dropout, name=\"decoder_layer\"):\n",
    "    \n",
    "    inputs = tf.keras.Input(shape=(None, d_model), name=\"inputs\")\n",
    "    enc_outputs = tf.keras.Input(shape=(None, d_model), name=\"encoder_outputs\")\n",
    "    look_ahead_mask = tf.keras.Input(shape=(1, None, None), name=\"look_ahead_mask\")\n",
    "    padding_mask = tf.keras.Input(shape=(1, 1, None), name='padding_mask')\n",
    "\n",
    "    # ===========첫 번째 서브 레이어 : 멀티 헤드 어텐션 수행 (셀프 어텐션)===========\n",
    "    attention1 = MultiHeadAttention(\n",
    "      d_model, num_heads, name=\"attention_1\")(inputs={\n",
    "          'query': inputs,\n",
    "          'key': inputs,\n",
    "          'value': inputs,\n",
    "          'mask': look_ahead_mask\n",
    "      })\n",
    "\n",
    "    # 멀티 헤드 어텐션의 결과는 LayerNormalization이라는 훈련을 돕는 테크닉을 수행\n",
    "    attention1 = tf.keras.layers.LayerNormalization(epsilon=1e-6)(attention1 + inputs)\n",
    "\n",
    "    # ===========두 번째 서브 레이어 : 마스크드 멀티 헤드 어텐션 수행 (인코더-디코더 어텐션)===========\n",
    "    attention2 = MultiHeadAttention(\n",
    "      d_model, num_heads, name=\"attention_2\")(inputs={\n",
    "          'query': attention1, # 첫번째 sublayer에서 진행한 결과 \n",
    "          'key': enc_outputs, # encoder 꺼\n",
    "          'value': enc_outputs,# encoder 꺼\n",
    "          'mask': padding_mask\n",
    "      })\n",
    "\n",
    "    # 마스크드 멀티 헤드 어텐션의 결과는\n",
    "    # Dropout과 LayerNormalization이라는 훈련을 돕는 테크닉을 수행\n",
    "    attention2 = tf.keras.layers.Dropout(rate=dropout)(attention2)\n",
    "    attention2 = tf.keras.layers.LayerNormalization(epsilon=1e-6)(attention2 + attention1)\n",
    "\n",
    "    # ===========세 번째 서브 레이어 : 2개의 완전연결층===========\n",
    "    outputs = tf.keras.layers.Dense(units=units, activation='relu')(attention2)\n",
    "    outputs = tf.keras.layers.Dense(units=d_model)(outputs)\n",
    "\n",
    "    # 완전연결층의 결과는 Dropout과 LayerNormalization 수행\n",
    "    outputs = tf.keras.layers.Dropout(rate=dropout)(outputs)\n",
    "    outputs = tf.keras.layers.LayerNormalization(epsilon=1e-6)(outputs + attention2)\n",
    "\n",
    "    return tf.keras.Model(inputs=[inputs, enc_outputs, look_ahead_mask, padding_mask],\n",
    "                          outputs=outputs,\n",
    "                          name=name)"
   ]
  },
  {
   "cell_type": "code",
   "execution_count": 326,
   "metadata": {
    "colab": {
     "base_uri": "https://localhost:8080/"
    },
    "id": "0-dXsZEPJWkK",
    "outputId": "71428e3f-d599-4322-9bce-5b4e0f0310f9"
   },
   "outputs": [],
   "source": [
    "def decoder(vocab_size,\n",
    "            num_layers,\n",
    "            units,\n",
    "            d_model,\n",
    "            num_heads,\n",
    "            dropout,\n",
    "            name='decoder'):\n",
    "    \n",
    "    inputs = tf.keras.Input(shape=(None,), name='inputs')\n",
    "    enc_outputs = tf.keras.Input(shape=(None, d_model), name='encoder_outputs')\n",
    "    look_ahead_mask = tf.keras.Input(shape=(1, None, None), name='look_ahead_mask')\n",
    "\n",
    "    # 패딩 마스크\n",
    "    padding_mask = tf.keras.Input(shape=(1, 1, None), name='padding_mask')\n",
    "\n",
    "    # 임베딩 레이어\n",
    "    embeddings = tf.keras.layers.Embedding(vocab_size, d_model)(inputs)\n",
    "    embeddings *= tf.math.sqrt(tf.cast(d_model, tf.float32))\n",
    "\n",
    "    # 포지셔널 인코딩\n",
    "    embeddings = PositionalEncoding(vocab_size, d_model)(embeddings)\n",
    "\n",
    "    # Dropout이라는 훈련을 돕는 테크닉을 수행\n",
    "    outputs = tf.keras.layers.Dropout(rate=dropout)(embeddings)\n",
    "\n",
    "    for i in range(num_layers):\n",
    "        outputs = decoder_layer(\n",
    "            units=units,\n",
    "            d_model=d_model,\n",
    "            num_heads=num_heads,\n",
    "            dropout=dropout,\n",
    "            name='decoder_layer_{}'.format(i),\n",
    "        )(inputs=[outputs, enc_outputs, look_ahead_mask, padding_mask])\n",
    "\n",
    "    return tf.keras.Model(inputs=[inputs, enc_outputs, look_ahead_mask, padding_mask],\n",
    "                        outputs=outputs,\n",
    "                        name=name)"
   ]
  },
  {
   "cell_type": "markdown",
   "metadata": {
    "id": "GU_P8XVSPpT-"
   },
   "source": [
    "#### 4.3 Build & Train Model"
   ]
  },
  {
   "cell_type": "code",
   "execution_count": 327,
   "metadata": {
    "colab": {
     "base_uri": "https://localhost:8080/"
    },
    "id": "Fdc4QnhiO7Ul",
    "outputId": "bf66dc18-faad-482f-f579-63a70788473b"
   },
   "outputs": [],
   "source": [
    "def transformer(vocab_size,\n",
    "                num_layers,\n",
    "                units,\n",
    "                d_model,\n",
    "                num_heads,\n",
    "                dropout,\n",
    "                name=\"transformer\"):\n",
    "    inputs = tf.keras.Input(shape=(None,), name=\"inputs\")\n",
    "    dec_inputs = tf.keras.Input(shape=(None,), name=\"dec_inputs\")\n",
    "\n",
    "    # 인코더에서 패딩을 위한 마스크\n",
    "    enc_padding_mask = tf.keras.layers.Lambda(\n",
    "      create_padding_mask, output_shape=(1, 1, None),\n",
    "      name='enc_padding_mask')(inputs)\n",
    "\n",
    "    # 디코더에서 미래의 토큰을 마스크 하기 위해서 사용합니다.\n",
    "    # 내부적으로 패딩 마스크도 포함되어져 있습니다.\n",
    "    look_ahead_mask = tf.keras.layers.Lambda(\n",
    "      create_look_ahead_mask,\n",
    "      output_shape=(1, None, None),\n",
    "      name='look_ahead_mask')(dec_inputs)\n",
    "\n",
    "    # 두 번째 어텐션 블록에서 인코더의 벡터들을 마스킹\n",
    "    # 디코더에서 패딩을 위한 마스크\n",
    "    dec_padding_mask = tf.keras.layers.Lambda(\n",
    "      create_padding_mask, output_shape=(1, 1, None),\n",
    "      name='dec_padding_mask')(inputs)\n",
    "\n",
    "    #=================================Encoder =================================\n",
    "    enc_outputs = encoder(\n",
    "      vocab_size=vocab_size,\n",
    "      num_layers=num_layers,\n",
    "      units=units,\n",
    "      d_model=d_model,\n",
    "      num_heads=num_heads,\n",
    "      dropout=dropout,\n",
    "    )(inputs=[inputs, enc_padding_mask])\n",
    "\n",
    "    #=================================Decoder =================================\n",
    "    dec_outputs = decoder(\n",
    "      vocab_size=vocab_size,\n",
    "      num_layers=num_layers,\n",
    "      units=units,\n",
    "      d_model=d_model,\n",
    "      num_heads=num_heads,\n",
    "      dropout=dropout,\n",
    "    )(inputs=[dec_inputs, enc_outputs, look_ahead_mask, dec_padding_mask]) \n",
    "    # dataset에서 question에 대한 answer를 decoder에 input을 넣음 (encoder 값이 아니라 실제 데이터를 넣어 Teacher forcing 진행)\n",
    "\n",
    "    # 완전연결층\n",
    "    outputs = tf.keras.layers.Dense(units=vocab_size, name=\"outputs\")(dec_outputs)\n",
    "\n",
    "    return tf.keras.Model(inputs=[inputs, dec_inputs], outputs=outputs, name=name)"
   ]
  },
  {
   "cell_type": "code",
   "execution_count": 328,
   "metadata": {
    "colab": {
     "base_uri": "https://localhost:8080/"
    },
    "id": "6aJCAhgWO7SY",
    "outputId": "97fa19ff-297e-4a5e-c18e-0db1ba660654"
   },
   "outputs": [
    {
     "name": "stdout",
     "output_type": "stream",
     "text": [
      "Model: \"transformer\"\n",
      "__________________________________________________________________________________________________\n",
      "Layer (type)                    Output Shape         Param #     Connected to                     \n",
      "==================================================================================================\n",
      "inputs (InputLayer)             [(None, None)]       0                                            \n",
      "__________________________________________________________________________________________________\n",
      "dec_inputs (InputLayer)         [(None, None)]       0                                            \n",
      "__________________________________________________________________________________________________\n",
      "enc_padding_mask (Lambda)       (None, 1, 1, None)   0           inputs[0][0]                     \n",
      "__________________________________________________________________________________________________\n",
      "encoder (Functional)            (None, None, 128)    1240320     inputs[0][0]                     \n",
      "                                                                 enc_padding_mask[0][0]           \n",
      "__________________________________________________________________________________________________\n",
      "look_ahead_mask (Lambda)        (None, 1, None, None 0           dec_inputs[0][0]                 \n",
      "__________________________________________________________________________________________________\n",
      "dec_padding_mask (Lambda)       (None, 1, 1, None)   0           inputs[0][0]                     \n",
      "__________________________________________________________________________________________________\n",
      "decoder (Functional)            (None, None, 128)    1372928     dec_inputs[0][0]                 \n",
      "                                                                 encoder[0][0]                    \n",
      "                                                                 look_ahead_mask[0][0]            \n",
      "                                                                 dec_padding_mask[0][0]           \n",
      "__________________________________________________________________________________________________\n",
      "outputs (Dense)                 (None, None, 8134)   1049286     decoder[0][0]                    \n",
      "==================================================================================================\n",
      "Total params: 3,662,534\n",
      "Trainable params: 3,662,534\n",
      "Non-trainable params: 0\n",
      "__________________________________________________________________________________________________\n"
     ]
    }
   ],
   "source": [
    "tf.keras.backend.clear_session()\n",
    "\n",
    "# 하이퍼파라미터\n",
    "NUM_LAYERS = 2 # 인코더와 디코더의 층의 개수\n",
    "D_MODEL = 128 # 인코더와 디코더 내부의 입, 출력의 고정 차원\n",
    "NUM_HEADS = 2 # 멀티 헤드 어텐션에서의 헤드 수\n",
    "UNITS = 128 # 피드 포워드 신경망의 은닉층의 크기\n",
    "DROPOUT = 0.1 # 드롭아웃의 비율\n",
    "\n",
    "model = transformer(\n",
    "    vocab_size=VOCAB_SIZE,\n",
    "    num_layers=NUM_LAYERS,\n",
    "    units=UNITS,\n",
    "    d_model=D_MODEL,\n",
    "    num_heads=NUM_HEADS,\n",
    "    dropout=DROPOUT)\n",
    "\n",
    "model.summary()"
   ]
  },
  {
   "cell_type": "code",
   "execution_count": 329,
   "metadata": {
    "colab": {
     "base_uri": "https://localhost:8080/"
    },
    "id": "QeaE5sMjO7Pr",
    "outputId": "245761a4-a78d-4a3b-8738-08a2a9a6e62f"
   },
   "outputs": [],
   "source": [
    "def loss_function(y_true, y_pred):\n",
    "    y_true = tf.reshape(y_true, shape=(-1, MAX_LENGTH - 1))\n",
    "\n",
    "    loss = tf.keras.losses.SparseCategoricalCrossentropy(\n",
    "      from_logits=True, reduction='none')(y_true, y_pred)\n",
    "\n",
    "    mask = tf.cast(tf.not_equal(y_true, 0), tf.float32)\n",
    "    loss = tf.multiply(loss, mask)\n",
    "\n",
    "    return tf.reduce_mean(loss)"
   ]
  },
  {
   "cell_type": "markdown",
   "metadata": {
    "id": "AxOOxfuZQqrg"
   },
   "source": [
    "\n",
    "##### Custom Learning rate\n",
    "\n",
    "딥러닝 모델학습 시 learning rate는 매우 중요한 하이퍼파라미터입니다. 최근에는 모델학습 초기에 learning rate를 급격히 높였다가, 이후 train step이 진행됨에 따라 서서히 낮추어 가면서 안정적으로 수렴하게 하는 고급 기법을 널리 사용하고 있습니다. 이런 방법을 커스텀 학습률 스케줄링(Custom Learning rate Scheduling)이라고 합니다.\n",
    "\n",
    "논문에 나온 공식을 참고하여 커스텀 학습률 스케줄러를 통한 아담 옵티마이저를 사용합니다. 논문에 나온 공식은 다음과 같습니다.\n",
    "\n",
    "$$learning\\_rate = d^{-0.5}_{model} \\cdot \\min(\\text{step_num}^{-0.5}, \\text{step_num} \\cdot \\text{warmup_steps}^{-1.5})$$\n",
    "\n",
    "아직 잘 모름"
   ]
  },
  {
   "cell_type": "code",
   "execution_count": 330,
   "metadata": {
    "colab": {
     "base_uri": "https://localhost:8080/"
    },
    "id": "zTlOsgNaO7My",
    "outputId": "2299ed31-b06e-4d4e-b651-6760724efc6f"
   },
   "outputs": [],
   "source": [
    "class CustomSchedule(tf.keras.optimizers.schedules.LearningRateSchedule):\n",
    "\n",
    "    def __init__(self, d_model, warmup_steps=4000):\n",
    "        super(CustomSchedule, self).__init__()\n",
    "\n",
    "        self.d_model = d_model\n",
    "        self.d_model = tf.cast(self.d_model, tf.float32)\n",
    "\n",
    "        self.warmup_steps = warmup_steps\n",
    "\n",
    "    def __call__(self, step):\n",
    "        arg1 = tf.math.rsqrt(step)\n",
    "        arg2 = step * (self.warmup_steps**-1.5)\n",
    "\n",
    "        return tf.math.rsqrt(self.d_model) * tf.math.minimum(arg1, arg2)"
   ]
  },
  {
   "cell_type": "code",
   "execution_count": 331,
   "metadata": {
    "colab": {
     "base_uri": "https://localhost:8080/",
     "height": 418
    },
    "id": "ziWFBx-NO7II",
    "outputId": "2835c36e-d3e5-40a2-f942-042c1820e9be"
   },
   "outputs": [],
   "source": [
    "learning_rate = CustomSchedule(D_MODEL)\n",
    "\n",
    "optimizer = tf.keras.optimizers.Adam(\n",
    "    learning_rate, beta_1=0.9, beta_2=0.98, epsilon=1e-9)\n",
    "\n",
    "def accuracy(y_true, y_pred):\n",
    "    y_true = tf.reshape(y_true, shape=(-1, MAX_LENGTH - 1))\n",
    "    return tf.keras.metrics.sparse_categorical_accuracy(y_true, y_pred)\n",
    "\n",
    "model.compile(optimizer=optimizer, loss=loss_function, metrics=[accuracy])"
   ]
  },
  {
   "cell_type": "code",
   "execution_count": 332,
   "metadata": {
    "colab": {
     "base_uri": "https://localhost:8080/"
    },
    "id": "A2gf3K3PO7XL",
    "outputId": "e2da8acb-d040-4d20-ea39-434a3bae6025"
   },
   "outputs": [],
   "source": [
    "BATCH_SIZE = 32\n",
    "BUFFER_SIZE = 20000\n",
    "\n",
    "# 디코더는 이전의 target을 다음의 input으로 사용합니다.\n",
    "# 이에 따라 outputs에서는 START_TOKEN을 제거하겠습니다.\n",
    "dataset = tf.data.Dataset.from_tensor_slices((\n",
    "    {\n",
    "        'inputs': questions,\n",
    "        'dec_inputs': answers[:, :-1]\n",
    "    },\n",
    "    {\n",
    "        'outputs': answers[:, 1:]\n",
    "    },\n",
    "))\n",
    "\n",
    "dataset = dataset.cache()\n",
    "dataset = dataset.shuffle(BUFFER_SIZE)\n",
    "dataset = dataset.batch(BATCH_SIZE)\n",
    "dataset = dataset.prefetch(tf.data.experimental.AUTOTUNE)"
   ]
  },
  {
   "cell_type": "code",
   "execution_count": 333,
   "metadata": {},
   "outputs": [],
   "source": [
    "es = EarlyStopping(\n",
    "    monitor='loss', \n",
    "    min_delta = 0.0005,\n",
    "    mode = 'auto',\n",
    "    patience=2, \n",
    "    verbose=1)"
   ]
  },
  {
   "cell_type": "code",
   "execution_count": 334,
   "metadata": {
    "id": "jm0xXKYOSscq"
   },
   "outputs": [
    {
     "name": "stdout",
     "output_type": "stream",
     "text": [
      "Epoch 1/100\n",
      "314/314 [==============================] - 15s 26ms/step - loss: 5.1349 - accuracy: 0.1168\n",
      "Epoch 2/100\n",
      "314/314 [==============================] - 8s 26ms/step - loss: 3.8153 - accuracy: 0.1938\n",
      "Epoch 3/100\n",
      "314/314 [==============================] - 8s 27ms/step - loss: 3.2615 - accuracy: 0.2013\n",
      "Epoch 4/100\n",
      "314/314 [==============================] - 9s 27ms/step - loss: 3.0088 - accuracy: 0.2177\n",
      "Epoch 5/100\n",
      "314/314 [==============================] - 9s 27ms/step - loss: 2.7740 - accuracy: 0.2341\n",
      "Epoch 6/100\n",
      "314/314 [==============================] - 8s 27ms/step - loss: 2.5147 - accuracy: 0.2585\n",
      "Epoch 7/100\n",
      "314/314 [==============================] - 9s 27ms/step - loss: 2.2331 - accuracy: 0.2887\n",
      "Epoch 8/100\n",
      "314/314 [==============================] - 9s 27ms/step - loss: 1.9368 - accuracy: 0.3213\n",
      "Epoch 9/100\n",
      "314/314 [==============================] - 8s 27ms/step - loss: 1.6376 - accuracy: 0.3541\n",
      "Epoch 10/100\n",
      "314/314 [==============================] - 9s 28ms/step - loss: 1.3610 - accuracy: 0.3849\n",
      "Epoch 11/100\n",
      "314/314 [==============================] - 9s 27ms/step - loss: 1.1257 - accuracy: 0.4140\n",
      "Epoch 12/100\n",
      "314/314 [==============================] - 8s 27ms/step - loss: 0.9274 - accuracy: 0.4410\n",
      "Epoch 13/100\n",
      "314/314 [==============================] - 8s 27ms/step - loss: 0.7765 - accuracy: 0.4639\n",
      "Epoch 14/100\n",
      "314/314 [==============================] - 9s 27ms/step - loss: 0.6350 - accuracy: 0.4864\n",
      "Epoch 15/100\n",
      "314/314 [==============================] - 8s 27ms/step - loss: 0.5036 - accuracy: 0.5119\n",
      "Epoch 16/100\n",
      "314/314 [==============================] - 8s 27ms/step - loss: 0.4094 - accuracy: 0.5307\n",
      "Epoch 17/100\n",
      "314/314 [==============================] - 9s 28ms/step - loss: 0.3363 - accuracy: 0.5448\n",
      "Epoch 18/100\n",
      "314/314 [==============================] - 9s 28ms/step - loss: 0.2837 - accuracy: 0.5572\n",
      "Epoch 19/100\n",
      "314/314 [==============================] - 8s 26ms/step - loss: 0.2441 - accuracy: 0.5657\n",
      "Epoch 20/100\n",
      "314/314 [==============================] - 8s 26ms/step - loss: 0.2101 - accuracy: 0.5740\n",
      "Epoch 21/100\n",
      "314/314 [==============================] - 8s 26ms/step - loss: 0.1855 - accuracy: 0.5806\n",
      "Epoch 22/100\n",
      "314/314 [==============================] - 8s 26ms/step - loss: 0.1713 - accuracy: 0.5836\n",
      "Epoch 23/100\n",
      "314/314 [==============================] - 8s 26ms/step - loss: 0.1529 - accuracy: 0.5883\n",
      "Epoch 24/100\n",
      "314/314 [==============================] - 8s 27ms/step - loss: 0.1418 - accuracy: 0.5912\n",
      "Epoch 25/100\n",
      "314/314 [==============================] - 8s 26ms/step - loss: 0.1313 - accuracy: 0.5943\n",
      "Epoch 26/100\n",
      "314/314 [==============================] - 8s 26ms/step - loss: 0.1219 - accuracy: 0.5972\n",
      "Epoch 27/100\n",
      "314/314 [==============================] - 8s 26ms/step - loss: 0.1124 - accuracy: 0.5995\n",
      "Epoch 28/100\n",
      "314/314 [==============================] - 8s 26ms/step - loss: 0.1099 - accuracy: 0.6002\n",
      "Epoch 29/100\n",
      "314/314 [==============================] - 8s 26ms/step - loss: 0.1016 - accuracy: 0.6022\n",
      "Epoch 30/100\n",
      "314/314 [==============================] - 8s 27ms/step - loss: 0.0992 - accuracy: 0.6032\n",
      "Epoch 31/100\n",
      "314/314 [==============================] - 8s 27ms/step - loss: 0.0967 - accuracy: 0.6039\n",
      "Epoch 32/100\n",
      "314/314 [==============================] - 8s 26ms/step - loss: 0.0872 - accuracy: 0.6066\n",
      "Epoch 33/100\n",
      "314/314 [==============================] - 8s 27ms/step - loss: 0.0858 - accuracy: 0.6069\n",
      "Epoch 34/100\n",
      "314/314 [==============================] - 8s 26ms/step - loss: 0.0845 - accuracy: 0.6075\n",
      "Epoch 35/100\n",
      "314/314 [==============================] - 8s 25ms/step - loss: 0.0817 - accuracy: 0.6083\n",
      "Epoch 36/100\n",
      "314/314 [==============================] - 8s 27ms/step - loss: 0.0766 - accuracy: 0.6092\n",
      "Epoch 37/100\n",
      "314/314 [==============================] - 8s 26ms/step - loss: 0.0752 - accuracy: 0.6099\n",
      "Epoch 38/100\n",
      "314/314 [==============================] - 8s 26ms/step - loss: 0.0761 - accuracy: 0.6100\n",
      "Epoch 39/100\n",
      "314/314 [==============================] - 8s 27ms/step - loss: 0.0746 - accuracy: 0.6104\n",
      "Epoch 40/100\n",
      "314/314 [==============================] - 8s 26ms/step - loss: 0.0747 - accuracy: 0.6111\n",
      "Epoch 41/100\n",
      "314/314 [==============================] - 8s 27ms/step - loss: 0.0731 - accuracy: 0.6109\n",
      "Epoch 42/100\n",
      "314/314 [==============================] - 8s 26ms/step - loss: 0.0689 - accuracy: 0.6121\n",
      "Epoch 43/100\n",
      "314/314 [==============================] - 8s 27ms/step - loss: 0.0679 - accuracy: 0.6126\n",
      "Epoch 44/100\n",
      "314/314 [==============================] - 8s 26ms/step - loss: 0.0687 - accuracy: 0.6131\n",
      "Epoch 45/100\n",
      "314/314 [==============================] - 8s 27ms/step - loss: 0.0676 - accuracy: 0.6130\n",
      "Epoch 00045: early stopping\n"
     ]
    }
   ],
   "source": [
    "EPOCHS = 100\n",
    "history = model.fit(dataset, epochs=EPOCHS, verbose=1, callbacks = es)"
   ]
  },
  {
   "cell_type": "code",
   "execution_count": 335,
   "metadata": {},
   "outputs": [
    {
     "data": {
      "image/png": "[encoded data removed]",
      "text/plain": [
       "<Figure size 360x576 with 2 Axes>"
      ]
     },
     "metadata": {
      "needs_background": "light"
     },
     "output_type": "display_data"
    },
    {
     "name": "stdout",
     "output_type": "stream",
     "text": [
      "===========================Case 6===========================\n",
      "\n",
      "[단순 일상 #1]\n",
      "입력 : 배가 고팠어.\n",
      "출력 : 뭐 좀 챙겨드세요 .\n",
      "[단순 일상 #2]\n",
      "입력 : 과식을 했어.\n",
      "출력 : 소화제 드세요 .\n",
      "[복합 일상]\n",
      "입력 : 배가 고팠어서 과식을 했어.\n",
      "출력 : 사랑의 예의가 없네요 .\n",
      "[영어 복합 #1]\n",
      "입력 : sns에서 보고 샀어.\n",
      "출력 : 득템 했네요 .\n",
      "[영어 복합 #2]\n",
      "입력 : cf에서 보고 샀어.\n",
      "출력 : 후회할 것 같다면 늦지 않게 연락해보세요 .\n",
      "[숫자 복합 #1]\n",
      "입력 : 1도 모르겠다.\n",
      "출력 : 있는   진정하세요 .\n",
      "[숫자 복합 #2]\n",
      "입력 : 새가 10마리 보다 많았어.\n",
      "출력 : 잘 해결되길 바라요 .\n",
      "[띄어쓰기 #1]\n",
      "입력 : 아버지가 방에 들어가신다.\n",
      "출력 : 오늘도 이렇게 이겨냈어요 .\n",
      "[띄어쓰기 #2]\n",
      "입력 : 아버지 가방에 들어가신다.\n",
      "출력 : 오늘도 이렇게 이겨냈어요 .\n",
      "[뜬금 영어 #1]\n",
      "입력 : how have you been?\n",
      "출력 : 사람 마음은 알다가도 모르니까 그럴 수도 있어요 .\n",
      "[뜬금 영어 #2]\n",
      "입력 : Thank you!\n",
      "출력 : 좋아하는 사람이 있는 장소에 가보세요 .\n"
     ]
    }
   ],
   "source": [
    "show_log(history, 'Case 6')\n",
    "qna(model, 'Case 6')  # 단순한 한글 질문에는 꽤 괜찮게 대답하지만...."
   ]
  },
  {
   "cell_type": "code",
   "execution_count": null,
   "metadata": {},
   "outputs": [],
   "source": []
  },
  {
   "cell_type": "markdown",
   "metadata": {},
   "source": [
    "### 작업5. 모델 평가하기\n",
    "\n",
    "- 여러 hyperparameter 비교\n",
    "- 같은 질문에 대한 여러 가지 모델의 대답 비교 "
   ]
  },
  {
   "cell_type": "code",
   "execution_count": 45,
   "metadata": {
    "id": "QkvP4-POO7FE"
   },
   "outputs": [],
   "source": [
    "def decoder_inference(sentence):\n",
    "    \n",
    "    sentence = preprocess_sentence(sentence)\n",
    "\n",
    "    # 입력된 문장을 정수 인코딩 후, 시작 토큰과 종료 토큰을 앞뒤로 추가.\n",
    "    # ex) Where have you been? → [[8331   86   30    5 1059    7 8332]]\n",
    "    sentence = tf.expand_dims(\n",
    "      START_TOKEN + tokenizer.encode(sentence) + END_TOKEN, axis=0)\n",
    "\n",
    "    # 디코더의 현재까지의 예측한 출력 시퀀스가 지속적으로 저장되는 변수.\n",
    "    # 처음에는 예측한 내용이 없음으로 시작 토큰만 별도 저장. ex) 8331\n",
    "    output_sequence = tf.expand_dims(START_TOKEN, 0)\n",
    "\n",
    "    # 디코더의 인퍼런스 단계\n",
    "    for i in range(MAX_LENGTH):\n",
    "        # 디코더는 최대 MAX_LENGTH의 길이만큼 다음 단어 예측을 반복합니다.\n",
    "        predictions = model(inputs=[sentence, output_sequence], training=False)\n",
    "        predictions = predictions[:, -1:, :]\n",
    "\n",
    "        # 현재 예측한 단어의 정수\n",
    "        predicted_id = tf.cast(tf.argmax(predictions, axis=-1), tf.int32)\n",
    "\n",
    "        # 만약 현재 예측한 단어가 종료 토큰이라면 for문을 종료\n",
    "        if tf.equal(predicted_id, END_TOKEN[0]):\n",
    "            break\n",
    "\n",
    "        # 예측한 단어들은 지속적으로 output_sequence에 추가됩니다.\n",
    "        # 이 output_sequence는 다시 디코더의 입력이 됩니다.\n",
    "        output_sequence = tf.concat([output_sequence, predicted_id], axis=-1)\n",
    "\n",
    "    return tf.squeeze(output_sequence, axis=0)"
   ]
  },
  {
   "cell_type": "code",
   "execution_count": 46,
   "metadata": {
    "id": "WIa8tY8xO7CU"
   },
   "outputs": [],
   "source": [
    "def sentence_generation(sentence):\n",
    "    # 입력 문장에 대해서 디코더를 동작 시켜 예측된 정수 시퀀스를 리턴받습니다.\n",
    "    prediction = decoder_inference(sentence)\n",
    "\n",
    "    # 정수 시퀀스를 다시 텍스트 시퀀스로 변환합니다.\n",
    "    predicted_sentence = tokenizer.decode(\n",
    "      [i for i in prediction if i < tokenizer.vocab_size])\n",
    "\n",
    "    print('입력 : {}'.format(sentence))\n",
    "    print('출력 : {}'.format(predicted_sentence))\n",
    "\n",
    "    return predicted_sentence"
   ]
  },
  {
   "cell_type": "code",
   "execution_count": 53,
   "metadata": {},
   "outputs": [],
   "source": [
    "def show_log(history, case):\n",
    "    fig, ax = plt.subplots(2,1, figsize = (5, 8))\n",
    "    ax[0].set_title(f\"{case} Accuracy : {history.history['accuracy'][-1]}\")\n",
    "    ax[0].plot(range(len(history.history['accuracy'])), history.history['accuracy'], 'orange', label = 'accuracy')\n",
    "    # ax[0].set_ylim([0,0.5])\n",
    "    ax[0].legend()\n",
    "    ax[1].set_title(f\"{case} Loss : {history.history['loss'][-1]}\")\n",
    "    ax[1].plot(range(len(history.history['accuracy'])), history.history['loss'], label = 'loss')\n",
    "    ax[1].legend()\n",
    "    plt.show()"
   ]
  },
  {
   "cell_type": "code",
   "execution_count": 172,
   "metadata": {},
   "outputs": [],
   "source": [
    "def qna(model, case): # 여러 case에서 어떻게 대답하는 지 확인\n",
    "    print(f\"==========================={case}===========================\")\n",
    "    print()\n",
    "    print(\"[단순 일상 #1]\")\n",
    "    sentence_generation('배가 고팠어.') # 일상1\n",
    "    print(\"[단순 일상 #2]\")\n",
    "    sentence_generation('과식을 했어.') # 일상 2\n",
    "    print(\"[복합 일상]\")\n",
    "    sentence_generation('배가 고팠어서 과식을 했어.') # 복합의미\n",
    "    print(\"[영어 복합 #1]\")\n",
    "    sentence_generation('sns에서 보고 샀어.') # 영어 복합\n",
    "    print(\"[영어 복합 #2]\")\n",
    "    sentence_generation('cf에서 보고 샀어.') # 영어 복합 2\n",
    "    print(\"[숫자 복합 #1]\")\n",
    "    sentence_generation('1도 모르겠다.') # 숫자 복합 \n",
    "    print(\"[숫자 복합 #2]\")\n",
    "    sentence_generation('새가 10마리 보다 많았어.') # 숫자 복합2\n",
    "    print(\"[띄어쓰기 #1]\")\n",
    "    sentence_generation('아버지가 방에 들어가신다.') # 띄어쓰기\n",
    "    print(\"[띄어쓰기 #2]\")\n",
    "    sentence_generation('아버지 가방에 들어가신다.') # 띄어쓰기2\n",
    "    print(\"[뜬금 영어 #1]\")\n",
    "    sentence_generation('how have you been?')\n",
    "    print(\"[뜬금 영어 #2]\")\n",
    "    sentence_generation('Thank you!')"
   ]
  },
  {
   "cell_type": "markdown",
   "metadata": {},
   "source": [
    "```python\n",
    "def Baseline(\n",
    "        Batch = 64,\n",
    "        MAX_LENGTH = 40,\n",
    "        D_MODEL = 256,\n",
    "        NUM_LAYERS = 2,\n",
    "        NUM_HEADS = 8,\n",
    "        UNIS = 512,\n",
    "        DROPOUT = 0.1\n",
    ")\n",
    "```\n",
    "- Baseline : Baseline\n",
    "- case 1 : Baseline(Batch = 32, MAX_LENGTH = 11, D_MODEL = 512)\n",
    "- case 2 : Baseline(Batch = 32, MAX_LENGTH = 11, D_MODEL = 512, NUM_HEADS = 16)\n",
    "- **case 3 [BEST]** : Baseline(Batch = 32, `MAX_LENGTH = 10`, D_MODEL = 512, NUM_HEADS = 16, NUM_LAYERS = 4, UNIS = 1024) \n",
    "- case 4 : Baseline(Batch = 32, `MAX_LENGTH = 25`, D_MODEL = 512, NUM_HEADS = 16, NUM_LAYERS = 4, UNIS = 1024)\n",
    "- case 5 : Baseline(Batch = 32, `MAX_LENGTH = 40`, D_MODEL = 512, NUM_HEADS = 16, NUM_LAYERS = 4, UNIS = 1024)"
   ]
  },
  {
   "cell_type": "code",
   "execution_count": 210,
   "metadata": {},
   "outputs": [
    {
     "data": {
      "image/png": "[encoded data removed]",
      "text/plain": [
       "<Figure size 360x576 with 2 Axes>"
      ]
     },
     "metadata": {
      "needs_background": "light"
     },
     "output_type": "display_data"
    },
    {
     "name": "stdout",
     "output_type": "stream",
     "text": [
      "===========================Baseline===========================\n",
      "\n",
      "[단순 일상 #1]\n",
      "입력 : 배가 고팠어.\n",
      "출력 : 뭐 좀 챙겨드세요 .\n",
      "[단순 일상 #2]\n",
      "입력 : 과식을 했어.\n",
      "출력 : 소화제 챙겨드세요 .\n",
      "[복합 일상]\n",
      "입력 : 배가 고팠어서 과식을 했어.\n",
      "출력 : 내일은 좀 더 나은 하루일 거예요 .\n",
      "[영어 복합 #1]\n",
      "입력 : sns에서 보고 샀어.\n",
      "출력 : 개인 성향 차이인 것 같아요 .\n",
      "[영어 복합 #2]\n",
      "입력 : cf에서 보고 샀어.\n",
      "출력 : 운동 해보세요 .\n",
      "[숫자 복합 #1]\n",
      "입력 : 1도 모르겠다.\n",
      "출력 : 지도 어플을 실행해보세요 .\n",
      "[숫자 복합 #2]\n",
      "입력 : 새가 10마리 보다 많았어.\n",
      "출력 : 잘 해결되길 바라요 .\n",
      "[띄어쓰기 #1]\n",
      "입력 : 아버지가 방에 들어가신다.\n",
      "출력 : 도전해 봐도 좋을 거 같아요 .\n",
      "[띄어쓰기 #2]\n",
      "입력 : 아버지 가방에 들어가신다.\n",
      "출력 : 전역해서 더 좋은 사람 만날 수 있을 거예요 .\n",
      "[뜬금 영어 #1]\n",
      "입력 : how have you been?\n",
      "출력 : 더 좋은 사람 만나실 거예요 .\n",
      "[뜬금 영어 #2]\n",
      "입력 : Thank you!\n",
      "출력 : 고민하고 있다면 그게 맞을거예요 .\n"
     ]
    }
   ],
   "source": [
    "# Baseline(Batch = 64,MAX_LENGTH = 40,D_MODEL = 256,NUM_LAYERS = 2,NUM_HEADS = 8,UNITS = 512,DROPOUT = 0.1)\n",
    "show_log(history, 'Baseline')\n",
    "qna(model, 'Baseline')  # 단순한 한글 질문에는 꽤 괜찮게 대답하지만...."
   ]
  },
  {
   "cell_type": "code",
   "execution_count": 128,
   "metadata": {},
   "outputs": [
    {
     "data": {
      "image/png": "[encoded data removed]",
      "text/plain": [
       "<Figure size 360x576 with 2 Axes>"
      ]
     },
     "metadata": {
      "needs_background": "light"
     },
     "output_type": "display_data"
    },
    {
     "name": "stdout",
     "output_type": "stream",
     "text": [
      "===========================Case 1===========================\n",
      "\n",
      "[단순 일상 #1]\n",
      "입력 : 배가 고팠어.\n",
      "출력 : 저도 밥 먹고 싶어요\n",
      "[단순 일상 #2]\n",
      "입력 : 과식을 했어.\n",
      "출력 : 소화제 드세요 .\n",
      "[복합 일상]\n",
      "입력 : 배가 고팠어서 과식을 했어.\n",
      "출력 : 날씨에 따라 감정도 변하죠 .\n",
      "[영어 복합 #1]\n",
      "입력 : sns에서 보고 샀어.\n",
      "출력 : 개인 성향 차이인 것 같아요 .\n",
      "[영어 복합 #2]\n",
      "입력 : cf에서 보고 샀어.\n",
      "출력 : 이젠 마음의 결정을 내릴 때에요 .\n",
      "[숫자 복합 #1]\n",
      "입력 : 1도 모르겠다.\n",
      "출력 : 아직은 실감이 나지 않을 거예요 .\n",
      "[숫자 복합 #2]\n",
      "입력 : 새가 10마리 보다 많았어.\n",
      "출력 : 잘 해결되길 바라요 .\n",
      "[띄어쓰기 #1]\n",
      "입력 : 아버지가 방에 들어가신다.\n",
      "출력 : 오늘도 해내고 해낸겁니다 .\n",
      "[띄어쓰기 #2]\n",
      "입력 : 아버지 가방에 들어가신다.\n",
      "출력 : 자신을 조금 더 사랑해보세요 .\n"
     ]
    }
   ],
   "source": [
    "# case 1 : Baseline(Batch = 32, MAX_LENGTH = 11, D_MODEL = 512)\n",
    "show_log(history, 'Case 1')\n",
    "qna(model, 'Case 1')  # 여전히 복합적인 글이나 영어 숫자가 들어가면 대답이 이상해짐"
   ]
  },
  {
   "cell_type": "code",
   "execution_count": 55,
   "metadata": {},
   "outputs": [
    {
     "data": {
      "image/png": "[encoded data removed]",
      "text/plain": [
       "<Figure size 360x576 with 2 Axes>"
      ]
     },
     "metadata": {
      "needs_background": "light"
     },
     "output_type": "display_data"
    },
    {
     "name": "stdout",
     "output_type": "stream",
     "text": [
      "===========================Case 2===========================\n",
      "\n",
      "[단순 일상 #1]\n",
      "입력 : 배가 고팠어.\n",
      "출력 : 뭐 좀 챙겨드세요 .\n",
      "[단순 일상 #2]\n",
      "입력 : 과식을 했어.\n",
      "출력 : 소화제 드세요 .\n",
      "[복합 일상]\n",
      "입력 : 배가 고팠어서 과식을 했어.\n",
      "출력 : 좀 괜찮은가요 .\n",
      "[영어 복합 #1]\n",
      "입력 : sns에서 보고 샀어.\n",
      "출력 : 내 집 마련 축하드려요 .\n",
      "[영어 복합 #2]\n",
      "입력 : cf에서 보고 샀어.\n",
      "출력 : 득템 했네요 .\n",
      "[숫자 복합 #1]\n",
      "입력 : 1도 모르겠다.\n",
      "출력 : 지도 어플을 실행해보세요 .\n",
      "[숫자 복합 #2]\n",
      "입력 : 새가 10마리 보다 많았어.\n",
      "출력 : 잘 해결되길 바라요 .\n",
      "[띄어쓰기 #1]\n",
      "입력 : 아버지가 방에 들어가신다.\n",
      "출력 : 내일은 나을 거예요 .\n",
      "[띄어쓰기 #2]\n",
      "입력 : 아버지 가방에 들어가신다.\n",
      "출력 : 사랑한 만큼 아픔이 오죠 .\n"
     ]
    }
   ],
   "source": [
    "# case 2 : Baseline(Batch = 32, MAX_LENGTH = 11, D_MODEL = 512, NUM_HEADS = 16)\n",
    "show_log(history, 'Case 2')\n",
    "qna(model, 'Case 2') # 성능이 나아지진 않았지만 좀 더 대답이 자연스러운 것 같음"
   ]
  },
  {
   "cell_type": "code",
   "execution_count": 173,
   "metadata": {
    "scrolled": false
   },
   "outputs": [
    {
     "data": {
      "image/png": "[encoded data removed]",
      "text/plain": [
       "<Figure size 360x576 with 2 Axes>"
      ]
     },
     "metadata": {
      "needs_background": "light"
     },
     "output_type": "display_data"
    },
    {
     "name": "stdout",
     "output_type": "stream",
     "text": [
      "===========================Case 3===========================\n",
      "\n",
      "[단순 일상 #1]\n",
      "입력 : 배가 고팠어.\n",
      "출력 : 많이 괜찮아지고 있어요 .\n",
      "[단순 일상 #2]\n",
      "입력 : 과식을 했어.\n",
      "출력 : 소화제 챙겨드세요 .\n",
      "[복합 일상]\n",
      "입력 : 배가 고팠어서 과식을 했어.\n",
      "출력 : 마음이 복잡한가봐요 .\n",
      "[영어 복합 #1]\n",
      "입력 : sns에서 보고 샀어.\n",
      "출력 : 제가 곁에 있을게요 .\n",
      "[영어 복합 #2]\n",
      "입력 : cf에서 보고 샀어.\n",
      "출력 : 많은 생각이 들었나봐요 .\n",
      "[숫자 복합 #1]\n",
      "입력 : 1도 모르겠다.\n",
      "출력 : 그럼에도 마음이 정리가 안되나봐요 .\n",
      "[숫자 복합 #2]\n",
      "입력 : 새가 10마리 보다 많았어.\n",
      "출력 : 생각을 자주하면 나올 수 있어요 .\n",
      "[띄어쓰기 #1]\n",
      "입력 : 아버지가 방에 들어가신다.\n",
      "출력 : 공부를 많이 해놨나봐요 .\n",
      "[띄어쓰기 #2]\n",
      "입력 : 아버지 가방에 들어가신다.\n",
      "출력 : 새로운 시작 응원해요 !\n",
      "[뜬금 영어 #1]\n",
      "입력 : how have you been?\n",
      "출력 : 알고 있을 거예요 .\n",
      "[뜬금 영어 #2]\n",
      "입력 : Thank you!\n",
      "출력 : 놀 때 놀고 할 때 하세요 .\n"
     ]
    }
   ],
   "source": [
    "# Case 3: Baseline(Batch = 32, `MAX_LENGTH = 10`, D_MODEL = 512, NUM_HEADS = 16, NUM_LAYERS = 4, UNIS = 1024) \n",
    "show_log(history, 'Case 3')\n",
    "qna(model, 'Case 3') # 나름 성능은 제일 괜찮았는데 대답이 제일 좋았냐 라는 부분에는 흠"
   ]
  },
  {
   "cell_type": "code",
   "execution_count": 248,
   "metadata": {},
   "outputs": [
    {
     "data": {
      "image/png": "[encoded data removed]",
      "text/plain": [
       "<Figure size 360x576 with 2 Axes>"
      ]
     },
     "metadata": {
      "needs_background": "light"
     },
     "output_type": "display_data"
    },
    {
     "name": "stdout",
     "output_type": "stream",
     "text": [
      "===========================Case 4===========================\n",
      "\n",
      "[단순 일상 #1]\n",
      "입력 : 배가 고팠어.\n",
      "출력 : 많이 힘들텐데 저에게 말해보세요 .\n",
      "[단순 일상 #2]\n",
      "입력 : 과식을 했어.\n",
      "출력 : 휴가를 붙여보세요 .\n",
      "[복합 일상]\n",
      "입력 : 배가 고팠어서 과식을 했어.\n",
      "출력 : 많이 피곤한가봐요 .\n",
      "[영어 복합 #1]\n",
      "입력 : sns에서 보고 샀어.\n",
      "출력 : 아무 생각 하지 말고 쉬세요 .\n",
      "[영어 복합 #2]\n",
      "입력 : cf에서 보고 샀어.\n",
      "출력 : 이제 내려올 때가 됐어요 .\n",
      "[숫자 복합 #1]\n",
      "입력 : 1도 모르겠다.\n",
      "출력 : 그럴 때가 있죠 . 정신 차리세요 .\n",
      "[숫자 복합 #2]\n",
      "입력 : 새가 10마리 보다 많았어.\n",
      "출력 : 다른 인연이 ㅊ자아올 거예요 .\n",
      "[띄어쓰기 #1]\n",
      "입력 : 아버지가 방에 들어가신다.\n",
      "출력 : 고민하고 있다면 그게 맞을거예요 .\n",
      "[띄어쓰기 #2]\n",
      "입력 : 아버지 가방에 들어가신다.\n",
      "출력 : 없는 것보다 나을 거예요 .\n",
      "[뜬금 영어 #1]\n",
      "입력 : how have you been?\n",
      "출력 : 그 이유를 찾는 과정이 되겠네요 .\n",
      "[뜬금 영어 #2]\n",
      "입력 : Thank you!\n",
      "출력 : 슬프네요 .\n"
     ]
    }
   ],
   "source": [
    "# case 4 : Baseline(Batch = 32, `MAX_LENGTH = 25`, D_MODEL = 512, NUM_HEADS = 16, NUM_LAYERS = 4, UNIS = 1024)\n",
    "show_log(history, 'Case 4')\n",
    "qna(model, 'Case 4') # 대답은 길어졌는데 맥락파악이 안된 느낌"
   ]
  },
  {
   "cell_type": "code",
   "execution_count": 286,
   "metadata": {},
   "outputs": [
    {
     "data": {
      "image/png": "[encoded data removed]",
      "text/plain": [
       "<Figure size 360x576 with 2 Axes>"
      ]
     },
     "metadata": {
      "needs_background": "light"
     },
     "output_type": "display_data"
    },
    {
     "name": "stdout",
     "output_type": "stream",
     "text": [
      "===========================Case 5===========================\n",
      "\n",
      "[단순 일상 #1]\n",
      "입력 : 배가 고팠어.\n",
      "출력 : 제가 있잖아요 .\n",
      "[단순 일상 #2]\n",
      "입력 : 과식을 했어.\n",
      "출력 : 잘 하고 있어요 .\n",
      "[복합 일상]\n",
      "입력 : 배가 고팠어서 과식을 했어.\n",
      "출력 : 이제 더 잘 될 일만 남았네요 .\n",
      "[영어 복합 #1]\n",
      "입력 : sns에서 보고 샀어.\n",
      "출력 : 내가 맞는 것과 맞지 않은 걸 구별해보세요 .\n",
      "[영어 복합 #2]\n",
      "입력 : cf에서 보고 샀어.\n",
      "출력 : 다른 생각을 해보세요 .\n",
      "[숫자 복합 #1]\n",
      "입력 : 1도 모르겠다.\n",
      "출력 : 다른 곳에 쓰려고 운을 아껴뒀나봐요 .\n",
      "[숫자 복합 #2]\n",
      "입력 : 새가 10마리 보다 많았어.\n",
      "출력 : 긴 시간이었던 만큼 쉽지 않았을거라 생각해요 .\n",
      "[띄어쓰기 #1]\n",
      "입력 : 아버지가 방에 들어가신다.\n",
      "출력 : 잠시 휴식을 취해보세요 .\n",
      "[띄어쓰기 #2]\n",
      "입력 : 아버지 가방에 들어가신다.\n",
      "출력 : 너무 신경 곤두세우지 마세요 .\n",
      "[뜬금 영어 #1]\n",
      "입력 : how have you been?\n",
      "출력 : 내가 맞는 것과 맞지 않은 걸 구별해보세요 .\n",
      "[뜬금 영어 #2]\n",
      "입력 : Thank you!\n",
      "출력 : 다른 연락을 많이 하거나 더 자주 만나세요 .\n"
     ]
    }
   ],
   "source": [
    "# case 5 : Baseline(Batch = 32, `MAX_LENGTH = 40`, D_MODEL = 512, NUM_HEADS = 16, NUM_LAYERS = 4, UNIS = 1024)\n",
    "show_log(history, 'Case 5')\n",
    "qna(model, 'Case 5') # 문장 생성은 길고 자연스럽게 잘하지만 질문에 대한 맥락 파악을 못함"
   ]
  },
  {
   "cell_type": "code",
   "execution_count": null,
   "metadata": {},
   "outputs": [],
   "source": []
  },
  {
   "cell_type": "markdown",
   "metadata": {
    "id": "KqvDG3faO6cg"
   },
   "source": [
    "## 회고\n",
    "\n",
    "- 직접 모델을 구축하는 건 아니어서 코드 진행 상 어렵지는 않았지만 내용이 어려웠음\n",
    "- 데이터에 대한 중복처리를 안하는 것이 다양한 case에 대해 학습시킬 수 있을 것이라 생각하여 진행하지 않았음  \n",
    "    : 중복처리를 하게 되었을 때의 accuracy/loss 양상 비교를 추가로 실험할 수 있는 주제라 생각\n",
    "- hyperparameter의 조정보다는 입출력데이터의 길이를 조절(MAX_LENGTH)하는 것이 성능에 큰 영향을 주는 것을 확인\n",
    "- Accuracy 가 문장 생성 능력에 대해 직접 대변하지는 못하는 것 같음  \n",
    "(chatbot에 대한 metrics 가 있는가?에 대해서 검색 결과가 잘 나오진 않음 )\n",
    "\n",
    "- 존댓말이나 MBTI 별 대답 등의 특이적인 데이터셋이 있으면 재밌는 결과가 나올 수 있을 것 같음\n"
   ]
  },
  {
   "cell_type": "markdown",
   "metadata": {},
   "source": [
    "\n",
    "- problem\n",
    "\n",
    "```\n",
    "입력 : 배가 너무 불러\n",
    "출력 : 좀\n",
    "\n",
    "입력 : 배가 너무 불러\n",
    "출력 : 좀\n",
    "\n",
    "```\n",
    "말을 하다 만다..\n",
    "epoch 100 도 동일함 : 약 90 epoch에서 0.0022 대 유지하며 진행되는 경향을 보여 loss 는 충분히 떨어진 것으로 보임=> 문제?\n",
    "```\n",
    "#decoder_inference\n",
    "\n",
    "    # 예측한 단어들은 지속적으로 output_sequence에 추가됩니다.\n",
    "    # 이 output_sequence는 다시 디코더의 입력이 됩니다.\n",
    "    output_sequence = tf.concat([output_sequence, predicted_id], axis=-1)\n",
    "```\n",
    "\n",
    "indent 정리하다 해당 부분이 for문 밖에 나와있었음. concat 되지 못해서 문장을 이어갈 수 가 없던 것\n",
    "\n",
    "대답이 너무 이상하면 관련 코드를 살펴보는 것도 방법 중에 하나가 될 수 있을...듯?"
   ]
  },
  {
   "cell_type": "code",
   "execution_count": null,
   "metadata": {},
   "outputs": [],
   "source": []
  }
 ],
 "metadata": {
  "colab": {
   "gpuType": "T4",
   "provenance": []
  },
  "kernelspec": {
   "display_name": "Python 3 (ipykernel)",
   "language": "python",
   "name": "python3"
  },
  "language_info": {
   "codemirror_mode": {
    "name": "ipython",
    "version": 3
   },
   "file_extension": ".py",
   "mimetype": "text/x-python",
   "name": "python",
   "nbconvert_exporter": "python",
   "pygments_lexer": "ipython3",
   "version": "3.9.7"
  }
 },
 "nbformat": 4,
 "nbformat_minor": 1
}
